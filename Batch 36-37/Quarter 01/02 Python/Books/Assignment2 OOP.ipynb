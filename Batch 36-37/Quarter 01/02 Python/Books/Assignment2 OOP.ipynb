{
 "cells": [
  {
   "cell_type": "markdown",
   "id": "6bc218cc",
   "metadata": {},
   "source": [
    "# Assignment2 OOP\n",
    "### Nadeem Hussain - PIAIC-182905"
   ]
  },
  {
   "cell_type": "markdown",
   "id": "eb1e379a",
   "metadata": {},
   "source": [
    "### Task 1:\n",
    "1. Import mother and father attribute\n",
    "2. Add two new attributes in the child constructor"
   ]
  },
  {
   "cell_type": "code",
   "execution_count": 11,
   "id": "953b609d",
   "metadata": {},
   "outputs": [
    {
     "name": "stdout",
     "output_type": "stream",
     "text": [
      "My name is Abdul Fattah, I am 70  years old and my eye color is Black\n"
     ]
    }
   ],
   "source": [
    "# Father Class\n",
    "\n",
    "class Father():\n",
    "    def __init__(self, name, age, eye_color):\n",
    "        self.name = name\n",
    "        self.age = age\n",
    "        self.eye_color = eye_color\n",
    "  \n",
    "    def fathersParticulars(self):\n",
    "        return f\"My name is {self.name}, I am {self.age}  years old and my eye color is {self.eye_color}\"\n",
    "\n",
    "fat = Father(\"Abdul Fattah\", 70, \"Black\")\n",
    "\n",
    "print(fat.fathersParticulars())"
   ]
  },
  {
   "cell_type": "code",
   "execution_count": 69,
   "id": "92972503",
   "metadata": {},
   "outputs": [
    {
     "name": "stdout",
     "output_type": "stream",
     "text": [
      "I speak Arabic and I am 1.5 m tall\n"
     ]
    }
   ],
   "source": [
    "# Mother Class\n",
    "\n",
    "class Mother():\n",
    "    def __init__(self, language, height):\n",
    "        self.language = language\n",
    "        self.height = height\n",
    "          \n",
    "    def mothersParticulars(self):\n",
    "        return f\"I speak {self.language} and I am {self.height} m tall\"\n",
    "\n",
    "mot = Mother(\"Arabic\", 1.5)\n",
    "\n",
    "print(mot.mothersParticulars())"
   ]
  },
  {
   "cell_type": "code",
   "execution_count": 74,
   "id": "c04534e0",
   "metadata": {},
   "outputs": [
    {
     "name": "stdout",
     "output_type": "stream",
     "text": [
      "My name is Nadeem, I am 38  years old and my eye color is Black and I am a boy. I speak English and I am 1.5 m tall and I like Writting\n"
     ]
    }
   ],
   "source": [
    "class Child(Father, Mother):\n",
    "  def __init__(self, name, age, eye_color, language, height):\n",
    "    Father.__init__(self, name, age, eye_color)\n",
    "    Mother.__init__(self, language, height)\n",
    "    self.gender = None\n",
    "    self.hobby = None\n",
    "\n",
    "  def childsParticulars(self):\n",
    "    return (Father.fathersParticulars(self) + f\" and I am a {self.gender}. \" + Mother.mothersParticulars(self) + f\" and I like {self.hobby}\")\n",
    "\n",
    "c1 = Child(\"Nadeem\", 38, \"Black\", \"English\", 1.5)\n",
    "c1.gender = \"boy\"\n",
    "c1.hobby = \"Writting\"\n",
    "print(c1.childsParticulars())"
   ]
  },
  {
   "cell_type": "code",
   "execution_count": null,
   "id": "6dd2e030",
   "metadata": {},
   "outputs": [],
   "source": []
  },
  {
   "cell_type": "markdown",
   "id": "3f8c557f",
   "metadata": {},
   "source": [
    "# Task 2:\n",
    "1. Operator Overloading"
   ]
  },
  {
   "cell_type": "code",
   "execution_count": 82,
   "id": "eabbd709",
   "metadata": {},
   "outputs": [
    {
     "name": "stdout",
     "output_type": "stream",
     "text": [
      "350\n"
     ]
    }
   ],
   "source": [
    "class item:\n",
    "  def __init__(self, name, price):\n",
    "    self.price = price\n",
    "    self.name = name\n",
    "  def __add__(first, second):\n",
    "    x = first.price + second.price\n",
    "    return x\n",
    "\n",
    "first_item = item(\"eggs\", 200)\n",
    "second_item = item(\"milk\", 150)\n",
    "\n",
    "print(first_item + second_item)"
   ]
  },
  {
   "cell_type": "code",
   "execution_count": 1,
   "id": "84f34944",
   "metadata": {},
   "outputs": [
    {
     "name": "stdout",
     "output_type": "stream",
     "text": [
      "350\n"
     ]
    }
   ],
   "source": [
    "class item:\n",
    "  def __init__(self, name, price):\n",
    "    self.price = price\n",
    "    self.name = name\n",
    "  def __add__(first, second):\n",
    "    return first.price + second.price\n",
    "\n",
    "first_item = item(\"eggs\", 200)\n",
    "second_item = item(\"milk\", 150)\n",
    "\n",
    "print(first_item + second_item)"
   ]
  },
  {
   "cell_type": "code",
   "execution_count": null,
   "id": "8861b380",
   "metadata": {},
   "outputs": [],
   "source": []
  },
  {
   "cell_type": "code",
   "execution_count": null,
   "id": "8fefc563",
   "metadata": {},
   "outputs": [],
   "source": []
  },
  {
   "cell_type": "code",
   "execution_count": null,
   "id": "1cdbe9c8",
   "metadata": {},
   "outputs": [],
   "source": []
  }
 ],
 "metadata": {
  "kernelspec": {
   "display_name": "Python 3 (ipykernel)",
   "language": "python",
   "name": "python3"
  },
  "language_info": {
   "codemirror_mode": {
    "name": "ipython",
    "version": 3
   },
   "file_extension": ".py",
   "mimetype": "text/x-python",
   "name": "python",
   "nbconvert_exporter": "python",
   "pygments_lexer": "ipython3",
   "version": "3.9.12"
  }
 },
 "nbformat": 4,
 "nbformat_minor": 5
}
