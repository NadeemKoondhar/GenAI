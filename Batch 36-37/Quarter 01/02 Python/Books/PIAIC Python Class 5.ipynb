{
 "cells": [
  {
   "cell_type": "markdown",
   "id": "3b50a0e3",
   "metadata": {},
   "source": [
    "# List & Tuple"
   ]
  },
  {
   "cell_type": "code",
   "execution_count": 1,
   "id": "2975eebe",
   "metadata": {},
   "outputs": [],
   "source": [
    "# - List Mutable\n",
    "# - Tuple immutable.\n",
    "\n"
   ]
  },
  {
   "cell_type": "code",
   "execution_count": 3,
   "id": "94da834b",
   "metadata": {},
   "outputs": [],
   "source": [
    "# index   0        1        2      3         4\n",
    "names = [\"Qasim\", \"Nasir\", \"Ali\", \"Hamza\", \"Manzoor\"]\n",
    "# -ve index   -5        -4     -3      -2      -1"
   ]
  },
  {
   "cell_type": "code",
   "execution_count": 5,
   "id": "801e8b55",
   "metadata": {},
   "outputs": [
    {
     "name": "stdout",
     "output_type": "stream",
     "text": [
      "['Qasim', 'Nasir', 'Ali', 'Hamza', 'Manzoor']\n",
      "Hamza\n",
      "Hamza\n"
     ]
    }
   ],
   "source": [
    "print(names)\n",
    "print(names[3]) # extracts value with +ve index\n",
    "print(names[-2]) # extracts value with -ve index"
   ]
  },
  {
   "cell_type": "code",
   "execution_count": 10,
   "id": "8ebf2685",
   "metadata": {},
   "outputs": [
    {
     "name": "stdout",
     "output_type": "stream",
     "text": [
      "Before ['Qasim', 'Nasir', 'Ali', 'Hamza', 'Manzoor']\n",
      "Before ['Muhammad Qasim', 'Nasir', 'Ali', 'Hamza', 'Manzoor']\n"
     ]
    }
   ],
   "source": [
    "# index   0        1        2      3         4\n",
    "names = [\"Qasim\", \"Nasir\", \"Ali\", \"Hamza\", \"Manzoor\"]\n",
    "# -ve index   -5        -4     -3      -2      -1\n",
    "\n",
    "print(\"Before\", names)\n",
    "\n",
    "names[0] = \"Muhammad Qasim\" # updated value with +ve index\n",
    "\n",
    "print(\"Before\", names)"
   ]
  },
  {
   "cell_type": "code",
   "execution_count": 9,
   "id": "944d4753",
   "metadata": {},
   "outputs": [
    {
     "name": "stdout",
     "output_type": "stream",
     "text": [
      "['Muhammad Qasim', 'Nasir', 'Ali', 'Hamza', 'Manzoor']\n",
      "['Muhammad Qasim', 'Nasir', 'Ali', 'Hamza', 'Manzoor']\n"
     ]
    }
   ],
   "source": []
  },
  {
   "cell_type": "code",
   "execution_count": null,
   "id": "4f5b43c1",
   "metadata": {},
   "outputs": [],
   "source": [
    "# extracting multiple values\n",
    "# list[start_index:end_index]\n",
    "# it is called Slicing\n",
    "# start index included, end index excluded\n"
   ]
  },
  {
   "cell_type": "code",
   "execution_count": 12,
   "id": "05438e1f",
   "metadata": {},
   "outputs": [
    {
     "name": "stdout",
     "output_type": "stream",
     "text": [
      "['Nasir', 'Ali']\n",
      "['Nasir', 'Ali', 'Hamza']\n"
     ]
    }
   ],
   "source": [
    "# index   0        1        2      3         4\n",
    "names = [\"Qasim\", \"Nasir\", \"Ali\", \"Hamza\", \"Manzoor\"]\n",
    "# -ve index   -5        -4     -3      -2      -1\n",
    "\n",
    "print(names[1:3])\n",
    "print(names[1:4])"
   ]
  },
  {
   "cell_type": "code",
   "execution_count": 13,
   "id": "b9dc1320",
   "metadata": {},
   "outputs": [],
   "source": [
    "names = [\"Qasim\", \"Nasir\", \"Ali\", \"Hamza\", \"Manzoor\"]"
   ]
  },
  {
   "cell_type": "code",
   "execution_count": 14,
   "id": "c275aa8b",
   "metadata": {},
   "outputs": [
    {
     "data": {
      "text/plain": [
       "['Qasim', 'Nasir', 'Ali', 'Hamza', 'Manzoor']"
      ]
     },
     "execution_count": 14,
     "metadata": {},
     "output_type": "execute_result"
    }
   ],
   "source": [
    "names"
   ]
  },
  {
   "cell_type": "code",
   "execution_count": null,
   "id": "7cb82417",
   "metadata": {},
   "outputs": [],
   "source": [
    "# list[start_index:end_index:sequence]"
   ]
  },
  {
   "cell_type": "code",
   "execution_count": null,
   "id": "3c3ffb2f",
   "metadata": {},
   "outputs": [],
   "source": []
  },
  {
   "cell_type": "code",
   "execution_count": 15,
   "id": "aada4778",
   "metadata": {},
   "outputs": [],
   "source": [
    "# index   0        1        2      3         4\n",
    "names = [\"Qasim\", \"Nasir\", \"Ali\", \"Hamza\", \"Manzoor\"]\n",
    "# -ve index   -5        -4     -3      -2      -1"
   ]
  },
  {
   "cell_type": "code",
   "execution_count": 35,
   "id": "43b59b7a",
   "metadata": {},
   "outputs": [
    {
     "name": "stdout",
     "output_type": "stream",
     "text": [
      "[1, 2, 3, 4, 5, 6, 7, 8, 9, 10, 11, 12, 13, 14, 15, 16, 17, 18, 19, 20]\n",
      "[8, 9, 10, 11, 12, 13, 14, 15, 16]\n",
      "[8, 9, 10, 11, 12, 13, 14, 15, 16, 17, 18, 19, 20]\n",
      "[1, 2, 3, 4, 5, 6, 7, 8, 9, 10, 11, 12, 13, 14, 15, 16]\n",
      "[8, 9, 10, 11, 12, 13, 14, 15, 16, 17, 18, 19, 20]\n",
      "[8, 10, 12, 14, 16, 18, 20]\n",
      "[1, 4, 7, 10, 13, 16, 19]\n"
     ]
    }
   ],
   "source": [
    "numbers = [1, 2, 3, 4, 5, 6, 7, 8, 9, 10, 11, 12, 13, 14, 15, 16, 17, 18, 19, 20]\n",
    "print(numbers)\n",
    "print(numbers[7:16])\n",
    "print(numbers[7:])\n",
    "print(numbers[:16])\n",
    "print(numbers[7::])\n",
    "print(numbers[7::2])\n",
    "print(numbers[::3])"
   ]
  },
  {
   "cell_type": "code",
   "execution_count": 36,
   "id": "57f342ec",
   "metadata": {},
   "outputs": [
    {
     "name": "stdout",
     "output_type": "stream",
     "text": [
      "[20, 17, 14, 11, 8, 5, 2]\n",
      "[1, 2, 3, 4, 5, 6, 7, 8, 9, 10]\n",
      "[]\n",
      "[20, 19, 18, 17, 16, 15, 14, 13, 12, 11, 10, 9, 8, 7, 6, 5, 4, 3, 2, 1]\n",
      "[]\n",
      "[10, 9, 8, 7, 6, 5, 4, 3, 2, 1]\n",
      "[17, 16]\n"
     ]
    }
   ],
   "source": [
    "print(numbers[::-3]) # picking elements right to left\n",
    "print(numbers[0:10:])\n",
    "print(numbers[0:10:-1]) # not picking up any value as index is L to R while seq is R to L.\n",
    "print(numbers[-1:-21:-1]) # now showing reverse data.\n",
    "print(numbers[10:20:-1])\n",
    "print(numbers[-11:-21:-1])\n",
    "print(numbers[16:14:-1])"
   ]
  },
  {
   "cell_type": "code",
   "execution_count": 39,
   "id": "88b2323e",
   "metadata": {},
   "outputs": [
    {
     "name": "stdout",
     "output_type": "stream",
     "text": [
      "[4, 3, 2]\n",
      "[4, 3, 2]\n"
     ]
    }
   ],
   "source": [
    "print(numbers[3:0:-1])\n",
    "print(numbers[-17:-20:-1])"
   ]
  },
  {
   "cell_type": "code",
   "execution_count": null,
   "id": "da3e5dc5",
   "metadata": {},
   "outputs": [],
   "source": [
    "\n"
   ]
  },
  {
   "cell_type": "code",
   "execution_count": null,
   "id": "301ebe90",
   "metadata": {},
   "outputs": [],
   "source": []
  },
  {
   "cell_type": "code",
   "execution_count": 41,
   "id": "3fc3b674",
   "metadata": {},
   "outputs": [
    {
     "name": "stdout",
     "output_type": "stream",
     "text": [
      "['1', '2', '3']\n",
      "['1', '2', '3']\n"
     ]
    }
   ],
   "source": [
    "l1 = [\"1\", \"2\", \"3\"]\n",
    "l2 = l1.copy()\n",
    "\n",
    "print(l1)\n",
    "print(l2)"
   ]
  },
  {
   "cell_type": "code",
   "execution_count": 42,
   "id": "71b3dfa7",
   "metadata": {},
   "outputs": [],
   "source": [
    "l1[0] = \"ABC\""
   ]
  },
  {
   "cell_type": "code",
   "execution_count": 44,
   "id": "0ddce621",
   "metadata": {},
   "outputs": [
    {
     "name": "stdout",
     "output_type": "stream",
     "text": [
      "['ABC', '2', '3']\n",
      "['1', '2', '3']\n"
     ]
    }
   ],
   "source": [
    "print(l1)\n",
    "print(l2)"
   ]
  },
  {
   "cell_type": "code",
   "execution_count": null,
   "id": "cd07a1d1",
   "metadata": {},
   "outputs": [],
   "source": []
  },
  {
   "cell_type": "code",
   "execution_count": 46,
   "id": "38a15095",
   "metadata": {},
   "outputs": [
    {
     "data": {
      "text/plain": [
       "['Muhammad Qasim', 'Nasir', 'Ali', 'Hamza', 'Muhammad Qasim']"
      ]
     },
     "execution_count": 46,
     "metadata": {},
     "output_type": "execute_result"
    }
   ],
   "source": [
    "names\n",
    "names[0] = \"Muhammad Qasim\"\n",
    "names[4] = \"Muhammad Qasim\"\n",
    "names"
   ]
  },
  {
   "cell_type": "code",
   "execution_count": 48,
   "id": "d3e3cca2",
   "metadata": {},
   "outputs": [
    {
     "ename": "NameError",
     "evalue": "name 'l4' is not defined",
     "output_type": "error",
     "traceback": [
      "\u001b[1;31m---------------------------------------------------------------------------\u001b[0m",
      "\u001b[1;31mNameError\u001b[0m                                 Traceback (most recent call last)",
      "Input \u001b[1;32mIn [48]\u001b[0m, in \u001b[0;36m<cell line: 2>\u001b[1;34m()\u001b[0m\n\u001b[0;32m      1\u001b[0m l1 \u001b[38;5;241m=\u001b[39m [\u001b[38;5;124m\"\u001b[39m\u001b[38;5;124m1\u001b[39m\u001b[38;5;124m\"\u001b[39m, \u001b[38;5;124m\"\u001b[39m\u001b[38;5;124m2\u001b[39m\u001b[38;5;124m\"\u001b[39m, \u001b[38;5;124m\"\u001b[39m\u001b[38;5;124m3\u001b[39m\u001b[38;5;124m\"\u001b[39m]\n\u001b[1;32m----> 2\u001b[0m l1 \u001b[38;5;241m=\u001b[39m l2 \u001b[38;5;241m=\u001b[39m l3 \u001b[38;5;241m=\u001b[39m \u001b[43ml4\u001b[49m \u001b[38;5;66;03m# nick names = shallow copy\u001b[39;00m\n\u001b[0;32m      4\u001b[0m l1[\u001b[38;5;241m0\u001b[39m] \u001b[38;5;241m=\u001b[39m \u001b[38;5;124m\"\u001b[39m\u001b[38;5;124mABC\u001b[39m\u001b[38;5;124m\"\u001b[39m\n\u001b[0;32m      6\u001b[0m \u001b[38;5;28mprint\u001b[39m(l1)\n",
      "\u001b[1;31mNameError\u001b[0m: name 'l4' is not defined"
     ]
    }
   ],
   "source": [
    "l1 = [\"1\", \"2\", \"3\"]\n",
    "l1 = l2 = l3 = l4 # nick names = shallow copy\n",
    "\n",
    "l1[0] = \"ABC\"\n",
    "\n",
    "print(l1)\n",
    "print(l2)\n",
    "print(l3)\n",
    "print(l4)"
   ]
  },
  {
   "cell_type": "code",
   "execution_count": 50,
   "id": "b848bf20",
   "metadata": {},
   "outputs": [
    {
     "name": "stdout",
     "output_type": "stream",
     "text": [
      "['1', '2', '3']\n",
      "['ABC', '2', '3']\n"
     ]
    }
   ],
   "source": [
    "l1 = [\"1\", \"2\", \"3\"]\n",
    "l4 = l1.copy() # Deep Copy\n",
    "\n",
    "l4[0] = \"ABC\"\n",
    "\n",
    "print(l1)\n",
    "print(l4)\n"
   ]
  },
  {
   "cell_type": "code",
   "execution_count": null,
   "id": "a892035b",
   "metadata": {},
   "outputs": [],
   "source": []
  },
  {
   "cell_type": "code",
   "execution_count": 51,
   "id": "9359398f",
   "metadata": {},
   "outputs": [
    {
     "name": "stdout",
     "output_type": "stream",
     "text": [
      "[1, 2, 3, 4, 5, 6]\n",
      "[4, 5, 6]\n"
     ]
    }
   ],
   "source": [
    "l1 = [1,2,3]\n",
    "l2 = [4,5,6]\n",
    "\n",
    "l1.extend(l2)\n",
    "\n",
    "print(l1)\n",
    "print(l2)"
   ]
  },
  {
   "cell_type": "code",
   "execution_count": null,
   "id": "0b636792",
   "metadata": {},
   "outputs": [],
   "source": []
  },
  {
   "cell_type": "code",
   "execution_count": 53,
   "id": "b5ffdea1",
   "metadata": {},
   "outputs": [
    {
     "name": "stdout",
     "output_type": "stream",
     "text": [
      "[1, 2, 3, [4, 5, 6]]\n",
      "[4, 5, 6]\n"
     ]
    }
   ],
   "source": [
    "l1 = [1,2,3]\n",
    "l2 = [4,5,6]\n",
    "\n",
    "l1.append(l2)\n",
    "\n",
    "print(l1)\n",
    "print(l2)\n",
    "\n",
    "# notice the difference between append and extend."
   ]
  },
  {
   "cell_type": "code",
   "execution_count": null,
   "id": "1d7ab534",
   "metadata": {},
   "outputs": [],
   "source": []
  }
 ],
 "metadata": {
  "kernelspec": {
   "display_name": "Python 3 (ipykernel)",
   "language": "python",
   "name": "python3"
  },
  "language_info": {
   "codemirror_mode": {
    "name": "ipython",
    "version": 3
   },
   "file_extension": ".py",
   "mimetype": "text/x-python",
   "name": "python",
   "nbconvert_exporter": "python",
   "pygments_lexer": "ipython3",
   "version": "3.9.12"
  }
 },
 "nbformat": 4,
 "nbformat_minor": 5
}
