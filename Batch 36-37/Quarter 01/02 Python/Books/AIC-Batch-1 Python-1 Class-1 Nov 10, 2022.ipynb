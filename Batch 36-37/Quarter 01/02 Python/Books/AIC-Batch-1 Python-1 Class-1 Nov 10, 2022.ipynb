{
 "cells": [
  {
   "cell_type": "markdown",
   "id": "0058a277",
   "metadata": {},
   "source": [
    "# A Smarter Way to Learn Python - Chap 2: Variables for Strings"
   ]
  },
  {
   "cell_type": "code",
   "execution_count": null,
   "id": "6b269fb2",
   "metadata": {},
   "outputs": [],
   "source": [
    "name = \"Isar\" # \"=\" assignment operator"
   ]
  },
  {
   "cell_type": "code",
   "execution_count": 16,
   "id": "514249e2",
   "metadata": {},
   "outputs": [
    {
     "name": "stdout",
     "output_type": "stream",
     "text": [
      "Makkah\n"
     ]
    }
   ],
   "source": [
    "print(name)"
   ]
  },
  {
   "cell_type": "code",
   "execution_count": 20,
   "id": "68506aeb",
   "metadata": {},
   "outputs": [
    {
     "name": "stdout",
     "output_type": "stream",
     "text": [
      "Isar\n"
     ]
    }
   ],
   "source": [
    "print(name)"
   ]
  },
  {
   "cell_type": "code",
   "execution_count": 18,
   "id": "102c198b",
   "metadata": {},
   "outputs": [
    {
     "name": "stdout",
     "output_type": "stream",
     "text": [
      "Madina\n"
     ]
    }
   ],
   "source": [
    "name = \"Madina\"\n",
    "print(name)"
   ]
  },
  {
   "cell_type": "code",
   "execution_count": 22,
   "id": "b87361ca",
   "metadata": {},
   "outputs": [
    {
     "name": "stdout",
     "output_type": "stream",
     "text": [
      "6\n"
     ]
    }
   ],
   "source": [
    "name = 1\n",
    "y = 5\n",
    "name = name + y\n",
    "print(name)"
   ]
  },
  {
   "cell_type": "code",
   "execution_count": 23,
   "id": "18f06074",
   "metadata": {},
   "outputs": [],
   "source": [
    "Day_today = \"2022, Nov 10\""
   ]
  },
  {
   "cell_type": "code",
   "execution_count": 24,
   "id": "d6fcfd3d",
   "metadata": {},
   "outputs": [
    {
     "name": "stdout",
     "output_type": "stream",
     "text": [
      "2022, Nov 10\n"
     ]
    }
   ],
   "source": [
    "print(Day_today)"
   ]
  },
  {
   "cell_type": "code",
   "execution_count": 25,
   "id": "ebd22253",
   "metadata": {},
   "outputs": [
    {
     "ename": "NameError",
     "evalue": "name 'Day_Today' is not defined",
     "output_type": "error",
     "traceback": [
      "\u001b[1;31m---------------------------------------------------------------------------\u001b[0m",
      "\u001b[1;31mNameError\u001b[0m                                 Traceback (most recent call last)",
      "Input \u001b[1;32mIn [25]\u001b[0m, in \u001b[0;36m<cell line: 1>\u001b[1;34m()\u001b[0m\n\u001b[1;32m----> 1\u001b[0m \u001b[38;5;28mprint\u001b[39m(\u001b[43mDay_Today\u001b[49m)\n",
      "\u001b[1;31mNameError\u001b[0m: name 'Day_Today' is not defined"
     ]
    }
   ],
   "source": [
    "print(Day_Today)"
   ]
  },
  {
   "cell_type": "code",
   "execution_count": 27,
   "id": "e6953089",
   "metadata": {},
   "outputs": [],
   "source": [
    "age = 10\n",
    "Age = 15\n",
    "AGE = 20"
   ]
  },
  {
   "cell_type": "code",
   "execution_count": 28,
   "id": "e29d7206",
   "metadata": {},
   "outputs": [
    {
     "name": "stdout",
     "output_type": "stream",
     "text": [
      "10\n"
     ]
    }
   ],
   "source": [
    "print(age)"
   ]
  },
  {
   "cell_type": "code",
   "execution_count": 29,
   "id": "15b8a350",
   "metadata": {},
   "outputs": [
    {
     "name": "stdout",
     "output_type": "stream",
     "text": [
      "15\n"
     ]
    }
   ],
   "source": [
    "print(Age)"
   ]
  },
  {
   "cell_type": "code",
   "execution_count": 30,
   "id": "fbe7d4f1",
   "metadata": {},
   "outputs": [
    {
     "name": "stdout",
     "output_type": "stream",
     "text": [
      "20\n"
     ]
    }
   ],
   "source": [
    "print(AGE)"
   ]
  },
  {
   "cell_type": "code",
   "execution_count": null,
   "id": "281d35b7",
   "metadata": {},
   "outputs": [],
   "source": []
  },
  {
   "cell_type": "code",
   "execution_count": null,
   "id": "6993adaf",
   "metadata": {},
   "outputs": [],
   "source": []
  },
  {
   "cell_type": "code",
   "execution_count": null,
   "id": "5ca491f7",
   "metadata": {},
   "outputs": [],
   "source": []
  },
  {
   "cell_type": "code",
   "execution_count": null,
   "id": "67216b0a",
   "metadata": {},
   "outputs": [],
   "source": []
  },
  {
   "cell_type": "code",
   "execution_count": null,
   "id": "2d4cc9b1",
   "metadata": {},
   "outputs": [],
   "source": []
  },
  {
   "cell_type": "code",
   "execution_count": null,
   "id": "60632728",
   "metadata": {},
   "outputs": [],
   "source": []
  },
  {
   "cell_type": "code",
   "execution_count": null,
   "id": "3a000656",
   "metadata": {},
   "outputs": [],
   "source": []
  },
  {
   "cell_type": "code",
   "execution_count": null,
   "id": "6e7f1be3",
   "metadata": {},
   "outputs": [],
   "source": []
  },
  {
   "cell_type": "code",
   "execution_count": null,
   "id": "a940cc2d",
   "metadata": {},
   "outputs": [],
   "source": []
  }
 ],
 "metadata": {
  "kernelspec": {
   "display_name": "Python 3 (ipykernel)",
   "language": "python",
   "name": "python3"
  },
  "language_info": {
   "codemirror_mode": {
    "name": "ipython",
    "version": 3
   },
   "file_extension": ".py",
   "mimetype": "text/x-python",
   "name": "python",
   "nbconvert_exporter": "python",
   "pygments_lexer": "ipython3",
   "version": "3.9.12"
  }
 },
 "nbformat": 4,
 "nbformat_minor": 5
}
