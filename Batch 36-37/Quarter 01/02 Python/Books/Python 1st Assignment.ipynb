{
 "cells": [
  {
   "cell_type": "markdown",
   "id": "a9caf59d",
   "metadata": {},
   "source": [
    "# Question # 01:\n",
    "\n",
    "##### 1. Input number from user and print if number is even or odd."
   ]
  },
  {
   "cell_type": "code",
   "execution_count": 37,
   "id": "8f9f4ef6",
   "metadata": {},
   "outputs": [
    {
     "name": "stdout",
     "output_type": "stream",
     "text": [
      "Please Enter your number 500\n",
      "Number 500 entered by you is an even Number\n"
     ]
    }
   ],
   "source": [
    "num = input(\"Please Enter your number \")\n",
    "int_num = int(num)\n",
    "\n",
    "if int_num % 2 == 0:\n",
    "    print(\"Number \" + num + \" entered by you is an even Number\")\n",
    "else:\n",
    "    print(\"Number \" + num + \" entered by you is an odd Number\")"
   ]
  },
  {
   "cell_type": "markdown",
   "id": "2592df65",
   "metadata": {},
   "source": [
    "# Question # 02:\n",
    "### Using the variables and concatenation.\n",
    "'''\n",
    " Below statements define the second assignment. \n",
    "a. Input max marks for Physics, Chemistry, Math, English, Urdu e.g. 100. \n",
    "b. Input obtained marks for above mentioned subjects e.g. 89 \n",
    "c. Calculate total for max and obtained marks e.g. 500 and 482, respectively. \n",
    "d. Print a mark sheet e.g. as below \n",
    "Subject Max Marks Obtained marks \n",
    "Physics 100 95 \n",
    "Chemistry 100 92 \n",
    "Math 100 96 \n",
    "*\n",
    "*\n",
    "*\n",
    "Total. 500 482 \n",
    "Obtained percentage: 96.\n",
    "'''"
   ]
  },
  {
   "cell_type": "code",
   "execution_count": 36,
   "id": "cefe4ee6",
   "metadata": {},
   "outputs": [
    {
     "name": "stdout",
     "output_type": "stream",
     "text": [
      "Please Enter max: Marks of the Physics Subject 100\n",
      "Please Enter Marks obtained by you in the Physics Subject 93\n",
      "Please Enter max: Marks of the Chemistry Subject 100\n",
      "Please Enter Marks obtained by you in the Chemistry Subject 57\n",
      "Please Enter max: Marks of the Math Subject 100\n",
      "Please Enter Marks obtained by you in the Maths Subject 92\n",
      "Please Enter max: Marks of the English Subject 100\n",
      "Please Enter Marks obtained by you in the English Subject 75\n",
      "Please Enter max: Marks of the Urdu Subject 100\n",
      "Please Enter Marks obtained by you in the Urdu Subject 65\n",
      "Subject:               Max: Marks               Obt: Marks\n",
      "Physics                 100                        93\n",
      "Chemistry               100                        57\n",
      "Math                    100                        92\n",
      "English                 100                        75\n",
      "Urdu                    100                        65\n",
      "Totals:                 500                        382\n",
      "Obtained Percentage     76.40 %.\n"
     ]
    }
   ],
   "source": [
    "max_physics = input(\"Please Enter max: Marks of the Physics Subject \")\n",
    "obt_physics = input(\"Please Enter Marks obtained by you in the Physics Subject \")\n",
    "max_chemistry = input(\"Please Enter max: Marks of the Chemistry Subject \")\n",
    "obt_chemistry = input(\"Please Enter Marks obtained by you in the Chemistry Subject \")\n",
    "max_math = input(\"Please Enter max: Marks of the Math Subject \")\n",
    "obt_math = input(\"Please Enter Marks obtained by you in the Maths Subject \")\n",
    "max_eng = input(\"Please Enter max: Marks of the English Subject \")\n",
    "obt_eng = input(\"Please Enter Marks obtained by you in the English Subject \")\n",
    "max_urdu = input(\"Please Enter max: Marks of the Urdu Subject \")\n",
    "obt_urdu = input(\"Please Enter Marks obtained by you in the Urdu Subject \")\n",
    "\n",
    "max_marks = int(max_physics)+ int(max_chemistry)+ int(max_math)+ int(max_eng) + int(max_urdu)\n",
    "obt_marks = int(obt_physics)+ int(obt_chemistry)+ int(obt_math)+ int(obt_eng) + int(obt_urdu)\n",
    "\n",
    "print(\"Subject:               Max: Marks               Obt: Marks\")\n",
    "print(\"Physics                 \" + max_physics + \"                        \"  + obt_physics)\n",
    "print(\"Chemistry               \" + max_chemistry + \"                        \"  + obt_chemistry)\n",
    "print(\"Math                    \" + max_math + \"                        \"  + obt_math)\n",
    "print(\"English                 \" + max_eng + \"                        \"  + obt_eng)\n",
    "print(\"Urdu                    \" + max_urdu + \"                        \"  + obt_urdu)\n",
    "print(\"Totals:                 \" + str(max_marks) + \"                        \"  + str(obt_marks))\n",
    "print(\"Obtained Percentage     \" + \"{:.2f}\".format(obt_marks/max_marks*100) + \" %.\")"
   ]
  },
  {
   "cell_type": "code",
   "execution_count": 35,
   "id": "7cf0f367",
   "metadata": {},
   "outputs": [
    {
     "name": "stdout",
     "output_type": "stream",
     "text": [
      "Subject:               Max: Marks               Obt: Marks\n",
      "Physics                 100                        92\n",
      "Chemistry               100                        57\n",
      "Math                    93                        93\n",
      "English                 100                        75\n",
      "Urdu                    100                        67\n",
      "Totals:                 493                        384\n",
      "Obtained Percentage     77.89 %.\n"
     ]
    }
   ],
   "source": [
    "max_marks = int(max_physics)+ int(max_chemistry)+ int(max_math)+ int(max_eng) + int(max_urdu)\n",
    "obt_marks = int(obt_physics)+ int(obt_chemistry)+ int(obt_math)+ int(obt_eng) + int(obt_urdu)\n",
    "\n",
    "print(\"Subject:               Max: Marks               Obt: Marks\")\n",
    "print(\"Physics                 \" + max_physics + \"                        \"  + obt_physics)\n",
    "print(\"Chemistry               \" + max_chemistry + \"                        \"  + obt_chemistry)\n",
    "print(\"Math                    \" + max_math + \"                        \"  + obt_math)\n",
    "print(\"English                 \" + max_eng + \"                        \"  + obt_eng)\n",
    "print(\"Urdu                    \" + max_urdu + \"                        \"  + obt_urdu)\n",
    "print(\"Totals:                 \" + str(max_marks) + \"                        \"  + str(obt_marks))\n",
    "print(\"Obtained Percentage     \" + \"{:.2f}\".format(obt_marks/max_marks*100)) + \" %.\")\n"
   ]
  },
  {
   "cell_type": "code",
   "execution_count": 29,
   "id": "302e1a87",
   "metadata": {},
   "outputs": [
    {
     "name": "stdout",
     "output_type": "stream",
     "text": [
      "77.89\n"
     ]
    }
   ],
   "source": [
    "print(\"{:.2f}\".format(obt_marks/max_marks*100))"
   ]
  },
  {
   "cell_type": "code",
   "execution_count": null,
   "id": "ab83854a",
   "metadata": {},
   "outputs": [],
   "source": []
  },
  {
   "cell_type": "code",
   "execution_count": null,
   "id": "9b24acf8",
   "metadata": {},
   "outputs": [],
   "source": []
  },
  {
   "cell_type": "code",
   "execution_count": null,
   "id": "20b6dc56",
   "metadata": {},
   "outputs": [],
   "source": []
  }
 ],
 "metadata": {
  "kernelspec": {
   "display_name": "Python 3 (ipykernel)",
   "language": "python",
   "name": "python3"
  },
  "language_info": {
   "codemirror_mode": {
    "name": "ipython",
    "version": 3
   },
   "file_extension": ".py",
   "mimetype": "text/x-python",
   "name": "python",
   "nbconvert_exporter": "python",
   "pygments_lexer": "ipython3",
   "version": "3.9.12"
  }
 },
 "nbformat": 4,
 "nbformat_minor": 5
}
