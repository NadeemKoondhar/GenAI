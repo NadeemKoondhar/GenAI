{
 "cells": [
  {
   "cell_type": "markdown",
   "id": "06eb7a59",
   "metadata": {},
   "source": [
    "# Assignment2 OOP\n",
    "### Nadeem Hussain - PIAIC-182905"
   ]
  },
  {
   "cell_type": "markdown",
   "id": "557fc53c",
   "metadata": {},
   "source": [
    "### Task 1:\n",
    "#### 1. Import mother and father attribute\n",
    "#### 2. Add two new attributes in the child constructor"
   ]
  },
  {
   "cell_type": "code",
   "execution_count": 6,
   "id": "b8596778",
   "metadata": {},
   "outputs": [
    {
     "name": "stdout",
     "output_type": "stream",
     "text": [
      "My name is Abdul Fattah, I am 70  years old and my eye color is Black\n"
     ]
    }
   ],
   "source": [
    "# Father Class\n",
    "\n",
    "class Father:\n",
    "    def __init__(self, name, age, eye_color):\n",
    "        self.name = name\n",
    "        self.age = age\n",
    "        self.eye_color = eye_color\n",
    "  \n",
    "    def fathersParticulars(self):\n",
    "        return f\"My name is {self.name}, I am {self.age}  years old and my eye color is {self.eye_color}\"\n",
    "\n",
    "f1 = Father(\"Abdul Fattah\", 70, \"Black\")\n",
    "\n",
    "print(f1.fathersParticulars())"
   ]
  },
  {
   "cell_type": "code",
   "execution_count": null,
   "id": "1fc90ca6",
   "metadata": {},
   "outputs": [],
   "source": []
  },
  {
   "cell_type": "code",
   "execution_count": null,
   "id": "c5463786",
   "metadata": {},
   "outputs": [],
   "source": []
  },
  {
   "cell_type": "code",
   "execution_count": null,
   "id": "1b70c5d7",
   "metadata": {},
   "outputs": [],
   "source": []
  }
 ],
 "metadata": {
  "kernelspec": {
   "display_name": "Python 3 (ipykernel)",
   "language": "python",
   "name": "python3"
  },
  "language_info": {
   "codemirror_mode": {
    "name": "ipython",
    "version": 3
   },
   "file_extension": ".py",
   "mimetype": "text/x-python",
   "name": "python",
   "nbconvert_exporter": "python",
   "pygments_lexer": "ipython3",
   "version": "3.9.12"
  }
 },
 "nbformat": 4,
 "nbformat_minor": 5
}
