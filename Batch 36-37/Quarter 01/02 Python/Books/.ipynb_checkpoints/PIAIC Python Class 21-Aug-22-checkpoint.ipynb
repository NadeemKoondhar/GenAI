{
 "cells": [
  {
   "cell_type": "code",
   "execution_count": 1,
   "id": "67a0a751",
   "metadata": {},
   "outputs": [
    {
     "name": "stdout",
     "output_type": "stream",
     "text": [
      "('qualification', 'MSDS')\n",
      "{'name': 'Qasim', 'f_name': 'Aslam', 'age': 30}\n"
     ]
    }
   ],
   "source": [
    "data = {\n",
    "    'name': 'Qasim',\n",
    "    'f_name': 'Aslam',\n",
    "    'age': 30,\n",
    "    'qualification': 'MSDS',\n",
    "}\n",
    "\n",
    "a = data.popitem() # return function\n",
    "print(a)\n",
    "print(data)"
   ]
  },
  {
   "cell_type": "code",
   "execution_count": null,
   "id": "b1827e36",
   "metadata": {},
   "outputs": [],
   "source": []
  }
 ],
 "metadata": {
  "kernelspec": {
   "display_name": "Python 3 (ipykernel)",
   "language": "python",
   "name": "python3"
  },
  "language_info": {
   "codemirror_mode": {
    "name": "ipython",
    "version": 3
   },
   "file_extension": ".py",
   "mimetype": "text/x-python",
   "name": "python",
   "nbconvert_exporter": "python",
   "pygments_lexer": "ipython3",
   "version": "3.9.12"
  }
 },
 "nbformat": 4,
 "nbformat_minor": 5
}
