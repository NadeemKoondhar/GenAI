{
 "cells": [
  {
   "cell_type": "code",
   "execution_count": 1,
   "id": "1500fe42",
   "metadata": {},
   "outputs": [
    {
     "ename": "ModuleNotFoundError",
     "evalue": "No module named 'pyautogui'",
     "output_type": "error",
     "traceback": [
      "\u001b[1;31m---------------------------------------------------------------------------\u001b[0m",
      "\u001b[1;31mModuleNotFoundError\u001b[0m                       Traceback (most recent call last)",
      "Input \u001b[1;32mIn [1]\u001b[0m, in \u001b[0;36m<cell line: 1>\u001b[1;34m()\u001b[0m\n\u001b[1;32m----> 1\u001b[0m \u001b[38;5;28;01mimport\u001b[39;00m \u001b[38;5;21;01mpyautogui\u001b[39;00m\n",
      "\u001b[1;31mModuleNotFoundError\u001b[0m: No module named 'pyautogui'"
     ]
    }
   ],
   "source": [
    "import pyautogui"
   ]
  },
  {
   "cell_type": "code",
   "execution_count": 3,
   "id": "0aad1d0b",
   "metadata": {},
   "outputs": [
    {
     "name": "stdout",
     "output_type": "stream",
     "text": [
      "Requirement already satisfied: PyAutoGUI in c:\\users\\nadeem\\anaconda3\\lib\\site-packages (0.9.53)\n",
      "Requirement already satisfied: mouseinfo in c:\\users\\nadeem\\anaconda3\\lib\\site-packages (from PyAutoGUI) (0.1.3)\n",
      "Requirement already satisfied: pyscreeze>=0.1.21 in c:\\users\\nadeem\\anaconda3\\lib\\site-packages (from PyAutoGUI) (0.1.28)\n",
      "Requirement already satisfied: pygetwindow>=0.0.5 in c:\\users\\nadeem\\anaconda3\\lib\\site-packages (from PyAutoGUI) (0.0.9)\n",
      "Requirement already satisfied: PyTweening>=1.0.1 in c:\\users\\nadeem\\anaconda3\\lib\\site-packages (from PyAutoGUI) (1.0.4)\n",
      "Requirement already satisfied: pymsgbox in c:\\users\\nadeem\\anaconda3\\lib\\site-packages (from PyAutoGUI) (1.0.9)\n",
      "Requirement already satisfied: pyrect in c:\\users\\nadeem\\anaconda3\\lib\\site-packages (from pygetwindow>=0.0.5->PyAutoGUI) (0.2.0)\n",
      "Requirement already satisfied: pyperclip in c:\\users\\nadeem\\anaconda3\\lib\\site-packages (from mouseinfo->PyAutoGUI) (1.8.2)\n"
     ]
    }
   ],
   "source": [
    "!pip install PyAutoGUI"
   ]
  },
  {
   "cell_type": "code",
   "execution_count": 8,
   "id": "931ee8bc",
   "metadata": {},
   "outputs": [],
   "source": [
    "import pyautogui as p"
   ]
  },
  {
   "cell_type": "code",
   "execution_count": 9,
   "id": "33074079",
   "metadata": {},
   "outputs": [],
   "source": [
    "import time"
   ]
  },
  {
   "cell_type": "code",
   "execution_count": 11,
   "id": "2f6e68ea",
   "metadata": {},
   "outputs": [
    {
     "data": {
      "text/plain": [
       "Size(width=1920, height=1080)"
      ]
     },
     "execution_count": 11,
     "metadata": {},
     "output_type": "execute_result"
    }
   ],
   "source": [
    "p.size()"
   ]
  },
  {
   "cell_type": "code",
   "execution_count": 12,
   "id": "8fa67fd9",
   "metadata": {},
   "outputs": [],
   "source": [
    "p.FAILSAFE = True"
   ]
  },
  {
   "cell_type": "code",
   "execution_count": 28,
   "id": "d9c525f5",
   "metadata": {},
   "outputs": [
    {
     "data": {
      "text/plain": [
       "Point(x=495, y=433)"
      ]
     },
     "execution_count": 28,
     "metadata": {},
     "output_type": "execute_result"
    }
   ],
   "source": [
    "p.position()\n",
    "# Chrome Search Bar (x=328, y=65)"
   ]
  },
  {
   "cell_type": "code",
   "execution_count": 30,
   "id": "d7ad4b84",
   "metadata": {},
   "outputs": [],
   "source": [
    "p.click(328, 65)\n",
    "p.typewrite(\" Hello World\", 0.2)\n",
    "p.typewrite([\"enter\"])\n",
    "p.click(495, 433)"
   ]
  },
  {
   "cell_type": "code",
   "execution_count": null,
   "id": "4cad2bed",
   "metadata": {},
   "outputs": [],
   "source": []
  },
  {
   "cell_type": "code",
   "execution_count": null,
   "id": "a69d3936",
   "metadata": {},
   "outputs": [],
   "source": []
  }
 ],
 "metadata": {
  "kernelspec": {
   "display_name": "Python 3 (ipykernel)",
   "language": "python",
   "name": "python3"
  },
  "language_info": {
   "codemirror_mode": {
    "name": "ipython",
    "version": 3
   },
   "file_extension": ".py",
   "mimetype": "text/x-python",
   "name": "python",
   "nbconvert_exporter": "python",
   "pygments_lexer": "ipython3",
   "version": "3.9.12"
  }
 },
 "nbformat": 4,
 "nbformat_minor": 5
}
