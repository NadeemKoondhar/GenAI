{
 "cells": [
  {
   "cell_type": "markdown",
   "id": "002f243b",
   "metadata": {},
   "source": [
    "# List & Tuple"
   ]
  },
  {
   "cell_type": "code",
   "execution_count": 1,
   "id": "e32c15b0",
   "metadata": {},
   "outputs": [],
   "source": [
    "# - List Mutable\n",
    "# - Tuple immutable.\n",
    "\n"
   ]
  },
  {
   "cell_type": "code",
   "execution_count": 3,
   "id": "37cfddfc",
   "metadata": {},
   "outputs": [],
   "source": [
    "# index   0        1        2      3         4\n",
    "names = [\"Qasim\", \"Nasir\", \"Ali\", \"Hamza\", \"Manzoor\"]\n",
    "# -ve index   -5        -4     -3      -2      -1"
   ]
  },
  {
   "cell_type": "code",
   "execution_count": 5,
   "id": "884ba687",
   "metadata": {},
   "outputs": [
    {
     "name": "stdout",
     "output_type": "stream",
     "text": [
      "['Qasim', 'Nasir', 'Ali', 'Hamza', 'Manzoor']\n",
      "Hamza\n",
      "Hamza\n"
     ]
    }
   ],
   "source": [
    "print(names)\n",
    "print(names[3]) # extracts value with +ve index\n",
    "print(names[-2]) # extracts value with -ve index"
   ]
  },
  {
   "cell_type": "code",
   "execution_count": 10,
   "id": "4eb7f463",
   "metadata": {},
   "outputs": [
    {
     "name": "stdout",
     "output_type": "stream",
     "text": [
      "Before ['Qasim', 'Nasir', 'Ali', 'Hamza', 'Manzoor']\n",
      "Before ['Muhammad Qasim', 'Nasir', 'Ali', 'Hamza', 'Manzoor']\n"
     ]
    }
   ],
   "source": [
    "# index   0        1        2      3         4\n",
    "names = [\"Qasim\", \"Nasir\", \"Ali\", \"Hamza\", \"Manzoor\"]\n",
    "# -ve index   -5        -4     -3      -2      -1\n",
    "\n",
    "print(\"Before\", names)\n",
    "\n",
    "names[0] = \"Muhammad Qasim\" # updated value with +ve index\n",
    "\n",
    "print(\"Before\", names)"
   ]
  },
  {
   "cell_type": "code",
   "execution_count": 9,
   "id": "906f4ff6",
   "metadata": {},
   "outputs": [
    {
     "name": "stdout",
     "output_type": "stream",
     "text": [
      "['Muhammad Qasim', 'Nasir', 'Ali', 'Hamza', 'Manzoor']\n",
      "['Muhammad Qasim', 'Nasir', 'Ali', 'Hamza', 'Manzoor']\n"
     ]
    }
   ],
   "source": []
  },
  {
   "cell_type": "code",
   "execution_count": null,
   "id": "15b5a158",
   "metadata": {},
   "outputs": [],
   "source": [
    "# extracting multiple values\n",
    "# list[start_index:end_index]\n",
    "# it is called Slicing\n",
    "# start index included, end index excluded\n"
   ]
  },
  {
   "cell_type": "code",
   "execution_count": 12,
   "id": "512fb17e",
   "metadata": {},
   "outputs": [
    {
     "name": "stdout",
     "output_type": "stream",
     "text": [
      "['Nasir', 'Ali']\n",
      "['Nasir', 'Ali', 'Hamza']\n"
     ]
    }
   ],
   "source": [
    "# index   0        1        2      3         4\n",
    "names = [\"Qasim\", \"Nasir\", \"Ali\", \"Hamza\", \"Manzoor\"]\n",
    "# -ve index   -5        -4     -3      -2      -1\n",
    "\n",
    "print(names[1:3])\n",
    "print(names[1:4])"
   ]
  },
  {
   "cell_type": "code",
   "execution_count": 13,
   "id": "20608a4a",
   "metadata": {},
   "outputs": [],
   "source": [
    "names = [\"Qasim\", \"Nasir\", \"Ali\", \"Hamza\", \"Manzoor\"]"
   ]
  },
  {
   "cell_type": "code",
   "execution_count": 14,
   "id": "0ddcdc3a",
   "metadata": {},
   "outputs": [
    {
     "data": {
      "text/plain": [
       "['Qasim', 'Nasir', 'Ali', 'Hamza', 'Manzoor']"
      ]
     },
     "execution_count": 14,
     "metadata": {},
     "output_type": "execute_result"
    }
   ],
   "source": [
    "names"
   ]
  },
  {
   "cell_type": "code",
   "execution_count": null,
   "id": "7bae5918",
   "metadata": {},
   "outputs": [],
   "source": [
    "# list[start_index:end_index:sequence]"
   ]
  },
  {
   "cell_type": "code",
   "execution_count": null,
   "id": "b8b0b810",
   "metadata": {},
   "outputs": [],
   "source": []
  },
  {
   "cell_type": "code",
   "execution_count": 15,
   "id": "e607c5af",
   "metadata": {},
   "outputs": [],
   "source": [
    "# index   0        1        2      3         4\n",
    "names = [\"Qasim\", \"Nasir\", \"Ali\", \"Hamza\", \"Manzoor\"]\n",
    "# -ve index   -5        -4     -3      -2      -1"
   ]
  },
  {
   "cell_type": "code",
   "execution_count": 35,
   "id": "d3b0c57b",
   "metadata": {},
   "outputs": [
    {
     "name": "stdout",
     "output_type": "stream",
     "text": [
      "[1, 2, 3, 4, 5, 6, 7, 8, 9, 10, 11, 12, 13, 14, 15, 16, 17, 18, 19, 20]\n",
      "[8, 9, 10, 11, 12, 13, 14, 15, 16]\n",
      "[8, 9, 10, 11, 12, 13, 14, 15, 16, 17, 18, 19, 20]\n",
      "[1, 2, 3, 4, 5, 6, 7, 8, 9, 10, 11, 12, 13, 14, 15, 16]\n",
      "[8, 9, 10, 11, 12, 13, 14, 15, 16, 17, 18, 19, 20]\n",
      "[8, 10, 12, 14, 16, 18, 20]\n",
      "[1, 4, 7, 10, 13, 16, 19]\n"
     ]
    }
   ],
   "source": [
    "numbers = [1, 2, 3, 4, 5, 6, 7, 8, 9, 10, 11, 12, 13, 14, 15, 16, 17, 18, 19, 20]\n",
    "print(numbers)\n",
    "print(numbers[7:16])\n",
    "print(numbers[7:])\n",
    "print(numbers[:16])\n",
    "print(numbers[7::])\n",
    "print(numbers[7::2])\n",
    "print(numbers[::3])"
   ]
  },
  {
   "cell_type": "code",
   "execution_count": 36,
   "id": "4a57ea8f",
   "metadata": {},
   "outputs": [
    {
     "name": "stdout",
     "output_type": "stream",
     "text": [
      "[20, 17, 14, 11, 8, 5, 2]\n",
      "[1, 2, 3, 4, 5, 6, 7, 8, 9, 10]\n",
      "[]\n",
      "[20, 19, 18, 17, 16, 15, 14, 13, 12, 11, 10, 9, 8, 7, 6, 5, 4, 3, 2, 1]\n",
      "[]\n",
      "[10, 9, 8, 7, 6, 5, 4, 3, 2, 1]\n",
      "[17, 16]\n"
     ]
    }
   ],
   "source": [
    "print(numbers[::-3]) # picking elements right to left\n",
    "print(numbers[0:10:])\n",
    "print(numbers[0:10:-1]) # not picking up any value as index is L to R while seq is R to L.\n",
    "print(numbers[-1:-21:-1]) # now showing reverse data.\n",
    "print(numbers[10:20:-1])\n",
    "print(numbers[-11:-21:-1])\n",
    "print(numbers[16:14:-1])"
   ]
  },
  {
   "cell_type": "code",
   "execution_count": 39,
   "id": "ef1add2a",
   "metadata": {},
   "outputs": [
    {
     "name": "stdout",
     "output_type": "stream",
     "text": [
      "[4, 3, 2]\n",
      "[4, 3, 2]\n"
     ]
    }
   ],
   "source": [
    "print(numbers[3:0:-1])\n",
    "print(numbers[-17:-20:-1])"
   ]
  },
  {
   "cell_type": "code",
   "execution_count": null,
   "id": "c9e6712b",
   "metadata": {},
   "outputs": [],
   "source": []
  }
 ],
 "metadata": {
  "kernelspec": {
   "display_name": "Python 3 (ipykernel)",
   "language": "python",
   "name": "python3"
  },
  "language_info": {
   "codemirror_mode": {
    "name": "ipython",
    "version": 3
   },
   "file_extension": ".py",
   "mimetype": "text/x-python",
   "name": "python",
   "nbconvert_exporter": "python",
   "pygments_lexer": "ipython3",
   "version": "3.9.12"
  }
 },
 "nbformat": 4,
 "nbformat_minor": 5
}
