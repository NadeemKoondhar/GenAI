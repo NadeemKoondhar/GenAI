{
 "cells": [
  {
   "cell_type": "markdown",
   "id": "185cf0a5",
   "metadata": {},
   "source": [
    "# Chapter # 9 - If Statements"
   ]
  },
  {
   "cell_type": "code",
   "execution_count": 5,
   "id": "2aac6e26",
   "metadata": {
    "scrolled": false
   },
   "outputs": [],
   "source": [
    "if species == \"dog\":\n",
    "    print(\"Yep, it's a cat\")"
   ]
  },
  {
   "cell_type": "code",
   "execution_count": 6,
   "id": "70cd46df",
   "metadata": {},
   "outputs": [
    {
     "name": "stdout",
     "output_type": "stream",
     "text": [
      "Yep, it's a cat\n"
     ]
    }
   ],
   "source": [
    "species = \"cat\"\n",
    "if species == \"cat\":\n",
    "    print(\"Yep, it's a cat\")"
   ]
  },
  {
   "cell_type": "code",
   "execution_count": 7,
   "id": "c6bd94e0",
   "metadata": {},
   "outputs": [
    {
     "name": "stdout",
     "output_type": "stream",
     "text": [
      "Yep, it's a cat\n"
     ]
    }
   ],
   "source": [
    "if species == \"cat\":\n",
    "    status = \"ok\"\n",
    "    kingdom = \"animal\"\n",
    "    print(\"Yep, it's a cat\")"
   ]
  },
  {
   "cell_type": "code",
   "execution_count": 8,
   "id": "7d9fe8ce",
   "metadata": {},
   "outputs": [
    {
     "name": "stdout",
     "output_type": "stream",
     "text": [
      "Everything here makes the sense\n"
     ]
    }
   ],
   "source": [
    "if 2 + 2 == 4:\n",
    "    print(\"Everything here makes the sense\")"
   ]
  },
  {
   "cell_type": "code",
   "execution_count": 9,
   "id": "05852348",
   "metadata": {},
   "outputs": [
    {
     "ename": "NameError",
     "evalue": "name 'number_of_husbands' is not defined",
     "output_type": "error",
     "traceback": [
      "\u001b[1;31m---------------------------------------------------------------------------\u001b[0m",
      "\u001b[1;31mNameError\u001b[0m                                 Traceback (most recent call last)",
      "Input \u001b[1;32mIn [9]\u001b[0m, in \u001b[0;36m<cell line: 1>\u001b[1;34m()\u001b[0m\n\u001b[1;32m----> 1\u001b[0m \u001b[38;5;28;01mif\u001b[39;00m \u001b[43mnumber_of_husbands\u001b[49m \u001b[38;5;241m==\u001b[39m \u001b[38;5;241m1\u001b[39m:\n\u001b[0;32m      2\u001b[0m     \u001b[38;5;28mprint\u001b[39m(\u001b[38;5;124m\"\u001b[39m\u001b[38;5;124mSo far so good\u001b[39m\u001b[38;5;124m\"\u001b[39m)\n",
      "\u001b[1;31mNameError\u001b[0m: name 'number_of_husbands' is not defined"
     ]
    }
   ],
   "source": [
    "if number_of_husbands == 1:\n",
    "    print(\"So far so good\")"
   ]
  },
  {
   "cell_type": "code",
   "execution_count": 10,
   "id": "724be441",
   "metadata": {},
   "outputs": [
    {
     "ename": "NameError",
     "evalue": "name 'number_of_husbands' is not defined",
     "output_type": "error",
     "traceback": [
      "\u001b[1;31m---------------------------------------------------------------------------\u001b[0m",
      "\u001b[1;31mNameError\u001b[0m                                 Traceback (most recent call last)",
      "Input \u001b[1;32mIn [10]\u001b[0m, in \u001b[0;36m<cell line: 1>\u001b[1;34m()\u001b[0m\n\u001b[1;32m----> 1\u001b[0m \u001b[38;5;28;01mif\u001b[39;00m \u001b[43mnumber_of_husbands\u001b[49m \u001b[38;5;241m==\u001b[39m \u001b[38;5;241m1\u001b[39m:\n\u001b[0;32m      2\u001b[0m     \u001b[38;5;28mprint\u001b[39m(\u001b[38;5;124m\"\u001b[39m\u001b[38;5;124mSo far so good\u001b[39m\u001b[38;5;124m\"\u001b[39m)\n\u001b[0;32m      3\u001b[0m     \u001b[38;5;28mprint\u001b[39m(\u001b[38;5;124m\"\u001b[39m\u001b[38;5;124mCongratulations\u001b[39m\u001b[38;5;124m\"\u001b[39m)\n",
      "\u001b[1;31mNameError\u001b[0m: name 'number_of_husbands' is not defined"
     ]
    }
   ],
   "source": [
    "if number_of_husbands == 1:\n",
    "    print(\"So far so good\")\n",
    "    print(\"Congratulations\")\n",
    "    print(\"All Done\")"
   ]
  },
  {
   "cell_type": "code",
   "execution_count": null,
   "id": "c036e5da",
   "metadata": {},
   "outputs": [],
   "source": []
  },
  {
   "cell_type": "markdown",
   "id": "f9f92169",
   "metadata": {},
   "source": [
    "# Chapter # 10 - Comparison Operators"
   ]
  },
  {
   "cell_type": "code",
   "execution_count": null,
   "id": "b30ef853",
   "metadata": {},
   "outputs": [],
   "source": []
  },
  {
   "cell_type": "markdown",
   "id": "a69d755b",
   "metadata": {},
   "source": [
    "# Chapter # 11 - else & elif statements"
   ]
  },
  {
   "cell_type": "code",
   "execution_count": 14,
   "id": "0d7b34f3",
   "metadata": {},
   "outputs": [
    {
     "name": "stdout",
     "output_type": "stream",
     "text": [
      "Nope, it's not a cat.\n"
     ]
    }
   ],
   "source": [
    "species = \"Human\"\n",
    "if species == \"cat\":\n",
    "  print(\"Yep, it's cat.\")\n",
    "if species != \"cat\":\n",
    "  print(\"Nope, it's not a cat.\")\n"
   ]
  },
  {
   "cell_type": "code",
   "execution_count": 15,
   "id": "053a1497",
   "metadata": {},
   "outputs": [
    {
     "name": "stdout",
     "output_type": "stream",
     "text": [
      "Nope, It's not a cat 🙀\n"
     ]
    }
   ],
   "source": [
    "if species == \"cat\":\n",
    "    print(\"Yep, It's a cat 🙀\")\n",
    "else:\n",
    "    print(\"Nope, It's not a cat 🙀\")"
   ]
  },
  {
   "cell_type": "code",
   "execution_count": 29,
   "id": "fd3f469c",
   "metadata": {},
   "outputs": [
    {
     "name": "stdout",
     "output_type": "stream",
     "text": [
      "10\n"
     ]
    }
   ],
   "source": [
    "donut_condition = \"fresh\"\n",
    "\n",
    "if donut_condition == \"fresh\":\n",
    "    buy_score = 10\n",
    "    print(buy_score)\n",
    "elif donut_price == \"low\":\n",
    "    buy_score = 5\n",
    "else:\n",
    "    buy_score = 0"
   ]
  },
  {
   "cell_type": "code",
   "execution_count": 30,
   "id": "5e80dca0",
   "metadata": {},
   "outputs": [
    {
     "name": "stdout",
     "output_type": "stream",
     "text": [
      "15\n"
     ]
    }
   ],
   "source": [
    "buy_score = 0\n",
    "donut_condition = \"fresh\"\n",
    "donut_filling = \"chocolate\"\n",
    "donut_price = \"not reasonable\"\n",
    "\n",
    "if donut_condition == \"fresh\":\n",
    "    buy_score += 10\n",
    "if donut_filling == \"chocolate\":\n",
    "    buy_score += 5\n",
    "if donut_price == \"reasonable\":\n",
    "    buy_score += 7\n",
    "    \n",
    "print(buy_score)"
   ]
  },
  {
   "cell_type": "code",
   "execution_count": 31,
   "id": "a26247d0",
   "metadata": {},
   "outputs": [
    {
     "name": "stdout",
     "output_type": "stream",
     "text": [
      "22\n"
     ]
    }
   ],
   "source": [
    "buy_score = 0\n",
    "donut_condition = \"fresh\"\n",
    "donut_filling = \"chocolate\"\n",
    "donut_price = \"reasonable\"\n",
    "\n",
    "if donut_condition == \"fresh\":\n",
    "    buy_score += 10\n",
    "if donut_filling == \"chocolate\":\n",
    "    buy_score += 5\n",
    "if donut_price == \"reasonable\":\n",
    "    buy_score += 7\n",
    "    \n",
    "print(buy_score)"
   ]
  },
  {
   "cell_type": "code",
   "execution_count": 32,
   "id": "7e2c2fe0",
   "metadata": {},
   "outputs": [
    {
     "name": "stdout",
     "output_type": "stream",
     "text": [
      "12\n"
     ]
    }
   ],
   "source": [
    "buy_score = 0\n",
    "donut_condition = \"not fresh\"\n",
    "donut_filling = \"chocolate\"\n",
    "donut_price = \"reasonable\"\n",
    "\n",
    "if donut_condition == \"fresh\":\n",
    "    buy_score += 10\n",
    "if donut_filling == \"chocolate\":\n",
    "    buy_score += 5\n",
    "if donut_price == \"reasonable\":\n",
    "    buy_score += 7\n",
    "    \n",
    "print(buy_score)"
   ]
  },
  {
   "cell_type": "code",
   "execution_count": null,
   "id": "7684f4b6",
   "metadata": {},
   "outputs": [],
   "source": []
  },
  {
   "cell_type": "markdown",
   "id": "e21801d1",
   "metadata": {},
   "source": [
    "# 12 - Testing Sets of Conditions"
   ]
  },
  {
   "cell_type": "code",
   "execution_count": 33,
   "id": "d1eff367",
   "metadata": {},
   "outputs": [
    {
     "ename": "NameError",
     "evalue": "name 'first_name' is not defined",
     "output_type": "error",
     "traceback": [
      "\u001b[1;31m---------------------------------------------------------------------------\u001b[0m",
      "\u001b[1;31mNameError\u001b[0m                                 Traceback (most recent call last)",
      "Input \u001b[1;32mIn [33]\u001b[0m, in \u001b[0;36m<cell line: 1>\u001b[1;34m()\u001b[0m\n\u001b[1;32m----> 1\u001b[0m \u001b[38;5;28;01mif\u001b[39;00m \u001b[43mfirst_name\u001b[49m \u001b[38;5;241m==\u001b[39m \u001b[38;5;124m\"\u001b[39m\u001b[38;5;124mIsaac\u001b[39m\u001b[38;5;124m\"\u001b[39m \u001b[38;5;129;01mand\u001b[39;00m last_name \u001b[38;5;241m==\u001b[39m \u001b[38;5;124m\"\u001b[39m\u001b[38;5;124mNewton\u001b[39m\u001b[38;5;124m\"\u001b[39m:\n\u001b[0;32m      2\u001b[0m   \u001b[38;5;28mprint\u001b[39m(\u001b[38;5;124m\"\u001b[39m\u001b[38;5;124mThanks!\u001b[39m\u001b[38;5;124m\"\u001b[39m)\n",
      "\u001b[1;31mNameError\u001b[0m: name 'first_name' is not defined"
     ]
    }
   ],
   "source": [
    "if first_name == \"Isaac\" and last_name == \"Newton\":\n",
    "  print(\"Thanks!\")"
   ]
  },
  {
   "cell_type": "code",
   "execution_count": null,
   "id": "7f5909a9",
   "metadata": {},
   "outputs": [],
   "source": []
  },
  {
   "cell_type": "markdown",
   "id": "0d70a5e8",
   "metadata": {},
   "source": [
    "# 14 - Comments"
   ]
  },
  {
   "cell_type": "code",
   "execution_count": null,
   "id": "f29fa470",
   "metadata": {},
   "outputs": [],
   "source": []
  },
  {
   "cell_type": "markdown",
   "id": "308279e7",
   "metadata": {},
   "source": [
    "# 15 - Lists"
   ]
  },
  {
   "cell_type": "code",
   "execution_count": 35,
   "id": "8b328444",
   "metadata": {},
   "outputs": [
    {
     "name": "stdout",
     "output_type": "stream",
     "text": [
      "Welcome to Atlanta\n"
     ]
    }
   ],
   "source": [
    "city_0 = \"Atlanta\"\n",
    "city_1 = \"Baltimore\"\n",
    "city_2 = \"Chicago\"\n",
    "city_3 = \"Denver\"\n",
    "city_4 = \"Los Angeles\"\n",
    "city_5 = \"Seattle\"\n",
    "\n",
    "print(\"Welcome to \" + city_0)"
   ]
  },
  {
   "cell_type": "code",
   "execution_count": 37,
   "id": "b2ade64a",
   "metadata": {},
   "outputs": [
    {
     "name": "stdout",
     "output_type": "stream",
     "text": [
      "Welcome to Denver\n"
     ]
    }
   ],
   "source": [
    "city_0 = \"Atlanta\"\n",
    "city_1 = \"Baltimore\"\n",
    "city_2 = \"Chicago\"\n",
    "city_3 = \"Denver\"\n",
    "city_4 = \"Los Angeles\"\n",
    "city_5 = \"Seattle\"\n",
    "\n",
    "print(\"Welcome to \" + city_3)"
   ]
  },
  {
   "cell_type": "code",
   "execution_count": 42,
   "id": "8d9628d8",
   "metadata": {},
   "outputs": [
    {
     "name": "stdout",
     "output_type": "stream",
     "text": [
      "Welcome to Denver\n"
     ]
    }
   ],
   "source": [
    "cities = [\"Atlanta\", \"Baltimore\", \"Chicago\", \"Denver\", \"Los Angeles\", \"Seattle\"]\n",
    "\n",
    "print(\"Welcome to \" + cities[3])"
   ]
  },
  {
   "cell_type": "code",
   "execution_count": null,
   "id": "1d77af00",
   "metadata": {},
   "outputs": [],
   "source": []
  },
  {
   "cell_type": "markdown",
   "id": "307b4821",
   "metadata": {},
   "source": [
    "# 16 - Lists: Adding and changing elements"
   ]
  },
  {
   "cell_type": "code",
   "execution_count": 43,
   "id": "4ae00986",
   "metadata": {},
   "outputs": [],
   "source": [
    "cities = [\"Atlanta\", \"Baltimore\", \"Chicago\", \"Denver\", \"Los Angeles\", \"Seattle\"]"
   ]
  },
  {
   "cell_type": "code",
   "execution_count": 44,
   "id": "f3699406",
   "metadata": {},
   "outputs": [],
   "source": [
    "cities.append(\"New York\")"
   ]
  },
  {
   "cell_type": "code",
   "execution_count": 46,
   "id": "d0f20017",
   "metadata": {},
   "outputs": [
    {
     "name": "stdout",
     "output_type": "stream",
     "text": [
      "['Atlanta', 'Baltimore', 'Chicago', 'Denver', 'Los Angeles', 'Seattle', 'New York']\n"
     ]
    }
   ],
   "source": [
    "print(cities)"
   ]
  },
  {
   "cell_type": "code",
   "execution_count": 51,
   "id": "6f213926",
   "metadata": {},
   "outputs": [],
   "source": [
    "cities.append(47)"
   ]
  },
  {
   "cell_type": "code",
   "execution_count": 53,
   "id": "c14304b8",
   "metadata": {},
   "outputs": [
    {
     "name": "stdout",
     "output_type": "stream",
     "text": [
      "['Atlanta', 'Baltimore', 'Chicago', 'Denver', 'Los Angeles', 'Seattle', 'New York', 47, 47, 47, 47]\n"
     ]
    }
   ],
   "source": [
    "print(cities)"
   ]
  },
  {
   "cell_type": "code",
   "execution_count": 54,
   "id": "0f2d1b08",
   "metadata": {},
   "outputs": [],
   "source": [
    "cities = [\"Atlanta\", \"Baltimore\", \"Chicago\", \"Denver\", \"Los Angeles\", \"Seattle\"]"
   ]
  },
  {
   "cell_type": "code",
   "execution_count": 55,
   "id": "ae50af35",
   "metadata": {},
   "outputs": [],
   "source": [
    "longer_list_of_cities = cities + [\"Dubuque\", \"New Orleans\"]"
   ]
  },
  {
   "cell_type": "code",
   "execution_count": 56,
   "id": "866d8396",
   "metadata": {},
   "outputs": [
    {
     "name": "stdout",
     "output_type": "stream",
     "text": [
      "['Atlanta', 'Baltimore', 'Chicago', 'Denver', 'Los Angeles', 'Seattle', 'Dubuque', 'New Orleans']\n"
     ]
    }
   ],
   "source": [
    "print(longer_list_of_cities)"
   ]
  },
  {
   "cell_type": "code",
   "execution_count": 57,
   "id": "4fde604b",
   "metadata": {},
   "outputs": [],
   "source": [
    "todays_tasks = []"
   ]
  },
  {
   "cell_type": "code",
   "execution_count": 58,
   "id": "f8f5f867",
   "metadata": {},
   "outputs": [
    {
     "name": "stdout",
     "output_type": "stream",
     "text": [
      "[]\n"
     ]
    }
   ],
   "source": [
    "print(todays_tasks)"
   ]
  },
  {
   "cell_type": "code",
   "execution_count": 59,
   "id": "9ed58f5d",
   "metadata": {},
   "outputs": [],
   "source": [
    "todays_tasks = todays_tasks + [\"Walk Dogs\", \"Buy Grocery\", \"Offer Juma\"]"
   ]
  },
  {
   "cell_type": "code",
   "execution_count": 60,
   "id": "eac7ace8",
   "metadata": {},
   "outputs": [
    {
     "name": "stdout",
     "output_type": "stream",
     "text": [
      "['Walk Dogs', 'Buy Grocery', 'Offer Juma']\n"
     ]
    }
   ],
   "source": [
    "print(todays_tasks)"
   ]
  },
  {
   "cell_type": "code",
   "execution_count": 1,
   "id": "9d20b4c8",
   "metadata": {},
   "outputs": [],
   "source": [
    "cities = [\"Atlanta\", \"Baltimore\", \"Chicago\", \"Denver\", \"Los Angeles\", \"Seattle\"]"
   ]
  },
  {
   "cell_type": "code",
   "execution_count": 3,
   "id": "e5ae9370",
   "metadata": {},
   "outputs": [
    {
     "name": "stdout",
     "output_type": "stream",
     "text": [
      "['Atlanta', 'Baltimore', 'Chicago', 'Denver', 'Los Angeles', 'Seattle']\n"
     ]
    }
   ],
   "source": [
    "print(cities)"
   ]
  },
  {
   "cell_type": "code",
   "execution_count": 4,
   "id": "556a06a3",
   "metadata": {},
   "outputs": [],
   "source": [
    "cities.insert(0, \"New York\")"
   ]
  },
  {
   "cell_type": "code",
   "execution_count": 5,
   "id": "1677ed6e",
   "metadata": {},
   "outputs": [
    {
     "name": "stdout",
     "output_type": "stream",
     "text": [
      "['New York', 'Atlanta', 'Baltimore', 'Chicago', 'Denver', 'Los Angeles', 'Seattle']\n"
     ]
    }
   ],
   "source": [
    "print(cities)"
   ]
  },
  {
   "cell_type": "code",
   "execution_count": 6,
   "id": "fab55f97",
   "metadata": {},
   "outputs": [],
   "source": [
    "cities.insert(2, \"Dallas\")"
   ]
  },
  {
   "cell_type": "code",
   "execution_count": 7,
   "id": "4c779ea1",
   "metadata": {},
   "outputs": [
    {
     "name": "stdout",
     "output_type": "stream",
     "text": [
      "['New York', 'Atlanta', 'Dallas', 'Baltimore', 'Chicago', 'Denver', 'Los Angeles', 'Seattle']\n"
     ]
    }
   ],
   "source": [
    "print(cities)"
   ]
  },
  {
   "cell_type": "code",
   "execution_count": 9,
   "id": "949a8e47",
   "metadata": {},
   "outputs": [],
   "source": [
    "cities[2] = \"Houston\""
   ]
  },
  {
   "cell_type": "code",
   "execution_count": 10,
   "id": "7ed22e16",
   "metadata": {},
   "outputs": [
    {
     "name": "stdout",
     "output_type": "stream",
     "text": [
      "['New York', 'Atlanta', 'Houston', 'Baltimore', 'Chicago', 'Denver', 'Los Angeles', 'Seattle']\n"
     ]
    }
   ],
   "source": [
    "print(cities)"
   ]
  },
  {
   "cell_type": "code",
   "execution_count": 11,
   "id": "f8431496",
   "metadata": {},
   "outputs": [],
   "source": [
    "cities = [\"Atlanta\", \"Baltimore\", \"Chicago\", \"Denver\", \"Los Angeles\", \"Seattle\"]"
   ]
  },
  {
   "cell_type": "code",
   "execution_count": 12,
   "id": "910513d1",
   "metadata": {},
   "outputs": [
    {
     "name": "stdout",
     "output_type": "stream",
     "text": [
      "['Atlanta', 'Baltimore', 'Chicago', 'Denver', 'Los Angeles', 'Seattle']\n"
     ]
    }
   ],
   "source": [
    "print(cities)"
   ]
  },
  {
   "cell_type": "code",
   "execution_count": 13,
   "id": "2beeb2da",
   "metadata": {},
   "outputs": [],
   "source": [
    "smaller_list_of_cities = cities[2:5]"
   ]
  },
  {
   "cell_type": "code",
   "execution_count": 14,
   "id": "09957cdd",
   "metadata": {},
   "outputs": [
    {
     "name": "stdout",
     "output_type": "stream",
     "text": [
      "['Chicago', 'Denver', 'Los Angeles']\n"
     ]
    }
   ],
   "source": [
    "print(smaller_list_of_cities)"
   ]
  },
  {
   "cell_type": "code",
   "execution_count": 15,
   "id": "db02fe73",
   "metadata": {},
   "outputs": [],
   "source": [
    "smaller_list_of_cities = cities[:5]"
   ]
  },
  {
   "cell_type": "code",
   "execution_count": 16,
   "id": "a28ca459",
   "metadata": {},
   "outputs": [
    {
     "name": "stdout",
     "output_type": "stream",
     "text": [
      "['Atlanta', 'Baltimore', 'Chicago', 'Denver', 'Los Angeles']\n"
     ]
    }
   ],
   "source": [
    "print(smaller_list_of_cities)"
   ]
  },
  {
   "cell_type": "code",
   "execution_count": 17,
   "id": "5414e5fb",
   "metadata": {},
   "outputs": [],
   "source": [
    "smaller_list_of_cities = cities[2:]"
   ]
  },
  {
   "cell_type": "code",
   "execution_count": 18,
   "id": "0f962bed",
   "metadata": {},
   "outputs": [
    {
     "name": "stdout",
     "output_type": "stream",
     "text": [
      "['Chicago', 'Denver', 'Los Angeles', 'Seattle']\n"
     ]
    }
   ],
   "source": [
    "print(smaller_list_of_cities)"
   ]
  },
  {
   "cell_type": "code",
   "execution_count": 20,
   "id": "59b0046d",
   "metadata": {},
   "outputs": [],
   "source": [
    "smaller_list_of_cities = cities[:]"
   ]
  },
  {
   "cell_type": "code",
   "execution_count": 21,
   "id": "fced822f",
   "metadata": {},
   "outputs": [
    {
     "name": "stdout",
     "output_type": "stream",
     "text": [
      "['Atlanta', 'Baltimore', 'Chicago', 'Denver', 'Los Angeles', 'Seattle']\n"
     ]
    }
   ],
   "source": [
    "print(smaller_list_of_cities)"
   ]
  },
  {
   "cell_type": "code",
   "execution_count": 23,
   "id": "2fa0d5b1",
   "metadata": {},
   "outputs": [],
   "source": [
    "tasks = [\"email Frank\", \"call Sarah\", \"meet with Zach\"]"
   ]
  },
  {
   "cell_type": "code",
   "execution_count": 24,
   "id": "567223b7",
   "metadata": {},
   "outputs": [],
   "source": [
    "del tasks[0]"
   ]
  },
  {
   "cell_type": "code",
   "execution_count": 25,
   "id": "28c3bba1",
   "metadata": {},
   "outputs": [
    {
     "name": "stdout",
     "output_type": "stream",
     "text": [
      "['call Sarah', 'meet with Zach']\n"
     ]
    }
   ],
   "source": [
    "print(tasks)"
   ]
  },
  {
   "cell_type": "code",
   "execution_count": 26,
   "id": "69cc2c4e",
   "metadata": {},
   "outputs": [],
   "source": [
    "tasks = [\"email Frank\", \"call Sarah\", \"meet with Zach\"]"
   ]
  },
  {
   "cell_type": "code",
   "execution_count": 27,
   "id": "26269022",
   "metadata": {},
   "outputs": [],
   "source": [
    "del tasks[1]"
   ]
  },
  {
   "cell_type": "code",
   "execution_count": 28,
   "id": "2ebe7fc0",
   "metadata": {},
   "outputs": [
    {
     "name": "stdout",
     "output_type": "stream",
     "text": [
      "['email Frank', 'meet with Zach']\n"
     ]
    }
   ],
   "source": [
    "print(tasks)"
   ]
  },
  {
   "cell_type": "code",
   "execution_count": 29,
   "id": "336ee94b",
   "metadata": {},
   "outputs": [],
   "source": [
    "tasks = [\"email Frank\", \"call Sarah\", \"meet with Zach\"]"
   ]
  },
  {
   "cell_type": "code",
   "execution_count": 30,
   "id": "b2de88a9",
   "metadata": {},
   "outputs": [],
   "source": [
    "tasks.remove(\"call Sarah\")"
   ]
  },
  {
   "cell_type": "code",
   "execution_count": 31,
   "id": "b64dae4d",
   "metadata": {},
   "outputs": [
    {
     "name": "stdout",
     "output_type": "stream",
     "text": [
      "['email Frank', 'meet with Zach']\n"
     ]
    }
   ],
   "source": [
    "print(tasks)"
   ]
  },
  {
   "cell_type": "code",
   "execution_count": 32,
   "id": "4722f538",
   "metadata": {},
   "outputs": [],
   "source": [
    "tasks = [\"email Frank\", \"call Sarah\", \"meet with Zach\"]"
   ]
  },
  {
   "cell_type": "code",
   "execution_count": 33,
   "id": "9b55fd4d",
   "metadata": {},
   "outputs": [],
   "source": [
    "latest_tasks_accomplished = tasks.pop(1)"
   ]
  },
  {
   "cell_type": "code",
   "execution_count": 35,
   "id": "2cd45b5b",
   "metadata": {},
   "outputs": [
    {
     "name": "stdout",
     "output_type": "stream",
     "text": [
      "['email Frank', 'meet with Zach']\n",
      "call Sarah\n"
     ]
    }
   ],
   "source": [
    "print(tasks)\n",
    "print(latest_tasks_accomplished)"
   ]
  },
  {
   "cell_type": "code",
   "execution_count": 38,
   "id": "763b6182",
   "metadata": {},
   "outputs": [],
   "source": [
    "tasks_accomplished.append(latest_tasks_accomplished)"
   ]
  },
  {
   "cell_type": "code",
   "execution_count": 39,
   "id": "d2334fa1",
   "metadata": {},
   "outputs": [
    {
     "name": "stdout",
     "output_type": "stream",
     "text": [
      "['call Sarah']\n"
     ]
    }
   ],
   "source": [
    "print(tasks_accomplished)"
   ]
  },
  {
   "cell_type": "code",
   "execution_count": 40,
   "id": "7dcf797f",
   "metadata": {},
   "outputs": [
    {
     "name": "stdout",
     "output_type": "stream",
     "text": [
      "['call Sarah', 'meet with Zach']\n"
     ]
    }
   ],
   "source": [
    "tasks_accomplished.append(tasks.pop(1))\n",
    "print(tasks_accomplished)"
   ]
  },
  {
   "cell_type": "code",
   "execution_count": 42,
   "id": "1c652eb2",
   "metadata": {},
   "outputs": [
    {
     "name": "stdout",
     "output_type": "stream",
     "text": [
      "[]\n",
      "['call Sarah', 'meet with Zach', 'email Frank']\n"
     ]
    }
   ],
   "source": [
    "tasks_accomplished.append(tasks.pop())\n",
    "print(tasks)\n",
    "print(tasks_accomplished)"
   ]
  },
  {
   "cell_type": "code",
   "execution_count": 43,
   "id": "080caf10",
   "metadata": {},
   "outputs": [],
   "source": [
    "tasks = [\"email Frank\", \"call Sarah\", \"meet with Zach\"]"
   ]
  },
  {
   "cell_type": "code",
   "execution_count": 44,
   "id": "727c9df0",
   "metadata": {},
   "outputs": [
    {
     "name": "stdout",
     "output_type": "stream",
     "text": [
      "['email Frank', 'call Sarah']\n",
      "['call Sarah', 'meet with Zach', 'email Frank', 'meet with Zach']\n"
     ]
    }
   ],
   "source": [
    "tasks_accomplished.append(tasks.pop())\n",
    "print(tasks)\n",
    "print(tasks_accomplished)"
   ]
  },
  {
   "cell_type": "code",
   "execution_count": 45,
   "id": "d92743e5",
   "metadata": {},
   "outputs": [
    {
     "name": "stdout",
     "output_type": "stream",
     "text": [
      "['email Frank']\n",
      "['call Sarah', 'meet with Zach', 'email Frank', 'meet with Zach', 'call Sarah']\n"
     ]
    }
   ],
   "source": [
    "tasks_accomplished.append(tasks.pop())\n",
    "print(tasks)\n",
    "print(tasks_accomplished)"
   ]
  },
  {
   "cell_type": "code",
   "execution_count": 46,
   "id": "4fcc8d19",
   "metadata": {},
   "outputs": [
    {
     "name": "stdout",
     "output_type": "stream",
     "text": [
      "[]\n",
      "['call Sarah', 'meet with Zach', 'email Frank', 'meet with Zach', 'call Sarah', 'email Frank']\n"
     ]
    }
   ],
   "source": [
    "tasks_accomplished.append(tasks.pop())\n",
    "print(tasks)\n",
    "print(tasks_accomplished)"
   ]
  },
  {
   "cell_type": "code",
   "execution_count": 1,
   "id": "5957e70a",
   "metadata": {},
   "outputs": [],
   "source": [
    "states_in_order_of_founding = (\"Delaware\", \"Pennsylvania\", \"New Jersey\", \"Georgia\")"
   ]
  },
  {
   "cell_type": "code",
   "execution_count": 7,
   "id": "7644d4c9",
   "metadata": {},
   "outputs": [
    {
     "name": "stdout",
     "output_type": "stream",
     "text": [
      "The second state founded was Pennsylvania\n"
     ]
    }
   ],
   "source": [
    "second_state_founded = states_in_order_of_founding[1]\n",
    "print(\"The second state founded was \" + second_state_founded)"
   ]
  },
  {
   "cell_type": "markdown",
   "id": "4f119d0c",
   "metadata": {},
   "source": [
    "# Chapter 21: For Loops"
   ]
  },
  {
   "cell_type": "code",
   "execution_count": 6,
   "id": "e0d0da65",
   "metadata": {},
   "outputs": [],
   "source": [
    "city_to_check = \"Tucson\""
   ]
  },
  {
   "cell_type": "code",
   "execution_count": 9,
   "id": "e7f60611",
   "metadata": {},
   "outputs": [],
   "source": [
    "cleanest_cities = [\"Cheyenne\", \"Santa Fe\", \"Tucson\", \"Great Falls\", \"Honolulu\"]"
   ]
  },
  {
   "cell_type": "code",
   "execution_count": 10,
   "id": "c53f651c",
   "metadata": {},
   "outputs": [
    {
     "name": "stdout",
     "output_type": "stream",
     "text": [
      "It's one of the cleanest cities\n"
     ]
    }
   ],
   "source": [
    "if city_to_check == cleanest_cities[0]:\n",
    "    print(\"It's one of the cleanest cities\")\n",
    "elif city_to_check == cleanest_cities[1]:\n",
    "    print(\"It's one of the cleanest cities\")\n",
    "elif city_to_check == cleanest_cities[2]:\n",
    "    print(\"It's one of the cleanest cities\")\n",
    "elif city_to_check == cleanest_cities[3]:\n",
    "    print(\"It's one of the cleanest cities\")\n",
    "elif city_to_check == cleanest_cities[4]:\n",
    "    print(\"It's one of the cleanest cities\")"
   ]
  },
  {
   "cell_type": "code",
   "execution_count": 18,
   "id": "b9fc468d",
   "metadata": {},
   "outputs": [
    {
     "name": "stdout",
     "output_type": "stream",
     "text": [
      "Yes, it is one of the cleanest cities\n"
     ]
    }
   ],
   "source": [
    "for a_clean_city in cleanest_cities:\n",
    "    if a_clean_city == city_to_check:\n",
    "        print(\"Yes, it is one of the cleanest cities\")"
   ]
  },
  {
   "cell_type": "code",
   "execution_count": 19,
   "id": "7e663d10",
   "metadata": {},
   "outputs": [
    {
     "name": "stdout",
     "output_type": "stream",
     "text": [
      "Yes, it is one of the cleanest cities\n"
     ]
    }
   ],
   "source": [
    "for a_clean_city in cleanest_cities:\n",
    "    if a_clean_city == city_to_check:\n",
    "        print(\"Yes, it is one of the cleanest cities\")\n",
    "        break"
   ]
  },
  {
   "cell_type": "code",
   "execution_count": 20,
   "id": "877282e1",
   "metadata": {},
   "outputs": [
    {
     "name": "stdout",
     "output_type": "stream",
     "text": [
      "['BlueRay Zzz', 'BlueRay Burp', 'BlueRay Dogbone', 'BlueRay Droop', 'Upchuck Zzz', 'Upchuck Burp', 'Upchuck Dogbone', 'Upchuck Droop', 'Lojack Zzz', 'Lojack Burp', 'Lojack Dogbone', 'Lojack Droop', 'Gizmo Zzz', 'Gizmo Burp', 'Gizmo Dogbone', 'Gizmo Droop', 'Do-Rag Zzz', 'Do-Rag Burp', 'Do-Rag Dogbone', 'Do-Rag Droop']\n"
     ]
    }
   ],
   "source": [
    "first_names = [\"BlueRay\", \"Upchuck\", \"Lojack\", \"Gizmo\", \"Do-Rag\"]\n",
    "last_names = [\"Zzz\", \"Burp\", \"Dogbone\", \"Droop\"]\n",
    "full_names = []\n",
    "\n",
    "for a_first_name in first_names:\n",
    "    for a_last_name in last_names:\n",
    "        full_names.append(a_first_name + \" \" + a_last_name)\n",
    "print(full_names)"
   ]
  },
  {
   "cell_type": "code",
   "execution_count": 21,
   "id": "07aa2f34",
   "metadata": {},
   "outputs": [
    {
     "name": "stdout",
     "output_type": "stream",
     "text": [
      "['Zzz BlueRay', 'Zzz Upchuck', 'Zzz Lojack', 'Zzz Gizmo', 'Zzz Do-Rag', 'Burp BlueRay', 'Burp Upchuck', 'Burp Lojack', 'Burp Gizmo', 'Burp Do-Rag', 'Dogbone BlueRay', 'Dogbone Upchuck', 'Dogbone Lojack', 'Dogbone Gizmo', 'Dogbone Do-Rag', 'Droop BlueRay', 'Droop Upchuck', 'Droop Lojack', 'Droop Gizmo', 'Droop Do-Rag']\n"
     ]
    }
   ],
   "source": [
    "first_names = [\"BlueRay\", \"Upchuck\", \"Lojack\", \"Gizmo\", \"Do-Rag\"]\n",
    "last_names = [\"Zzz\", \"Burp\", \"Dogbone\", \"Droop\"]\n",
    "full_names = []\n",
    "\n",
    "for a_last_name in last_names:\n",
    "    for a_first_name in first_names:\n",
    "        full_names.append(a_last_name + \" \" + a_first_name)\n",
    "print(full_names)"
   ]
  },
  {
   "cell_type": "code",
   "execution_count": 23,
   "id": "428ddd3a",
   "metadata": {},
   "outputs": [
    {
     "name": "stdout",
     "output_type": "stream",
     "text": [
      "It's a match.\n"
     ]
    }
   ],
   "source": [
    "chosen_letter = \"b\"\n",
    "letter_list = [\"a\", \"b\", \"c\", \"d\", \"e\", \"f\"]\n",
    "for a_letter in letter_list:\n",
    "  if a_letter == chosen_letter:\n",
    "    print(\"It's a match.\")\n",
    "    break"
   ]
  },
  {
   "cell_type": "markdown",
   "id": "b7340bd9",
   "metadata": {},
   "source": [
    "# 24 Changing case"
   ]
  },
  {
   "cell_type": "code",
   "execution_count": 27,
   "id": "cf27c153",
   "metadata": {},
   "outputs": [
    {
     "name": "stdout",
     "output_type": "stream",
     "text": [
      "Enter your city Name: SantA fE\n",
      "Yes! Santa Fe is one of the top 5 cleanest cities in USA\n"
     ]
    }
   ],
   "source": [
    "city_to_check = input(\"Enter your city Name: \")\n",
    "city_to_check = city_to_check.lower()\n",
    "cleanest_cities =  [\"cheyenne\", \"santa fe\", \"tucson\", \"great falls\", \"honolulu\"]\n",
    "\n",
    "for a_clean_city in cleanest_cities:\n",
    "    if  city_to_check == a_clean_city:\n",
    "        print(\"Yes! \" + city_to_check.title() + \" is one of the top 5 cleanest cities in USA\")"
   ]
  },
  {
   "cell_type": "code",
   "execution_count": 30,
   "id": "ab951aee",
   "metadata": {},
   "outputs": [
    {
     "name": "stdout",
     "output_type": "stream",
     "text": [
      "['dog', 'cat', 'fish', 'bunny']\n"
     ]
    }
   ],
   "source": [
    "hoppers = [\"rabbit\", \"hare\", \"bunny\", \"cottontail\"]\n",
    "pets = [\"dog\", \"cat\", \"fish\"]\n",
    "pets.append(hoppers.pop(2))\n",
    "print(pets)"
   ]
  },
  {
   "cell_type": "code",
   "execution_count": null,
   "id": "0868eec4",
   "metadata": {},
   "outputs": [],
   "source": []
  },
  {
   "cell_type": "markdown",
   "id": "78a49a40",
   "metadata": {},
   "source": [
    "# 26 Dictionaries: How to code one"
   ]
  },
  {
   "cell_type": "code",
   "execution_count": 32,
   "id": "9f885b97",
   "metadata": {},
   "outputs": [],
   "source": [
    "customer_29876 = {\"first name\": \"David\", \"last name\": \"Elliott\", \"address\": \"4803 Wellesley St.\"}"
   ]
  },
  {
   "cell_type": "code",
   "execution_count": 33,
   "id": "b15802db",
   "metadata": {},
   "outputs": [
    {
     "name": "stdout",
     "output_type": "stream",
     "text": [
      "{'first name': 'David', 'last name': 'Elliott', 'address': '4803 Wellesley St.'}\n"
     ]
    }
   ],
   "source": [
    "print(customer_29876)"
   ]
  },
  {
   "cell_type": "code",
   "execution_count": 37,
   "id": "6ea152c6",
   "metadata": {},
   "outputs": [
    {
     "name": "stdout",
     "output_type": "stream",
     "text": [
      "{'first name': 'David', 'last name': 'Elliott', 'address': '4803 Wellesley St.'}\n"
     ]
    }
   ],
   "source": [
    "print(customer_29876)"
   ]
  },
  {
   "cell_type": "code",
   "execution_count": null,
   "id": "4d567867",
   "metadata": {},
   "outputs": [],
   "source": []
  },
  {
   "cell_type": "markdown",
   "id": "29f4456e",
   "metadata": {},
   "source": [
    "# 27 Dictionaries: How to pick information out of them"
   ]
  },
  {
   "cell_type": "code",
   "execution_count": 40,
   "id": "6678f53f",
   "metadata": {},
   "outputs": [
    {
     "name": "stdout",
     "output_type": "stream",
     "text": [
      "The customer address is 4803 Wellesley St.\n"
     ]
    }
   ],
   "source": [
    "customer_address = customer_29876[\"address\"]\n",
    "print(\"The customer address is \" + customer_address)"
   ]
  },
  {
   "cell_type": "code",
   "execution_count": null,
   "id": "9e6a53a1",
   "metadata": {},
   "outputs": [],
   "source": []
  },
  {
   "cell_type": "markdown",
   "id": "4a80b6df",
   "metadata": {},
   "source": [
    "# 28 Dictionaries: The versatility of keys and values"
   ]
  },
  {
   "cell_type": "code",
   "execution_count": null,
   "id": "795ebcbe",
   "metadata": {},
   "outputs": [],
   "source": []
  },
  {
   "cell_type": "markdown",
   "id": "5439da56",
   "metadata": {},
   "source": [
    "# 29 Dictionaries: Adding items"
   ]
  },
  {
   "cell_type": "code",
   "execution_count": 3,
   "id": "d6778108",
   "metadata": {},
   "outputs": [],
   "source": [
    "# to pick something out of a dictionary, You begin with the name of the dictionary, then you write the \n",
    "# key, enclosed in square brackets"
   ]
  },
  {
   "cell_type": "code",
   "execution_count": 4,
   "id": "a988c142",
   "metadata": {},
   "outputs": [
    {
     "name": "stdout",
     "output_type": "stream",
     "text": [
      "{'first name': 'David', 'last name': 'Elliott', 'address': '4803 Wellesley St.'}\n"
     ]
    }
   ],
   "source": [
    "customer_29876 = {\n",
    "    \"first name\": \"David\",\n",
    "    \"last name\": \"Elliott\",\n",
    "    \"address\": \"4803 Wellesley St.\",\n",
    "}\n",
    "print(customer_29876)"
   ]
  },
  {
   "cell_type": "code",
   "execution_count": 5,
   "id": "b042f997",
   "metadata": {},
   "outputs": [
    {
     "name": "stdout",
     "output_type": "stream",
     "text": [
      "{'first name': 'David', 'last name': 'Elliott', 'address': '4803 Wellesley St.', 'city': 'Toronto'}\n"
     ]
    }
   ],
   "source": [
    "customer_29876[\"city\"] = \"Toronto\"\n",
    "print(customer_29876)"
   ]
  },
  {
   "cell_type": "code",
   "execution_count": 6,
   "id": "f66e529f",
   "metadata": {},
   "outputs": [
    {
     "name": "stdout",
     "output_type": "stream",
     "text": [
      "{0: 'the lowest number', 'a dozen': 12, 'snake eyes': 'a pair of ones', 13: \"a baker's dozen\"}\n"
     ]
    }
   ],
   "source": [
    "things_to_remember = {\n",
    "    0: \"the lowest number\",\n",
    "    \"a dozen\": 12,\n",
    "    \"snake eyes\": \"a pair of ones\",\n",
    "    13: \"a baker's dozen\",\n",
    "}\n",
    "\n",
    "print(things_to_remember)"
   ]
  },
  {
   "cell_type": "code",
   "execution_count": 9,
   "id": "8bdb72bd",
   "metadata": {},
   "outputs": [
    {
     "name": "stdout",
     "output_type": "stream",
     "text": [
      "{}\n"
     ]
    }
   ],
   "source": [
    "things_to_remember = {}\n",
    "\n",
    "print(things_to_remember)"
   ]
  },
  {
   "cell_type": "code",
   "execution_count": 10,
   "id": "fbff3c4a",
   "metadata": {},
   "outputs": [
    {
     "name": "stdout",
     "output_type": "stream",
     "text": [
      "{0: 'the lowest number', 'a dozen': 12, 'snake eyes': 'a pair of ones', 13: \"a baker's dozen\"}\n"
     ]
    }
   ],
   "source": [
    "things_to_remember[0] = \"the lowest number\"\n",
    "things_to_remember[\"a dozen\"] = 12\n",
    "things_to_remember[\"snake eyes\"] = \"a pair of ones\"\n",
    "things_to_remember[13] = \"a baker's dozen\"\n",
    "\n",
    "print(things_to_remember)"
   ]
  },
  {
   "cell_type": "code",
   "execution_count": null,
   "id": "3b233f1c",
   "metadata": {},
   "outputs": [],
   "source": []
  },
  {
   "cell_type": "markdown",
   "id": "71ae3b45",
   "metadata": {},
   "source": [
    "# 30 Dictionaries: Removing and changing items"
   ]
  },
  {
   "cell_type": "code",
   "execution_count": 13,
   "id": "d9fd0f83",
   "metadata": {},
   "outputs": [],
   "source": [
    "# It is similar in list and dictionary, in list we use index number for the purpose and in dictionary we use the key.\n",
    "# del function and memory recall functions are used."
   ]
  },
  {
   "cell_type": "code",
   "execution_count": null,
   "id": "963ce730",
   "metadata": {},
   "outputs": [],
   "source": []
  },
  {
   "cell_type": "markdown",
   "id": "17d3f138",
   "metadata": {},
   "source": [
    "# 31 Dictionaries: Looping through values"
   ]
  },
  {
   "cell_type": "code",
   "execution_count": 15,
   "id": "1f932b88",
   "metadata": {},
   "outputs": [
    {
     "name": "stdout",
     "output_type": "stream",
     "text": [
      "David\n",
      "Elliott\n",
      "4803 Wellesley St.\n"
     ]
    }
   ],
   "source": [
    "print(customer_29876[\"first name\"])\n",
    "print(customer_29876[\"last name\"])\n",
    "print(customer_29876[\"address\"])"
   ]
  },
  {
   "cell_type": "code",
   "execution_count": 19,
   "id": "e5621bef",
   "metadata": {},
   "outputs": [
    {
     "name": "stdout",
     "output_type": "stream",
     "text": [
      "David\n",
      "Elliott\n",
      "4803 Wellesley St.\n",
      "Toronto\n",
      "{'first name': 'David', 'last name': 'Elliott', 'address': '4803 Wellesley St.', 'city': 'Toronto'}\n",
      "first name\n",
      "last name\n",
      "address\n",
      "city\n"
     ]
    }
   ],
   "source": [
    "for each_value in customer_29876.values():\n",
    "    print(each_value)\n",
    "print(customer_29876)\n",
    "for each_key in customer_29876.keys():\n",
    "    print(each_key)"
   ]
  },
  {
   "cell_type": "markdown",
   "id": "a1c47972",
   "metadata": {},
   "source": [
    "# 32 Dictionaries: Looping through keys"
   ]
  },
  {
   "cell_type": "code",
   "execution_count": 22,
   "id": "7b3e94b9",
   "metadata": {},
   "outputs": [
    {
     "name": "stdout",
     "output_type": "stream",
     "text": [
      "{'first name': 'Toronto', 'last name': 'Toronto', 'address': 'Toronto', 'city': 'Toronto'}\n"
     ]
    }
   ],
   "source": [
    "dictionary2 = {}\n",
    "\n",
    "for a_key in customer_29876.keys():\n",
    "    for a_value in customer_29876.values():\n",
    "        dictionary2[a_key] = a_value\n",
    "\n",
    "print(dictionary2)"
   ]
  },
  {
   "cell_type": "code",
   "execution_count": 23,
   "id": "f866a883",
   "metadata": {},
   "outputs": [
    {
     "name": "stdout",
     "output_type": "stream",
     "text": [
      "{'first name': 'David', 'last name': 'Elliott', 'address': '4803 Wellesley St.', 'city': 'Toronto'}\n"
     ]
    }
   ],
   "source": [
    "dictionary2 = {}\n",
    "\n",
    "for a_key in customer_29876.keys():\n",
    "    dictionary2[a_key] = customer_29876[a_key]\n",
    "\n",
    "print(dictionary2)"
   ]
  },
  {
   "cell_type": "code",
   "execution_count": null,
   "id": "df220603",
   "metadata": {},
   "outputs": [],
   "source": []
  },
  {
   "cell_type": "markdown",
   "id": "d54835f6",
   "metadata": {},
   "source": [
    "# 33 Dictionaries: Looping through key-value pairs"
   ]
  },
  {
   "cell_type": "code",
   "execution_count": 26,
   "id": "c093cd04",
   "metadata": {},
   "outputs": [
    {
     "name": "stdout",
     "output_type": "stream",
     "text": [
      "{'first name': 'David', 'last name': 'Elliott', 'address': '4803 Wellesley St.'}\n"
     ]
    }
   ],
   "source": [
    "customer_29876 = {\n",
    "    \"first name\": \"David\",\n",
    "    \"last name\": \"Elliott\",\n",
    "    \"address\": \"4803 Wellesley St.\",\n",
    "}\n",
    "\n",
    "print(customer_29876)"
   ]
  },
  {
   "cell_type": "code",
   "execution_count": 28,
   "id": "d6dbcbdc",
   "metadata": {},
   "outputs": [
    {
     "name": "stdout",
     "output_type": "stream",
     "text": [
      "The customer's first name is David\n",
      "The customer's last name is Elliott\n",
      "The customer's address is 4803 Wellesley St.\n"
     ]
    }
   ],
   "source": [
    "for a_key, a_value in customer_29876.items():\n",
    "    print(\"The customer's \" + a_key + \" is \" + a_value)"
   ]
  },
  {
   "cell_type": "code",
   "execution_count": null,
   "id": "27be0b0b",
   "metadata": {},
   "outputs": [],
   "source": []
  },
  {
   "cell_type": "markdown",
   "id": "86f2030c",
   "metadata": {},
   "source": [
    "# 34 Creating a list of dictionaries"
   ]
  },
  {
   "cell_type": "code",
   "execution_count": 29,
   "id": "4f0f7c37",
   "metadata": {},
   "outputs": [
    {
     "name": "stdout",
     "output_type": "stream",
     "text": [
      "{'first name': 'David', 'last name': 'Elliott', 'address': '4803 Wellesley St.'}\n"
     ]
    }
   ],
   "source": [
    "customer_29876 = {\n",
    "    \"first name\": \"David\",\n",
    "    \"last name\": \"Elliott\",\n",
    "    \"address\": \"4803 Wellesley St.\",\n",
    "}\n",
    "\n",
    "print(customer_29876)"
   ]
  },
  {
   "cell_type": "code",
   "execution_count": 30,
   "id": "25e8a40e",
   "metadata": {},
   "outputs": [],
   "source": [
    "customers = [\n",
    "    {\n",
    "        \"customer id\": 0,\n",
    "        \"first name\":\"John\",\n",
    "        \"last name\": \"Ogden\",\n",
    "        \"address\": \"301 Arbor Rd.\",\n",
    "    },\n",
    "    {\n",
    "        \"customer id\": 1,\n",
    "        \"first name\":\"Ann\",\n",
    "        \"last name\": \"Sattermyer\",\n",
    "        \"address\": \"PO Box 1145\",\n",
    "    },\n",
    "    {\n",
    "        \"customer id\": 2,\n",
    "        \"first name\":\"Jill\",\n",
    "        \"last name\": \"Somers\",\n",
    "        \"address\": \"3 Main St.\",\n",
    "    },\n",
    "]"
   ]
  },
  {
   "cell_type": "code",
   "execution_count": 32,
   "id": "c7d23d5f",
   "metadata": {},
   "outputs": [
    {
     "name": "stdout",
     "output_type": "stream",
     "text": [
      "[{'customer id': 0, 'first name': 'John', 'last name': 'Ogden', 'address': '301 Arbor Rd.'}, {'customer id': 1, 'first name': 'Ann', 'last name': 'Sattermyer', 'address': 'PO Box 1145'}, {'customer id': 2, 'first name': 'Jill', 'last name': 'Somers', 'address': '3 Main St.'}]\n"
     ]
    }
   ],
   "source": [
    "print(customers)"
   ]
  },
  {
   "cell_type": "code",
   "execution_count": null,
   "id": "ce8485f3",
   "metadata": {},
   "outputs": [],
   "source": []
  },
  {
   "cell_type": "markdown",
   "id": "f18e08ac",
   "metadata": {},
   "source": [
    "# 35 How to pick information out of a list of dictionaries"
   ]
  },
  {
   "cell_type": "code",
   "execution_count": null,
   "id": "81c4798b",
   "metadata": {},
   "outputs": [],
   "source": []
  },
  {
   "cell_type": "markdown",
   "id": "e0528524",
   "metadata": {},
   "source": [
    "# 36 How to append a new dictionary to a list of dictionaries"
   ]
  },
  {
   "cell_type": "code",
   "execution_count": 33,
   "id": "389b9ceb",
   "metadata": {},
   "outputs": [
    {
     "name": "stdout",
     "output_type": "stream",
     "text": [
      "3\n"
     ]
    }
   ],
   "source": [
    "new_customer_id = len(customers)\n",
    "\n",
    "print(new_customer_id)"
   ]
  },
  {
   "cell_type": "code",
   "execution_count": null,
   "id": "4e21abed",
   "metadata": {},
   "outputs": [],
   "source": []
  },
  {
   "cell_type": "markdown",
   "id": "553eb544",
   "metadata": {},
   "source": [
    "# 37 Creating a dictionary that contains lists"
   ]
  },
  {
   "cell_type": "code",
   "execution_count": 3,
   "id": "fbbb0811",
   "metadata": {},
   "outputs": [
    {
     "name": "stdout",
     "output_type": "stream",
     "text": [
      "{'first name': 'David', 'last name': 'Elliott', 'address': '4803 Wellesley St.', 'discounts': ['standard', 'volume', 'loyalty']}\n"
     ]
    }
   ],
   "source": [
    "customer_29876 = {\n",
    "    \"first name\": \"David\",\n",
    "    \"last name\": \"Elliott\",\n",
    "    \"address\": \"4803 Wellesley St.\",\n",
    "    \"discounts\": [\"standard\", \"volume\", \"loyalty\"],\n",
    "}\n",
    "\n",
    "print(customer_29876)"
   ]
  },
  {
   "cell_type": "code",
   "execution_count": null,
   "id": "c5fa1dc9",
   "metadata": {},
   "outputs": [],
   "source": []
  },
  {
   "cell_type": "markdown",
   "id": "6b73c177",
   "metadata": {},
   "source": [
    "# 38 How to get information out of a list within a dictionary"
   ]
  },
  {
   "cell_type": "code",
   "execution_count": 4,
   "id": "1d6c0ba9",
   "metadata": {},
   "outputs": [
    {
     "name": "stdout",
     "output_type": "stream",
     "text": [
      "0.15\n"
     ]
    }
   ],
   "source": [
    "if \"brother-in-law\" in customer_29876[\"discounts\"]:\n",
    "    discount_amount = .30\n",
    "elif \"loyalty\" in customer_29876[\"discounts\"]:\n",
    "    discount_amount = .15\n",
    "elif \"volume\" in customer_29876[\"discounts\"]:\n",
    "    discount_amount = .10\n",
    "elif \"standard\" in customer_29876[\"discounts\"]:\n",
    "    discount_amount = .05\n",
    "print(discount_amount)"
   ]
  },
  {
   "cell_type": "code",
   "execution_count": null,
   "id": "67810812",
   "metadata": {},
   "outputs": [],
   "source": []
  },
  {
   "cell_type": "markdown",
   "id": "43ad5e3a",
   "metadata": {},
   "source": [
    "# 39 Creating a dictionary that contains a dictionary"
   ]
  },
  {
   "cell_type": "code",
   "execution_count": 6,
   "id": "0d69d9f9",
   "metadata": {},
   "outputs": [],
   "source": [
    "customers = [\n",
    "    {\n",
    "        \"customer id\": 0,\n",
    "        \"first name\":\"John\",\n",
    "        \"last name\": \"Ogden\",\n",
    "        \"address\": \"301 Arbor Rd.\",\n",
    "    },\n",
    "    {\n",
    "        \"customer id\": 1,\n",
    "        \"first name\":\"Ann\",\n",
    "        \"last name\": \"Sattermyer\",\n",
    "        \"address\": \"PO Box 1145\",\n",
    "    },\n",
    "    {\n",
    "        \"customer id\": 2,\n",
    "        \"first name\":\"Jill\",\n",
    "        \"last name\": \"Somers\",\n",
    "        \"address\": \"3 Main St.\",\n",
    "    },\n",
    "]"
   ]
  },
  {
   "cell_type": "code",
   "execution_count": 8,
   "id": "7edb738a",
   "metadata": {},
   "outputs": [
    {
     "name": "stdout",
     "output_type": "stream",
     "text": [
      "{0: {'first name': 'John', 'last name': 'Ogden', 'address': '301 Arbor Rd.'}, 1: {'first name': 'Ann', 'last name': 'Sattermyer', 'address': 'PO Box 1145'}, 2: {'first name': 'Jill', 'last name': 'Somers', 'address': '3 Main St.'}}\n"
     ]
    }
   ],
   "source": [
    "customers = {\n",
    "    0: {\n",
    "        \"first name\":\"John\",\n",
    "        \"last name\": \"Ogden\",\n",
    "        \"address\": \"301 Arbor Rd.\",\n",
    "    },\n",
    "    1: {\n",
    "        \"first name\":\"Ann\",\n",
    "        \"last name\": \"Sattermyer\",\n",
    "        \"address\": \"PO Box 1145\",\n",
    "    },\n",
    "    2: {\n",
    "        \"first name\":\"Jill\",\n",
    "        \"last name\": \"Somers\",\n",
    "        \"address\": \"3 Main St.\",\n",
    "    },\n",
    "}\n",
    "\n",
    "print(customers)"
   ]
  },
  {
   "cell_type": "code",
   "execution_count": 10,
   "id": "658316a4",
   "metadata": {},
   "outputs": [
    {
     "name": "stdout",
     "output_type": "stream",
     "text": [
      "{'johnog': {'first name': 'John', 'last name': 'Ogden', 'address': '301 Arbor Rd.'}, 'coder1200': {'first name': 'Ann', 'last name': 'Sattermyer', 'address': 'PO Box 1145'}, 'madmaxine': {'first name': 'Jill', 'last name': 'Somers', 'address': '3 Main St.'}}\n"
     ]
    }
   ],
   "source": [
    "customers = {\n",
    "    \"johnog\": {\n",
    "        \"first name\":\"John\",\n",
    "        \"last name\": \"Ogden\",\n",
    "        \"address\": \"301 Arbor Rd.\",\n",
    "    },\n",
    "    \"coder1200\": {\n",
    "        \"first name\":\"Ann\",\n",
    "        \"last name\": \"Sattermyer\",\n",
    "        \"address\": \"PO Box 1145\",\n",
    "    },\n",
    "    \"madmaxine\": {\n",
    "        \"first name\":\"Jill\",\n",
    "        \"last name\": \"Somers\",\n",
    "        \"address\": \"3 Main St.\",\n",
    "    },\n",
    "}\n",
    "\n",
    "print(customers)"
   ]
  },
  {
   "cell_type": "code",
   "execution_count": null,
   "id": "6761a60a",
   "metadata": {},
   "outputs": [],
   "source": []
  },
  {
   "cell_type": "markdown",
   "id": "b8714902",
   "metadata": {},
   "source": [
    "# 40 How to get information out of a dictionary within another dictionary"
   ]
  },
  {
   "cell_type": "code",
   "execution_count": null,
   "id": "a5d26c4a",
   "metadata": {},
   "outputs": [],
   "source": []
  },
  {
   "cell_type": "markdown",
   "id": "2470242f",
   "metadata": {},
   "source": [
    "# 41 Functions"
   ]
  },
  {
   "cell_type": "code",
   "execution_count": 11,
   "id": "812c6854",
   "metadata": {},
   "outputs": [
    {
     "name": "stdout",
     "output_type": "stream",
     "text": [
      "5\n"
     ]
    }
   ],
   "source": [
    "first_number = 2\n",
    "second_number = 3\n",
    "\n",
    "total = first_number + second_number\n",
    "\n",
    "print(total)"
   ]
  },
  {
   "cell_type": "code",
   "execution_count": 27,
   "id": "ea0e1810",
   "metadata": {},
   "outputs": [],
   "source": [
    "def add_numbers():\n",
    "    first_number = int(input(\"Please enter the 1st number \"))\n",
    "    second_number = int(input(\"Please enter the 2nd number \"))\n",
    "    total = first_number + second_number\n",
    "    print(\"\\n The sum of the numbers is \" + str(total))"
   ]
  },
  {
   "cell_type": "code",
   "execution_count": 28,
   "id": "d9796256",
   "metadata": {},
   "outputs": [
    {
     "name": "stdout",
     "output_type": "stream",
     "text": [
      "Please enter the 1st number 30\n",
      "Please enter the 2nd number 60\n",
      "\n",
      " The sum of the numbers is 90\n"
     ]
    }
   ],
   "source": [
    "add_numbers()"
   ]
  },
  {
   "cell_type": "code",
   "execution_count": null,
   "id": "54132d86",
   "metadata": {},
   "outputs": [],
   "source": []
  },
  {
   "cell_type": "markdown",
   "id": "8e94c89c",
   "metadata": {},
   "source": [
    "# 42 Functions: Passing them information"
   ]
  },
  {
   "cell_type": "code",
   "execution_count": null,
   "id": "17c6b895",
   "metadata": {},
   "outputs": [],
   "source": []
  },
  {
   "cell_type": "markdown",
   "id": "b6d5f1d8",
   "metadata": {},
   "source": [
    "# 43 Functions: Passing information to them a different way"
   ]
  },
  {
   "cell_type": "code",
   "execution_count": 30,
   "id": "406dda05",
   "metadata": {},
   "outputs": [],
   "source": [
    "# positional arguments\n",
    "# keyword arguments"
   ]
  },
  {
   "cell_type": "code",
   "execution_count": null,
   "id": "2bfb2622",
   "metadata": {},
   "outputs": [],
   "source": []
  },
  {
   "cell_type": "code",
   "execution_count": 52,
   "id": "5c79201a",
   "metadata": {},
   "outputs": [
    {
     "name": "stdout",
     "output_type": "stream",
     "text": [
      "The names of the couple are the Bill and the Zelda\n"
     ]
    }
   ],
   "source": [
    "def names_of_couple(husband, wife):\n",
    "    print(\"The names of the couple are the \" + husband + \" and the \" + wife)\n",
    "\n",
    "names_of_couple(\"Bill\", \"Zelda\")"
   ]
  },
  {
   "cell_type": "code",
   "execution_count": 53,
   "id": "2c51ed0b",
   "metadata": {},
   "outputs": [
    {
     "name": "stdout",
     "output_type": "stream",
     "text": [
      "The names of the couple are the Bill and the Zelda\n"
     ]
    }
   ],
   "source": [
    "def name_of_couple(husband, wife):\n",
    "    print(\"The names of the couple are the \" + husband + \" and the \" + wife)\n",
    "\n",
    "name_of_couple(husband = \"Bill\", wife = \"Zelda\")"
   ]
  },
  {
   "cell_type": "code",
   "execution_count": 55,
   "id": "20e7fa7a",
   "metadata": {},
   "outputs": [
    {
     "name": "stdout",
     "output_type": "stream",
     "text": [
      "The names of the couple are the Bill and the Zelda Gates\n"
     ]
    }
   ],
   "source": [
    "def couple_names(husband, wife, family):\n",
    "    print(\"The names of the couple are the \" + husband + \" and the \" + wife + \" \" + family)\n",
    "\n",
    "couple_names(wife = \"Zelda\", husband = \"Bill\", family = \"Gates\")"
   ]
  },
  {
   "cell_type": "code",
   "execution_count": null,
   "id": "92ee0d29",
   "metadata": {},
   "outputs": [],
   "source": []
  },
  {
   "cell_type": "code",
   "execution_count": 39,
   "id": "f3ce0ff4",
   "metadata": {},
   "outputs": [
    {
     "name": "stdout",
     "output_type": "stream",
     "text": [
      "Hello! Nadeem Hussain\n"
     ]
    }
   ],
   "source": [
    "def greetings(first_name, last_name):\n",
    "    print(f\"Hello! {first_name} {last_name}\")\n",
    "\n",
    "greetings(\"Nadeem\", \"Hussain\")"
   ]
  },
  {
   "cell_type": "code",
   "execution_count": 46,
   "id": "ecacff7e",
   "metadata": {},
   "outputs": [
    {
     "name": "stdout",
     "output_type": "stream",
     "text": [
      "Hello! Nadeem Hussain\n"
     ]
    }
   ],
   "source": [
    "def greeting(first_name, last_name):\n",
    "    print(f\"Hello! {first_name} {last_name}\")\n",
    "\n",
    "greeting(first_name = \"Nadeem\", last_name = \"Hussain\")"
   ]
  },
  {
   "cell_type": "code",
   "execution_count": 47,
   "id": "6ec50697",
   "metadata": {},
   "outputs": [
    {
     "name": "stdout",
     "output_type": "stream",
     "text": [
      "Hello! Nadeem Hussain\n"
     ]
    }
   ],
   "source": [
    "def greet(first_name, last_name):\n",
    "    print(f\"Hello! {first_name} {last_name}\")\n",
    "\n",
    "greet(last_name = \"Hussain\", first_name = \"Nadeem\")"
   ]
  },
  {
   "cell_type": "code",
   "execution_count": null,
   "id": "6746a87d",
   "metadata": {},
   "outputs": [],
   "source": []
  },
  {
   "cell_type": "markdown",
   "id": "4b7e1d51",
   "metadata": {},
   "source": [
    "# 44 Functions: Assigning a default value to a parameter"
   ]
  },
  {
   "cell_type": "code",
   "execution_count": 64,
   "id": "9fe09b09",
   "metadata": {},
   "outputs": [],
   "source": [
    "def calc_tax(sales_total, tax_rate):\n",
    "    print(f\"Sales Tax on total sales of ${sales_total} with the sales tax rate of {tax_rate*100} % is ${sales_total * tax_rate}\")"
   ]
  },
  {
   "cell_type": "code",
   "execution_count": 65,
   "id": "fc656a16",
   "metadata": {},
   "outputs": [
    {
     "name": "stdout",
     "output_type": "stream",
     "text": [
      "Sales Tax on total sales of $101.37 with the sales tax rate of 5.0 % is $5.0685\n"
     ]
    }
   ],
   "source": [
    "calc_tax(sales_total=101.37, tax_rate=.05)"
   ]
  },
  {
   "cell_type": "code",
   "execution_count": 70,
   "id": "0c4f69c7",
   "metadata": {},
   "outputs": [],
   "source": [
    "def calc_tax(sales_total, tax_rate=.04):\n",
    "    \n",
    "    # Note: Keyword parameters without defaults must come before keyword parameters with defaults as shown above.\n",
    "    \n",
    "    print(f\"Sales Tax on total sales of ${sales_total} with the sales tax rate of {tax_rate*100} % is ${sales_total * tax_rate}\")\n",
    "\n",
    "# Note that only the keyword parameters can have a default value, shown here. Positional parameters can't."
   ]
  },
  {
   "cell_type": "code",
   "execution_count": 71,
   "id": "37c83d48",
   "metadata": {},
   "outputs": [
    {
     "name": "stdout",
     "output_type": "stream",
     "text": [
      "Sales Tax on total sales of $101.37 with the sales tax rate of 4.0 % is $4.0548\n"
     ]
    }
   ],
   "source": [
    "calc_tax(sales_total=101.37)"
   ]
  },
  {
   "cell_type": "code",
   "execution_count": 72,
   "id": "91c73897",
   "metadata": {},
   "outputs": [
    {
     "name": "stdout",
     "output_type": "stream",
     "text": [
      "Sales Tax on total sales of $101.37 with the sales tax rate of 7.5 % is $7.60275\n"
     ]
    }
   ],
   "source": [
    "calc_tax(sales_total=101.37, tax_rate=.075)"
   ]
  },
  {
   "cell_type": "code",
   "execution_count": 73,
   "id": "093bed75",
   "metadata": {},
   "outputs": [
    {
     "ename": "IndentationError",
     "evalue": "expected an indented block (2538831583.py, line 3)",
     "output_type": "error",
     "traceback": [
      "\u001b[1;36m  Input \u001b[1;32mIn [73]\u001b[1;36m\u001b[0m\n\u001b[1;33m    \u001b[0m\n\u001b[1;37m    ^\u001b[0m\n\u001b[1;31mIndentationError\u001b[0m\u001b[1;31m:\u001b[0m expected an indented block\n"
     ]
    }
   ],
   "source": [
    "def print_order(product_name, color, size, engraving_text=\"\"):\n",
    "    # You can use an empty default parameter value for an optional argument.\n",
    "    "
   ]
  },
  {
   "cell_type": "code",
   "execution_count": 97,
   "id": "e507be24",
   "metadata": {},
   "outputs": [],
   "source": [
    "def add_numbers(first_number=2, second_number=4):\n",
    "    print(first_number + second_number)"
   ]
  },
  {
   "cell_type": "code",
   "execution_count": 98,
   "id": "5086563d",
   "metadata": {},
   "outputs": [
    {
     "name": "stdout",
     "output_type": "stream",
     "text": [
      "5\n"
     ]
    }
   ],
   "source": [
    "add_numbers(first_number, second_number)"
   ]
  },
  {
   "cell_type": "code",
   "execution_count": null,
   "id": "18c266a6",
   "metadata": {},
   "outputs": [],
   "source": []
  },
  {
   "cell_type": "markdown",
   "id": "ba822e8f",
   "metadata": {},
   "source": [
    "# 45 Functions: Mixing positional and keyword arguments"
   ]
  },
  {
   "cell_type": "code",
   "execution_count": 100,
   "id": "bd2d0677",
   "metadata": {},
   "outputs": [],
   "source": [
    "def give_greeting(greeting, first_name):\n",
    "    print(greeting + \", \" + first_name)"
   ]
  },
  {
   "cell_type": "code",
   "execution_count": 101,
   "id": "cd22c135",
   "metadata": {},
   "outputs": [
    {
     "name": "stdout",
     "output_type": "stream",
     "text": [
      "Hello there, Al\n"
     ]
    }
   ],
   "source": [
    "give_greeting(\"Hello there\", first_name=\"Al\") # Positional arguments must come before keyword arguments."
   ]
  },
  {
   "cell_type": "code",
   "execution_count": 103,
   "id": "e2574a21",
   "metadata": {},
   "outputs": [],
   "source": [
    "def give_greeting(greeting, first_name, flattering_nickname=\" the wonder boy\"):\n",
    "    print(greeting + \", \" + first_name + flattering_nickname)\n",
    "\n",
    "# Note: Positional arguments and parameters always come first, keyword\n",
    "# parameters without defaults always come second, and keyword parameters with\n",
    "# defaults always come last."
   ]
  },
  {
   "cell_type": "code",
   "execution_count": 104,
   "id": "c2579872",
   "metadata": {},
   "outputs": [
    {
     "name": "stdout",
     "output_type": "stream",
     "text": [
      "Hello there, Al the wonder boy\n"
     ]
    }
   ],
   "source": [
    "give_greeting(\"Hello there\", first_name=\"Al\")"
   ]
  },
  {
   "cell_type": "code",
   "execution_count": 105,
   "id": "e1668d35",
   "metadata": {},
   "outputs": [],
   "source": [
    "customers = {\n",
    "    0: {\n",
    "        \"first name\":\"John\",\n",
    "        \"last name\": \"Ogden\",\n",
    "        \"address\": \"301 Arbor Rd.\",\n",
    "        },\n",
    "    1: {\n",
    "        \"first name\":\"Ann\",\n",
    "        \"last name\": \"Sattermyer\",\n",
    "        \"address\": \"PO Box 1145\",\n",
    "        },\n",
    "    2: {\n",
    "        \"first name\":\"Jill\",\n",
    "        \"last name\": \"Somers\",\n",
    "        \"address\": \"3 Main St.\",\n",
    "        },\n",
    "}"
   ]
  },
  {
   "cell_type": "code",
   "execution_count": 107,
   "id": "42e62b0c",
   "metadata": {},
   "outputs": [],
   "source": [
    "def find_something(dict, inner_dict, target):\n",
    "    print(dict[inner_dict][target])"
   ]
  },
  {
   "cell_type": "code",
   "execution_count": 108,
   "id": "65c881a6",
   "metadata": {},
   "outputs": [
    {
     "name": "stdout",
     "output_type": "stream",
     "text": [
      "Somers\n"
     ]
    }
   ],
   "source": [
    "find_something(customers, 2, \"last name\")"
   ]
  },
  {
   "cell_type": "code",
   "execution_count": null,
   "id": "f2e00037",
   "metadata": {},
   "outputs": [],
   "source": []
  },
  {
   "cell_type": "markdown",
   "id": "4cbfe6a7",
   "metadata": {},
   "source": [
    "# 46 Functions: Dealing with an unknown number of arguments"
   ]
  },
  {
   "cell_type": "code",
   "execution_count": 109,
   "id": "9ef59113",
   "metadata": {},
   "outputs": [],
   "source": [
    "def display_result(winner, score):\n",
    "    print(\"The winner was \" + winner)\n",
    "    print(\"The score was \" + score)"
   ]
  },
  {
   "cell_type": "code",
   "execution_count": 110,
   "id": "5dbf13a0",
   "metadata": {},
   "outputs": [
    {
     "name": "stdout",
     "output_type": "stream",
     "text": [
      "The winner was Real Madrid\n",
      "The score was 1-0\n"
     ]
    }
   ],
   "source": [
    "display_result(winner=\"Real Madrid\", score=\"1-0\")"
   ]
  },
  {
   "cell_type": "code",
   "execution_count": 112,
   "id": "3f7fa246",
   "metadata": {},
   "outputs": [
    {
     "name": "stdout",
     "output_type": "stream",
     "text": [
      "The winner was Real Madrid\n",
      "The score was 1-0\n"
     ]
    }
   ],
   "source": [
    "display_result(\"Real Madrid\", \"1-0\")"
   ]
  },
  {
   "cell_type": "code",
   "execution_count": 1,
   "id": "4519c99e",
   "metadata": {},
   "outputs": [],
   "source": [
    "def display_result(winner, score, **other_info):\n",
    "    print(\"The winner was \" + winner)\n",
    "    print(\"The score was \" + score)\n",
    "    for key, value in other_info.items():\n",
    "        print(key + \": \" + value)"
   ]
  },
  {
   "cell_type": "code",
   "execution_count": 3,
   "id": "3d0c4fa5",
   "metadata": {},
   "outputs": [
    {
     "name": "stdout",
     "output_type": "stream",
     "text": [
      "The winner was Real Madrid\n",
      "The score was 1-0\n",
      "overtime: yes\n",
      "injuries: none\n",
      "recoveries: all\n",
      "stressed: all\n"
     ]
    }
   ],
   "source": [
    "display_result(winner=\"Real Madrid\", score=\"1-0\", overtime =\"yes\", injuries=\"none\", recoveries=\"all\", stressed=\"all\")"
   ]
  },
  {
   "cell_type": "code",
   "execution_count": 6,
   "id": "3ffc27f3",
   "metadata": {},
   "outputs": [],
   "source": [
    "def display_nums(first_num, second_num, *opt_nums):\n",
    "    print(first_num)\n",
    "    print(second_num)\n",
    "    print(opt_nums)"
   ]
  },
  {
   "cell_type": "code",
   "execution_count": 7,
   "id": "dbda3d9a",
   "metadata": {},
   "outputs": [
    {
     "name": "stdout",
     "output_type": "stream",
     "text": [
      "100\n",
      "200\n",
      "(300, 400, 500, 600)\n"
     ]
    }
   ],
   "source": [
    "display_nums(100, 200, 300, 400, 500, 600)"
   ]
  },
  {
   "cell_type": "code",
   "execution_count": null,
   "id": "fe5dac64",
   "metadata": {},
   "outputs": [],
   "source": []
  },
  {
   "cell_type": "markdown",
   "id": "5788f14e",
   "metadata": {},
   "source": [
    "# 47 Functions: Passing information back from them"
   ]
  },
  {
   "cell_type": "code",
   "execution_count": 8,
   "id": "99438af8",
   "metadata": {},
   "outputs": [],
   "source": [
    "def calc_tax(sales_total, tax_rate):\n",
    "    tax = sales_total * tax_rate\n",
    "    print(tax)"
   ]
  },
  {
   "cell_type": "code",
   "execution_count": 9,
   "id": "89412857",
   "metadata": {},
   "outputs": [
    {
     "name": "stdout",
     "output_type": "stream",
     "text": [
      "5.0685\n"
     ]
    }
   ],
   "source": [
    "calc_tax(sales_total=101.37, tax_rate=.05)"
   ]
  },
  {
   "cell_type": "code",
   "execution_count": 11,
   "id": "313a1052",
   "metadata": {},
   "outputs": [],
   "source": [
    "def calc_tax(sales_total, tax_rate):\n",
    "    tax = sales_total * tax_rate\n",
    "    return tax"
   ]
  },
  {
   "cell_type": "code",
   "execution_count": 12,
   "id": "17b70988",
   "metadata": {},
   "outputs": [
    {
     "name": "stdout",
     "output_type": "stream",
     "text": [
      "5.0685\n"
     ]
    }
   ],
   "source": [
    "sales_tax = calc_tax(sales_total=101.37, tax_rate=.05)\n",
    "print(sales_tax)"
   ]
  },
  {
   "cell_type": "code",
   "execution_count": 13,
   "id": "fe63169e",
   "metadata": {},
   "outputs": [],
   "source": [
    "def calc_tax(sales_total, tax_rate):\n",
    "    return(sales_total * tax_rate)"
   ]
  },
  {
   "cell_type": "code",
   "execution_count": 16,
   "id": "4d6c40e4",
   "metadata": {},
   "outputs": [
    {
     "name": "stdout",
     "output_type": "stream",
     "text": [
      "7.60275\n"
     ]
    }
   ],
   "source": [
    "print(calc_tax(sales_total=101.37, tax_rate=.075))"
   ]
  },
  {
   "cell_type": "code",
   "execution_count": null,
   "id": "ea831080",
   "metadata": {},
   "outputs": [],
   "source": []
  },
  {
   "cell_type": "markdown",
   "id": "407ff47e",
   "metadata": {},
   "source": [
    "# 48 Using functions as variables (which is what they really are)"
   ]
  },
  {
   "cell_type": "code",
   "execution_count": null,
   "id": "3b86b9f0",
   "metadata": {},
   "outputs": [],
   "source": []
  },
  {
   "cell_type": "markdown",
   "id": "4553116e",
   "metadata": {},
   "source": [
    "# 49 Functions: Local vs. global variables"
   ]
  },
  {
   "cell_type": "code",
   "execution_count": 17,
   "id": "4b29902d",
   "metadata": {},
   "outputs": [],
   "source": [
    "def say_some_thing():\n",
    "    what_to_say = \"Hi\""
   ]
  },
  {
   "cell_type": "code",
   "execution_count": 20,
   "id": "fdc4e9e6",
   "metadata": {},
   "outputs": [
    {
     "name": "stdout",
     "output_type": "stream",
     "text": [
      "Hi\n"
     ]
    }
   ],
   "source": [
    "print(what_to_say)"
   ]
  },
  {
   "cell_type": "code",
   "execution_count": 21,
   "id": "0e994210",
   "metadata": {},
   "outputs": [],
   "source": [
    "def what_ever(b, c):\n",
    "    total = b + c\n",
    "    return total"
   ]
  },
  {
   "cell_type": "code",
   "execution_count": 22,
   "id": "9e32f704",
   "metadata": {},
   "outputs": [
    {
     "ename": "NameError",
     "evalue": "name 'b' is not defined",
     "output_type": "error",
     "traceback": [
      "\u001b[1;31m---------------------------------------------------------------------------\u001b[0m",
      "\u001b[1;31mNameError\u001b[0m                                 Traceback (most recent call last)",
      "Input \u001b[1;32mIn [22]\u001b[0m, in \u001b[0;36m<cell line: 1>\u001b[1;34m()\u001b[0m\n\u001b[1;32m----> 1\u001b[0m \u001b[38;5;28mprint\u001b[39m(\u001b[43mb\u001b[49m)\n",
      "\u001b[1;31mNameError\u001b[0m: name 'b' is not defined"
     ]
    }
   ],
   "source": [
    "print(b)"
   ]
  },
  {
   "cell_type": "code",
   "execution_count": 23,
   "id": "79b99023",
   "metadata": {},
   "outputs": [
    {
     "ename": "NameError",
     "evalue": "name 'c' is not defined",
     "output_type": "error",
     "traceback": [
      "\u001b[1;31m---------------------------------------------------------------------------\u001b[0m",
      "\u001b[1;31mNameError\u001b[0m                                 Traceback (most recent call last)",
      "Input \u001b[1;32mIn [23]\u001b[0m, in \u001b[0;36m<cell line: 1>\u001b[1;34m()\u001b[0m\n\u001b[1;32m----> 1\u001b[0m \u001b[38;5;28mprint\u001b[39m(\u001b[43mc\u001b[49m)\n",
      "\u001b[1;31mNameError\u001b[0m: name 'c' is not defined"
     ]
    }
   ],
   "source": [
    "print(c)"
   ]
  },
  {
   "cell_type": "code",
   "execution_count": 24,
   "id": "eecdbffb",
   "metadata": {},
   "outputs": [
    {
     "ename": "NameError",
     "evalue": "name 'total' is not defined",
     "output_type": "error",
     "traceback": [
      "\u001b[1;31m---------------------------------------------------------------------------\u001b[0m",
      "\u001b[1;31mNameError\u001b[0m                                 Traceback (most recent call last)",
      "Input \u001b[1;32mIn [24]\u001b[0m, in \u001b[0;36m<cell line: 1>\u001b[1;34m()\u001b[0m\n\u001b[1;32m----> 1\u001b[0m \u001b[38;5;28mprint\u001b[39m(\u001b[43mtotal\u001b[49m)\n",
      "\u001b[1;31mNameError\u001b[0m: name 'total' is not defined"
     ]
    }
   ],
   "source": [
    "print(total)"
   ]
  },
  {
   "cell_type": "code",
   "execution_count": 25,
   "id": "d037b4c2",
   "metadata": {},
   "outputs": [],
   "source": [
    "def what_ever(b, c):\n",
    "    total = b + c\n",
    "    print(b)\n",
    "    print(c)\n",
    "    print(total)"
   ]
  },
  {
   "cell_type": "code",
   "execution_count": 26,
   "id": "caaac41f",
   "metadata": {},
   "outputs": [],
   "source": [
    "a = 2"
   ]
  },
  {
   "cell_type": "code",
   "execution_count": 27,
   "id": "4452df3f",
   "metadata": {},
   "outputs": [],
   "source": [
    "def display_number():\n",
    "    print(a)"
   ]
  },
  {
   "cell_type": "code",
   "execution_count": 28,
   "id": "defb5260",
   "metadata": {},
   "outputs": [
    {
     "name": "stdout",
     "output_type": "stream",
     "text": [
      "2\n"
     ]
    }
   ],
   "source": [
    "display_number()"
   ]
  },
  {
   "cell_type": "code",
   "execution_count": 29,
   "id": "249e2c7d",
   "metadata": {},
   "outputs": [],
   "source": [
    "def display_number(c):\n",
    "    print(c)"
   ]
  },
  {
   "cell_type": "code",
   "execution_count": 30,
   "id": "6e7bcfc0",
   "metadata": {},
   "outputs": [
    {
     "name": "stdout",
     "output_type": "stream",
     "text": [
      "5\n"
     ]
    }
   ],
   "source": [
    "display_number(5)"
   ]
  },
  {
   "cell_type": "code",
   "execution_count": 1,
   "id": "c0dc612e",
   "metadata": {},
   "outputs": [
    {
     "name": "stdout",
     "output_type": "stream",
     "text": [
      "2\n",
      "1\n"
     ]
    }
   ],
   "source": [
    "def whatever():\n",
    "    y = 2\n",
    "    print(y)\n",
    "y = 1\n",
    "whatever()\n",
    "print(y)"
   ]
  },
  {
   "cell_type": "markdown",
   "id": "d342266c",
   "metadata": {},
   "source": [
    "# 50 Functions within functions"
   ]
  },
  {
   "cell_type": "code",
   "execution_count": 3,
   "id": "0eeffc48",
   "metadata": {},
   "outputs": [],
   "source": [
    "def say_something():\n",
    "    what_to_say = \"Hi\"\n",
    "    print(what_to_say)"
   ]
  },
  {
   "cell_type": "code",
   "execution_count": 4,
   "id": "e18ec5c4",
   "metadata": {},
   "outputs": [
    {
     "name": "stdout",
     "output_type": "stream",
     "text": [
      "Hi\n"
     ]
    }
   ],
   "source": [
    "say_something()"
   ]
  },
  {
   "cell_type": "code",
   "execution_count": 10,
   "id": "84b36d41",
   "metadata": {},
   "outputs": [],
   "source": [
    "def _something():\n",
    "    what_to_say = \"Hi\"\n",
    "    _say_it(what_to_say)"
   ]
  },
  {
   "cell_type": "code",
   "execution_count": 11,
   "id": "fc088320",
   "metadata": {},
   "outputs": [],
   "source": [
    "def _say_it(content):\n",
    "    print(content)"
   ]
  },
  {
   "cell_type": "code",
   "execution_count": 12,
   "id": "5bae57e0",
   "metadata": {},
   "outputs": [
    {
     "name": "stdout",
     "output_type": "stream",
     "text": [
      "Hi\n"
     ]
    }
   ],
   "source": [
    "_something()"
   ]
  },
  {
   "cell_type": "code",
   "execution_count": null,
   "id": "a410dc7d",
   "metadata": {},
   "outputs": [],
   "source": []
  },
  {
   "cell_type": "markdown",
   "id": "a4cbeb28",
   "metadata": {},
   "source": [
    "# 51 While loops"
   ]
  },
  {
   "cell_type": "code",
   "execution_count": 14,
   "id": "39e9d22e",
   "metadata": {},
   "outputs": [],
   "source": [
    "cleanest_cities = [\"Cheyenne\", \"Santa Fe\", \"Tucson\", \"Great Falls\", \"Honolulu\"]"
   ]
  },
  {
   "cell_type": "code",
   "execution_count": 15,
   "id": "5bf13c9b",
   "metadata": {},
   "outputs": [
    {
     "name": "stdout",
     "output_type": "stream",
     "text": [
      "['Cheyenne', 'Santa Fe', 'Tucson', 'Great Falls', 'Honolulu']\n"
     ]
    }
   ],
   "source": [
    "print(cleanest_cities)"
   ]
  },
  {
   "cell_type": "code",
   "execution_count": 16,
   "id": "3508acbb",
   "metadata": {},
   "outputs": [
    {
     "name": "stdout",
     "output_type": "stream",
     "text": [
      "Enter the name of a city you want to check: Honolulu\n",
      "Yes Honolulu is one the cleanest cities\n"
     ]
    }
   ],
   "source": [
    "city_to_check = input(\"Enter the name of a city you want to check: \")\n",
    "\n",
    "for a_clean_city in cleanest_cities:\n",
    "    if city_to_check == a_clean_city:\n",
    "        print(\"Yes \" + city_to_check + \" is one the cleanest cities\")\n",
    "        break"
   ]
  },
  {
   "cell_type": "code",
   "execution_count": 17,
   "id": "689b61d6",
   "metadata": {},
   "outputs": [
    {
     "name": "stdout",
     "output_type": "stream",
     "text": [
      "Enter the name of a city you want to check at a time or press q to quit: toronto\n",
      "Enter the name of a city you want to check at a time or press q to quit: Great Falls\n",
      "Yes Great Falls is one the cleanest cities\n",
      "Enter the name of a city you want to check at a time or press q to quit: q\n"
     ]
    }
   ],
   "source": [
    "city_to_check = \"\"\n",
    "\n",
    "while city_to_check != \"q\":\n",
    "    city_to_check = input(\"Enter the name of a city you want to check at a time or press q to quit: \")\n",
    "    if city_to_check != \"q\":\n",
    "        for a_clean_city in cleanest_cities:\n",
    "            if city_to_check == a_clean_city:\n",
    "                print(\"Yes \" + city_to_check + \" is one the cleanest cities\")\n",
    "                break"
   ]
  },
  {
   "cell_type": "code",
   "execution_count": 22,
   "id": "156c2ff4",
   "metadata": {},
   "outputs": [],
   "source": [
    "while x != 99:\n",
    "  print(x)\n",
    "  x += 1"
   ]
  },
  {
   "cell_type": "code",
   "execution_count": 26,
   "id": "cb9b23b2",
   "metadata": {},
   "outputs": [],
   "source": [
    "def comparison(var1, var2, var3):\n",
    "  while var1 + var2 >= var3:\n",
    "    print(var1, var2, var3)\n",
    "    var1 -= var3 / 2"
   ]
  },
  {
   "cell_type": "code",
   "execution_count": 27,
   "id": "47fbda92",
   "metadata": {},
   "outputs": [
    {
     "name": "stdout",
     "output_type": "stream",
     "text": [
      "15 25 10\n",
      "10.0 25 10\n",
      "5.0 25 10\n",
      "0.0 25 10\n",
      "-5.0 25 10\n",
      "-10.0 25 10\n",
      "-15.0 25 10\n"
     ]
    }
   ],
   "source": [
    "comparison(15, 25, 10)"
   ]
  },
  {
   "cell_type": "code",
   "execution_count": 35,
   "id": "ecdfc70e",
   "metadata": {},
   "outputs": [],
   "source": [
    "def you_are_right():\n",
    "    user_input = \"\"\n",
    "    while user_input != \"You're right\":\n",
    "        user_input = input(\"Enter your views about my answer \")"
   ]
  },
  {
   "cell_type": "code",
   "execution_count": 36,
   "id": "a727b29b",
   "metadata": {},
   "outputs": [
    {
     "name": "stdout",
     "output_type": "stream",
     "text": [
      "Enter your views about my answer nothing man\n",
      "Enter your views about my answer why are you bothering me\n",
      "Enter your views about my answer no\n",
      "Enter your views about my answer not at all\n",
      "Enter your views about my answer you are right\n",
      "Enter your views about my answer you're right\n",
      "Enter your views about my answer You're right\n"
     ]
    }
   ],
   "source": [
    "you_are_right()"
   ]
  },
  {
   "cell_type": "code",
   "execution_count": null,
   "id": "5f09b79f",
   "metadata": {},
   "outputs": [],
   "source": []
  },
  {
   "cell_type": "markdown",
   "id": "cb50ba5d",
   "metadata": {},
   "source": [
    "# Chap # 41: Functions"
   ]
  },
  {
   "cell_type": "code",
   "execution_count": 12,
   "id": "b582ec4e",
   "metadata": {},
   "outputs": [
    {
     "data": {
      "text/plain": [
       "9"
      ]
     },
     "execution_count": 12,
     "metadata": {},
     "output_type": "execute_result"
    }
   ],
   "source": [
    "first_number = 5\n",
    "second_number = 4\n",
    "\n",
    "total = first_number + second_number\n",
    "\n",
    "total"
   ]
  },
  {
   "cell_type": "code",
   "execution_count": 26,
   "id": "6f1bd138",
   "metadata": {},
   "outputs": [
    {
     "name": "stdout",
     "output_type": "stream",
     "text": [
      "12\n"
     ]
    }
   ],
   "source": [
    "add_numbers(5,7)"
   ]
  },
  {
   "cell_type": "code",
   "execution_count": 25,
   "id": "f3b0fc6a",
   "metadata": {},
   "outputs": [
    {
     "name": "stdout",
     "output_type": "stream",
     "text": [
      "12\n",
      "13\n"
     ]
    }
   ],
   "source": [
    "add_numbers(5,7)\n",
    "\n",
    "def add_numbers(first_number, second_number):\n",
    "    total = first_number + second_number\n",
    "    print(total)\n",
    "\n",
    "add_numbers(5,8)"
   ]
  },
  {
   "cell_type": "code",
   "execution_count": 11,
   "id": "2eb7a02d",
   "metadata": {},
   "outputs": [
    {
     "name": "stdout",
     "output_type": "stream",
     "text": [
      "12\n"
     ]
    }
   ],
   "source": [
    "add_numbers(5,7)"
   ]
  },
  {
   "cell_type": "code",
   "execution_count": 8,
   "id": "9ee59271",
   "metadata": {},
   "outputs": [
    {
     "name": "stdout",
     "output_type": "stream",
     "text": [
      "5\n"
     ]
    }
   ],
   "source": [
    "add_numbers(2, 3)"
   ]
  },
  {
   "cell_type": "code",
   "execution_count": 14,
   "id": "a0b4b140",
   "metadata": {},
   "outputs": [
    {
     "name": "stdout",
     "output_type": "stream",
     "text": [
      "65\n"
     ]
    }
   ],
   "source": [
    "add_numbers(65, 0)"
   ]
  },
  {
   "cell_type": "code",
   "execution_count": 17,
   "id": "650489f9",
   "metadata": {},
   "outputs": [],
   "source": [
    "greeting = \"Hello, there. I am going back to my home, I don't know why!\"\n",
    "num = 3,4,5\n",
    "\n",
    "def greet_user(greeting, num):\n",
    "    print(greeting, num)"
   ]
  },
  {
   "cell_type": "code",
   "execution_count": 18,
   "id": "978ef303",
   "metadata": {},
   "outputs": [
    {
     "name": "stdout",
     "output_type": "stream",
     "text": [
      "Hello, there. I am going back to my home, I don't know why! (3, 4, 5)\n"
     ]
    }
   ],
   "source": [
    "greet_user(greeting, num)"
   ]
  },
  {
   "cell_type": "code",
   "execution_count": 27,
   "id": "f59c8147",
   "metadata": {},
   "outputs": [
    {
     "name": "stdout",
     "output_type": "stream",
     "text": [
      "I am back (3, 4, 5)\n"
     ]
    }
   ],
   "source": [
    "whatever = \"I am back\"\n",
    "greet_user(whatever, num)"
   ]
  },
  {
   "cell_type": "code",
   "execution_count": 20,
   "id": "dd9b1da0",
   "metadata": {},
   "outputs": [
    {
     "name": "stdout",
     "output_type": "stream",
     "text": [
      "I am not coming back (3, 4, 5)\n"
     ]
    }
   ],
   "source": [
    "greet_user(\"I am not coming back\", num)"
   ]
  },
  {
   "cell_type": "markdown",
   "id": "6b3582c3",
   "metadata": {},
   "source": [
    "# Chap # 42: Functions - Passing Information"
   ]
  },
  {
   "cell_type": "code",
   "execution_count": 27,
   "id": "55eadbb8",
   "metadata": {},
   "outputs": [],
   "source": [
    "def greet_user(greeting):\n",
    "    print(greeting)"
   ]
  },
  {
   "cell_type": "code",
   "execution_count": 29,
   "id": "b01a3987",
   "metadata": {},
   "outputs": [
    {
     "name": "stdout",
     "output_type": "stream",
     "text": [
      "Hello, there. I am going back to my home, I don't know why!\n"
     ]
    }
   ],
   "source": [
    "greet_user(greeting)"
   ]
  },
  {
   "cell_type": "code",
   "execution_count": 30,
   "id": "fece4f75",
   "metadata": {},
   "outputs": [],
   "source": [
    "greeting = \"Hello, there!\""
   ]
  },
  {
   "cell_type": "code",
   "execution_count": 31,
   "id": "2d23d2ae",
   "metadata": {},
   "outputs": [
    {
     "name": "stdout",
     "output_type": "stream",
     "text": [
      "Hello, there!\n"
     ]
    }
   ],
   "source": [
    "greet_user(greeting)"
   ]
  },
  {
   "cell_type": "code",
   "execution_count": 33,
   "id": "fd29e58b",
   "metadata": {},
   "outputs": [
    {
     "name": "stdout",
     "output_type": "stream",
     "text": [
      "Hello, there. This is another message\n"
     ]
    }
   ],
   "source": [
    "whatever = \"Hello, there. This is another message\"\n",
    "greet_user(whatever)"
   ]
  },
  {
   "cell_type": "markdown",
   "id": "285b175a",
   "metadata": {},
   "source": [
    "# Chap # 43: Functions - Passing Information Keyword Arguements"
   ]
  },
  {
   "cell_type": "code",
   "execution_count": 37,
   "id": "8d49268d",
   "metadata": {},
   "outputs": [],
   "source": [
    "def say_names_of_couple(husband_name, wife_name):\n",
    "    print(f\"The names of the couple are {husband_name} and {wife_name}\")"
   ]
  },
  {
   "cell_type": "code",
   "execution_count": 40,
   "id": "6a427e23",
   "metadata": {},
   "outputs": [
    {
     "name": "stdout",
     "output_type": "stream",
     "text": [
      "The names of the couple are Nadeem and Saima\n"
     ]
    }
   ],
   "source": [
    "say_names_of_couple(wife_name = \"Saima\", husband_name = \"Nadeem\")"
   ]
  },
  {
   "cell_type": "markdown",
   "id": "32883618",
   "metadata": {},
   "source": [
    "# Chap # 44: Functions - Passing Information Default Values Arguements"
   ]
  },
  {
   "cell_type": "code",
   "execution_count": 48,
   "id": "4260dd2e",
   "metadata": {},
   "outputs": [],
   "source": [
    "def calc_tax(total_sales, tax_rate = 0.04):\n",
    "    print(f\"Your sales tax is {total_sales * tax_rate} rupees\")"
   ]
  },
  {
   "cell_type": "code",
   "execution_count": 49,
   "id": "dc6b6a3a",
   "metadata": {},
   "outputs": [
    {
     "name": "stdout",
     "output_type": "stream",
     "text": [
      "Your sales tax is 40000000.0 rupees\n"
     ]
    }
   ],
   "source": [
    "calc_tax(total_sales = 1000000000)"
   ]
  },
  {
   "cell_type": "code",
   "execution_count": 92,
   "id": "089ac929",
   "metadata": {},
   "outputs": [],
   "source": [
    "def nums(num_1 = 2, num_2 = 3):\n",
    "    print(num_1, num_2, num_1 + num_2)"
   ]
  },
  {
   "cell_type": "code",
   "execution_count": 94,
   "id": "4c30e420",
   "metadata": {},
   "outputs": [
    {
     "name": "stdout",
     "output_type": "stream",
     "text": [
      "2 3 5\n"
     ]
    }
   ],
   "source": [
    "nums()\n"
   ]
  },
  {
   "cell_type": "code",
   "execution_count": 100,
   "id": "dfe556d0",
   "metadata": {},
   "outputs": [],
   "source": [
    "def add_numbers(first_number = 2, second_number = 4):\n",
    "    total = first_number + second_number\n",
    "    print(first_number, second_number, total)"
   ]
  },
  {
   "cell_type": "code",
   "execution_count": 101,
   "id": "bcb19161",
   "metadata": {},
   "outputs": [
    {
     "name": "stdout",
     "output_type": "stream",
     "text": [
      "2 4 6\n"
     ]
    }
   ],
   "source": [
    "add_numbers()"
   ]
  },
  {
   "cell_type": "code",
   "execution_count": 102,
   "id": "1ed556e0",
   "metadata": {},
   "outputs": [
    {
     "name": "stdout",
     "output_type": "stream",
     "text": [
      "3 5 8\n"
     ]
    }
   ],
   "source": [
    "add_numbers(first_number = 3, second_number = 5)"
   ]
  },
  {
   "cell_type": "code",
   "execution_count": 103,
   "id": "3ff03f1b",
   "metadata": {},
   "outputs": [
    {
     "name": "stdout",
     "output_type": "stream",
     "text": [
      "3 4 7\n"
     ]
    }
   ],
   "source": [
    "add_numbers(first_number = 3)"
   ]
  },
  {
   "cell_type": "markdown",
   "id": "ce5d4862",
   "metadata": {},
   "source": [
    "# Chap # 45: Functions - Mixing Positional & Keyword Arguements"
   ]
  },
  {
   "cell_type": "code",
   "execution_count": 108,
   "id": "de360a3c",
   "metadata": {},
   "outputs": [],
   "source": [
    "def give_greetings(greetings, last_name = \"Koondhar\"):\n",
    "    print(f\"{greetings}! {last_name}\")"
   ]
  },
  {
   "cell_type": "code",
   "execution_count": 109,
   "id": "ad29d9fd",
   "metadata": {},
   "outputs": [
    {
     "name": "stdout",
     "output_type": "stream",
     "text": [
      "Good Day! Koondhar\n"
     ]
    }
   ],
   "source": [
    "give_greetings(greetings = \"Good Day\")"
   ]
  },
  {
   "cell_type": "code",
   "execution_count": 110,
   "id": "a338a4d7",
   "metadata": {},
   "outputs": [
    {
     "name": "stdout",
     "output_type": "stream",
     "text": [
      "Good Day! Saima Nadeem\n"
     ]
    }
   ],
   "source": [
    "give_greetings(greetings = \"Good Day\", last_name = \"Saima Nadeem\")"
   ]
  },
  {
   "cell_type": "code",
   "execution_count": 111,
   "id": "b0ec2206",
   "metadata": {},
   "outputs": [],
   "source": [
    "def give_greetings(greetings, last_name = \"Koondhar\", flattering_nickname = \" the Wonder Boy\"):\n",
    "    print(f\"{greetings}! {last_name + flattering_nickname}\")"
   ]
  },
  {
   "cell_type": "code",
   "execution_count": 112,
   "id": "490fe332",
   "metadata": {},
   "outputs": [
    {
     "name": "stdout",
     "output_type": "stream",
     "text": [
      "Weldone! Koondhar the Wonder Boy\n"
     ]
    }
   ],
   "source": [
    "give_greetings(greetings = \"Weldone\")"
   ]
  },
  {
   "cell_type": "code",
   "execution_count": 115,
   "id": "979e56ec",
   "metadata": {},
   "outputs": [
    {
     "data": {
      "text/plain": [
       "{0: {1: [1, 2, 3, 4, 5]}}"
      ]
     },
     "execution_count": 115,
     "metadata": {},
     "output_type": "execute_result"
    }
   ],
   "source": [
    "customers = {\n",
    "    0: {\n",
    "        1: [1, 2, 3, 4, 5],\n",
    "    },\n",
    "}\n",
    "\n",
    "customers"
   ]
  },
  {
   "cell_type": "code",
   "execution_count": 116,
   "id": "79ebc61b",
   "metadata": {},
   "outputs": [],
   "source": [
    "customers = {\n",
    "    0: {\n",
    "        \"first name\":\"John\",\n",
    "        \"last name\": \"Ogden\",\n",
    "        \"address\": \"301 Arbor Rd.\",\n",
    "        },\n",
    "    1: {\n",
    "        \"first name\":\"Ann\",\n",
    "        \"last name\": \"Sattermyer\",\n",
    "        \"address\": \"PO Box 1145\",\n",
    "    },\n",
    "    2: {\n",
    "        \"first name\":\"Jill\",\n",
    "        \"last name\": \"Somers\",\n",
    "        \"address\": \"3 Main St.\",\n",
    "    },\n",
    "}"
   ]
  },
  {
   "cell_type": "code",
   "execution_count": 118,
   "id": "5ad1f653",
   "metadata": {},
   "outputs": [
    {
     "name": "stdout",
     "output_type": "stream",
     "text": [
      "Somers\n"
     ]
    }
   ],
   "source": [
    "def find_something(dict, customer, finding):\n",
    "    print(dict[customer][finding])\n",
    "\n",
    "find_something(customers, 2, \"last name\")"
   ]
  },
  {
   "cell_type": "markdown",
   "id": "c1649d3d",
   "metadata": {},
   "source": [
    "# Chap # 46: Functions - unknown number arguments "
   ]
  },
  {
   "cell_type": "code",
   "execution_count": 129,
   "id": "70e935c2",
   "metadata": {},
   "outputs": [],
   "source": [
    "def display_result(winner, score, **other_info):\n",
    "    print(\"The winner was \" + winner)\n",
    "    print(\"The score was \" + score)\n",
    "    for key, value in other_info.items():\n",
    "        print(key + \": \" + value)\n",
    "    print(other_info)"
   ]
  },
  {
   "cell_type": "code",
   "execution_count": 130,
   "id": "aec0f7c1",
   "metadata": {},
   "outputs": [
    {
     "name": "stdout",
     "output_type": "stream",
     "text": [
      "The winner was The Real Madrid\n",
      "The score was 1-0\n",
      "Overtime: Yes\n",
      "Injuries: None\n",
      "{'Overtime': 'Yes', 'Injuries': 'None'}\n"
     ]
    }
   ],
   "source": [
    "display_result(winner = \"The Real Madrid\", score = \"1-0\", Overtime = \"Yes\", Injuries = \"None\")"
   ]
  },
  {
   "cell_type": "code",
   "execution_count": 137,
   "id": "c11930b2",
   "metadata": {},
   "outputs": [],
   "source": [
    "def display_nums(first_num, second_num, *optional_num):\n",
    "    print(first_num)\n",
    "    print(second_num)\n",
    "    for a_num in optional_num:\n",
    "        print(a_num)\n",
    "    print(optional_num)"
   ]
  },
  {
   "cell_type": "code",
   "execution_count": 138,
   "id": "0a8072ab",
   "metadata": {},
   "outputs": [
    {
     "name": "stdout",
     "output_type": "stream",
     "text": [
      "1\n",
      "2\n",
      "5\n",
      "7\n",
      "8\n",
      "9\n",
      "4\n",
      "5\n",
      "1\n",
      "2\n",
      "3\n",
      "(5, 7, 8, 9, 4, 5, 1, 2, 3)\n"
     ]
    }
   ],
   "source": [
    "display_nums(1, 2, 5, 7, 8, 9, 4, 5, 1, 2, 3)"
   ]
  },
  {
   "cell_type": "markdown",
   "id": "f1b88a29",
   "metadata": {},
   "source": [
    "# Chap # 47: Functions - Passing Information back to them"
   ]
  },
  {
   "cell_type": "code",
   "execution_count": 142,
   "id": "3521ea35",
   "metadata": {},
   "outputs": [],
   "source": [
    "def calc_tax(sales_total, tax_rate):\n",
    "    tax = sales_total * tax_rate\n",
    "    print(tax)"
   ]
  },
  {
   "cell_type": "code",
   "execution_count": 143,
   "id": "c398317e",
   "metadata": {},
   "outputs": [
    {
     "data": {
      "text/plain": [
       "5.0685"
      ]
     },
     "execution_count": 143,
     "metadata": {},
     "output_type": "execute_result"
    }
   ],
   "source": [
    "calc_tax(sales_total = 101.37, tax_rate = .05)"
   ]
  },
  {
   "cell_type": "code",
   "execution_count": 144,
   "id": "ee23f3f7",
   "metadata": {},
   "outputs": [],
   "source": [
    "def calc_tax(sales_total, tax_rate):\n",
    "    tax = sales_total * tax_rate\n",
    "    return tax"
   ]
  },
  {
   "cell_type": "code",
   "execution_count": 145,
   "id": "0539f968",
   "metadata": {},
   "outputs": [
    {
     "name": "stdout",
     "output_type": "stream",
     "text": [
      "5.0685\n"
     ]
    }
   ],
   "source": [
    "sales_tax = calc_tax(sales_total = 101.37, tax_rate = .05)\n",
    "\n",
    "print(sales_tax)"
   ]
  },
  {
   "cell_type": "code",
   "execution_count": 159,
   "id": "b7f2c7ad",
   "metadata": {},
   "outputs": [],
   "source": [
    "def a():\n",
    "    return 2"
   ]
  },
  {
   "cell_type": "code",
   "execution_count": 161,
   "id": "4776775a",
   "metadata": {},
   "outputs": [
    {
     "ename": "TypeError",
     "evalue": "'int' object is not callable",
     "output_type": "error",
     "traceback": [
      "\u001b[1;31m---------------------------------------------------------------------------\u001b[0m",
      "\u001b[1;31mTypeError\u001b[0m                                 Traceback (most recent call last)",
      "Input \u001b[1;32mIn [161]\u001b[0m, in \u001b[0;36m<cell line: 2>\u001b[1;34m()\u001b[0m\n\u001b[0;32m      1\u001b[0m a \u001b[38;5;241m=\u001b[39m \u001b[38;5;241m1\u001b[39m\n\u001b[1;32m----> 2\u001b[0m a \u001b[38;5;241m=\u001b[39m \u001b[38;5;28mstr\u001b[39m(\u001b[43ma\u001b[49m\u001b[43m(\u001b[49m\u001b[43m)\u001b[49m)\n",
      "\u001b[1;31mTypeError\u001b[0m: 'int' object is not callable"
     ]
    }
   ],
   "source": [
    "a = 1\n",
    "a = str(a())"
   ]
  },
  {
   "cell_type": "code",
   "execution_count": 163,
   "id": "678fb9e7",
   "metadata": {},
   "outputs": [
    {
     "name": "stdout",
     "output_type": "stream",
     "text": [
      "George\n"
     ]
    }
   ],
   "source": [
    "first_name = \"Hamid\"\n",
    "\n",
    "def func():\n",
    "    first_name = \"George\"\n",
    "    print(first_name)\n",
    "\n",
    "func()"
   ]
  },
  {
   "cell_type": "markdown",
   "id": "ba4f64b2",
   "metadata": {},
   "source": [
    "# Chap # 50: Functions - functions within functions"
   ]
  },
  {
   "cell_type": "code",
   "execution_count": 164,
   "id": "d0d3433d",
   "metadata": {},
   "outputs": [],
   "source": [
    "def say_something():\n",
    "    what_to_say = \"Hi\"\n",
    "    print(what_to_say)"
   ]
  },
  {
   "cell_type": "code",
   "execution_count": 165,
   "id": "372f3069",
   "metadata": {},
   "outputs": [
    {
     "name": "stdout",
     "output_type": "stream",
     "text": [
      "Hi\n"
     ]
    }
   ],
   "source": [
    "say_something()"
   ]
  },
  {
   "cell_type": "code",
   "execution_count": 182,
   "id": "373f87f5",
   "metadata": {},
   "outputs": [],
   "source": [
    "def now_say_it(what_to_say):\n",
    "    print(what_to_say)\n",
    "\n",
    "def say_something():\n",
    "    what_to_say = \"Hi\"\n",
    "    now_say_it(what_to_say)"
   ]
  },
  {
   "cell_type": "code",
   "execution_count": 183,
   "id": "5b3502a8",
   "metadata": {},
   "outputs": [
    {
     "name": "stdout",
     "output_type": "stream",
     "text": [
      "Hi\n"
     ]
    }
   ],
   "source": [
    "say_something()"
   ]
  },
  {
   "cell_type": "code",
   "execution_count": 192,
   "id": "d884e868",
   "metadata": {},
   "outputs": [
    {
     "data": {
      "text/plain": [
       "17"
      ]
     },
     "execution_count": 192,
     "metadata": {},
     "output_type": "execute_result"
    }
   ],
   "source": [
    "def outer_function(a, b):\n",
    "    \n",
    "    def inner_function(a, b):\n",
    "        return a + b\n",
    "    \n",
    "    return inner_function(a, b) + 5\n",
    "\n",
    "outer_function(2, 10)"
   ]
  },
  {
   "cell_type": "code",
   "execution_count": null,
   "id": "2af12536",
   "metadata": {},
   "outputs": [],
   "source": []
  },
  {
   "cell_type": "code",
   "execution_count": null,
   "id": "e2e06a51",
   "metadata": {},
   "outputs": [],
   "source": [
    "# outer function\n",
    "def outer_fun(a, b):\n",
    "    \n",
    "    # inner function\n",
    "    def addition(a, b):\n",
    "        return a + b\n",
    "\n",
    "    # call inner function from outer function\n",
    "    add = addition(a, b)\n",
    "    # add 5 to the result\n",
    "    return add + 5\n",
    "\n",
    "result = outer_fun(5, 10)\n",
    "print(result)\n"
   ]
  },
  {
   "cell_type": "markdown",
   "id": "b3df4482",
   "metadata": {},
   "source": [
    "# Chap # 51: While Loop"
   ]
  },
  {
   "cell_type": "code",
   "execution_count": 196,
   "id": "df7e1285",
   "metadata": {},
   "outputs": [
    {
     "name": "stdout",
     "output_type": "stream",
     "text": [
      "Enter the name of a city: santa fe\n"
     ]
    }
   ],
   "source": [
    "cleanest_cities = [\"Cheyenne\", \"Santa Fe\", \"Tucson\", \"Great Falls\", \"Honolulu\"]\n",
    "\n",
    "city_to_check = input(\"Enter the name of a city: \")\n",
    "\n",
    "for a_clean_city in cleanest_cities:\n",
    "    if city_to_check == a_clean_city:\n",
    "        print(\"It's one of the cleanest cities\")"
   ]
  },
  {
   "cell_type": "code",
   "execution_count": 201,
   "id": "ed94cd17",
   "metadata": {},
   "outputs": [
    {
     "name": "stdout",
     "output_type": "stream",
     "text": [
      "Enter a city you want to check or enter q to terminatedil\n",
      "dil is not one of the cleanest cities\n",
      "Enter a city you want to check or enter q to terminatedilber\n",
      "dilber is not one of the cleanest cities\n",
      "Enter a city you want to check or enter q to terminatebihter\n",
      "bihter is not one of the cleanest cities\n",
      "Enter a city you want to check or enter q to terminateCheyenne\n",
      "Cheyenne is one of the cleanest cities\n",
      "Enter a city you want to check or enter q to terminateq\n"
     ]
    }
   ],
   "source": [
    "user_input = \"\"\n",
    "\n",
    "while user_input != \"q\":\n",
    "    user_input = input(\"Enter a city you want to check or enter q to terminate\")\n",
    "    if user_input != \"q\":\n",
    "        for a_clean_city in cleanest_cities:\n",
    "            if user_input == a_clean_city:\n",
    "                print(f\"{user_input} is one of the cleanest cities\")\n",
    "                break\n",
    "            else:\n",
    "                print(f\"{user_input} is not one of the cleanest cities\")\n",
    "                break"
   ]
  },
  {
   "cell_type": "markdown",
   "id": "e35016b7",
   "metadata": {},
   "source": [
    "# Chap # 52: Setting up a flag"
   ]
  },
  {
   "cell_type": "code",
   "execution_count": 203,
   "id": "8fd8a4b4",
   "metadata": {},
   "outputs": [
    {
     "name": "stdout",
     "output_type": "stream",
     "text": [
      "Enter a city, or q to quit:Cheynne\n",
      "Enter a city, or q to quit:Cheyenne\n",
      "It's one of the cleanest cities\n",
      "Enter a city, or q to quit:q\n"
     ]
    }
   ],
   "source": [
    "keep_looping = True\n",
    "\n",
    "while keep_looping == True:\n",
    "    user_input = input(\"Enter a city, or q to quit:\")\n",
    "    if user_input != \"q\":\n",
    "        for a_clean_city in cleanest_cities:\n",
    "            if user_input == a_clean_city:\n",
    "                print(\"It's one of the cleanest cities\")\n",
    "                break\n",
    "    else:\n",
    "        keep_looping = False"
   ]
  },
  {
   "cell_type": "markdown",
   "id": "f5273c93",
   "metadata": {},
   "source": [
    "# Chap # 53, 54: OOP Classes"
   ]
  },
  {
   "cell_type": "markdown",
   "id": "f4d4871b",
   "metadata": {},
   "source": [
    "# Chap # 55: OOP Classes - house keeping"
   ]
  },
  {
   "cell_type": "code",
   "execution_count": null,
   "id": "beae24d9",
   "metadata": {},
   "outputs": [],
   "source": [
    "class Patient():\n",
    "    def __init__(self, last_name):\n",
    "        self.last_name = last_name\n",
    "        "
   ]
  },
  {
   "cell_type": "markdown",
   "id": "e6fd90eb",
   "metadata": {},
   "source": [
    "# Chap # 56: OOP Classes - creating an instance"
   ]
  },
  {
   "cell_type": "markdown",
   "id": "6c7ce2bd",
   "metadata": {},
   "source": [
    "# Chap # 57: OOP Classes - A little more complexity"
   ]
  },
  {
   "cell_type": "code",
   "execution_count": 208,
   "id": "7c8f582a",
   "metadata": {},
   "outputs": [],
   "source": [
    "class Patient():\n",
    "    def __init__(self, last_name):\n",
    "        self.last_name = last_name\n",
    "\n",
    "pid4343 = Patient(\"Taleb\")\n",
    "pid4344 = Patient(\"Anand\")\n",
    "pid4345 = Patient(\"Oppenheimer\")\n",
    "pid4346 = Patient(\"Lin\")\n",
    "pid12902 = Patient(\"Nilsson\")"
   ]
  },
  {
   "cell_type": "code",
   "execution_count": 209,
   "id": "12be8e1b",
   "metadata": {},
   "outputs": [
    {
     "name": "stdout",
     "output_type": "stream",
     "text": [
      "<__main__.Patient object at 0x0000024DC2534460>\n"
     ]
    }
   ],
   "source": [
    "print(pid4343)"
   ]
  },
  {
   "cell_type": "code",
   "execution_count": 210,
   "id": "b0c14b55",
   "metadata": {},
   "outputs": [
    {
     "name": "stdout",
     "output_type": "stream",
     "text": [
      "<__main__.Patient object at 0x0000024DC2534A00>\n"
     ]
    }
   ],
   "source": [
    "print(pid4344)"
   ]
  },
  {
   "cell_type": "code",
   "execution_count": 211,
   "id": "592444de",
   "metadata": {},
   "outputs": [
    {
     "name": "stdout",
     "output_type": "stream",
     "text": [
      "<__main__.Patient object at 0x0000024DC2534BE0>\n"
     ]
    }
   ],
   "source": [
    "print(pid4345)"
   ]
  },
  {
   "cell_type": "code",
   "execution_count": 212,
   "id": "5b9517bb",
   "metadata": {},
   "outputs": [
    {
     "name": "stdout",
     "output_type": "stream",
     "text": [
      "<__main__.Patient object at 0x0000024DC261B400>\n"
     ]
    }
   ],
   "source": [
    "print(pid4346)"
   ]
  },
  {
   "cell_type": "code",
   "execution_count": 214,
   "id": "4f261c83",
   "metadata": {},
   "outputs": [
    {
     "name": "stdout",
     "output_type": "stream",
     "text": [
      "<__main__.Patient object at 0x0000024DC261B040>\n"
     ]
    }
   ],
   "source": [
    "print(pid12902)"
   ]
  },
  {
   "cell_type": "code",
   "execution_count": 216,
   "id": "2de3c5c6",
   "metadata": {},
   "outputs": [],
   "source": [
    "class Patient():\n",
    "    def __init__(self, last_name, first_name, age):\n",
    "        self.last_name = last_name\n",
    "        self.first_name = first_name\n",
    "        self.age = age\n",
    "\n",
    "pid4343 = Patient(\"Taleb\", \"Sue\", 61)\n",
    "pid4344 = Patient(\"Anand\", \"Punya\", 29)\n",
    "pid4345 = Patient(\"Oppenheimer\", \"Douglas\", 15)\n",
    "pid4346 = Patient(\"Lin\", \"Lilly\", 48)\n",
    "pid12902 = Patient(\"Nilsson\", \"Rhonda\", 33)"
   ]
  },
  {
   "cell_type": "markdown",
   "id": "10171f89",
   "metadata": {},
   "source": [
    "# Chap # 57: OOP Classes - A little more complexity"
   ]
  },
  {
   "cell_type": "code",
   "execution_count": 217,
   "id": "aa1184f2",
   "metadata": {},
   "outputs": [
    {
     "data": {
      "text/plain": [
       "61"
      ]
     },
     "execution_count": 217,
     "metadata": {},
     "output_type": "execute_result"
    }
   ],
   "source": [
    "age_of_patient = pid4343.age\n",
    "age_of_patient"
   ]
  },
  {
   "cell_type": "code",
   "execution_count": 218,
   "id": "05e3fdc8",
   "metadata": {},
   "outputs": [
    {
     "name": "stdout",
     "output_type": "stream",
     "text": [
      "61\n"
     ]
    }
   ],
   "source": [
    "print(pid4343.age)"
   ]
  },
  {
   "cell_type": "code",
   "execution_count": 222,
   "id": "99ade038",
   "metadata": {},
   "outputs": [],
   "source": [
    "class Patient():\n",
    "    def __init__(self, last_name, first_name, age):\n",
    "        self.last_name = last_name\n",
    "        self.first_name = first_name\n",
    "        self.age = age\n",
    "    def say_if_minor(self):\n",
    "        if self.age < 21:\n",
    "            print(\"This patient is a minor\")\n",
    "    def change_last_name(self, new_last_name):\n",
    "        self.last_name = new_last_name"
   ]
  },
  {
   "cell_type": "code",
   "execution_count": 224,
   "id": "5fdba1df",
   "metadata": {},
   "outputs": [
    {
     "ename": "AttributeError",
     "evalue": "'Patient' object has no attribute 'change_last_name'",
     "output_type": "error",
     "traceback": [
      "\u001b[1;31m---------------------------------------------------------------------------\u001b[0m",
      "\u001b[1;31mAttributeError\u001b[0m                            Traceback (most recent call last)",
      "Input \u001b[1;32mIn [224]\u001b[0m, in \u001b[0;36m<cell line: 1>\u001b[1;34m()\u001b[0m\n\u001b[1;32m----> 1\u001b[0m \u001b[43mpid4343\u001b[49m\u001b[38;5;241;43m.\u001b[39;49m\u001b[43mchange_last_name\u001b[49m(\u001b[38;5;124m\"\u001b[39m\u001b[38;5;124mOrtega\u001b[39m\u001b[38;5;124m\"\u001b[39m)\n",
      "\u001b[1;31mAttributeError\u001b[0m: 'Patient' object has no attribute 'change_last_name'"
     ]
    }
   ],
   "source": [
    "pid4343.change_last_name(\"Ortega\")"
   ]
  },
  {
   "cell_type": "markdown",
   "id": "412f4a8f",
   "metadata": {},
   "source": [
    "# Chap # 62: OOP Classes - Data Files"
   ]
  },
  {
   "cell_type": "code",
   "execution_count": null,
   "id": "48013ce3",
   "metadata": {},
   "outputs": [],
   "source": [
    "with open(\"whatever.txt\", \"w\") as file_to_work_with:"
   ]
  },
  {
   "cell_type": "markdown",
   "id": "8af1c524",
   "metadata": {},
   "source": [
    "# Chap # 63: OOP Classes - Data Files - Storing data"
   ]
  },
  {
   "cell_type": "code",
   "execution_count": 225,
   "id": "f731f4e2",
   "metadata": {},
   "outputs": [],
   "source": [
    "with open(\"greet.txt\", \"w\") as f:\n",
    "    f.write(\"Hello, Nadeem! How are you?\")"
   ]
  },
  {
   "cell_type": "code",
   "execution_count": 226,
   "id": "769fc041",
   "metadata": {},
   "outputs": [],
   "source": [
    "with open(\"greet.txt\", \"a\") as f:\n",
    "    f.write(\"\\nHave a nice day man\")"
   ]
  },
  {
   "cell_type": "code",
   "execution_count": 227,
   "id": "9e120b18",
   "metadata": {},
   "outputs": [
    {
     "name": "stdout",
     "output_type": "stream",
     "text": [
      "Hello, Nadeem! How are you?\n",
      "Have a nice day man\n"
     ]
    }
   ],
   "source": [
    "with open(\"greet.txt\") as f:\n",
    "    message = f.read()\n",
    "    print(message)"
   ]
  },
  {
   "cell_type": "markdown",
   "id": "8ef91195",
   "metadata": {},
   "source": [
    "# Chap # 66: OOP Classes - Data Files - Modules"
   ]
  },
  {
   "cell_type": "code",
   "execution_count": 239,
   "id": "9ecf18e0",
   "metadata": {},
   "outputs": [
    {
     "name": "stdout",
     "output_type": "stream",
     "text": [
      "Hi man, have a good day\n"
     ]
    }
   ],
   "source": [
    "import greet_the_user\n",
    "\n",
    "greet_the_user.greeting()"
   ]
  },
  {
   "cell_type": "code",
   "execution_count": 241,
   "id": "3c0ab096",
   "metadata": {},
   "outputs": [
    {
     "name": "stdout",
     "output_type": "stream",
     "text": [
      "['Potion', 'Effect', 'Telltale Property', 'Amortentia', 'Love', 'Steam', 'Confusing Concoction', 'Confusion', 'Nausea', 'Draught of Living Death', 'Sleep', 'Turns leaf to ashes', 'Draught of Peace', 'Comfort', 'None', 'Felix Felicis', 'Luck', 'Giddiness', 'Hiccoughing Potion', 'Stops hiccoughs', 'None', 'Pepperup Potion', 'Health', 'Steaming Ears', 'Polyjuice Potion', 'Shape shifting', 'Voice change', 'Skele-Gro', 'Bone growth', 'Disgusting taste', \"Sleekeazy's Hair Potion\", 'Hair straightener', 'None', 'Veritaserum', 'Truth-telling', 'None']\n"
     ]
    }
   ],
   "source": [
    "import csv\n",
    "\n",
    "with open(\"potions.csv\") as f:\n",
    "    x = []\n",
    "    contents = csv.reader(f)\n",
    "    for a_line in contents:\n",
    "        x += a_line\n",
    "print(x)"
   ]
  },
  {
   "cell_type": "code",
   "execution_count": null,
   "id": "4feca7e8",
   "metadata": {},
   "outputs": [],
   "source": [
    "# Chap # 69:"
   ]
  },
  {
   "cell_type": "code",
   "execution_count": 243,
   "id": "d2f9ee0a",
   "metadata": {},
   "outputs": [
    {
     "name": "stdout",
     "output_type": "stream",
     "text": [
      "Enter the name of competitionTelltale Property\n",
      "The winner of competition Telltale Property was Amortentia\n"
     ]
    }
   ],
   "source": [
    "target = input(\"Enter the name of competition\")\n",
    "index_number_of_target = x.index(target)\n",
    "index_number_of_winner = index_number_of_target + 1\n",
    "the_winner = x[index_number_of_winner]\n",
    "print(f\"The winner of competition {target} was {the_winner}\")"
   ]
  },
  {
   "cell_type": "code",
   "execution_count": 244,
   "id": "60028f2b",
   "metadata": {},
   "outputs": [
    {
     "name": "stdout",
     "output_type": "stream",
     "text": [
      "['KGT Mubtadi to Multazim', '', '', '', '', '', 'Sr #', 'Rafeeq Name', 'Naqeeb', 'Status', 'Wafd', 'Remarks', '8', 'Abdul Kareem', 'AG', 'No', 'N/A', 'Already Confirmed', '20', 'Shamshad Ali', 'AG', 'No', 'SUR, SWA & NHK', '', '4', 'Zohaib Zafar', 'GH', 'No', 'MRU, SWA & NHK', '', '7', 'Hafiz Muaaz Tahir', 'GH', 'No', 'N/A', 'Already Confirmed', '2', 'Mazhar Shehzaad', 'MRU', 'No', 'SUR, SWA & NHK', '', '5', 'Muhammad Junaid Ali', 'MRU', 'No', 'SUR, SWA & NHK', '', '6', 'Adnan', 'MRU', 'No', 'SUR, SWA & NHK', '', '11', 'Talha Ali', 'MRU', 'No', 'SUR, Ab.S & GH', '', '12', 'Aamir Hussain', 'MRU', 'No', 'SUR, SWA & NHK', '', '18', 'Imtiaz Ahmed Riaz', 'MRU', 'No', 'SUR, SWA & NHK', '', '1', 'Abdul Khaliq', 'NHK', 'No', 'SUR, SWA & NHK', '', '3', 'Muhammad Abdul Raheem Saad', 'NHK', 'No', 'SUR, SWA & NHK', '', '13', 'Altaf Hussain Abbassi', 'NHK', 'No', 'AG & NHK', '', '14', 'Muhammad Younus', 'NHK', 'No', '', '', '9', 'Furqan Fareed', 'SUR', 'No', 'SUR, Ab.S & GH', '', '10', 'Abdul Qadeer', 'SUR', 'No', 'SUR, Ab.S & GH', '', '16', 'Wajahat Alam', 'SUR', 'No', '', '', '19', 'Hamza Qadeer', 'SUR', 'No', 'SUR, SWA & NHK', '', '15', 'Muhammad Ali ud Deen', 'SWA', 'No', '', '', '17', 'Hassaan ud Deen', 'SWA', 'No', 'SUR, Ab.S & GH', '']\n"
     ]
    }
   ],
   "source": [
    "with open(\"KGT Terbiatgaah List (2).csv\") as f:\n",
    "    x = []\n",
    "    contents = csv.reader(f)\n",
    "    for a_line in contents:\n",
    "        x += a_line\n",
    "print(x)"
   ]
  },
  {
   "cell_type": "code",
   "execution_count": 246,
   "id": "455e4cdc",
   "metadata": {},
   "outputs": [
    {
     "name": "stdout",
     "output_type": "stream",
     "text": [
      "SUR, Ab.S & GH\n"
     ]
    }
   ],
   "source": [
    "print(x[100])"
   ]
  },
  {
   "cell_type": "code",
   "execution_count": 247,
   "id": "ef53d46b",
   "metadata": {},
   "outputs": [
    {
     "name": "stdout",
     "output_type": "stream",
     "text": [
      "132\n"
     ]
    }
   ],
   "source": [
    "print(len(x))"
   ]
  },
  {
   "cell_type": "code",
   "execution_count": 249,
   "id": "d501f03d",
   "metadata": {},
   "outputs": [
    {
     "name": "stdout",
     "output_type": "stream",
     "text": [
      "127\n"
     ]
    }
   ],
   "source": [
    "print(x.index('Hassaan ud Deen'))"
   ]
  },
  {
   "cell_type": "code",
   "execution_count": 250,
   "id": "bce30158",
   "metadata": {},
   "outputs": [
    {
     "name": "stdout",
     "output_type": "stream",
     "text": [
      "['KGT Mubtadi to Multazim', '', '', '', '', '', 'Sr #', 'Rafeeq Name', 'Naqeeb', 'Status', 'Wafd', 'Remarks', '8', 'Abdul Kareem', 'AG', 'No', 'N/A', 'Already Confirmed', '20', 'Shamshad Ali', 'AG', 'No', 'SUR, SWA & NHK', '', '4', 'Zohaib Zafar', 'GH', 'No', 'MRU, SWA & NHK', '', '7', 'Hafiz Muaaz Tahir', 'GH', 'No', 'N/A', 'Already Confirmed', '2', 'Mazhar Shehzaad', 'MRU', 'No', 'SUR, SWA & NHK', '', '5', 'Muhammad Junaid Ali', 'MRU', 'No', 'SUR, SWA & NHK', '', '6', 'Adnan', 'MRU', 'No', 'SUR, SWA & NHK', '', '11', 'Talha Ali', 'MRU', 'No', 'SUR, Ab.S & GH', '', '12', 'Aamir Hussain', 'MRU', 'No', 'SUR, SWA & NHK', '', '18', 'Imtiaz Ahmed Riaz', 'MRU', 'No', 'SUR, SWA & NHK', '', '1', 'Abdul Khaliq', 'NHK', 'No', 'SUR, SWA & NHK', '', '3', 'Muhammad Abdul Raheem Saad', 'NHK', 'No', 'SUR, SWA & NHK', '', '13', 'Altaf Hussain Abbassi', 'NHK', 'No', 'AG & NHK', '', '14', 'Muhammad Younus', 'NHK', 'No', '', '', '9', 'Furqan Fareed', 'SUR', 'No', 'SUR, Ab.S & GH', '', '10', 'Abdul Qadeer', 'SUR', 'No', 'SUR, Ab.S & GH', '', '16', 'Wajahat Alam', 'SUR', 'No', '', '', '19', 'Hamza Qadeer', 'SUR', 'No', 'SUR, SWA & NHK', '', '15', 'Muhammad Ali ud Deen', 'SWA', 'No', '', '', '17', 'Hassaan ud Deen', 'SWA', 'No', 'SUR, Ab.S & GH', '']\n"
     ]
    }
   ],
   "source": [
    "with open(\"KGT Terbiatgaah List (2).csv\") as f:\n",
    "    content = csv.reader(f)\n",
    "    x = []\n",
    "    for a_line in content:\n",
    "        x += a_line\n",
    "print(x)"
   ]
  },
  {
   "cell_type": "code",
   "execution_count": null,
   "id": "e395cdca",
   "metadata": {},
   "outputs": [],
   "source": [
    "with open(\"whatever.csv\", \"w\", newline=\"\") as f:\n",
    "2 data_handler = csv.writer(f, delimiter=\",\")\n",
    "3 data_handler.writerow([\"Year\", \"Event\",\n",
    "\"Winner\"])\n",
    "4 data_handler.writerow([\"1995\", \"Best-Kept Lawn\",\n",
    "\"None\"])\n",
    "5 data_handler.writerow([\"1999\", \"Gobstones\",\n",
    "\"Welch National\"])"
   ]
  },
  {
   "cell_type": "code",
   "execution_count": 263,
   "id": "905cea16",
   "metadata": {},
   "outputs": [],
   "source": [
    "with open(\"competitions.csv\", \"w\", newline=\"\") as f:\n",
    "    data_handler = csv.writer(f, delimiter = \",\")\n",
    "    data_handler.writerow([\"Year\", \"Event\", \"Winner\"])\n",
    "    data_handler.writerow([\"1995\", \"Best-Kept Lawn\", \"None\"])\n",
    "    data_handler.writerow([\"1999\", \"Gobstones\", \"Welch National\"])"
   ]
  },
  {
   "cell_type": "code",
   "execution_count": 255,
   "id": "2e12337b",
   "metadata": {},
   "outputs": [
    {
     "name": "stdout",
     "output_type": "stream",
     "text": [
      "<_csv.writer object at 0x0000024DC280A310>\n"
     ]
    }
   ],
   "source": [
    "print(data_handler)"
   ]
  },
  {
   "cell_type": "code",
   "execution_count": 268,
   "id": "5e0734e4",
   "metadata": {
    "scrolled": true
   },
   "outputs": [
    {
     "ename": "NameError",
     "evalue": "name 'csv' is not defined",
     "output_type": "error",
     "traceback": [
      "\u001b[1;31m---------------------------------------------------------------------------\u001b[0m",
      "\u001b[1;31mNameError\u001b[0m                                 Traceback (most recent call last)",
      "Input \u001b[1;32mIn [268]\u001b[0m, in \u001b[0;36m<cell line: 2>\u001b[1;34m()\u001b[0m\n\u001b[0;32m      1\u001b[0m \u001b[38;5;28;01mimport\u001b[39;00m \u001b[38;5;21;01mthree_by_3\u001b[39;00m\n\u001b[1;32m----> 2\u001b[0m \u001b[43mthree_by_3\u001b[49m\u001b[38;5;241;43m.\u001b[39;49m\u001b[43mcreate_csv\u001b[49m\u001b[43m(\u001b[49m\u001b[43m)\u001b[49m\n",
      "File \u001b[1;32m~\\OneDrive\\Education, Profession & Affiliations\\Nadeem Hussain\\Software Development\\PIAIC\\PIAIC Batch 36-37\\Quarter 01\\02 Python\\Books\\three_by_3.py:3\u001b[0m, in \u001b[0;36mcreate_csv\u001b[1;34m()\u001b[0m\n\u001b[0;32m      1\u001b[0m \u001b[38;5;28;01mdef\u001b[39;00m \u001b[38;5;21mcreate_csv\u001b[39m():\n\u001b[0;32m      2\u001b[0m     \u001b[38;5;28;01mwith\u001b[39;00m \u001b[38;5;28mopen\u001b[39m(\u001b[38;5;124m\"\u001b[39m\u001b[38;5;124mthree_by_3.csv\u001b[39m\u001b[38;5;124m\"\u001b[39m, \u001b[38;5;124m\"\u001b[39m\u001b[38;5;124mw\u001b[39m\u001b[38;5;124m\"\u001b[39m, newline \u001b[38;5;241m=\u001b[39m \u001b[38;5;124m\"\u001b[39m\u001b[38;5;124m\"\u001b[39m) \u001b[38;5;28;01mas\u001b[39;00m f:\n\u001b[1;32m----> 3\u001b[0m         data_handle \u001b[38;5;241m=\u001b[39m \u001b[43mcsv\u001b[49m\u001b[38;5;241m.\u001b[39mwriter(f, delimter \u001b[38;5;241m=\u001b[39m \u001b[38;5;124m\"\u001b[39m\u001b[38;5;124m,\u001b[39m\u001b[38;5;124m\"\u001b[39m)\n\u001b[0;32m      4\u001b[0m         data_handle\u001b[38;5;241m.\u001b[39mwriterow([\u001b[38;5;124m\"\u001b[39m\u001b[38;5;124mName\u001b[39m\u001b[38;5;124m\"\u001b[39m, \u001b[38;5;124m\"\u001b[39m\u001b[38;5;124mAge\u001b[39m\u001b[38;5;124m\"\u001b[39m, \u001b[38;5;124m\"\u001b[39m\u001b[38;5;124mGender\u001b[39m\u001b[38;5;124m\"\u001b[39m])\n\u001b[0;32m      5\u001b[0m         data_handle\u001b[38;5;241m.\u001b[39mwriterow([\u001b[38;5;124m\"\u001b[39m\u001b[38;5;124mNadeem\u001b[39m\u001b[38;5;124m\"\u001b[39m, \u001b[38;5;124m\"\u001b[39m\u001b[38;5;124m38\u001b[39m\u001b[38;5;124m\"\u001b[39m, \u001b[38;5;124m\"\u001b[39m\u001b[38;5;124mMale\u001b[39m\u001b[38;5;124m\"\u001b[39m])\n",
      "\u001b[1;31mNameError\u001b[0m: name 'csv' is not defined"
     ]
    }
   ],
   "source": [
    "import three_by_3\n",
    "three_by_3.create_csv()"
   ]
  },
  {
   "cell_type": "code",
   "execution_count": 270,
   "id": "a400ab76",
   "metadata": {},
   "outputs": [
    {
     "ename": "NameError",
     "evalue": "name 'cvs' is not defined",
     "output_type": "error",
     "traceback": [
      "\u001b[1;31m---------------------------------------------------------------------------\u001b[0m",
      "\u001b[1;31mNameError\u001b[0m                                 Traceback (most recent call last)",
      "Input \u001b[1;32mIn [270]\u001b[0m, in \u001b[0;36m<cell line: 2>\u001b[1;34m()\u001b[0m\n\u001b[0;32m      1\u001b[0m \u001b[38;5;28;01mimport\u001b[39;00m \u001b[38;5;21;01mthree_by3\u001b[39;00m\n\u001b[1;32m----> 2\u001b[0m \u001b[43mthree_by3\u001b[49m\u001b[38;5;241;43m.\u001b[39;49m\u001b[43mcreate_csv\u001b[49m\u001b[43m(\u001b[49m\u001b[43m)\u001b[49m\n",
      "File \u001b[1;32m~\\OneDrive\\Education, Profession & Affiliations\\Nadeem Hussain\\Software Development\\PIAIC\\PIAIC Batch 36-37\\Quarter 01\\02 Python\\Books\\three_by3.py:3\u001b[0m, in \u001b[0;36mcreate_csv\u001b[1;34m()\u001b[0m\n\u001b[0;32m      1\u001b[0m \u001b[38;5;28;01mdef\u001b[39;00m \u001b[38;5;21mcreate_csv\u001b[39m():\n\u001b[0;32m      2\u001b[0m     \u001b[38;5;28;01mwith\u001b[39;00m \u001b[38;5;28mopen\u001b[39m(\u001b[38;5;124m\"\u001b[39m\u001b[38;5;124mthree_by_3.csv\u001b[39m\u001b[38;5;124m\"\u001b[39m, \u001b[38;5;124m\"\u001b[39m\u001b[38;5;124mw\u001b[39m\u001b[38;5;124m\"\u001b[39m, newline\u001b[38;5;241m=\u001b[39m\u001b[38;5;124m\"\u001b[39m\u001b[38;5;124m\"\u001b[39m) \u001b[38;5;28;01mas\u001b[39;00m f:\n\u001b[1;32m----> 3\u001b[0m         data_handle \u001b[38;5;241m=\u001b[39m \u001b[43mcvs\u001b[49m\u001b[38;5;241m.\u001b[39mwriter(f, delimiter\u001b[38;5;241m=\u001b[39m\u001b[38;5;124m\"\u001b[39m\u001b[38;5;124m,\u001b[39m\u001b[38;5;124m\"\u001b[39m)\n\u001b[0;32m      4\u001b[0m         data_handle\u001b[38;5;241m.\u001b[39mwriterow([\u001b[38;5;124m\"\u001b[39m\u001b[38;5;124mName\u001b[39m\u001b[38;5;124m\"\u001b[39m, \u001b[38;5;124m\"\u001b[39m\u001b[38;5;124mAge\u001b[39m\u001b[38;5;124m\"\u001b[39m, \u001b[38;5;124m\"\u001b[39m\u001b[38;5;124mGender\u001b[39m\u001b[38;5;124m\"\u001b[39m])\n\u001b[0;32m      5\u001b[0m         data_handle\u001b[38;5;241m.\u001b[39mwriterow([\u001b[38;5;124m\"\u001b[39m\u001b[38;5;124mNadeem\u001b[39m\u001b[38;5;124m\"\u001b[39m, \u001b[38;5;124m\"\u001b[39m\u001b[38;5;124m38\u001b[39m\u001b[38;5;124m\"\u001b[39m, \u001b[38;5;124m\"\u001b[39m\u001b[38;5;124mMale\u001b[39m\u001b[38;5;124m\"\u001b[39m])\n",
      "\u001b[1;31mNameError\u001b[0m: name 'cvs' is not defined"
     ]
    }
   ],
   "source": [
    "import three_by3\n",
    "three_by3.create_csv()"
   ]
  },
  {
   "cell_type": "code",
   "execution_count": 266,
   "id": "7b2711d5",
   "metadata": {},
   "outputs": [],
   "source": [
    "with open(\"whatever.csv\", \"w\", newline=\"\") as f:\n",
    "    data_handler = csv.writer(f, delimiter=\",\")\n",
    "    data_handler.writerow([\"Year\", \"Event\", \"Winner\"])\n",
    "    data_handler.writerow([\"1995\", \"Best-Kept Lawn\", \"None\"])\n",
    "    data_handler.writerow([\"1999\", \"Gobstones\", \"Welch National\"])"
   ]
  },
  {
   "cell_type": "code",
   "execution_count": null,
   "id": "36d6b241",
   "metadata": {},
   "outputs": [],
   "source": []
  },
  {
   "cell_type": "code",
   "execution_count": 271,
   "id": "4207c17d",
   "metadata": {},
   "outputs": [
    {
     "ename": "TypeError",
     "evalue": "write() argument must be str, not list",
     "output_type": "error",
     "traceback": [
      "\u001b[1;31m---------------------------------------------------------------------------\u001b[0m",
      "\u001b[1;31mTypeError\u001b[0m                                 Traceback (most recent call last)",
      "Input \u001b[1;32mIn [271]\u001b[0m, in \u001b[0;36m<cell line: 2>\u001b[1;34m()\u001b[0m\n\u001b[0;32m      1\u001b[0m alphabet_letters \u001b[38;5;241m=\u001b[39m [\u001b[38;5;124m\"\u001b[39m\u001b[38;5;124ma\u001b[39m\u001b[38;5;124m\"\u001b[39m, \u001b[38;5;124m\"\u001b[39m\u001b[38;5;124mb\u001b[39m\u001b[38;5;124m\"\u001b[39m, \u001b[38;5;124m\"\u001b[39m\u001b[38;5;124mc\u001b[39m\u001b[38;5;124m\"\u001b[39m]\n\u001b[0;32m      2\u001b[0m \u001b[38;5;28;01mwith\u001b[39;00m \u001b[38;5;28mopen\u001b[39m(\u001b[38;5;124m\"\u001b[39m\u001b[38;5;124malphabet_list.txt\u001b[39m\u001b[38;5;124m\"\u001b[39m, \u001b[38;5;124m\"\u001b[39m\u001b[38;5;124mw\u001b[39m\u001b[38;5;124m\"\u001b[39m) \u001b[38;5;28;01mas\u001b[39;00m f:\n\u001b[1;32m----> 3\u001b[0m     \u001b[43mf\u001b[49m\u001b[38;5;241;43m.\u001b[39;49m\u001b[43mwrite\u001b[49m\u001b[43m(\u001b[49m\u001b[43malphabet_letters\u001b[49m\u001b[43m)\u001b[49m\n",
      "\u001b[1;31mTypeError\u001b[0m: write() argument must be str, not list"
     ]
    }
   ],
   "source": [
    "alphabet_letters = [\"a\", \"b\", \"c\"]\n",
    "with open(\"alphabet_list.txt\", \"w\") as f:\n",
    "    f.write(alphabet_letters)"
   ]
  },
  {
   "cell_type": "code",
   "execution_count": 272,
   "id": "6ed081ce",
   "metadata": {},
   "outputs": [],
   "source": [
    "import json\n",
    "\n",
    "list_of_friends = [\"Mehran\", \"Zain\", \"Saadat\"]\n",
    "\n",
    "with open(\"my_friends.json\", \"w\") as f:\n",
    "    json.dump(list_of_friends, f)"
   ]
  },
  {
   "cell_type": "code",
   "execution_count": 275,
   "id": "cff012db",
   "metadata": {},
   "outputs": [
    {
     "name": "stdout",
     "output_type": "stream",
     "text": [
      "<_io.TextIOWrapper name='my_friends.json' mode='r' encoding='cp1252'>\n"
     ]
    }
   ],
   "source": [
    "with open(\"my_friends.json\") as f:\n",
    "    json.load(f)\n",
    "print(f)"
   ]
  },
  {
   "cell_type": "code",
   "execution_count": 277,
   "id": "0b56d62f",
   "metadata": {},
   "outputs": [],
   "source": [
    "customer_29876 = {\n",
    "    \"first name\": \"David\",\n",
    "    \"last name\": \"Elliott\",\n",
    "    \"address\": \"4803 Wellesley St.\",\n",
    "}\n",
    "\n",
    "with open(\"customer_29876.json\", \"w\") as f:\n",
    "    json.dump(customer_29876, f)"
   ]
  },
  {
   "cell_type": "code",
   "execution_count": 279,
   "id": "a21617d2",
   "metadata": {},
   "outputs": [
    {
     "name": "stdout",
     "output_type": "stream",
     "text": [
      "{'first name': 'David', 'last name': 'Elliott', 'address': '4803 Wellesley St.'}\n"
     ]
    }
   ],
   "source": [
    "with open(\"customer_29876.json\") as f:\n",
    "    customer_29876 = json.load(f)\n",
    "print(customer_29876)"
   ]
  },
  {
   "cell_type": "code",
   "execution_count": 280,
   "id": "e345c309",
   "metadata": {},
   "outputs": [
    {
     "name": "stdout",
     "output_type": "stream",
     "text": [
      "4803 Wellesley St.\n"
     ]
    }
   ],
   "source": [
    "print(customer_29876[\"address\"])"
   ]
  },
  {
   "cell_type": "code",
   "execution_count": 282,
   "id": "a8b7c8e8",
   "metadata": {},
   "outputs": [
    {
     "name": "stdout",
     "output_type": "stream",
     "text": [
      "['Mehran', 'Zain', 'Saadat']\n"
     ]
    }
   ],
   "source": [
    "with open(\"my_friends.json\") as f:\n",
    "    friends = json.load(f)\n",
    "print(friends)"
   ]
  },
  {
   "cell_type": "code",
   "execution_count": 286,
   "id": "18687a9a",
   "metadata": {},
   "outputs": [
    {
     "name": "stdout",
     "output_type": "stream",
     "text": [
      "The file not found\n"
     ]
    }
   ],
   "source": [
    "try:\n",
    "    with open(\"text.txt\") as t:\n",
    "        content = t.read()\n",
    "except FileNotFoundError:\n",
    "    print(\"The file not found\")"
   ]
  },
  {
   "cell_type": "code",
   "execution_count": 293,
   "id": "75d97956",
   "metadata": {},
   "outputs": [
    {
     "name": "stdout",
     "output_type": "stream",
     "text": [
      "Which file you want to open green\n",
      "The file not found.\n",
      "Please try again\n",
      "Which file you want to open green.txt\n",
      "The file not found.\n",
      "Please try again\n",
      "Which file you want to open greet\n",
      "The file not found.\n",
      "Please try again\n",
      "Which file you want to open greet.txt\n",
      "Hello, Nadeem! How are you?\n",
      "Have a nice day man\n"
     ]
    }
   ],
   "source": [
    "while True:\n",
    "    file_to_open = input(\"Which file you want to open \")\n",
    "    try:\n",
    "        with open(file_to_open) as t:\n",
    "            print(t.read())\n",
    "            break\n",
    "    except FileNotFoundError:\n",
    "        print(\"The file not found.\\nPlease try again\")"
   ]
  }
 ],
 "metadata": {
  "kernelspec": {
   "display_name": "Python 3 (ipykernel)",
   "language": "python",
   "name": "python3"
  },
  "language_info": {
   "codemirror_mode": {
    "name": "ipython",
    "version": 3
   },
   "file_extension": ".py",
   "mimetype": "text/x-python",
   "name": "python",
   "nbconvert_exporter": "python",
   "pygments_lexer": "ipython3",
   "version": "3.9.12"
  }
 },
 "nbformat": 4,
 "nbformat_minor": 5
}
