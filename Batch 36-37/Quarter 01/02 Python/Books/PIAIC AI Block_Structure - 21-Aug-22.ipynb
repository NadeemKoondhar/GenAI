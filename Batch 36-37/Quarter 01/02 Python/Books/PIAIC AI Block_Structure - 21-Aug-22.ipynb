{
 "cells": [
  {
   "cell_type": "markdown",
   "id": "66bd743d",
   "metadata": {},
   "source": [
    "# Control Structure\n",
    "* if\n",
    "    * else\n",
    "    * elif\n",
    "        and or not in\n",
    "* while\n",
    "    * break\n",
    "    * continue\n",
    "    * pass\n",
    "  \n",
    "* for\n",
    "    * break\n",
    "    * continue\n",
    "    * pass\n",
    "    \n",
    "* try\n",
    "    * except\n",
    "\n",
    "* def\n",
    "* class\n"
   ]
  },
  {
   "cell_type": "markdown",
   "id": "686d6a56",
   "metadata": {},
   "source": [
    "# if\n",
    "\n",
    "'''\n",
    "if True / False:\n",
    "    True_Block\n",
    "'''\n",
    "\n",
    "# if else\n",
    "\n",
    "'''\n",
    "if True / False:\n",
    "    True_Block\n",
    "else:\n",
    "    False_Block\n",
    "'''\n",
    "\n",
    "# if elif else\n",
    "\n",
    "'''\n",
    "if True / False:\n",
    "    True_Block\n",
    "\n",
    "elif True / False:\n",
    "    True_Block\n",
    "\n",
    "elif True / False:\n",
    "    True_Block\n",
    "\n",
    "else:\n",
    "    False_Block\n",
    "'''\n"
   ]
  },
  {
   "cell_type": "code",
   "execution_count": 3,
   "id": "6e4d26ae",
   "metadata": {},
   "outputs": [
    {
     "name": "stdout",
     "output_type": "stream",
     "text": [
      "Pakistan Zindabad\n"
     ]
    }
   ],
   "source": [
    "if True:\n",
    "    print(\"Pakistan Zindabad\")"
   ]
  },
  {
   "cell_type": "code",
   "execution_count": 4,
   "id": "713456a7",
   "metadata": {},
   "outputs": [],
   "source": [
    "if False:\n",
    "    print(\"Pakistan Zindabad\")"
   ]
  },
  {
   "cell_type": "code",
   "execution_count": 5,
   "id": "261c9bd3",
   "metadata": {},
   "outputs": [
    {
     "name": "stdout",
     "output_type": "stream",
     "text": [
      "Pakistan Zindabad\n"
     ]
    }
   ],
   "source": [
    "if True:\n",
    "    print(\"Pakistan Zindabad\") # True_Block\n",
    "else:\n",
    "    print(\"USA\") # False_Block"
   ]
  },
  {
   "cell_type": "code",
   "execution_count": 6,
   "id": "4b3d580e",
   "metadata": {},
   "outputs": [
    {
     "name": "stdout",
     "output_type": "stream",
     "text": [
      "USA\n"
     ]
    }
   ],
   "source": [
    "if False:\n",
    "    print(\"Pakistan Zindabad\") # True_Block\n",
    "else:\n",
    "    print(\"USA\") # False_Block"
   ]
  },
  {
   "cell_type": "code",
   "execution_count": 8,
   "id": "30816dbc",
   "metadata": {},
   "outputs": [
    {
     "name": "stdout",
     "output_type": "stream",
     "text": [
      "Enter User nameAdmin\n"
     ]
    },
    {
     "data": {
      "text/plain": [
       "'Admin'"
      ]
     },
     "execution_count": 8,
     "metadata": {},
     "output_type": "execute_result"
    }
   ],
   "source": [
    "user = input(\"Enter User name\")\n",
    "\n",
    "user"
   ]
  },
  {
   "cell_type": "code",
   "execution_count": 9,
   "id": "8205da7e",
   "metadata": {},
   "outputs": [
    {
     "name": "stdout",
     "output_type": "stream",
     "text": [
      "Enter User nameNadeem\\\n"
     ]
    },
    {
     "data": {
      "text/plain": [
       "False"
      ]
     },
     "execution_count": 9,
     "metadata": {},
     "output_type": "execute_result"
    }
   ],
   "source": [
    "user = input(\"Enter User name\")\n",
    "\n",
    "user == \"Admin\""
   ]
  },
  {
   "cell_type": "code",
   "execution_count": 10,
   "id": "fb0eea16",
   "metadata": {},
   "outputs": [
    {
     "name": "stdout",
     "output_type": "stream",
     "text": [
      "Enter User nameAdmin\n"
     ]
    },
    {
     "data": {
      "text/plain": [
       "True"
      ]
     },
     "execution_count": 10,
     "metadata": {},
     "output_type": "execute_result"
    }
   ],
   "source": [
    "user = input(\"Enter User name\")\n",
    "\n",
    "user == \"Admin\""
   ]
  },
  {
   "cell_type": "code",
   "execution_count": 12,
   "id": "5d623353",
   "metadata": {},
   "outputs": [
    {
     "name": "stdout",
     "output_type": "stream",
     "text": [
      "Enter User nameAdmin\n",
      "You are a valid User\n"
     ]
    }
   ],
   "source": [
    "user = input(\"Enter User name\")\n",
    "\n",
    "if user == \"Admin\":\n",
    "    print(\"You are a valid User\")"
   ]
  },
  {
   "cell_type": "code",
   "execution_count": 14,
   "id": "a9bfefaf",
   "metadata": {},
   "outputs": [
    {
     "name": "stdout",
     "output_type": "stream",
     "text": [
      "Enter User name Nadeem\n",
      "You are an Invalid User!\n"
     ]
    }
   ],
   "source": [
    "user = input(\"Enter User name \")\n",
    "\n",
    "if user == \"Admin\":\n",
    "    print(\"You are a valid User!\")\n",
    "else:\n",
    "    print(\"You are an Invalid User!\")"
   ]
  },
  {
   "cell_type": "code",
   "execution_count": 15,
   "id": "1fc50a69",
   "metadata": {},
   "outputs": [
    {
     "name": "stdout",
     "output_type": "stream",
     "text": [
      "Enter User name Admin\n",
      "You are a valid User!\n"
     ]
    }
   ],
   "source": [
    "user = input(\"Enter User name \")\n",
    "\n",
    "if user == \"Admin\":\n",
    "    print(\"You are a valid User!\")\n",
    "else:\n",
    "    print(\"You are an Invalid User!\")"
   ]
  },
  {
   "cell_type": "code",
   "execution_count": 18,
   "id": "21744ddf",
   "metadata": {},
   "outputs": [
    {
     "name": "stdout",
     "output_type": "stream",
     "text": [
      "Enter Percentage30\n",
      "30\n",
      "Fail\n"
     ]
    }
   ],
   "source": [
    "per = int(input(\"Enter Percentage\"))\n",
    "grade = \"\"\n",
    "\n",
    "if per >= 80:\n",
    "    grade = \"A+\"\n",
    "elif per >= 70:\n",
    "    grade = \"A\"\n",
    "elif per >= 60:\n",
    "    grade = \"B\"\n",
    "elif per >= 50:\n",
    "    grade = \"C\"\n",
    "else:\n",
    "    grade = \"Fail\"\n",
    "\n",
    "    \n",
    "print(per)\n",
    "print(grade)"
   ]
  },
  {
   "cell_type": "code",
   "execution_count": 20,
   "id": "c4d6b65d",
   "metadata": {},
   "outputs": [
    {
     "data": {
      "text/plain": [
       "['Pakistan Zinda Baad, We Love our Country!']"
      ]
     },
     "execution_count": 20,
     "metadata": {},
     "output_type": "execute_result"
    }
   ],
   "source": [
    "\"Pakistan Zinda Baad, We Love our Country!\".split(\"We love\")"
   ]
  },
  {
   "cell_type": "code",
   "execution_count": 21,
   "id": "07b3c69a",
   "metadata": {},
   "outputs": [
    {
     "data": {
      "text/plain": [
       "['P', 'kist', 'n Zind', ' B', '', 'd, We Love our Country!']"
      ]
     },
     "execution_count": 21,
     "metadata": {},
     "output_type": "execute_result"
    }
   ],
   "source": [
    "\"Pakistan Zinda Baad, We Love our Country!\".split(\"a\")"
   ]
  },
  {
   "cell_type": "code",
   "execution_count": null,
   "id": "94d32ae5",
   "metadata": {},
   "outputs": [],
   "source": [
    "\"Pakistan: Zinda Baad: We: Love: our: Country:\".split(\"a\")"
   ]
  },
  {
   "cell_type": "code",
   "execution_count": null,
   "id": "79005ab7",
   "metadata": {},
   "outputs": [],
   "source": []
  },
  {
   "cell_type": "code",
   "execution_count": null,
   "id": "783f8676",
   "metadata": {},
   "outputs": [],
   "source": []
  },
  {
   "cell_type": "code",
   "execution_count": null,
   "id": "f4f1b41a",
   "metadata": {},
   "outputs": [],
   "source": []
  },
  {
   "cell_type": "code",
   "execution_count": null,
   "id": "b249b378",
   "metadata": {},
   "outputs": [],
   "source": []
  },
  {
   "cell_type": "code",
   "execution_count": null,
   "id": "b0a8081d",
   "metadata": {},
   "outputs": [],
   "source": []
  }
 ],
 "metadata": {
  "kernelspec": {
   "display_name": "Python 3 (ipykernel)",
   "language": "python",
   "name": "python3"
  },
  "language_info": {
   "codemirror_mode": {
    "name": "ipython",
    "version": 3
   },
   "file_extension": ".py",
   "mimetype": "text/x-python",
   "name": "python",
   "nbconvert_exporter": "python",
   "pygments_lexer": "ipython3",
   "version": "3.9.12"
  }
 },
 "nbformat": 4,
 "nbformat_minor": 5
}
