{
 "cells": [
  {
   "cell_type": "code",
   "execution_count": 1,
   "id": "b84f2409",
   "metadata": {},
   "outputs": [
    {
     "ename": "ModuleNotFoundError",
     "evalue": "No module named 'pyautogui'",
     "output_type": "error",
     "traceback": [
      "\u001b[1;31m---------------------------------------------------------------------------\u001b[0m",
      "\u001b[1;31mModuleNotFoundError\u001b[0m                       Traceback (most recent call last)",
      "Input \u001b[1;32mIn [1]\u001b[0m, in \u001b[0;36m<cell line: 1>\u001b[1;34m()\u001b[0m\n\u001b[1;32m----> 1\u001b[0m \u001b[38;5;28;01mimport\u001b[39;00m \u001b[38;5;21;01mpyautogui\u001b[39;00m\n",
      "\u001b[1;31mModuleNotFoundError\u001b[0m: No module named 'pyautogui'"
     ]
    }
   ],
   "source": [
    "import pyautogui"
   ]
  },
  {
   "cell_type": "code",
   "execution_count": 3,
   "id": "01cce1ce",
   "metadata": {},
   "outputs": [
    {
     "name": "stdout",
     "output_type": "stream",
     "text": [
      "Requirement already satisfied: PyAutoGUI in c:\\users\\nadeem\\anaconda3\\lib\\site-packages (0.9.53)\n",
      "Requirement already satisfied: mouseinfo in c:\\users\\nadeem\\anaconda3\\lib\\site-packages (from PyAutoGUI) (0.1.3)\n",
      "Requirement already satisfied: pyscreeze>=0.1.21 in c:\\users\\nadeem\\anaconda3\\lib\\site-packages (from PyAutoGUI) (0.1.28)\n",
      "Requirement already satisfied: pygetwindow>=0.0.5 in c:\\users\\nadeem\\anaconda3\\lib\\site-packages (from PyAutoGUI) (0.0.9)\n",
      "Requirement already satisfied: PyTweening>=1.0.1 in c:\\users\\nadeem\\anaconda3\\lib\\site-packages (from PyAutoGUI) (1.0.4)\n",
      "Requirement already satisfied: pymsgbox in c:\\users\\nadeem\\anaconda3\\lib\\site-packages (from PyAutoGUI) (1.0.9)\n",
      "Requirement already satisfied: pyrect in c:\\users\\nadeem\\anaconda3\\lib\\site-packages (from pygetwindow>=0.0.5->PyAutoGUI) (0.2.0)\n",
      "Requirement already satisfied: pyperclip in c:\\users\\nadeem\\anaconda3\\lib\\site-packages (from mouseinfo->PyAutoGUI) (1.8.2)\n"
     ]
    }
   ],
   "source": [
    "!pip install PyAutoGUI"
   ]
  },
  {
   "cell_type": "code",
   "execution_count": 8,
   "id": "1aa9da21",
   "metadata": {},
   "outputs": [],
   "source": [
    "import pyautogui as p"
   ]
  },
  {
   "cell_type": "code",
   "execution_count": 9,
   "id": "371422d9",
   "metadata": {},
   "outputs": [],
   "source": [
    "import time"
   ]
  },
  {
   "cell_type": "code",
   "execution_count": 11,
   "id": "49566724",
   "metadata": {},
   "outputs": [
    {
     "data": {
      "text/plain": [
       "Size(width=1920, height=1080)"
      ]
     },
     "execution_count": 11,
     "metadata": {},
     "output_type": "execute_result"
    }
   ],
   "source": [
    "p.size()"
   ]
  },
  {
   "cell_type": "code",
   "execution_count": 12,
   "id": "07adcf1b",
   "metadata": {},
   "outputs": [],
   "source": [
    "p.FAILSAFE = True"
   ]
  },
  {
   "cell_type": "code",
   "execution_count": 78,
   "id": "1a6a2f77",
   "metadata": {},
   "outputs": [
    {
     "data": {
      "text/plain": [
       "Point(x=1459, y=837)"
      ]
     },
     "execution_count": 78,
     "metadata": {},
     "output_type": "execute_result"
    }
   ],
   "source": [
    "p.position()\n",
    "# Chrome Search Bar (x=328, y=65)"
   ]
  },
  {
   "cell_type": "code",
   "execution_count": 79,
   "id": "6f064ad4",
   "metadata": {},
   "outputs": [
    {
     "data": {
      "text/plain": [
       "'p.typewrite(\" Dr Israr Ahmed Bayan ul Quran\", 0.05)\\np.typewrite([\"enter\"])\\np.moveTo(382, 776, 1)\\np.click(382, 776)\\np.moveTo(1906, 941, 1)\\np.click(1906, 941, 20, 0.7)'"
      ]
     },
     "execution_count": 79,
     "metadata": {},
     "output_type": "execute_result"
    }
   ],
   "source": [
    "p.click(1519, 65)\n",
    "p.click(1839, 157, 1, 1)\n",
    "p.click(1499, 312, 1, 2)\n",
    "p.click(786, 359, 1, 1)\n",
    "p.click(1770, 723, 1, 1)\n",
    "p.click(1580, 823, 1, 1)\n",
    "p.click(1912, 1018, 10, .02)\n",
    "p.click(1459, 837, 1, 1)\n",
    "\n",
    "\"\"\"p.typewrite(\" Dr Israr Ahmed Bayan ul Quran\", 0.05)\n",
    "p.typewrite([\"enter\"])\n",
    "p.moveTo(382, 776, 1)\n",
    "p.click(382, 776)\n",
    "p.moveTo(1906, 941, 1)\n",
    "p.click(1906, 941, 20, 0.7)\"\"\""
   ]
  },
  {
   "cell_type": "code",
   "execution_count": null,
   "id": "2c219b53",
   "metadata": {},
   "outputs": [],
   "source": [
    "p.click(350, 16)\n",
    "p.typewrite(\" Dr Israr Ahmed Bayan ul Quran\", 0.05)\n",
    "p.typewrite([\"enter\"])\n",
    "p.moveTo(382, 776, 1)\n",
    "p.click(382, 776)\n",
    "p.moveTo(1906, 941, 1)\n",
    "p.click(1906, 941, 20, 0.7)"
   ]
  },
  {
   "cell_type": "code",
   "execution_count": 47,
   "id": "ad3cbe5c",
   "metadata": {},
   "outputs": [],
   "source": [
    "p.PAUSE = 2.5"
   ]
  },
  {
   "cell_type": "code",
   "execution_count": 58,
   "id": "13c429e8",
   "metadata": {},
   "outputs": [
    {
     "name": "stdout",
     "output_type": "stream",
     "text": [
      "Press Ctrl-C to quit.\n",
      "X:  572 Y:  40X:  572 Y:  40X:  572 Y:  40X:  572 Y:  40X:  572 Y:  40X:  572 Y:  40X:  572 Y:  40X:  572 Y:  40X:  572 Y:  40X:  572 Y:  40X:  572 Y:  40X:  572 Y:  40X:  572 Y:  40X:  572 Y:  40X:  572 Y:  40X:  572 Y:  40X:  572 Y:  40X:  572 Y:  40X:  572 Y:  40X:  572 Y:  40X:  572 Y:  40X:  572 Y:  40X:  572 Y:  40X:  572 Y:  40X:  572 Y:  40X:  572 Y:  40X:  572 Y:  40X:  572 Y:  40X:  572 Y:  40X:  572 Y:  40X:  572 Y:  40X:  572 Y:  40X:  572 Y:  40X:  572 Y:  40X:  572 Y:  40X:  572 Y:  40X:  572 Y:  40X:  572 Y:  40X:  572 Y:  40X:  572 Y:  40X:  572 Y:  40X:  572 Y:  40X:  572 Y:  40X:  572 Y:  40X:  572 Y:  40X:  572 Y:  40X:  572 Y:  40X:  572 Y:  40X:  572 Y:  40X:  572 Y:  40X:  572 Y:  40X:  572 Y:  40X:  572 Y:  40X:  572 Y:  40X:  572 Y:  40X:  572 Y:  40X:  572 Y:  40X:  572 Y:  40X:  572 Y:  40X:  572 Y:  40X:  572 Y:  40X:  572 Y:  40X:  572 Y:  40X:  572 Y:  40X:  572 Y:  40X:  572 Y:  40X:  572 Y:  40X:  572 Y:  40X:  572 Y:  40X:  572 Y:  40X:  572 Y:  40X:  572 Y:  40X:  572 Y:  40X:  572 Y:  40X:  572 Y:  40X:  572 Y:  40X:  572 Y:  40X:  572 Y:  40X:  572 Y:  40X:  572 Y:  40X:  572 Y:  40X:  572 Y:  40X:  572 Y:  40X:  572 Y:  40X:  572 Y:  40X:  572 Y:  40X:  572 Y:  40X:  572 Y:  40X:  572 Y:  40X:  572 Y:  40X:  572 Y:  40X:  572 Y:  40X:  572 Y:  40X:  572 Y:  40X:  572 Y:  40X:  572 Y:  40X:  572 Y:  40X:  572 Y:  40X:  572 Y:  40X:  572 Y:  40X:  572 Y:  40X:  572 Y:  40X:  572 Y:  40X:  572 Y:  40X:  572 Y:  40X:  572 Y:  40X:  572 Y:  40X:  572 Y:  40X:  572 Y:  40X:  572 Y:  40X:  572 Y:  40X:  572 Y:  40X:  572 Y:  40X:  572 Y:  40X:  572 Y:  40X:  572 Y:  40X:  572 Y:  40X:  572 Y:  40X:  572 Y:  40X:  572 Y:  40X:  572 Y:  40X:  572 Y:  40X:  572 Y:  40X:  572 Y:  40X:  572 Y:  40X:  572 Y:  40X:  572 Y:  40X:  572 Y:  40X:  572 Y:  40X:  572 Y:  40X:  572 Y:  40X:  572 Y:  40X:  572 Y:  40X:  572 Y:  40X:  572 Y:  40X:  572 Y:  40X:  572 Y:  40X:  572 Y:  40X:  572 Y:  40X:  572 Y:  40X:  572 Y:  40X:  572 Y:  40X:  572 Y:  40X:  572 Y:  40X:  572 Y:  40X:  572 Y:  40X:  572 Y:  40X:  572 Y:  40X:  572 Y:  40X:  572 Y:  40X:  572 Y:  40X:  572 Y:  40X:  572 Y:  40X:  572 Y:  40X:  572 Y:  40X:  572 Y:  40X:  572 Y:  40X:  572 Y:  40X:  572 Y:  40X:  572 Y:  40X:  572 Y:  40X:  572 Y:  40X:  572 Y:  40X:  572 Y:  40X:  572 Y:  40X:  572 Y:  40X:  572 Y:  40X:  572 Y:  40X:  572 Y:  40X:  572 Y:  40X:  572 Y:  40X:  572 Y:  40X:  572 Y:  40X:  572 Y:  40X:  572 Y:  40X:  572 Y:  40X:  572 Y:  40X:  572 Y:  40X:  572 Y:  40X:  572 Y:  40X:  572 Y:  40X:  572 Y:  40X:  572 Y:  40X:  572 Y:  40X:  572 Y:  40X:  572 Y:  40X:  572 Y:  40X:  572 Y:  40X:  572 Y:  40X:  572 Y:  40X:  572 Y:  40X:  572 Y:  40X:  572 Y:  40X:  572 Y:  40X:  572 Y:  40X:  572 Y:  40X:  572 Y:  40X:  572 Y:  40X:  572 Y:  40X:  572 Y:  40X:  572 Y:  40X:  572 Y:  40X:  572 Y:  40X:  572 Y:  40X:  572 Y:  40X:  572 Y:  40X:  572 Y:  40X:  572 Y:  40X:  572 Y:  40X:  572 Y:  40X:  572 Y:  40X:  572 Y:  40X:  572 Y:  40X:  572 Y:  40X:  572 Y:  40X:  572 Y:  40X:  572 Y:  40X:  572 Y:  40X:  572 Y:  40X:  572 Y:  40X:  572 Y:  40X:  572 Y:  40X:  572 Y:  40X:  572 Y:  40X:  572 Y:  40X:  572 Y:  40X:  572 Y:  40X:  572 Y:  40X:  572 Y:  40X:  572 Y:  40X:  572 Y:  40X:  572 Y:  40X:  572 Y:  40X:  572 Y:  40X:  572 Y:  40X:  572 Y:  40X:  572 Y:  40X:  572 Y:  40X:  572 Y:  40X:  572 Y:  40X:  572 Y:  40X:  572 Y:  40X:  572 Y:  40X:  572 Y:  40X:  572 Y:  40X:  572 Y:  40X:  572 Y:  40X:  572 Y:  40X:  572 Y:  40X:  572 Y:  40X:  572 Y:  40X:  572 Y:  40X:  572 Y:  40X:  572 Y:  40X:  572 Y:  40X:  572 Y:  40X:  572 Y:  40X:  572 Y:  40X:  572 Y:  40X:  572 Y:  40X:  572 Y:  40X:  572 Y:  40X:  572 Y:  40X:  572 Y:  40X:  572 Y:  40X:  572 Y:  40X:  572 Y:  40X:  572 Y:  40X:  572 Y:  40X:  572 Y:  40X:  572 Y:  40X:  572 Y:  40X:  572 Y:  40X:  572 Y:  40X:  572 Y:  40X:  572 Y:  40X:  572 Y:  40X:  572 Y:  40X:  572 Y:  40X:  572 Y:  40X:  572 Y:  40X:  572 Y:  40X:  572 Y:  40X:  572 Y:  40X:  572 Y:  40X:  572 Y:  40X:  572 Y:  40X:  572 Y:  40X:  572 Y:  40X:  572 Y:  40X:  572 Y:  40X:  572 Y:  40X:  572 Y:  40X:  572 Y:  40X:  572 Y:  40X:  572 Y:  40X:  572 Y:  40X:  572 Y:  40X:  572 Y:  40X:  572 Y:  40X:  572 Y:  40X:  572 Y:  40X:  572 Y:  40X:  572 Y:  40X:  572 Y:  40X:  572 Y:  40X:  572 Y:  40X:  572 Y:  40X:  572 Y:  40X:  572 Y:  40X:  572 Y:  40X:  572 Y:  40X:  572 Y:  40X:  572 Y:  40X:  572 Y:  40X:  572 Y:  40X:  572 Y:  40X:  572 Y:  40X:  572 Y:  40X:  572 Y:  40X:  572 Y:  40X:  572 Y:  40X:  572 Y:  40X:  572 Y:  40X:  572 Y:  40X:  572 Y:  40X:  572 Y:  40X:  572 Y:  40X:  572 Y:  40X:  572 Y:  40X:  572 Y:  40X:  572 Y:  40X:  572 Y:  40X:  572 Y:  40X:  572 Y:  40X:  572 Y:  40X:  572 Y:  40X:  572 Y:  40X:  572 Y:  40X:  572 Y:  40X:  572 Y:  40X:  572 Y:  40X:  572 Y:  40X:  572 Y:  40X:  572 Y:  40X:  572 Y:  40X:  572 Y:  40X:  572 Y:  40X:  572 Y:  40X:  572 Y:  40X:  572 Y:  40X:  572 Y:  40X:  572 Y:  40X:  572 Y:  40X:  572 Y:  40X:  572 Y:  40X:  572 Y:  40X:  572 Y:  404\n",
      "\n"
     ]
    }
   ],
   "source": []
  },
  {
   "cell_type": "code",
   "execution_count": null,
   "id": "1fb3213f",
   "metadata": {},
   "outputs": [],
   "source": []
  }
 ],
 "metadata": {
  "kernelspec": {
   "display_name": "Python 3 (ipykernel)",
   "language": "python",
   "name": "python3"
  },
  "language_info": {
   "codemirror_mode": {
    "name": "ipython",
    "version": 3
   },
   "file_extension": ".py",
   "mimetype": "text/x-python",
   "name": "python",
   "nbconvert_exporter": "python",
   "pygments_lexer": "ipython3",
   "version": "3.9.12"
  }
 },
 "nbformat": 4,
 "nbformat_minor": 5
}
