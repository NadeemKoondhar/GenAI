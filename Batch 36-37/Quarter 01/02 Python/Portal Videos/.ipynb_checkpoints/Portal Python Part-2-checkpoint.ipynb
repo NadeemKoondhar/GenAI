{
 "cells": [
  {
   "cell_type": "markdown",
   "id": "d59e714e",
   "metadata": {},
   "source": [
    "# For Loop Continue Keyword"
   ]
  },
  {
   "cell_type": "code",
   "execution_count": 2,
   "id": "0c01f31d",
   "metadata": {},
   "outputs": [
    {
     "name": "stdout",
     "output_type": "stream",
     "text": [
      "1\n",
      "3\n",
      "67\n",
      "23\n",
      "45\n",
      "49\n"
     ]
    }
   ],
   "source": [
    "arr = [1, 3, 2, 6, 67, 23, 45, 49]\n",
    "\n",
    "for elem in arr:\n",
    "    if elem % 2 == 0:\n",
    "        continue\n",
    "    print(elem)"
   ]
  },
  {
   "cell_type": "code",
   "execution_count": 9,
   "id": "67ef7476",
   "metadata": {},
   "outputs": [
    {
     "name": "stdout",
     "output_type": "stream",
     "text": [
      "10 Nadeem\n",
      "7 Nadeem\n",
      "4 Nadeem\n",
      "1 Nadeem\n",
      "-2 Nadeem\n",
      "-5 Nadeem\n",
      "-8 Nadeem\n"
     ]
    }
   ],
   "source": [
    "for i in range(10,-10,-3):\n",
    "    print(i, \"Nadeem\")"
   ]
  },
  {
   "cell_type": "code",
   "execution_count": 11,
   "id": "66ebd442",
   "metadata": {},
   "outputs": [
    {
     "name": "stdout",
     "output_type": "stream",
     "text": [
      "Pakistan\n",
      "Nadeem\n"
     ]
    }
   ],
   "source": [
    "country = \"Pakistan\", \"Nadeem\"\n",
    "\n",
    "for char in country:\n",
    "    print(char)"
   ]
  },
  {
   "cell_type": "code",
   "execution_count": 18,
   "id": "de678842",
   "metadata": {},
   "outputs": [
    {
     "name": "stdout",
     "output_type": "stream",
     "text": [
      "0 Nadeem\n",
      "1 Nadeem\n"
     ]
    }
   ],
   "source": [
    "for i in range(10):\n",
    "    if i % 3 == 2:\n",
    "        break\n",
    "    print(i, \"Nadeem\")\n"
   ]
  },
  {
   "cell_type": "code",
   "execution_count": null,
   "id": "897ac46e",
   "metadata": {},
   "outputs": [],
   "source": []
  },
  {
   "cell_type": "code",
   "execution_count": null,
   "id": "d673ca85",
   "metadata": {},
   "outputs": [],
   "source": []
  },
  {
   "cell_type": "code",
   "execution_count": null,
   "id": "4ec0a4b5",
   "metadata": {},
   "outputs": [],
   "source": []
  }
 ],
 "metadata": {
  "kernelspec": {
   "display_name": "Python 3 (ipykernel)",
   "language": "python",
   "name": "python3"
  },
  "language_info": {
   "codemirror_mode": {
    "name": "ipython",
    "version": 3
   },
   "file_extension": ".py",
   "mimetype": "text/x-python",
   "name": "python",
   "nbconvert_exporter": "python",
   "pygments_lexer": "ipython3",
   "version": "3.9.12"
  }
 },
 "nbformat": 4,
 "nbformat_minor": 5
}
