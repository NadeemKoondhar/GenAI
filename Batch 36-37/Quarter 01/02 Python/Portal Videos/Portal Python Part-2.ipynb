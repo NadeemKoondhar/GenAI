{
 "cells": [
  {
   "cell_type": "markdown",
   "id": "36704c2a",
   "metadata": {},
   "source": [
    "# For Loop Continue Keyword"
   ]
  },
  {
   "cell_type": "code",
   "execution_count": 2,
   "id": "3a928142",
   "metadata": {},
   "outputs": [
    {
     "name": "stdout",
     "output_type": "stream",
     "text": [
      "1\n",
      "3\n",
      "67\n",
      "23\n",
      "45\n",
      "49\n"
     ]
    }
   ],
   "source": [
    "arr = [1, 3, 2, 6, 67, 23, 45, 49]\n",
    "\n",
    "for elem in arr:\n",
    "    if elem % 2 == 0:\n",
    "        continue\n",
    "    print(elem)"
   ]
  },
  {
   "cell_type": "code",
   "execution_count": 9,
   "id": "a3f65156",
   "metadata": {},
   "outputs": [
    {
     "name": "stdout",
     "output_type": "stream",
     "text": [
      "10 Nadeem\n",
      "7 Nadeem\n",
      "4 Nadeem\n",
      "1 Nadeem\n",
      "-2 Nadeem\n",
      "-5 Nadeem\n",
      "-8 Nadeem\n"
     ]
    }
   ],
   "source": [
    "for i in range(10,-10,-3):\n",
    "    print(i, \"Nadeem\")"
   ]
  },
  {
   "cell_type": "code",
   "execution_count": 11,
   "id": "4f2ad92d",
   "metadata": {},
   "outputs": [
    {
     "name": "stdout",
     "output_type": "stream",
     "text": [
      "Pakistan\n",
      "Nadeem\n"
     ]
    }
   ],
   "source": [
    "country = \"Pakistan\", \"Nadeem\"\n",
    "\n",
    "for char in country:\n",
    "    print(char)"
   ]
  },
  {
   "cell_type": "code",
   "execution_count": 18,
   "id": "6f1df24a",
   "metadata": {},
   "outputs": [
    {
     "name": "stdout",
     "output_type": "stream",
     "text": [
      "0 Nadeem\n",
      "1 Nadeem\n"
     ]
    }
   ],
   "source": [
    "for i in range(10):\n",
    "    if i % 3 == 2:\n",
    "        break\n",
    "    print(i, \"Nadeem\")\n"
   ]
  },
  {
   "cell_type": "code",
   "execution_count": 20,
   "id": "742ef10e",
   "metadata": {},
   "outputs": [
    {
     "name": "stdout",
     "output_type": "stream",
     "text": [
      "1 Nadeem\n",
      "2 Nadeem\n",
      "4 Nadeem\n",
      "5 Nadeem\n",
      "7 Nadeem\n",
      "8 Nadeem\n",
      "10 Nadeem\n",
      "11 Nadeem\n"
     ]
    }
   ],
   "source": [
    "for i in range(12):\n",
    "    if i % 3 == 0:\n",
    "        continue \n",
    "    print(i, \"Nadeem\")"
   ]
  },
  {
   "cell_type": "markdown",
   "id": "2bebbe36",
   "metadata": {},
   "source": [
    "# Nested for Loop"
   ]
  },
  {
   "cell_type": "code",
   "execution_count": 21,
   "id": "f21aac57",
   "metadata": {},
   "outputs": [
    {
     "name": "stdout",
     "output_type": "stream",
     "text": [
      "Inner Loop Begins\n",
      "0 C\n",
      "0 h\n",
      "0 i\n",
      "0 n\n",
      "0 a\n",
      "Inner Loop Begins\n",
      "1 C\n",
      "1 h\n",
      "1 i\n",
      "1 n\n",
      "1 a\n",
      "Inner Loop Begins\n",
      "2 C\n",
      "2 h\n",
      "2 i\n",
      "2 n\n",
      "2 a\n",
      "Inner Loop Begins\n",
      "3 C\n",
      "3 h\n",
      "3 i\n",
      "3 n\n",
      "3 a\n",
      "Inner Loop Begins\n",
      "4 C\n",
      "4 h\n",
      "4 i\n",
      "4 n\n",
      "4 a\n"
     ]
    }
   ],
   "source": [
    "for a in range(5):\n",
    "    print(\"Inner Loop Begins\")\n",
    "    for char in \"China\":\n",
    "        print(a, char)"
   ]
  },
  {
   "cell_type": "code",
   "execution_count": 24,
   "id": "6e0340e1",
   "metadata": {},
   "outputs": [
    {
     "name": "stdout",
     "output_type": "stream",
     "text": [
      "Enter any Number you Want7\n",
      "7 * 1 = 7\n",
      "7 * 2 = 14\n",
      "7 * 3 = 21\n",
      "7 * 4 = 28\n",
      "7 * 5 = 35\n",
      "7 * 6 = 42\n",
      "7 * 7 = 49\n",
      "7 * 8 = 56\n",
      "7 * 9 = 63\n",
      "7 * 10 = 70\n"
     ]
    }
   ],
   "source": [
    "tableNumber = int(input(\"Enter any Number you Want\"))\n",
    "\n",
    "for a in range(1, 11):\n",
    "    print(f\"{tableNumber} * {a} = {tableNumber * a}\")"
   ]
  },
  {
   "cell_type": "code",
   "execution_count": 32,
   "id": "61b348d5",
   "metadata": {},
   "outputs": [
    {
     "name": "stdout",
     "output_type": "stream",
     "text": [
      "Enter the range of number tables you Want5\n",
      "2 * 1 = 2\n",
      "2 * 2 = 4\n",
      "2 * 3 = 6\n",
      "2 * 4 = 8\n",
      "2 * 5 = 10\n",
      "2 * 6 = 12\n",
      "2 * 7 = 14\n",
      "2 * 8 = 16\n",
      "2 * 9 = 18\n",
      "2 * 10 = 20\n",
      "\n",
      "3 * 1 = 3\n",
      "3 * 2 = 6\n",
      "3 * 3 = 9\n",
      "3 * 4 = 12\n",
      "3 * 5 = 15\n",
      "3 * 6 = 18\n",
      "3 * 7 = 21\n",
      "3 * 8 = 24\n",
      "3 * 9 = 27\n",
      "3 * 10 = 30\n",
      "\n",
      "4 * 1 = 4\n",
      "4 * 2 = 8\n",
      "4 * 3 = 12\n",
      "4 * 4 = 16\n",
      "4 * 5 = 20\n",
      "4 * 6 = 24\n",
      "4 * 7 = 28\n",
      "4 * 8 = 32\n",
      "4 * 9 = 36\n",
      "4 * 10 = 40\n",
      "\n",
      "5 * 1 = 5\n",
      "5 * 2 = 10\n",
      "5 * 3 = 15\n",
      "5 * 4 = 20\n",
      "5 * 5 = 25\n",
      "5 * 6 = 30\n",
      "5 * 7 = 35\n",
      "5 * 8 = 40\n",
      "5 * 9 = 45\n",
      "5 * 10 = 50\n",
      "\n"
     ]
    }
   ],
   "source": [
    "tables = int(input(\"Enter the range of number tables you Want\"))\n",
    "\n",
    "for table in range(2, tables+1):\n",
    "    for num in range(1, 11):\n",
    "        print(f\"{table} * {num} = {table * num}\")\n",
    "    print(\"\")"
   ]
  },
  {
   "cell_type": "code",
   "execution_count": 34,
   "id": "075e51fe",
   "metadata": {},
   "outputs": [
    {
     "name": "stdout",
     "output_type": "stream",
     "text": [
      "b It's a match.\n"
     ]
    }
   ],
   "source": [
    "chosen_letter = \"b\"\n",
    "letter_list = [\"a\", \"b\", \"c\", \"d\", \"e\", \"f\"]\n",
    "for a_letter in letter_list:\n",
    "  if a_letter == chosen_letter:\n",
    "    print(a_letter, \"It's a match.\")\n",
    "    break"
   ]
  },
  {
   "cell_type": "code",
   "execution_count": 35,
   "id": "e7d8f1ce",
   "metadata": {},
   "outputs": [
    {
     "name": "stdout",
     "output_type": "stream",
     "text": [
      "14\n"
     ]
    }
   ],
   "source": [
    "outer_loop_total = 0\n",
    "inner_loop_total = 0\n",
    "countries = [\"Albania\", \"Morocco\", \"Brazil\", \"Denmark\"]\n",
    "capitals = [\"Tel Aviv\", \"Abuja\", \"Brasília\", \"Islamabad\"]\n",
    "for country_to_check in countries:\n",
    "  outer_loop_total += 1\n",
    "  for city_to_check in capitals:\n",
    "    inner_loop_total += 1\n",
    "    if country_to_check == \"Brazil\" and city_to_check == \"Brasília\":\n",
    "      print(outer_loop_total + inner_loop_total)"
   ]
  },
  {
   "cell_type": "code",
   "execution_count": null,
   "id": "44e42cb5",
   "metadata": {},
   "outputs": [],
   "source": []
  }
 ],
 "metadata": {
  "kernelspec": {
   "display_name": "Python 3 (ipykernel)",
   "language": "python",
   "name": "python3"
  },
  "language_info": {
   "codemirror_mode": {
    "name": "ipython",
    "version": 3
   },
   "file_extension": ".py",
   "mimetype": "text/x-python",
   "name": "python",
   "nbconvert_exporter": "python",
   "pygments_lexer": "ipython3",
   "version": "3.9.12"
  }
 },
 "nbformat": 4,
 "nbformat_minor": 5
}
