{
 "cells": [
  {
   "cell_type": "code",
   "execution_count": 2,
   "id": "2056e9e7",
   "metadata": {},
   "outputs": [
    {
     "name": "stdout",
     "output_type": "stream",
     "text": [
      "\n",
      "Name:           Nadeem Hussain\n",
      "Father's Name:  Abdul Fattah\n",
      "AIC Batch:      36 - 37\n",
      "\n"
     ]
    }
   ],
   "source": [
    "data = \"\"\"\n",
    "Name:           Nadeem Hussain\n",
    "Father's Name:  Abdul Fattah\n",
    "AIC Batch:      36 - 37\n",
    "\"\"\"\n",
    "print(data)"
   ]
  },
  {
   "cell_type": "code",
   "execution_count": 4,
   "id": "bd97f2ed",
   "metadata": {},
   "outputs": [
    {
     "data": {
      "text/plain": [
       "\"\\nName:           Nadeem Hussain\\nFather's Name:  Abdul Fattah\\nAIC Batch:      36 - 37\\n\""
      ]
     },
     "execution_count": 4,
     "metadata": {},
     "output_type": "execute_result"
    }
   ],
   "source": [
    "data"
   ]
  },
  {
   "cell_type": "code",
   "execution_count": 5,
   "id": "49e25f44",
   "metadata": {},
   "outputs": [
    {
     "data": {
      "text/plain": [
       "'dil dil'"
      ]
     },
     "execution_count": 5,
     "metadata": {},
     "output_type": "execute_result"
    }
   ],
   "source": [
    "nadeem = \"dil dil\" # variable shows the value stored in it without needing it to be displayed using the print() function.\n",
    "nadeem"
   ]
  },
  {
   "cell_type": "code",
   "execution_count": 9,
   "id": "035ceab5",
   "metadata": {},
   "outputs": [
    {
     "data": {
      "text/plain": [
       "'c'"
      ]
     },
     "execution_count": 9,
     "metadata": {},
     "output_type": "execute_result"
    }
   ],
   "source": [
    "\"a\"\n",
    "'b'\n",
    "\"c\" # Jupyter notebook returns the last line"
   ]
  },
  {
   "cell_type": "code",
   "execution_count": 8,
   "id": "18a3c4f4",
   "metadata": {},
   "outputs": [
    {
     "name": "stdout",
     "output_type": "stream",
     "text": [
      "c\n"
     ]
    }
   ],
   "source": [
    "print(\"c\")"
   ]
  },
  {
   "cell_type": "markdown",
   "id": "b1d24f50",
   "metadata": {},
   "source": [
    "# Concatenation (combining two values or variables) & Text Formatting"
   ]
  },
  {
   "cell_type": "code",
   "execution_count": 10,
   "id": "a1f282c0",
   "metadata": {},
   "outputs": [
    {
     "name": "stdout",
     "output_type": "stream",
     "text": [
      "Nadeem Hussain\n",
      "Abdul Fattah\n",
      "ME Petroleum Engineering\n",
      "AI Engineer Oil And Gas\n"
     ]
    }
   ],
   "source": [
    "name = \"Nadeem Hussain\"\n",
    "father_name = \"Abdul Fattah\"\n",
    "education = \"ME Petroleum Engineering\"\n",
    "designation = \"AI Engineer Oil And Gas\"\n",
    "\n",
    "print(name, father_name, education, designation, sep=\"\\n\")"
   ]
  },
  {
   "cell_type": "code",
   "execution_count": 11,
   "id": "af8121b9",
   "metadata": {},
   "outputs": [
    {
     "name": "stdout",
     "output_type": "stream",
     "text": [
      "a\n",
      "b\n"
     ]
    }
   ],
   "source": [
    "print(\"a\")\n",
    "print('b')"
   ]
  },
  {
   "cell_type": "code",
   "execution_count": 13,
   "id": "290d6cc1",
   "metadata": {},
   "outputs": [
    {
     "name": "stdout",
     "output_type": "stream",
     "text": [
      "Nadeem Hussain Abdul Fattah ME Petroleum Engineering AI Engineer Oil And Gas\n"
     ]
    }
   ],
   "source": [
    "name = \"Nadeem Hussain\"\n",
    "father_name = \"Abdul Fattah\"\n",
    "education = \"ME Petroleum Engineering\"\n",
    "designation = \"AI Engineer Oil And Gas\"\n",
    "\n",
    "print(name, father_name, education, designation, end=\"\\n\")"
   ]
  },
  {
   "cell_type": "code",
   "execution_count": 18,
   "id": "4a293d60",
   "metadata": {},
   "outputs": [
    {
     "name": "stdout",
     "output_type": "stream",
     "text": [
      "PIAIC Teacher Card\n",
      "Name: Nadeem Hussain\n",
      "Father's Name: Abdul Fattah\n",
      "Education: ME Petroleum Engineering\n",
      "Designation: AI Engineer Oil And Gas\n",
      "Height: 5.5\n"
     ]
    }
   ],
   "source": [
    "name = \"Nadeem Hussain\"\n",
    "father_name = \"Abdul Fattah\"\n",
    "education = \"ME Petroleum Engineering\"\n",
    "designation = \"AI Engineer Oil And Gas\"\n",
    "height = 5.5\n",
    "\n",
    "# + operator on the string joins two strings\n",
    "result = \"PIAIC Teacher Card\\nName: \" + name + \"\\nFather's Name: \" + father_name + \"\\nEducation: \" + education + \"\\nDesignation: \" + designation + \"\\nHeight: \" + str(height)\n",
    "\n",
    "print(result)"
   ]
  },
  {
   "cell_type": "code",
   "execution_count": 19,
   "id": "3e37e476",
   "metadata": {},
   "outputs": [
    {
     "name": "stdout",
     "output_type": "stream",
     "text": [
      "\n",
      "PIAIC Teacher Card\n",
      "Name: Nadeem Hussain\n",
      "Father's Name: Abdul Fattah\n",
      "Education: ME Petroleum Engineering\n",
      "Designation: AI Engineer Oil And Gas\n",
      "Height: 5.5\n",
      "\n"
     ]
    }
   ],
   "source": [
    "name = \"Nadeem Hussain\"\n",
    "father_name = \"Abdul Fattah\"\n",
    "education = \"ME Petroleum Engineering\"\n",
    "designation = \"AI Engineer Oil And Gas\"\n",
    "height = 5.5\n",
    "\n",
    "data = \"\"\"\n",
    "PIAIC Teacher Card\n",
    "Name: {}\n",
    "Father's Name: {}\n",
    "Education: {}\n",
    "Designation: {}\n",
    "Height: {}\n",
    "\"\"\".format(name, father_name, education, designation, height)\n",
    "\n",
    "print(data)"
   ]
  },
  {
   "cell_type": "code",
   "execution_count": 21,
   "id": "4a691ad5",
   "metadata": {},
   "outputs": [
    {
     "name": "stdout",
     "output_type": "stream",
     "text": [
      "\n",
      "PIAIC Teacher Card\n",
      "Name: Abdul Fattah\n",
      "Father's Name: 5.5\n",
      "Education: ME Petroleum Engineering\n",
      "Designation: AI Engineer Oil And Gas\n",
      "Height: Nadeem Hussain\n",
      "\n"
     ]
    }
   ],
   "source": [
    "name = \"Nadeem Hussain\"\n",
    "father_name = \"Abdul Fattah\"\n",
    "education = \"ME Petroleum Engineering\"\n",
    "designation = \"AI Engineer Oil And Gas\"\n",
    "height = 5.5\n",
    "\n",
    "data = \"\"\"\n",
    "PIAIC Teacher Card\n",
    "Name: {}\n",
    "Father's Name: {}\n",
    "Education: {}\n",
    "Designation: {}\n",
    "Height: {}\n",
    "\"\"\".format(father_name, height, education, designation, name)\n",
    "\n",
    "print(data)"
   ]
  },
  {
   "cell_type": "code",
   "execution_count": 22,
   "id": "bbef1a6c",
   "metadata": {},
   "outputs": [
    {
     "name": "stdout",
     "output_type": "stream",
     "text": [
      "\n",
      "PIAIC Teacher Card\n",
      "Name: Nadeem Hussain\n",
      "Father's Name: Abdul Fattah\n",
      "Education: ME Petroleum Engineering\n",
      "Designation: AI Engineer Oil And Gas\n",
      "Height: 5.5\n",
      "\n"
     ]
    }
   ],
   "source": [
    "name = \"Nadeem Hussain\"\n",
    "father_name = \"Abdul Fattah\"\n",
    "education = \"ME Petroleum Engineering\"\n",
    "designation = \"AI Engineer Oil And Gas\"\n",
    "height = 5.5\n",
    "\n",
    "data = \"\"\"\n",
    "PIAIC Teacher Card\n",
    "Name: {4}\n",
    "Father's Name: {0}\n",
    "Education: {2}\n",
    "Designation: {3}\n",
    "Height: {1}\n",
    "\"\"\".format(father_name, height, education, designation, name)\n",
    "\n",
    "print(data)"
   ]
  },
  {
   "cell_type": "code",
   "execution_count": 23,
   "id": "cf717860",
   "metadata": {},
   "outputs": [
    {
     "name": "stdout",
     "output_type": "stream",
     "text": [
      "\n",
      "PIAIC Teacher Card\n",
      "Name: Nadeem Hussain\n",
      "Father's Name: Abdul Fattah\n",
      "Education: ME Petroleum Engineering\n",
      "Designation: AI Engineer Oil And Gas\n",
      "Height: 5.5\n",
      "\n"
     ]
    }
   ],
   "source": [
    "name = \"Nadeem Hussain\"\n",
    "father_name = \"Abdul Fattah\"\n",
    "education = \"ME Petroleum Engineering\"\n",
    "designation = \"AI Engineer Oil And Gas\"\n",
    "height = 5.5\n",
    "\n",
    "data = f\"\"\"\n",
    "PIAIC Teacher Card\n",
    "Name: {name}\n",
    "Father's Name: {father_name}\n",
    "Education: {education}\n",
    "Designation: {designation}\n",
    "Height: {height}\n",
    "\"\"\"\n",
    "\n",
    "print(data)"
   ]
  },
  {
   "cell_type": "code",
   "execution_count": 24,
   "id": "a160ebca",
   "metadata": {},
   "outputs": [
    {
     "name": "stdout",
     "output_type": "stream",
     "text": [
      "Enter your Full Name: Nadeem Hussain Koondhar\n",
      "Enter Full Name of your father: Abdul Fattah Koondhar\n",
      "Enter your education or qualification: ME Petroleum Engineering\n",
      "Enter your designation: AI Engineer Oil & Gas division\n",
      "Enter your height: 5.6\n",
      "\n",
      "PIAIC Teacher Card\n",
      "Name: Nadeem Hussain Koondhar\n",
      "Father's Name: Abdul Fattah Koondhar\n",
      "Education: ME Petroleum Engineering\n",
      "Designation: AI Engineer Oil & Gas division\n",
      "Height: 5.6\n",
      "\n"
     ]
    }
   ],
   "source": [
    "name = input(\"Enter your Full Name: \")\n",
    "father_name = input(\"Enter Full Name of your father: \")\n",
    "education = input(\"Enter your education or qualification: \")\n",
    "designation = input(\"Enter your designation: \")\n",
    "height = float(input(\"Enter your height: \"))\n",
    "\n",
    "data = f\"\"\"\n",
    "PIAIC Teacher Card\n",
    "Name: {name}\n",
    "Father's Name: {father_name}\n",
    "Education: {education}\n",
    "Designation: {designation}\n",
    "Height: {height}\n",
    "\"\"\"\n",
    "\n",
    "print(data)"
   ]
  },
  {
   "cell_type": "markdown",
   "id": "92e52f9f",
   "metadata": {},
   "source": [
    "# String Methods"
   ]
  },
  {
   "cell_type": "code",
   "execution_count": 25,
   "id": "060794db",
   "metadata": {},
   "outputs": [
    {
     "data": {
      "text/plain": [
       "\"\\nPIAIC Teacher Card\\nName: Nadeem Hussain Koondhar\\nFather's Name: Abdul Fattah Koondhar\\nEducation: ME Petroleum Engineering\\nDesignation: AI Engineer Oil & Gas division\\nHeight: 5.6\\n\""
      ]
     },
     "execution_count": 25,
     "metadata": {},
     "output_type": "execute_result"
    }
   ],
   "source": [
    "data"
   ]
  },
  {
   "cell_type": "code",
   "execution_count": 26,
   "id": "81cc13eb",
   "metadata": {},
   "outputs": [
    {
     "name": "stdout",
     "output_type": "stream",
     "text": [
      "Nadeem hussain\n"
     ]
    }
   ],
   "source": [
    "name = \"nadeem hussain\"\n",
    "print(name.capitalize())"
   ]
  },
  {
   "cell_type": "code",
   "execution_count": 27,
   "id": "4ce6bda2",
   "metadata": {},
   "outputs": [
    {
     "name": "stdout",
     "output_type": "stream",
     "text": [
      "Nadeem Hussain\n"
     ]
    }
   ],
   "source": [
    "name = \"nadeem hussain\"\n",
    "print(name.title())"
   ]
  },
  {
   "cell_type": "code",
   "execution_count": 29,
   "id": "2e8ec7c6",
   "metadata": {},
   "outputs": [
    {
     "name": "stdout",
     "output_type": "stream",
     "text": [
      "\n"
     ]
    },
    {
     "data": {
      "text/plain": [
       "True"
      ]
     },
     "execution_count": 29,
     "metadata": {},
     "output_type": "execute_result"
    }
   ],
   "source": [
    "name = \"Muhammad Qasim\"\n",
    "print()\n",
    "name.casefold() == \"muHamMad QaSIM\".casefold()"
   ]
  },
  {
   "cell_type": "code",
   "execution_count": 35,
   "id": "db2a6c87",
   "metadata": {},
   "outputs": [
    {
     "data": {
      "text/plain": [
       "'                                                     Muhammad Qasim                                                     '"
      ]
     },
     "execution_count": 35,
     "metadata": {},
     "output_type": "execute_result"
    }
   ],
   "source": [
    "name.center(120)"
   ]
  },
  {
   "cell_type": "code",
   "execution_count": 36,
   "id": "47813a76",
   "metadata": {},
   "outputs": [
    {
     "name": "stdout",
     "output_type": "stream",
     "text": [
      "1\n",
      "3\n"
     ]
    }
   ],
   "source": [
    "print(name.count(\"Qasim\"))\n",
    "print(name.count(\"a\"))"
   ]
  },
  {
   "cell_type": "code",
   "execution_count": 37,
   "id": "73b957a0",
   "metadata": {},
   "outputs": [
    {
     "data": {
      "text/plain": [
       "b'\\xff\\xfeM\\x00u\\x00h\\x00a\\x00m\\x00m\\x00a\\x00d\\x00 \\x00Q\\x00a\\x00s\\x00i\\x00m\\x00'"
      ]
     },
     "execution_count": 37,
     "metadata": {},
     "output_type": "execute_result"
    }
   ],
   "source": [
    "name.encode(\"utf-16\")"
   ]
  },
  {
   "cell_type": "code",
   "execution_count": 38,
   "id": "2a41ed7b",
   "metadata": {},
   "outputs": [
    {
     "name": "stdout",
     "output_type": "stream",
     "text": [
      "b'\\xff\\xfeM\\x00u\\x00h\\x00a\\x00m\\x00m\\x00a\\x00d\\x00 \\x00Q\\x00a\\x00s\\x00i\\x00m\\x00'\n"
     ]
    }
   ],
   "source": [
    "print(name.encode(\"utf-16\"))"
   ]
  },
  {
   "cell_type": "code",
   "execution_count": 39,
   "id": "bfa5c784",
   "metadata": {},
   "outputs": [
    {
     "data": {
      "text/plain": [
       "b'Muhammad Qasim'"
      ]
     },
     "execution_count": 39,
     "metadata": {},
     "output_type": "execute_result"
    }
   ],
   "source": [
    "name.encode(\"utf-8\")"
   ]
  },
  {
   "cell_type": "code",
   "execution_count": 40,
   "id": "af3fbadf",
   "metadata": {},
   "outputs": [
    {
     "data": {
      "text/plain": [
       "True"
      ]
     },
     "execution_count": 40,
     "metadata": {},
     "output_type": "execute_result"
    }
   ],
   "source": [
    "name = \"Muhammad Qasim\"\n",
    "name.endswith(\"sim\")"
   ]
  },
  {
   "cell_type": "code",
   "execution_count": 41,
   "id": "23f9a859",
   "metadata": {},
   "outputs": [
    {
     "data": {
      "text/plain": [
       "True"
      ]
     },
     "execution_count": 41,
     "metadata": {},
     "output_type": "execute_result"
    }
   ],
   "source": [
    "name = \"Muhammad Qasim\"\n",
    "name.startswith(\"Muh\")"
   ]
  },
  {
   "cell_type": "code",
   "execution_count": 43,
   "id": "9732a052",
   "metadata": {},
   "outputs": [],
   "source": [
    "data = \"\"\"\n",
    "PIAIC Teacher Card\n",
    "Name: Qasim\n",
    "Father's Name: Aslam\n",
    "Education: MS\n",
    "\"\"\""
   ]
  },
  {
   "cell_type": "code",
   "execution_count": 45,
   "id": "e1d352bb",
   "metadata": {},
   "outputs": [
    {
     "name": "stdout",
     "output_type": "stream",
     "text": [
      "\n",
      "PIAIC Teacher Card\n",
      "Name: Qasim\n",
      "Father's Name: Aslam\n",
      "Education: MS\n",
      "\n"
     ]
    }
   ],
   "source": [
    "print(data.expandtabs(20))"
   ]
  },
  {
   "cell_type": "code",
   "execution_count": 46,
   "id": "175daafa",
   "metadata": {},
   "outputs": [
    {
     "data": {
      "text/plain": [
       "<function str.expandtabs(tabsize=8)>"
      ]
     },
     "execution_count": 46,
     "metadata": {},
     "output_type": "execute_result"
    }
   ],
   "source": [
    "name = \"Muhammad Qasim\"\n",
    "name.expandtabs"
   ]
  },
  {
   "cell_type": "code",
   "execution_count": 47,
   "id": "0a1e7337",
   "metadata": {},
   "outputs": [
    {
     "data": {
      "text/plain": [
       "9"
      ]
     },
     "execution_count": 47,
     "metadata": {},
     "output_type": "execute_result"
    }
   ],
   "source": [
    "name.find(\"Qa\")"
   ]
  },
  {
   "cell_type": "code",
   "execution_count": 48,
   "id": "af764210",
   "metadata": {},
   "outputs": [
    {
     "data": {
      "text/plain": [
       "3"
      ]
     },
     "execution_count": 48,
     "metadata": {},
     "output_type": "execute_result"
    }
   ],
   "source": [
    "name.find(\"a\")"
   ]
  },
  {
   "cell_type": "code",
   "execution_count": 50,
   "id": "97438c06",
   "metadata": {},
   "outputs": [
    {
     "data": {
      "text/plain": [
       "-1"
      ]
     },
     "execution_count": 50,
     "metadata": {},
     "output_type": "execute_result"
    }
   ],
   "source": [
    "name.find(\"d q\") # means character being looked for is not in the string"
   ]
  },
  {
   "cell_type": "code",
   "execution_count": 51,
   "id": "bbaf9a6a",
   "metadata": {},
   "outputs": [
    {
     "data": {
      "text/plain": [
       "6"
      ]
     },
     "execution_count": 51,
     "metadata": {},
     "output_type": "execute_result"
    }
   ],
   "source": [
    "name.find(\"a\", 4)"
   ]
  },
  {
   "cell_type": "code",
   "execution_count": 55,
   "id": "3e0a2c79",
   "metadata": {},
   "outputs": [
    {
     "name": "stdout",
     "output_type": "stream",
     "text": [
      "3\n",
      "6\n",
      "10\n",
      "-1\n"
     ]
    }
   ],
   "source": [
    "print(name.find(\"a\"))\n",
    "print(name.find(\"a\", 4))\n",
    "print(name.find(\"a\", 7))\n",
    "print(name.find(\"a\", 11))"
   ]
  },
  {
   "cell_type": "code",
   "execution_count": 56,
   "id": "9434b06e",
   "metadata": {},
   "outputs": [
    {
     "data": {
      "text/plain": [
       "'Muham'"
      ]
     },
     "execution_count": 56,
     "metadata": {},
     "output_type": "execute_result"
    }
   ],
   "source": [
    "name = \"Muhammad Qasim\"\n",
    "name[:5]"
   ]
  },
  {
   "cell_type": "code",
   "execution_count": null,
   "id": "fa596e5e",
   "metadata": {},
   "outputs": [],
   "source": [
    "name = \"Muhammad Qasim\"\n",
    "name.format_map()"
   ]
  },
  {
   "cell_type": "code",
   "execution_count": 60,
   "id": "62080d9a",
   "metadata": {},
   "outputs": [
    {
     "name": "stdout",
     "output_type": "stream",
     "text": [
      "Name: Qasim \n",
      "Father's Name: Aslam\n"
     ]
    }
   ],
   "source": [
    "record = {\"x\": \"Qasim\",\n",
    "         \"y\": \"Aslam\"}\n",
    "\n",
    "print(\"Name: {x} \\nFather's Name: {y}\".format_map(record))"
   ]
  },
  {
   "cell_type": "code",
   "execution_count": 61,
   "id": "b1d0f6d6",
   "metadata": {},
   "outputs": [
    {
     "data": {
      "text/plain": [
       "3"
      ]
     },
     "execution_count": 61,
     "metadata": {},
     "output_type": "execute_result"
    }
   ],
   "source": [
    "name.index(\"a\")"
   ]
  },
  {
   "cell_type": "code",
   "execution_count": 71,
   "id": "93b296f2",
   "metadata": {},
   "outputs": [],
   "source": [
    "name = \"Muhammad\""
   ]
  },
  {
   "cell_type": "code",
   "execution_count": 72,
   "id": "3d422c9f",
   "metadata": {},
   "outputs": [
    {
     "data": {
      "text/plain": [
       "True"
      ]
     },
     "execution_count": 72,
     "metadata": {},
     "output_type": "execute_result"
    }
   ],
   "source": [
    "name.isalnum()"
   ]
  },
  {
   "cell_type": "code",
   "execution_count": 73,
   "id": "fc27ece0",
   "metadata": {},
   "outputs": [],
   "source": [
    "name = \"Muhammad1\""
   ]
  },
  {
   "cell_type": "code",
   "execution_count": 74,
   "id": "ee343f0e",
   "metadata": {},
   "outputs": [
    {
     "data": {
      "text/plain": [
       "False"
      ]
     },
     "execution_count": 74,
     "metadata": {},
     "output_type": "execute_result"
    }
   ],
   "source": [
    "name.isalpha()"
   ]
  },
  {
   "cell_type": "code",
   "execution_count": 75,
   "id": "06434826",
   "metadata": {},
   "outputs": [
    {
     "data": {
      "text/plain": [
       "True"
      ]
     },
     "execution_count": 75,
     "metadata": {},
     "output_type": "execute_result"
    }
   ],
   "source": [
    "name = \"Muhammad\"\n",
    "name.isascii()"
   ]
  },
  {
   "cell_type": "code",
   "execution_count": 76,
   "id": "deb4175d",
   "metadata": {},
   "outputs": [
    {
     "data": {
      "text/plain": [
       "False"
      ]
     },
     "execution_count": 76,
     "metadata": {},
     "output_type": "execute_result"
    }
   ],
   "source": [
    "name = \"ڈیلی میل\"\n",
    "name.isascii()"
   ]
  },
  {
   "cell_type": "code",
   "execution_count": 77,
   "id": "c3be2d1b",
   "metadata": {},
   "outputs": [
    {
     "data": {
      "text/plain": [
       "False"
      ]
     },
     "execution_count": 77,
     "metadata": {},
     "output_type": "execute_result"
    }
   ],
   "source": [
    "name = \"ڈیلی میل\"\n",
    "name.isdecimal()"
   ]
  },
  {
   "cell_type": "code",
   "execution_count": 78,
   "id": "736469a3",
   "metadata": {},
   "outputs": [
    {
     "data": {
      "text/plain": [
       "True"
      ]
     },
     "execution_count": 78,
     "metadata": {},
     "output_type": "execute_result"
    }
   ],
   "source": [
    "name = \"1\"\n",
    "name.isdecimal()"
   ]
  },
  {
   "cell_type": "code",
   "execution_count": null,
   "id": "4ff01542",
   "metadata": {},
   "outputs": [],
   "source": [
    "name = \"     Qasim     \"\n",
    "print"
   ]
  }
 ],
 "metadata": {
  "kernelspec": {
   "display_name": "Python 3 (ipykernel)",
   "language": "python",
   "name": "python3"
  },
  "language_info": {
   "codemirror_mode": {
    "name": "ipython",
    "version": 3
   },
   "file_extension": ".py",
   "mimetype": "text/x-python",
   "name": "python",
   "nbconvert_exporter": "python",
   "pygments_lexer": "ipython3",
   "version": "3.9.12"
  }
 },
 "nbformat": 4,
 "nbformat_minor": 5
}
