{
 "cells": [
  {
   "cell_type": "code",
   "execution_count": 2,
   "id": "c0548db2",
   "metadata": {},
   "outputs": [
    {
     "name": "stdout",
     "output_type": "stream",
     "text": [
      "\n",
      "Name:           Nadeem Hussain\n",
      "Father's Name:  Abdul Fattah\n",
      "AIC Batch:      36 - 37\n",
      "\n"
     ]
    }
   ],
   "source": [
    "data = \"\"\"\n",
    "Name:           Nadeem Hussain\n",
    "Father's Name:  Abdul Fattah\n",
    "AIC Batch:      36 - 37\n",
    "\"\"\"\n",
    "print(data)"
   ]
  },
  {
   "cell_type": "code",
   "execution_count": 4,
   "id": "2f7029d0",
   "metadata": {},
   "outputs": [
    {
     "data": {
      "text/plain": [
       "\"\\nName:           Nadeem Hussain\\nFather's Name:  Abdul Fattah\\nAIC Batch:      36 - 37\\n\""
      ]
     },
     "execution_count": 4,
     "metadata": {},
     "output_type": "execute_result"
    }
   ],
   "source": [
    "data"
   ]
  },
  {
   "cell_type": "code",
   "execution_count": 5,
   "id": "78ab07aa",
   "metadata": {},
   "outputs": [
    {
     "data": {
      "text/plain": [
       "'dil dil'"
      ]
     },
     "execution_count": 5,
     "metadata": {},
     "output_type": "execute_result"
    }
   ],
   "source": [
    "nadeem = \"dil dil\" # variable shows the value stored in it without needing it to be displayed using the print() function.\n",
    "nadeem"
   ]
  },
  {
   "cell_type": "code",
   "execution_count": 9,
   "id": "29c20b4d",
   "metadata": {},
   "outputs": [
    {
     "data": {
      "text/plain": [
       "'c'"
      ]
     },
     "execution_count": 9,
     "metadata": {},
     "output_type": "execute_result"
    }
   ],
   "source": [
    "\"a\"\n",
    "'b'\n",
    "\"c\" # Jupyter notebook returns the last line"
   ]
  },
  {
   "cell_type": "code",
   "execution_count": 8,
   "id": "1f51a6ab",
   "metadata": {},
   "outputs": [
    {
     "name": "stdout",
     "output_type": "stream",
     "text": [
      "c\n"
     ]
    }
   ],
   "source": [
    "print(\"c\")"
   ]
  },
  {
   "cell_type": "markdown",
   "id": "5b28b1a0",
   "metadata": {},
   "source": [
    "# Concatenation (combining two values or variables) & Text Formatting"
   ]
  },
  {
   "cell_type": "code",
   "execution_count": 10,
   "id": "69fe4ba4",
   "metadata": {},
   "outputs": [
    {
     "name": "stdout",
     "output_type": "stream",
     "text": [
      "Nadeem Hussain\n",
      "Abdul Fattah\n",
      "ME Petroleum Engineering\n",
      "AI Engineer Oil And Gas\n"
     ]
    }
   ],
   "source": [
    "name = \"Nadeem Hussain\"\n",
    "father_name = \"Abdul Fattah\"\n",
    "education = \"ME Petroleum Engineering\"\n",
    "designation = \"AI Engineer Oil And Gas\"\n",
    "\n",
    "print(name, father_name, education, designation, sep=\"\\n\")"
   ]
  },
  {
   "cell_type": "code",
   "execution_count": 11,
   "id": "2277a3ef",
   "metadata": {},
   "outputs": [
    {
     "name": "stdout",
     "output_type": "stream",
     "text": [
      "a\n",
      "b\n"
     ]
    }
   ],
   "source": [
    "print(\"a\")\n",
    "print('b')"
   ]
  },
  {
   "cell_type": "code",
   "execution_count": 13,
   "id": "d31fdeca",
   "metadata": {},
   "outputs": [
    {
     "name": "stdout",
     "output_type": "stream",
     "text": [
      "Nadeem Hussain Abdul Fattah ME Petroleum Engineering AI Engineer Oil And Gas\n"
     ]
    }
   ],
   "source": [
    "name = \"Nadeem Hussain\"\n",
    "father_name = \"Abdul Fattah\"\n",
    "education = \"ME Petroleum Engineering\"\n",
    "designation = \"AI Engineer Oil And Gas\"\n",
    "\n",
    "print(name, father_name, education, designation, end=\"\\n\")"
   ]
  },
  {
   "cell_type": "code",
   "execution_count": 18,
   "id": "8340fd25",
   "metadata": {},
   "outputs": [
    {
     "name": "stdout",
     "output_type": "stream",
     "text": [
      "PIAIC Teacher Card\n",
      "Name: Nadeem Hussain\n",
      "Father's Name: Abdul Fattah\n",
      "Education: ME Petroleum Engineering\n",
      "Designation: AI Engineer Oil And Gas\n",
      "Height: 5.5\n"
     ]
    }
   ],
   "source": [
    "name = \"Nadeem Hussain\"\n",
    "father_name = \"Abdul Fattah\"\n",
    "education = \"ME Petroleum Engineering\"\n",
    "designation = \"AI Engineer Oil And Gas\"\n",
    "height = 5.5\n",
    "\n",
    "# + operator on the string joins two strings\n",
    "result = \"PIAIC Teacher Card\\nName: \" + name + \"\\nFather's Name: \" + father_name + \"\\nEducation: \" + education + \"\\nDesignation: \" + designation + \"\\nHeight: \" + str(height)\n",
    "\n",
    "print(result)"
   ]
  },
  {
   "cell_type": "code",
   "execution_count": 19,
   "id": "557067ab",
   "metadata": {},
   "outputs": [
    {
     "name": "stdout",
     "output_type": "stream",
     "text": [
      "\n",
      "PIAIC Teacher Card\n",
      "Name: Nadeem Hussain\n",
      "Father's Name: Abdul Fattah\n",
      "Education: ME Petroleum Engineering\n",
      "Designation: AI Engineer Oil And Gas\n",
      "Height: 5.5\n",
      "\n"
     ]
    }
   ],
   "source": [
    "name = \"Nadeem Hussain\"\n",
    "father_name = \"Abdul Fattah\"\n",
    "education = \"ME Petroleum Engineering\"\n",
    "designation = \"AI Engineer Oil And Gas\"\n",
    "height = 5.5\n",
    "\n",
    "data = \"\"\"\n",
    "PIAIC Teacher Card\n",
    "Name: {}\n",
    "Father's Name: {}\n",
    "Education: {}\n",
    "Designation: {}\n",
    "Height: {}\n",
    "\"\"\".format(name, father_name, education, designation, height)\n",
    "\n",
    "print(data)"
   ]
  },
  {
   "cell_type": "code",
   "execution_count": 21,
   "id": "d9750dad",
   "metadata": {},
   "outputs": [
    {
     "name": "stdout",
     "output_type": "stream",
     "text": [
      "\n",
      "PIAIC Teacher Card\n",
      "Name: Abdul Fattah\n",
      "Father's Name: 5.5\n",
      "Education: ME Petroleum Engineering\n",
      "Designation: AI Engineer Oil And Gas\n",
      "Height: Nadeem Hussain\n",
      "\n"
     ]
    }
   ],
   "source": [
    "name = \"Nadeem Hussain\"\n",
    "father_name = \"Abdul Fattah\"\n",
    "education = \"ME Petroleum Engineering\"\n",
    "designation = \"AI Engineer Oil And Gas\"\n",
    "height = 5.5\n",
    "\n",
    "data = \"\"\"\n",
    "PIAIC Teacher Card\n",
    "Name: {}\n",
    "Father's Name: {}\n",
    "Education: {}\n",
    "Designation: {}\n",
    "Height: {}\n",
    "\"\"\".format(father_name, height, education, designation, name)\n",
    "\n",
    "print(data)"
   ]
  },
  {
   "cell_type": "code",
   "execution_count": 22,
   "id": "0947ead6",
   "metadata": {},
   "outputs": [
    {
     "name": "stdout",
     "output_type": "stream",
     "text": [
      "\n",
      "PIAIC Teacher Card\n",
      "Name: Nadeem Hussain\n",
      "Father's Name: Abdul Fattah\n",
      "Education: ME Petroleum Engineering\n",
      "Designation: AI Engineer Oil And Gas\n",
      "Height: 5.5\n",
      "\n"
     ]
    }
   ],
   "source": [
    "name = \"Nadeem Hussain\"\n",
    "father_name = \"Abdul Fattah\"\n",
    "education = \"ME Petroleum Engineering\"\n",
    "designation = \"AI Engineer Oil And Gas\"\n",
    "height = 5.5\n",
    "\n",
    "data = \"\"\"\n",
    "PIAIC Teacher Card\n",
    "Name: {4}\n",
    "Father's Name: {0}\n",
    "Education: {2}\n",
    "Designation: {3}\n",
    "Height: {1}\n",
    "\"\"\".format(father_name, height, education, designation, name)\n",
    "\n",
    "print(data)"
   ]
  },
  {
   "cell_type": "code",
   "execution_count": 23,
   "id": "59e95f5d",
   "metadata": {},
   "outputs": [
    {
     "name": "stdout",
     "output_type": "stream",
     "text": [
      "\n",
      "PIAIC Teacher Card\n",
      "Name: Nadeem Hussain\n",
      "Father's Name: Abdul Fattah\n",
      "Education: ME Petroleum Engineering\n",
      "Designation: AI Engineer Oil And Gas\n",
      "Height: 5.5\n",
      "\n"
     ]
    }
   ],
   "source": [
    "name = \"Nadeem Hussain\"\n",
    "father_name = \"Abdul Fattah\"\n",
    "education = \"ME Petroleum Engineering\"\n",
    "designation = \"AI Engineer Oil And Gas\"\n",
    "height = 5.5\n",
    "\n",
    "data = f\"\"\"\n",
    "PIAIC Teacher Card\n",
    "Name: {name}\n",
    "Father's Name: {father_name}\n",
    "Education: {education}\n",
    "Designation: {designation}\n",
    "Height: {height}\n",
    "\"\"\"\n",
    "\n",
    "print(data)"
   ]
  },
  {
   "cell_type": "code",
   "execution_count": 24,
   "id": "1a9dd170",
   "metadata": {},
   "outputs": [
    {
     "name": "stdout",
     "output_type": "stream",
     "text": [
      "Enter your Full Name: Nadeem Hussain Koondhar\n",
      "Enter Full Name of your father: Abdul Fattah Koondhar\n",
      "Enter your education or qualification: ME Petroleum Engineering\n",
      "Enter your designation: AI Engineer Oil & Gas division\n",
      "Enter your height: 5.6\n",
      "\n",
      "PIAIC Teacher Card\n",
      "Name: Nadeem Hussain Koondhar\n",
      "Father's Name: Abdul Fattah Koondhar\n",
      "Education: ME Petroleum Engineering\n",
      "Designation: AI Engineer Oil & Gas division\n",
      "Height: 5.6\n",
      "\n"
     ]
    }
   ],
   "source": [
    "name = input(\"Enter your Full Name: \")\n",
    "father_name = input(\"Enter Full Name of your father: \")\n",
    "education = input(\"Enter your education or qualification: \")\n",
    "designation = input(\"Enter your designation: \")\n",
    "height = input(\"Enter your height: \")\n",
    "\n",
    "data = f\"\"\"\n",
    "PIAIC Teacher Card\n",
    "Name: {name}\n",
    "Father's Name: {father_name}\n",
    "Education: {education}\n",
    "Designation: {designation}\n",
    "Height: {height}\n",
    "\"\"\"\n",
    "\n",
    "print(data)"
   ]
  },
  {
   "cell_type": "code",
   "execution_count": null,
   "id": "d743875b",
   "metadata": {},
   "outputs": [],
   "source": []
  },
  {
   "cell_type": "code",
   "execution_count": null,
   "id": "a5697f68",
   "metadata": {},
   "outputs": [],
   "source": []
  },
  {
   "cell_type": "code",
   "execution_count": null,
   "id": "0dc576f8",
   "metadata": {},
   "outputs": [],
   "source": []
  },
  {
   "cell_type": "code",
   "execution_count": null,
   "id": "f444f457",
   "metadata": {},
   "outputs": [],
   "source": []
  },
  {
   "cell_type": "code",
   "execution_count": null,
   "id": "90c50650",
   "metadata": {},
   "outputs": [],
   "source": []
  }
 ],
 "metadata": {
  "kernelspec": {
   "display_name": "Python 3 (ipykernel)",
   "language": "python",
   "name": "python3"
  },
  "language_info": {
   "codemirror_mode": {
    "name": "ipython",
    "version": 3
   },
   "file_extension": ".py",
   "mimetype": "text/x-python",
   "name": "python",
   "nbconvert_exporter": "python",
   "pygments_lexer": "ipython3",
   "version": "3.9.12"
  }
 },
 "nbformat": 4,
 "nbformat_minor": 5
}
