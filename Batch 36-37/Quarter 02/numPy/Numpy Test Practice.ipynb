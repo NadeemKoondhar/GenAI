{
 "cells": [
  {
   "cell_type": "code",
   "execution_count": 1,
   "id": "05e2c0ca",
   "metadata": {},
   "outputs": [
    {
     "name": "stdout",
     "output_type": "stream",
     "text": [
      "[5]\n"
     ]
    }
   ],
   "source": [
    "import numpy as np\n",
    "names = np. array(['Bob' , 'Joe' , 'Boby','Will' ,'Willy' , 'Joe' , 'Joe' ])\n",
    "data=np.arange(3,10,1)\n",
    "print(data[names==\"Boby\"])"
   ]
  },
  {
   "cell_type": "code",
   "execution_count": null,
   "id": "f33be924",
   "metadata": {},
   "outputs": [],
   "source": [
    "The data generation functions in numpy.random use a global random seed. To avoid global state, \n",
    "you can use numpy.random.RandomState to create a random number generator isolated from others:"
   ]
  },
  {
   "cell_type": "code",
   "execution_count": 2,
   "id": "21d37b35",
   "metadata": {},
   "outputs": [
    {
     "data": {
      "text/plain": [
       "array([[0, 1, 2],\n",
       "       [3, 4, 5]])"
      ]
     },
     "execution_count": 2,
     "metadata": {},
     "output_type": "execute_result"
    }
   ],
   "source": [
    "import numpy as np\n",
    "arr = np. arange(6)\n",
    "arr. reshape((2, -1))\n",
    "\n",
    "#For Array reshaping one of the passed shape dimensions can be –1, in which case the value \n",
    "used for that dimension will be inferred from the data. So in this question it will create \n",
    "an array of size 2x3 to arrange all elements of the array."
   ]
  },
  {
   "cell_type": "code",
   "execution_count": null,
   "id": "49e2641a",
   "metadata": {},
   "outputs": [],
   "source": [
    " a) Error\n",
    " b) Will create an array of size 3x2\n",
    " c) Will create an array of size 2x1\n",
    " d) Will create an array of size 2x3"
   ]
  },
  {
   "cell_type": "code",
   "execution_count": null,
   "id": "4ffe266c",
   "metadata": {},
   "outputs": [],
   "source": [
    "The opposite operation of reshape from one-dimensional to a higher dimension is typically \n",
    "known as flttening or raveling:"
   ]
  },
  {
   "cell_type": "code",
   "execution_count": null,
   "id": "a9291314",
   "metadata": {},
   "outputs": [],
   "source": [
    "NumPy's library of algorithms written in the C language can operate on this memory without \n",
    "any type checking or other overhead. "
   ]
  },
  {
   "cell_type": "code",
   "execution_count": 3,
   "id": "37a47c0c",
   "metadata": {},
   "outputs": [
    {
     "name": "stdout",
     "output_type": "stream",
     "text": [
      "[5 6 7]\n"
     ]
    }
   ],
   "source": [
    "import numpy as np\n",
    "arr = np. arange(10)\n",
    "print(arr[5:8])"
   ]
  },
  {
   "cell_type": "code",
   "execution_count": 4,
   "id": "06739b61",
   "metadata": {},
   "outputs": [
    {
     "name": "stdout",
     "output_type": "stream",
     "text": [
      "[5 6]\n"
     ]
    }
   ],
   "source": [
    "# What will be the output of the following code :\n",
    "arr2d = np. array([[1, 2, 3], [4, 5, 6], [7, 8, 9]])\n",
    "print(arr2d[1,1:])"
   ]
  },
  {
   "cell_type": "code",
   "execution_count": 5,
   "id": "e3d73e7a",
   "metadata": {},
   "outputs": [
    {
     "name": "stdout",
     "output_type": "stream",
     "text": [
      "[ 3  4 64 64]\n"
     ]
    }
   ],
   "source": [
    "# What will be the output of the following code :\n",
    "import numpy as np\n",
    "arr = np. arange(10)\n",
    "arr_slice = arr[5: 8]\n",
    "arr_slice[:] = 64\n",
    "print(arr[3:7])"
   ]
  },
  {
   "cell_type": "code",
   "execution_count": 8,
   "id": "758f0bd8",
   "metadata": {},
   "outputs": [
    {
     "name": "stdout",
     "output_type": "stream",
     "text": [
      "1\n"
     ]
    }
   ],
   "source": [
    "# What will be the output of the following code :\n",
    "import numpy as np\n",
    "arr = np.arange(4)\n",
    "arr.reshape(2,2)\n",
    "print(arr.ndim)"
   ]
  },
  {
   "cell_type": "code",
   "execution_count": 9,
   "id": "73bbd06b",
   "metadata": {},
   "outputs": [
    {
     "name": "stdout",
     "output_type": "stream",
     "text": [
      "[ 4 50  6]\n"
     ]
    }
   ],
   "source": [
    "# What will be the output of the following code :\n",
    "import numpy as np\n",
    "arr = np. arange(10)\n",
    "arr[5]=50\n",
    "print(arr[4:7])"
   ]
  },
  {
   "cell_type": "code",
   "execution_count": 10,
   "id": "86d20b7b",
   "metadata": {},
   "outputs": [
    {
     "data": {
      "text/plain": [
       "True"
      ]
     },
     "execution_count": 10,
     "metadata": {},
     "output_type": "execute_result"
    }
   ],
   "source": [
    "# What will be the output of the following code :\n",
    "import numpy as np\n",
    "arr = np.array([False, True, True, False])\n",
    "arr.any()"
   ]
  },
  {
   "cell_type": "code",
   "execution_count": null,
   "id": "b3b9d0dd",
   "metadata": {},
   "outputs": [],
   "source": [
    "9. Which Numpy Array creation function produce an array of the given shape and dtype with all values \n",
    "set to the indicated “fill value”\n",
    "\n",
    "Numpy.Full\n"
   ]
  },
  {
   "cell_type": "code",
   "execution_count": null,
   "id": "53cc39f0",
   "metadata": {},
   "outputs": [],
   "source": [
    "Which functionality is not present in Numpy\n",
    "\n",
    "Some functionalities like Time Series manipulation is not present in NumPy. we have to use Pandas for that."
   ]
  },
  {
   "cell_type": "code",
   "execution_count": 11,
   "id": "04aaa639",
   "metadata": {},
   "outputs": [
    {
     "name": "stdout",
     "output_type": "stream",
     "text": [
      "[nan]\n"
     ]
    },
    {
     "name": "stderr",
     "output_type": "stream",
     "text": [
      "C:\\Users\\Nadeem\\AppData\\Local\\Temp\\ipykernel_20632\\4231124872.py:4: RuntimeWarning: invalid value encountered in sqrt\n",
      "  print(np.sqrt(arr))\n"
     ]
    }
   ],
   "source": [
    "# What will be the output of the following code :\n",
    "import numpy as np\n",
    "arr=[-3.2623]\n",
    "print(np.sqrt(arr))\n"
   ]
  },
  {
   "cell_type": "code",
   "execution_count": 12,
   "id": "1db4e98b",
   "metadata": {},
   "outputs": [
    {
     "name": "stdout",
     "output_type": "stream",
     "text": [
      " x. dot(y) = \n",
      " [28.]\n"
     ]
    }
   ],
   "source": [
    "# What will be the output of the following code :\n",
    "import numpy as np\n",
    "x = np. array([1. , 2. , 3. ])\n",
    "y = np. array([[6.], [- 1], [8]])\n",
    "print(\" x. dot(y) = \\n\",x. dot(y))"
   ]
  },
  {
   "cell_type": "code",
   "execution_count": 65,
   "id": "b4030c43",
   "metadata": {},
   "outputs": [
    {
     "name": "stdout",
     "output_type": "stream",
     "text": [
      "11.0\n"
     ]
    }
   ],
   "source": [
    "# What will be the output of the following code :\n",
    "import numpy as np\n",
    "arr = np.array([11, 2.5, 3.6,-87])\n",
    "cond = np.array([True, False, True])\n",
    "result = np.max(np.where(np.abs(arr) > 3, arr,0))\n",
    "print(result)\n",
    "\n",
    "# The numpy.where function is a vectorized version of the ternary expression x if condition else y.  \n",
    "# The numpy.abs computes the absolute value element wise for integer, floating-point, or complex values. \n",
    "# numpy.max retrurns the maximum value in the given array. So np.where(np.abs(arr) > 3, arr,0) will return \n",
    "# [ 11. 0. 3.6 -87. ] and numpy.max will return the maximum value which is 11."
   ]
  },
  {
   "cell_type": "code",
   "execution_count": null,
   "id": "89d310c7",
   "metadata": {},
   "outputs": [],
   "source": [
    "In Python random.seed() function is used to save the state of a random function, so that it \n",
    "can generate _________________ on multiple executions of the code\n",
    " d) same random numbers\n",
    "\n",
    "# Seed function is used to save the state of a random function, so that it can generate same \n",
    "random numbers on multiple executions of the code."
   ]
  },
  {
   "cell_type": "code",
   "execution_count": null,
   "id": "026b0ab5",
   "metadata": {},
   "outputs": [],
   "source": [
    "Which Numpy function will create a square N x N identity matrix\n",
    "\n",
    "eye and identity Numpy functions creates a square N × N identity matrix (1s on the diagonal and 0s elsewhere"
   ]
  },
  {
   "cell_type": "code",
   "execution_count": null,
   "id": "24c8104f",
   "metadata": {},
   "outputs": [],
   "source": [
    "In Numpy save and load functions are used for efficiently saving and loading array data on disk. \n",
    "Arrays are saved by default in file with extension ___________\n",
    "\n",
    ".npy"
   ]
  },
  {
   "cell_type": "code",
   "execution_count": 32,
   "id": "429a068f",
   "metadata": {},
   "outputs": [
    {
     "name": "stdout",
     "output_type": "stream",
     "text": [
      "[False  True False  True]\n"
     ]
    },
    {
     "data": {
      "text/plain": [
       "[0, 2, 5]"
      ]
     },
     "execution_count": 32,
     "metadata": {},
     "output_type": "execute_result"
    }
   ],
   "source": [
    "import numpy as np\n",
    "arr1 = np.array([0, 1, 2, 3])\n",
    "arr2 = [0, 2, 5]\n",
    "res = np.in1d(arr1, arr2, invert = True)\n",
    "print(res)"
   ]
  },
  {
   "cell_type": "code",
   "execution_count": 15,
   "id": "0d653e14",
   "metadata": {},
   "outputs": [
    {
     "name": "stdout",
     "output_type": "stream",
     "text": [
      "(1, 5) 2\n"
     ]
    }
   ],
   "source": [
    "import numpy as np\n",
    "a = np.array([1, 2, 3,4,5], ndmin = 2)\n",
    "print(a.shape,a.ndim)"
   ]
  },
  {
   "cell_type": "code",
   "execution_count": 16,
   "id": "aa951d78",
   "metadata": {},
   "outputs": [
    {
     "name": "stdout",
     "output_type": "stream",
     "text": [
      "[ 3 -1 -2  0 12 10]\n"
     ]
    }
   ],
   "source": [
    "import numpy as np\n",
    "arr = np.array([3.7, -1.2, -2.6, 0.5, 12.9, 10.0])\n",
    "print(arr.astype(np.int32))"
   ]
  },
  {
   "cell_type": "code",
   "execution_count": 17,
   "id": "9c5dc7bb",
   "metadata": {},
   "outputs": [
    {
     "name": "stdout",
     "output_type": "stream",
     "text": [
      "(5,) 1\n"
     ]
    }
   ],
   "source": [
    "import numpy as np\n",
    "a = np.array([1, 2, 3,4,5])\n",
    "print(a.shape,a.ndim)"
   ]
  },
  {
   "cell_type": "code",
   "execution_count": 18,
   "id": "61742dae",
   "metadata": {},
   "outputs": [
    {
     "name": "stdout",
     "output_type": "stream",
     "text": [
      "[ 1  2  6 24]\n"
     ]
    }
   ],
   "source": [
    "import numpy as np\n",
    "arr = np.array([1, 2, 3,4])\n",
    "print(arr.cumprod(axis=0))"
   ]
  },
  {
   "cell_type": "code",
   "execution_count": 19,
   "id": "40202290",
   "metadata": {},
   "outputs": [
    {
     "ename": "SyntaxError",
     "evalue": "invalid syntax (2480309719.py, line 1)",
     "output_type": "error",
     "traceback": [
      "\u001b[1;36m  Input \u001b[1;32mIn [19]\u001b[1;36m\u001b[0m\n\u001b[1;33m    Which statement best describes Numpy's ndarray ?\u001b[0m\n\u001b[1;37m          ^\u001b[0m\n\u001b[1;31mSyntaxError\u001b[0m\u001b[1;31m:\u001b[0m invalid syntax\n"
     ]
    }
   ],
   "source": [
    "Which statement best describes Numpy's ndarray ?\n",
    "\n",
    " c) ndarray, an efficient multidimensional array providing fast array-oriented arith‐ metic operations"
   ]
  },
  {
   "cell_type": "code",
   "execution_count": 20,
   "id": "5cb86d3f",
   "metadata": {},
   "outputs": [
    {
     "ename": "SyntaxError",
     "evalue": "invalid syntax (968174737.py, line 1)",
     "output_type": "error",
     "traceback": [
      "\u001b[1;36m  Input \u001b[1;32mIn [20]\u001b[1;36m\u001b[0m\n\u001b[1;33m    We can explicitly convert or cast an array from one dtype to another using ndarray’s ________ method:\u001b[0m\n\u001b[1;37m       ^\u001b[0m\n\u001b[1;31mSyntaxError\u001b[0m\u001b[1;31m:\u001b[0m invalid syntax\n"
     ]
    }
   ],
   "source": [
    "We can explicitly convert or cast an array from one dtype to another using ndarray’s ________ method:"
   ]
  },
  {
   "cell_type": "code",
   "execution_count": 74,
   "id": "868d96ed",
   "metadata": {},
   "outputs": [
    {
     "name": "stdout",
     "output_type": "stream",
     "text": [
      "[1 2 3]\n"
     ]
    }
   ],
   "source": [
    "import numpy as np\n",
    "a = np.array([1,2,3])\n",
    "print(a)"
   ]
  },
  {
   "cell_type": "code",
   "execution_count": 23,
   "id": "87e1b4ad",
   "metadata": {},
   "outputs": [
    {
     "ename": "SyntaxError",
     "evalue": "invalid character '’' (U+2019) (2981906432.py, line 1)",
     "output_type": "error",
     "traceback": [
      "\u001b[1;36m  Input \u001b[1;32mIn [23]\u001b[1;36m\u001b[0m\n\u001b[1;33m    It’s not safe to assume that _______ will return an array of all\u001b[0m\n\u001b[1;37m      ^\u001b[0m\n\u001b[1;31mSyntaxError\u001b[0m\u001b[1;31m:\u001b[0m invalid character '’' (U+2019)\n"
     ]
    }
   ],
   "source": [
    "It’s not safe to assume that _______ will return an array of all\n",
    "zeros.\n",
    "\n",
    "It’s not safe to assume that np.empty will return an array of all zeros. In some cases, \n",
    "it may return uninitialized “garbage” values\n"
   ]
  },
  {
   "cell_type": "code",
   "execution_count": 24,
   "id": "359f50d0",
   "metadata": {},
   "outputs": [
    {
     "name": "stdout",
     "output_type": "stream",
     "text": [
      "[ 3 82 76 88 34]\n"
     ]
    }
   ],
   "source": [
    "import numpy as np\n",
    "x = [3,45,76,7,34]\n",
    "y = [1,82,1,88,22]\n",
    "z=np.maximum(x,y)\n",
    "print(z)"
   ]
  },
  {
   "cell_type": "code",
   "execution_count": null,
   "id": "6b7c7940",
   "metadata": {},
   "outputs": [],
   "source": [
    "The most important object defined in NumPy is an N-dimensional array type called?\n",
    "\n",
    "ndarray"
   ]
  },
  {
   "cell_type": "code",
   "execution_count": 25,
   "id": "914f62d4",
   "metadata": {},
   "outputs": [
    {
     "name": "stdout",
     "output_type": "stream",
     "text": [
      "[ 3  7 11 15 19]\n"
     ]
    }
   ],
   "source": [
    "import numpy as np\n",
    "arr = np.arange(3, 22, 4)\n",
    "print(arr)"
   ]
  },
  {
   "cell_type": "code",
   "execution_count": 26,
   "id": "c15d9ec3",
   "metadata": {},
   "outputs": [
    {
     "name": "stdout",
     "output_type": "stream",
     "text": [
      "[5 6]\n"
     ]
    }
   ],
   "source": [
    "arr2d = np. array([[1, 2, 3], [4, 5, 6], [7, 8, 9]])\n",
    "print(arr2d[1,1:])"
   ]
  },
  {
   "cell_type": "code",
   "execution_count": 27,
   "id": "3b2b1920",
   "metadata": {},
   "outputs": [
    {
     "name": "stdout",
     "output_type": "stream",
     "text": [
      "[4 5 6]\n"
     ]
    }
   ],
   "source": [
    "arr = np. arange(10)\n",
    "arr_slice = arr[5: 8].copy()\n",
    "arr_slice[:] = 64\n",
    "print(arr[4:7])"
   ]
  },
  {
   "cell_type": "code",
   "execution_count": 28,
   "id": "79c9c61f",
   "metadata": {},
   "outputs": [
    {
     "name": "stdout",
     "output_type": "stream",
     "text": [
      "[[0 1 5 6]\n",
      " [2 3 7 8]]\n"
     ]
    }
   ],
   "source": [
    "arr1 = np.arange(4).reshape(2,2)\n",
    "arr2 = np. array([[5,6], [7,8]])\n",
    "res=np. hstack((arr1, arr2))\n",
    "print(res)\n",
    "# There are some convenience functions, like vstack and hstack, for common kinds of concatenation. \n",
    "vstack can be called as vertical stack  whereas hstack can be called as horizontal stack. So the \n",
    "answer of this question will be [[0 1 5 6] [2 3 7 8]]"
   ]
  },
  {
   "cell_type": "code",
   "execution_count": null,
   "id": "5e54320b",
   "metadata": {},
   "outputs": [],
   "source": []
  },
  {
   "cell_type": "code",
   "execution_count": 33,
   "id": "25d3be4c",
   "metadata": {},
   "outputs": [
    {
     "data": {
      "text/plain": [
       "3"
      ]
     },
     "execution_count": 33,
     "metadata": {},
     "output_type": "execute_result"
    }
   ],
   "source": [
    "data2 = [[1, 2, 3, 4,5,6], [5, 6, 7, 8,9,10]]\n",
    "arr2 = np.array(data2).reshape(2,2,3)\n",
    "arr2.ndim"
   ]
  },
  {
   "cell_type": "code",
   "execution_count": 34,
   "id": "b08a85f5",
   "metadata": {},
   "outputs": [
    {
     "name": "stdout",
     "output_type": "stream",
     "text": [
      "[ 1.25 -9.6  42.  ]\n"
     ]
    }
   ],
   "source": [
    "numeric_strings = np.array(['1.25', '-9.6', '42'], dtype=np.string_)\n",
    "print(numeric_strings.astype(float))"
   ]
  },
  {
   "cell_type": "code",
   "execution_count": null,
   "id": "f28084d2",
   "metadata": {},
   "outputs": [],
   "source": [
    "NumPy is often used along with packages like \n",
    "\n",
    "d) Matplotlib"
   ]
  },
  {
   "cell_type": "code",
   "execution_count": 37,
   "id": "adfee9f9",
   "metadata": {},
   "outputs": [
    {
     "name": "stdout",
     "output_type": "stream",
     "text": [
      "[11 13 18 52]\n"
     ]
    }
   ],
   "source": [
    "import numpy as np\n",
    "arr = np.array([11, 2, 5,34])\n",
    "print(arr.cumsum())"
   ]
  },
  {
   "cell_type": "code",
   "execution_count": 39,
   "id": "d080edc5",
   "metadata": {},
   "outputs": [
    {
     "name": "stdout",
     "output_type": "stream",
     "text": [
      "[11 13 18 52]\n"
     ]
    }
   ],
   "source": [
    "import numpy as np\n",
    "arr = np.array([11, 2, 5,34])\n",
    "print(arr.cumsum(axis=0))"
   ]
  },
  {
   "cell_type": "code",
   "execution_count": 38,
   "id": "022c4c46",
   "metadata": {},
   "outputs": [
    {
     "ename": "AxisError",
     "evalue": "axis 1 is out of bounds for array of dimension 1",
     "output_type": "error",
     "traceback": [
      "\u001b[1;31m---------------------------------------------------------------------------\u001b[0m",
      "\u001b[1;31mAxisError\u001b[0m                                 Traceback (most recent call last)",
      "Input \u001b[1;32mIn [38]\u001b[0m, in \u001b[0;36m<cell line: 3>\u001b[1;34m()\u001b[0m\n\u001b[0;32m      1\u001b[0m \u001b[38;5;28;01mimport\u001b[39;00m \u001b[38;5;21;01mnumpy\u001b[39;00m \u001b[38;5;28;01mas\u001b[39;00m \u001b[38;5;21;01mnp\u001b[39;00m\n\u001b[0;32m      2\u001b[0m arr \u001b[38;5;241m=\u001b[39m np\u001b[38;5;241m.\u001b[39marray([\u001b[38;5;241m11\u001b[39m, \u001b[38;5;241m2\u001b[39m, \u001b[38;5;241m5\u001b[39m,\u001b[38;5;241m34\u001b[39m])\n\u001b[1;32m----> 3\u001b[0m \u001b[38;5;28mprint\u001b[39m(\u001b[43marr\u001b[49m\u001b[38;5;241;43m.\u001b[39;49m\u001b[43mcumsum\u001b[49m\u001b[43m(\u001b[49m\u001b[43maxis\u001b[49m\u001b[43m \u001b[49m\u001b[38;5;241;43m=\u001b[39;49m\u001b[43m \u001b[49m\u001b[38;5;241;43m1\u001b[39;49m\u001b[43m)\u001b[49m)\n",
      "\u001b[1;31mAxisError\u001b[0m: axis 1 is out of bounds for array of dimension 1"
     ]
    }
   ],
   "source": [
    "import numpy as np\n",
    "arr = np.array([11, 2, 5,34])\n",
    "print(arr.cumsum(axis = 1))\n",
    "# In multidimensional arrays, accumulation functions like cumsum return an array of the same size, \n",
    "but with the partial aggregates computed along the indicated axis according to each lower dimensional slice. \n",
    "In our axis is 1 which means on vertical axis but array is a single dimensional array so this code will generate \n",
    "error \"axis 1 is out of bounds for array of dimension \""
   ]
  },
  {
   "cell_type": "code",
   "execution_count": 40,
   "id": "bfd0dd6b",
   "metadata": {},
   "outputs": [
    {
     "name": "stdout",
     "output_type": "stream",
     "text": [
      "[[0 1 2]\n",
      " [3 4 5]\n",
      " [6 7 8]]\n",
      "[0 5]\n"
     ]
    }
   ],
   "source": [
    "import numpy as np\n",
    "arr = np.arange(9).reshape((3,3))\n",
    "print(arr)\n",
    "print(arr[[0, 1], [0, 2]])"
   ]
  },
  {
   "cell_type": "code",
   "execution_count": 41,
   "id": "1836e39a",
   "metadata": {},
   "outputs": [
    {
     "name": "stdout",
     "output_type": "stream",
     "text": [
      "[0 0 0 1 1 1 2 2 2]\n"
     ]
    }
   ],
   "source": [
    "import numpy as np\n",
    "arr = np.arange(3)\n",
    "arr=arr.repeat(3)\n",
    "print(arr)\n",
    "# Two useful tools for repeating or replicating arrays to produce larger arrays are the repeat and \n",
    "tile functions. repeat replicates each element in an array some number of times, producing a larger array."
   ]
  },
  {
   "cell_type": "code",
   "execution_count": 42,
   "id": "2702ce5c",
   "metadata": {},
   "outputs": [
    {
     "name": "stdout",
     "output_type": "stream",
     "text": [
      "[1 2 3]\n"
     ]
    }
   ],
   "source": [
    "import numpy as np\n",
    "a = np.array([1,2,3])\n",
    "print (a)"
   ]
  },
  {
   "cell_type": "code",
   "execution_count": 43,
   "id": "5d01db54",
   "metadata": {},
   "outputs": [
    {
     "name": "stdout",
     "output_type": "stream",
     "text": [
      "[ 1  2  6 24]\n"
     ]
    }
   ],
   "source": [
    "import numpy as np\n",
    "arr = np.array([1, 2, 3,4])\n",
    "print(arr.cumprod(axis=0))"
   ]
  },
  {
   "cell_type": "code",
   "execution_count": 45,
   "id": "dffa4f65",
   "metadata": {},
   "outputs": [
    {
     "ename": "ValueError",
     "evalue": "cannot reshape array of size 9 into shape (2,4)",
     "output_type": "error",
     "traceback": [
      "\u001b[1;31m---------------------------------------------------------------------------\u001b[0m",
      "\u001b[1;31mValueError\u001b[0m                                Traceback (most recent call last)",
      "Input \u001b[1;32mIn [45]\u001b[0m, in \u001b[0;36m<cell line: 3>\u001b[1;34m()\u001b[0m\n\u001b[0;32m      1\u001b[0m \u001b[38;5;28;01mimport\u001b[39;00m \u001b[38;5;21;01mnumpy\u001b[39;00m \u001b[38;5;28;01mas\u001b[39;00m \u001b[38;5;21;01mnp\u001b[39;00m\n\u001b[0;32m      2\u001b[0m arr \u001b[38;5;241m=\u001b[39m np\u001b[38;5;241m.\u001b[39m arange(\u001b[38;5;241m9\u001b[39m)\n\u001b[1;32m----> 3\u001b[0m \u001b[43marr\u001b[49m\u001b[38;5;241;43m.\u001b[39;49m\u001b[43m \u001b[49m\u001b[43mreshape\u001b[49m\u001b[43m(\u001b[49m\u001b[43m(\u001b[49m\u001b[38;5;241;43m2\u001b[39;49m\u001b[43m,\u001b[49m\u001b[43m \u001b[49m\u001b[38;5;241;43m4\u001b[39;49m\u001b[43m)\u001b[49m\u001b[43m)\u001b[49m\n",
      "\u001b[1;31mValueError\u001b[0m: cannot reshape array of size 9 into shape (2,4)"
     ]
    }
   ],
   "source": [
    "import numpy as np\n",
    "arr = np. arange(9)\n",
    "arr. reshape((2, 4))"
   ]
  },
  {
   "cell_type": "code",
   "execution_count": 46,
   "id": "961382c7",
   "metadata": {},
   "outputs": [
    {
     "name": "stdout",
     "output_type": "stream",
     "text": [
      "[5 6 7]\n"
     ]
    }
   ],
   "source": [
    "import numpy as np\n",
    "arr = np. arange(10)\n",
    "print(arr[5:8])"
   ]
  },
  {
   "cell_type": "code",
   "execution_count": 47,
   "id": "cdd6e166",
   "metadata": {},
   "outputs": [
    {
     "name": "stdout",
     "output_type": "stream",
     "text": [
      "4\n"
     ]
    }
   ],
   "source": [
    "arr = np.arange(8).reshape((2,4))\n",
    "arr=arr.T\n",
    "print(arr[0,1])"
   ]
  },
  {
   "cell_type": "code",
   "execution_count": 48,
   "id": "43e86f90",
   "metadata": {},
   "outputs": [
    {
     "name": "stdout",
     "output_type": "stream",
     "text": [
      "[-1.]\n"
     ]
    }
   ],
   "source": [
    "import numpy as np\n",
    "arr=[-3.2623]\n",
    "print(np.sign(arr))\n",
    "# numpy.sign() function is used to compute the sign of each element. 1 (positive), 0 (zero), or –1 (negative)"
   ]
  },
  {
   "cell_type": "code",
   "execution_count": 49,
   "id": "23e74ef9",
   "metadata": {},
   "outputs": [
    {
     "name": "stdout",
     "output_type": "stream",
     "text": [
      "[[ 0.25685888  2.11079343 -0.04822527]\n",
      " [-0.16581439 -1.01122636 -0.90031617]]\n"
     ]
    }
   ],
   "source": [
    "import numpy as np\n",
    "data = np.random.randn(2,3)\n",
    "print(data)"
   ]
  },
  {
   "cell_type": "code",
   "execution_count": null,
   "id": "5061bb13",
   "metadata": {},
   "outputs": [],
   "source": [
    "NumPy by itself does not provide\n",
    "\n",
    "# NumPy by itself does not provide modeling or scientific functionality, having\n",
    "an understanding of NumPy arrays and array-oriented computing will help you use\n",
    "tools with array-oriented semantics, like pandas, much more effectively."
   ]
  },
  {
   "cell_type": "code",
   "execution_count": 53,
   "id": "868ec6cb",
   "metadata": {},
   "outputs": [
    {
     "name": "stdout",
     "output_type": "stream",
     "text": [
      "[ 3 82 76 88 34]\n"
     ]
    }
   ],
   "source": [
    "import numpy as np\n",
    "x = [3,45,76,7,34]\n",
    "y = [1,82,1,88,22]\n",
    "z=np.maximum(x,y)\n",
    "print(z)\n",
    "\n",
    "# In this question universal function numpy.maximum() is used. numpy.maximum computes the element-wise \n",
    "maximum of the elements in x and y. So same index element numbers are compared and which ever is higher \n",
    "is placed in the result. In the same way all elements of the array are computerd"
   ]
  },
  {
   "cell_type": "code",
   "execution_count": 55,
   "id": "2a2fb2d1",
   "metadata": {},
   "outputs": [
    {
     "name": "stdout",
     "output_type": "stream",
     "text": [
      "6\n"
     ]
    }
   ],
   "source": [
    "arr = np. array([[[1, 2, 3], [4, 5, 6]], [[7, 8, 9], [10, 11, 12]]])\n",
    "print(arr[0][1][2])"
   ]
  },
  {
   "cell_type": "code",
   "execution_count": null,
   "id": "d0cb3a2a",
   "metadata": {},
   "outputs": [],
   "source": [
    "In mumpy array np.save and np.load are the two functions for efficiently\n",
    "saving and loading array data on disk. The Numpy arrays are saved by default in________________\n",
    "\n"
   ]
  },
  {
   "cell_type": "code",
   "execution_count": 56,
   "id": "6dee9d46",
   "metadata": {},
   "outputs": [
    {
     "name": "stdout",
     "output_type": "stream",
     "text": [
      "11.0\n"
     ]
    }
   ],
   "source": [
    "import numpy as np\n",
    "arr = np.array([11, 2.5, 3.6,-87])\n",
    "cond = np.array([True, False, True])\n",
    "result = np.max(np.where(np.abs(arr) > 3, arr,0))\n",
    "print(result)"
   ]
  },
  {
   "cell_type": "code",
   "execution_count": null,
   "id": "00ce4626",
   "metadata": {},
   "outputs": [],
   "source": [
    "If we assign a scalar value to a slice, as \n",
    "arr[5:8] = 12\n",
    "This means we have __________ valued in the arr."
   ]
  },
  {
   "cell_type": "code",
   "execution_count": 66,
   "id": "1f44eb0f",
   "metadata": {},
   "outputs": [
    {
     "name": "stdout",
     "output_type": "stream",
     "text": [
      "26\n"
     ]
    },
    {
     "data": {
      "text/plain": [
       "' The numpy.where function is a vectorized version of the ternary expression x if condition else y. \\nSuppose we had a boolean array and two arrays of values and we wanted to take a value from 1st array \\nwhenever the corresponding value in condition is True, and otherwise take the value from 2nd array. '"
      ]
     },
     "execution_count": 66,
     "metadata": {},
     "output_type": "execute_result"
    }
   ],
   "source": [
    "import numpy as np\n",
    "xarr = np. array([1, 2, 3])\n",
    "yarr = np. array([11, 22, 33])\n",
    "cond = np. array([True, False, True])\n",
    "result = np.sum(np.where(cond, xarr, yarr))\n",
    "print(result)\n",
    "\n",
    "''' The numpy.where function is a vectorized version of the ternary expression x if condition else y. \n",
    "Suppose we had a boolean array and two arrays of values and we wanted to take a value from 1st array \n",
    "whenever the corresponding value in condition is True, and otherwise take the value from 2nd array. '''"
   ]
  },
  {
   "cell_type": "code",
   "execution_count": 67,
   "id": "c085d875",
   "metadata": {},
   "outputs": [
    {
     "data": {
      "text/plain": [
       "'NumPy is able to save and load data to and from disk either in text or binary format. \\nIn numpy array np.save and np.load are the two functions for efficiently saving and loading array data \\non disk in an uncompressed raw binary format with file extension .npy:'"
      ]
     },
     "execution_count": 67,
     "metadata": {},
     "output_type": "execute_result"
    }
   ],
   "source": [
    "\"\"\"NumPy is able to save and load data to and from disk either in text or binary format. \n",
    "In numpy array np.save and np.load are the two functions for efficiently saving and loading array data \n",
    "on disk in an uncompressed raw binary format with file extension .npy:\"\"\""
   ]
  },
  {
   "cell_type": "code",
   "execution_count": 68,
   "id": "c79a0879",
   "metadata": {},
   "outputs": [
    {
     "name": "stdout",
     "output_type": "stream",
     "text": [
      "3\n"
     ]
    }
   ],
   "source": [
    "import numpy as np\n",
    "arr = np.array([8, 2, 3,3.5])\n",
    "print((arr > 2).sum())\n",
    "\n",
    "\"\"\"\n",
    "In this quiz question boolean values are coerced to 1 (True) and 0 (False) in the preceding methods. \n",
    "Thus, sum is often used as a means of counting True values in a boolean array. In this questions the answer will \n",
    "be 3\n",
    "\"\"\""
   ]
  },
  {
   "cell_type": "code",
   "execution_count": 69,
   "id": "e2a22c2e",
   "metadata": {},
   "outputs": [
    {
     "data": {
      "text/plain": [
       "'Which option best describes vectorization ?\\nThe practice of replacing explicit loops with array expressions is commonly referred to as vectorization. \\nIn general, vectorized array operations will often be one or two (or more) orders of magnitude faster than their \\npure Python equivalents, with the biggest impact in any kind of numerical computations. '"
      ]
     },
     "execution_count": 69,
     "metadata": {},
     "output_type": "execute_result"
    }
   ],
   "source": [
    "\"\"\"Which option best describes vectorization ?\n",
    "The practice of replacing explicit loops with array expressions is commonly referred to as vectorization. \n",
    "In general, vectorized array operations will often be one or two (or more) orders of magnitude faster than their \n",
    "pure Python equivalents, with the biggest impact in any kind of numerical computations. \"\"\""
   ]
  },
  {
   "cell_type": "code",
   "execution_count": 70,
   "id": "5df61ab8",
   "metadata": {},
   "outputs": [
    {
     "name": "stdout",
     "output_type": "stream",
     "text": [
      "[34.5, -76.43, 874.34, -343.6, 23.3]\n",
      "0.34000000000003183\n"
     ]
    }
   ],
   "source": [
    "import numpy as np\n",
    "arr = [34.5,-76.43,874.34,-343.6,23.3]\n",
    "print(arr)\n",
    "r, w = np. modf(arr)\n",
    "print(r[2])"
   ]
  },
  {
   "cell_type": "code",
   "execution_count": 71,
   "id": "60c26aab",
   "metadata": {},
   "outputs": [
    {
     "name": "stdout",
     "output_type": "stream",
     "text": [
      "[0 2 1 3]\n"
     ]
    }
   ],
   "source": [
    "import numpy as np\n",
    "arr=np. arange(4).reshape((2,2))\n",
    "arr=arr.ravel('F')\n",
    "print(arr)"
   ]
  },
  {
   "cell_type": "code",
   "execution_count": 72,
   "id": "7fdd7276",
   "metadata": {},
   "outputs": [
    {
     "ename": "ValueError",
     "evalue": "could not convert string to float: b'-9.6f'",
     "output_type": "error",
     "traceback": [
      "\u001b[1;31m---------------------------------------------------------------------------\u001b[0m",
      "\u001b[1;31mValueError\u001b[0m                                Traceback (most recent call last)",
      "Input \u001b[1;32mIn [72]\u001b[0m, in \u001b[0;36m<cell line: 3>\u001b[1;34m()\u001b[0m\n\u001b[0;32m      1\u001b[0m \u001b[38;5;28;01mimport\u001b[39;00m \u001b[38;5;21;01mnumpy\u001b[39;00m \u001b[38;5;28;01mas\u001b[39;00m \u001b[38;5;21;01mnp\u001b[39;00m\n\u001b[0;32m      2\u001b[0m numeric_strings \u001b[38;5;241m=\u001b[39m np\u001b[38;5;241m.\u001b[39marray([\u001b[38;5;124m'\u001b[39m\u001b[38;5;124m1.25\u001b[39m\u001b[38;5;124m'\u001b[39m, \u001b[38;5;124m'\u001b[39m\u001b[38;5;124m-9.6f\u001b[39m\u001b[38;5;124m'\u001b[39m, \u001b[38;5;124m'\u001b[39m\u001b[38;5;124m42i\u001b[39m\u001b[38;5;124m'\u001b[39m], dtype\u001b[38;5;241m=\u001b[39mnp\u001b[38;5;241m.\u001b[39mstring_)\n\u001b[1;32m----> 3\u001b[0m \u001b[38;5;28mprint\u001b[39m(\u001b[43mnumeric_strings\u001b[49m\u001b[38;5;241;43m.\u001b[39;49m\u001b[43mastype\u001b[49m\u001b[43m(\u001b[49m\u001b[38;5;28;43mfloat\u001b[39;49m\u001b[43m)\u001b[49m)\n",
      "\u001b[1;31mValueError\u001b[0m: could not convert string to float: b'-9.6f'"
     ]
    }
   ],
   "source": [
    "import numpy as np\n",
    "numeric_strings = np.array(['1.25', '-9.6f', '42i'], dtype=np.string_)\n",
    "print(numeric_strings.astype(float))\n",
    "\n",
    "# ValueError"
   ]
  },
  {
   "cell_type": "code",
   "execution_count": 73,
   "id": "a351e2f2",
   "metadata": {},
   "outputs": [
    {
     "name": "stdout",
     "output_type": "stream",
     "text": [
      "[[0 1 5 6]\n",
      " [2 3 7 8]]\n"
     ]
    }
   ],
   "source": [
    "import numpy as np\n",
    "arr1 = np.arange(4).reshape(2,2)\n",
    "arr2 = np. array([[5,6], [7,8]])\n",
    "res=np.concatenate([arr1, arr2], axis=1)\n",
    "print(res)"
   ]
  },
  {
   "cell_type": "code",
   "execution_count": 75,
   "id": "50a5cb20",
   "metadata": {},
   "outputs": [
    {
     "data": {
      "text/plain": [
       "'NumPY stands for?\\nd) Numerical Python'"
      ]
     },
     "execution_count": 75,
     "metadata": {},
     "output_type": "execute_result"
    }
   ],
   "source": [
    "\"\"\"NumPY stands for?\n",
    "d) Numerical Python\"\"\""
   ]
  },
  {
   "cell_type": "code",
   "execution_count": 76,
   "id": "c40ee408",
   "metadata": {},
   "outputs": [
    {
     "name": "stdout",
     "output_type": "stream",
     "text": [
      "[4 5 6]\n"
     ]
    }
   ],
   "source": [
    "import numpy as np\n",
    "arr1 = [5, 6, 2, 3, 4]\n",
    "arr2 = [1, 2, 3]\n",
    "res = np.setdiff1d(arr1, arr2)\n",
    "print (res)"
   ]
  },
  {
   "cell_type": "code",
   "execution_count": 77,
   "id": "063f3ee8",
   "metadata": {},
   "outputs": [
    {
     "name": "stdout",
     "output_type": "stream",
     "text": [
      "10\n"
     ]
    }
   ],
   "source": [
    "import numpy as np\n",
    "ints = np.array([3, 3, 3, 2, 2, 1, 1, 4, 4])\n",
    "print(np.sum(np.unique(ints)))"
   ]
  },
  {
   "cell_type": "code",
   "execution_count": 78,
   "id": "84e80a6c",
   "metadata": {},
   "outputs": [
    {
     "name": "stdout",
     "output_type": "stream",
     "text": [
      "[0 1 2 0 1 2 0 1 2]\n"
     ]
    }
   ],
   "source": [
    "import numpy as np\n",
    "arr = np.arange(3)\n",
    "arr=np.tile(arr,3)\n",
    "print(arr)"
   ]
  },
  {
   "cell_type": "code",
   "execution_count": null,
   "id": "895aaf4d",
   "metadata": {},
   "outputs": [],
   "source": []
  }
 ],
 "metadata": {
  "kernelspec": {
   "display_name": "Python 3 (ipykernel)",
   "language": "python",
   "name": "python3"
  },
  "language_info": {
   "codemirror_mode": {
    "name": "ipython",
    "version": 3
   },
   "file_extension": ".py",
   "mimetype": "text/x-python",
   "name": "python",
   "nbconvert_exporter": "python",
   "pygments_lexer": "ipython3",
   "version": "3.9.12"
  }
 },
 "nbformat": 4,
 "nbformat_minor": 5
}
