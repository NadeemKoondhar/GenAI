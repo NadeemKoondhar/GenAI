{
 "cells": [
  {
   "cell_type": "markdown",
   "id": "3e12f1be",
   "metadata": {},
   "source": [
    "# Numpy\n",
    "# Pandas Matplot\n",
    "    - inferential Analysis\n",
    "    - Descriptive\n",
    "    - EDA (Exploratory Data Analysis)\n",
    "    - Machine Learning (SKL)\n",
    "    \n",
    "# Deep Learning"
   ]
  },
  {
   "cell_type": "markdown",
   "id": "6224624f",
   "metadata": {},
   "source": [
    "## Numpy\n",
    "    - Numerical Python\n",
    "    - Array\n",
    "    - Fastest\n",
    "    - Vectorised Operation\n",
    "    - Contingeous Memory\n",
    "    "
   ]
  },
  {
   "cell_type": "code",
   "execution_count": 2,
   "id": "774826fc",
   "metadata": {},
   "outputs": [],
   "source": [
    "import numpy as np"
   ]
  },
  {
   "cell_type": "markdown",
   "id": "ea47ddc9",
   "metadata": {},
   "source": [
    "### Creating 1D array using a Python List"
   ]
  }
 ],
 "metadata": {
  "kernelspec": {
   "display_name": "Python 3 (ipykernel)",
   "language": "python",
   "name": "python3"
  },
  "language_info": {
   "codemirror_mode": {
    "name": "ipython",
    "version": 3
   },
   "file_extension": ".py",
   "mimetype": "text/x-python",
   "name": "python",
   "nbconvert_exporter": "python",
   "pygments_lexer": "ipython3",
   "version": "3.9.12"
  }
 },
 "nbformat": 4,
 "nbformat_minor": 5
}
