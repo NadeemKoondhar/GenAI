{
 "cells": [
  {
   "cell_type": "markdown",
   "id": "3e12f1be",
   "metadata": {},
   "source": [
    "# Numpy\n",
    "# Pandas Matplot\n",
    "    - inferential Analysis\n",
    "    - Descriptive\n",
    "    - EDA (Exploratory Data Analysis)\n",
    "    - Machine Learning (SKL)\n",
    "    \n",
    "# Deep Learning"
   ]
  },
  {
   "cell_type": "markdown",
   "id": "6224624f",
   "metadata": {},
   "source": [
    "## Numpy\n",
    "    - Numerical Python\n",
    "    - Array\n",
    "    - Fastest\n",
    "    - Vectorised Operation\n",
    "    - Contingeous Memory\n",
    "    "
   ]
  },
  {
   "cell_type": "code",
   "execution_count": 2,
   "id": "774826fc",
   "metadata": {},
   "outputs": [],
   "source": [
    "import numpy as np"
   ]
  },
  {
   "cell_type": "markdown",
   "id": "ea47ddc9",
   "metadata": {},
   "source": [
    "### 1. Create a NumPy array of shape (3, 4) with random integer values."
   ]
  },
  {
   "cell_type": "code",
   "execution_count": 7,
   "id": "4be86d6f",
   "metadata": {},
   "outputs": [
    {
     "name": "stdout",
     "output_type": "stream",
     "text": [
      "1\n"
     ]
    }
   ],
   "source": [
    "arr2d = np.array(1)\n",
    "print(arr2d)"
   ]
  },
  {
   "cell_type": "code",
   "execution_count": 8,
   "id": "02b1026b",
   "metadata": {},
   "outputs": [
    {
     "name": "stdout",
     "output_type": "stream",
     "text": [
      "Task 1:\n",
      "[[7 0 7 0]\n",
      " [0 8 0 6]\n",
      " [4 2 4 0]]\n"
     ]
    }
   ],
   "source": [
    "import numpy as np\n",
    "\n",
    "# Create a 3x4 array with random integer values between 0 and 9\n",
    "arr_task1 = np.random.randint(0, 10, size=(3, 4))\n",
    "\n",
    "print(\"Task 1:\")\n",
    "print(arr_task1)\n"
   ]
  },
  {
   "cell_type": "code",
   "execution_count": 9,
   "id": "99fe891f",
   "metadata": {},
   "outputs": [
    {
     "name": "stdout",
     "output_type": "stream",
     "text": [
      "Task 1:\n",
      "[[5 2 3 1]\n",
      " [9 0 7 9]\n",
      " [6 0 0 3]]\n"
     ]
    }
   ],
   "source": [
    "arr_task1 = np.random.randint(0, 10, size=(3, 4))\n",
    "\n",
    "print(\"Task 1:\")\n",
    "print(arr_task1)\n"
   ]
  }
 ],
 "metadata": {
  "kernelspec": {
   "display_name": "Python 3 (ipykernel)",
   "language": "python",
   "name": "python3"
  },
  "language_info": {
   "codemirror_mode": {
    "name": "ipython",
    "version": 3
   },
   "file_extension": ".py",
   "mimetype": "text/x-python",
   "name": "python",
   "nbconvert_exporter": "python",
   "pygments_lexer": "ipython3",
   "version": "3.9.12"
  }
 },
 "nbformat": 4,
 "nbformat_minor": 5
}
