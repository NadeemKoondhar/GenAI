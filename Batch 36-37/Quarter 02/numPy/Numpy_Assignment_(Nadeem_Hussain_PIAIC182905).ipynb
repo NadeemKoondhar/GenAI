{
  "nbformat": 4,
  "nbformat_minor": 0,
  "metadata": {
    "colab": {
      "provenance": []
    },
    "kernelspec": {
      "name": "python3",
      "display_name": "Python 3"
    },
    "language_info": {
      "name": "python"
    }
  },
  "cells": [
    {
      "cell_type": "markdown",
      "source": [
        "Problem  1\n",
        "\n",
        "Convert a 1D array to a 2D array with 2 rows\n",
        "\n",
        "Input:\n",
        "```\n",
        "np.arange(10)\n",
        "\n",
        "#> array([ 0, 1, 2, 3, 4, 5, 6, 7, 8, 9])\n",
        "```\n",
        "\n",
        "Output:\n",
        "\n",
        "\n",
        "```\n",
        "#> array([[0, 1, 2, 3, 4],\n",
        "#>        [5, 6, 7, 8, 9]])\n",
        "```\n",
        "\n"
      ],
      "metadata": {
        "id": "3c7NCXD4uwMi"
      }
    },
    {
      "cell_type": "code",
      "source": [
        "import numpy as np\n",
        "arr1d = np.arange(10)\n",
        "arr1d.reshape(2, 5)"
      ],
      "metadata": {
        "id": "8CD3EzszvQX_",
        "outputId": "42fc605f-2017-44a8-cead-650f2b68a50c",
        "colab": {
          "base_uri": "https://localhost:8080/"
        }
      },
      "execution_count": 2,
      "outputs": [
        {
          "output_type": "execute_result",
          "data": {
            "text/plain": [
              "array([[0, 1, 2, 3, 4],\n",
              "       [5, 6, 7, 8, 9]])"
            ]
          },
          "metadata": {},
          "execution_count": 2
        }
      ]
    },
    {
      "cell_type": "markdown",
      "source": [
        "Problem  2\n",
        "\n",
        "Extract all odd numbers from arr\n",
        "\n",
        "```\n",
        "arr = np.array([0, 1, 2, 3, 4, 5, 6, 7, 8, 9])\n",
        "```\n",
        "\n"
      ],
      "metadata": {
        "id": "Jfm1H1quvQ2v"
      }
    },
    {
      "cell_type": "code",
      "source": [
        "arr = np.array([0, 1, 2, 3, 4, 5, 6, 7, 8, 9])\n",
        "arr[arr%2 != 0]"
      ],
      "metadata": {
        "id": "E7YIi0covbZW",
        "outputId": "0b2aaf26-02cf-4bab-d32f-8e2bbf3debfb",
        "colab": {
          "base_uri": "https://localhost:8080/"
        }
      },
      "execution_count": 3,
      "outputs": [
        {
          "output_type": "execute_result",
          "data": {
            "text/plain": [
              "array([1, 3, 5, 7, 9])"
            ]
          },
          "metadata": {},
          "execution_count": 3
        }
      ]
    },
    {
      "cell_type": "markdown",
      "source": [
        "Problem  3\n",
        "\n",
        "Replace all odd numbers in arr with -1\n",
        "\n",
        "```\n",
        "arr = np.array([0, 1, 2, 3, 4, 5, 6, 7, 8, 9])\n",
        "```\n",
        "\n",
        "Output:\n",
        "\n",
        "\n",
        "```\n",
        "#>  array([ 0, -1,  2, -1,  4, -1,  6, -1,  8, -1])\n",
        "```\n",
        "\n"
      ],
      "metadata": {
        "id": "DbI3SEjgvkoJ"
      }
    },
    {
      "cell_type": "code",
      "source": [
        "arr[arr%2 != 0] = -1\n",
        "arr"
      ],
      "metadata": {
        "id": "h6GIvmpVv71a",
        "outputId": "0db78704-fa4f-4dac-b7b1-43fcb77fb0d3",
        "colab": {
          "base_uri": "https://localhost:8080/"
        }
      },
      "execution_count": 4,
      "outputs": [
        {
          "output_type": "execute_result",
          "data": {
            "text/plain": [
              "array([ 0, -1,  2, -1,  4, -1,  6, -1,  8, -1])"
            ]
          },
          "metadata": {},
          "execution_count": 4
        }
      ]
    },
    {
      "cell_type": "markdown",
      "source": [
        "Problem  4\n",
        "\n",
        "Replace all odd numbers in arr with -1 without changing arr\n",
        "\n",
        "Input:\n",
        "\n",
        "`arr = np.array([0, 1, 2, 3, 4, 5, 6, 7, 8, 9])`\n",
        "\n",
        "Desired Output:\n",
        "\n",
        "```\n",
        "out\n",
        "#>  array([ 0, -1,  2, -1,  4, -1,  6, -1,  8, -1])\n",
        "arr\n",
        "#>  array([0, 1, 2, 3, 4, 5, 6, 7, 8, 9])\n",
        "```\n",
        "\n",
        "\n"
      ],
      "metadata": {
        "id": "DVPkniOuwHj_"
      }
    },
    {
      "cell_type": "code",
      "source": [
        "arr = np.array([0, 1, 2, 3, 4, 5, 6, 7, 8, 9])\n",
        "np.where(arr % 2 != 0, -1, arr)"
      ],
      "metadata": {
        "id": "3WlseA0_JchZ",
        "colab": {
          "base_uri": "https://localhost:8080/"
        },
        "outputId": "0b94d7cb-3e54-4a4f-ed8e-3723d0ac98ab"
      },
      "execution_count": 7,
      "outputs": [
        {
          "output_type": "execute_result",
          "data": {
            "text/plain": [
              "array([ 0, -1,  2, -1,  4, -1,  6, -1,  8, -1])"
            ]
          },
          "metadata": {},
          "execution_count": 7
        }
      ]
    },
    {
      "cell_type": "markdown",
      "source": [
        "Problem  5\n",
        "\n",
        "Stack arrays a and b vertically\n",
        "\n",
        "Input\n",
        "\n",
        "\n",
        "\n",
        "```\n",
        "a = np.arange(10).reshape(2,-1)\n",
        "b = np.repeat(1, 10).reshape(2,-1)\n",
        "```\n",
        "\n",
        "\n",
        "Desired Output:\n",
        "\n",
        "\n",
        "```\n",
        "array([[0, 1, 2, 3, 4],\n",
        "       [5, 6, 7, 8, 9],\n",
        "       [1, 1, 1, 1, 1],\n",
        "       [1, 1, 1, 1, 1]])\n",
        "```\n",
        "\n",
        "\n"
      ],
      "metadata": {
        "id": "jXUu_NSCwfDP"
      }
    },
    {
      "cell_type": "code",
      "source": [
        "a = np.arange(10).reshape(2, -1)\n",
        "b = np.repeat(1, 10).reshape(2,-1)\n",
        "np.vstack((a, b))"
      ],
      "metadata": {
        "id": "ZeSCX31zwvKK",
        "outputId": "9c8402d1-531c-4ce4-8191-2645e4ef832f",
        "colab": {
          "base_uri": "https://localhost:8080/"
        }
      },
      "execution_count": 9,
      "outputs": [
        {
          "output_type": "execute_result",
          "data": {
            "text/plain": [
              "array([[0, 1, 2, 3, 4],\n",
              "       [5, 6, 7, 8, 9],\n",
              "       [1, 1, 1, 1, 1],\n",
              "       [1, 1, 1, 1, 1]])"
            ]
          },
          "metadata": {},
          "execution_count": 9
        }
      ]
    },
    {
      "cell_type": "markdown",
      "source": [
        "Problem  6\n",
        "\n",
        "Stack the arrays a and b horizontally.\n",
        "\n",
        "Input\n",
        "\n",
        "\n",
        "```\n",
        "a = np.arange(10).reshape(2,-1)\n",
        "b = np.repeat(1, 10).reshape(2,-1)\n",
        "```\n",
        "\n",
        "\n",
        "Desired Output:\n",
        "\n",
        "\n",
        "\n",
        "```\n",
        "array([[0, 1, 2, 3, 4, 1, 1, 1, 1, 1],\n",
        "       [5, 6, 7, 8, 9, 1, 1, 1, 1, 1]])\n",
        "```\n",
        "\n",
        "\n"
      ],
      "metadata": {
        "id": "dWoOzOMQw0E5"
      }
    },
    {
      "cell_type": "code",
      "source": [
        "a = np.arange(10).reshape(2, -1)\n",
        "b = np.repeat(1, 10).reshape(2,-1)\n",
        "np.hstack((a, b))"
      ],
      "metadata": {
        "id": "CPbTohhww-h4",
        "colab": {
          "base_uri": "https://localhost:8080/"
        },
        "outputId": "2c609c2c-dc15-4f34-804a-491b37658aa9"
      },
      "execution_count": 12,
      "outputs": [
        {
          "output_type": "execute_result",
          "data": {
            "text/plain": [
              "array([[0, 1, 2, 3, 4, 1, 1, 1, 1, 1],\n",
              "       [5, 6, 7, 8, 9, 1, 1, 1, 1, 1]])"
            ]
          },
          "metadata": {},
          "execution_count": 12
        }
      ]
    },
    {
      "cell_type": "markdown",
      "source": [
        "Problem  7\n",
        "\n",
        "Create the following pattern without hardcoding. Use only numpy functions and the below input array a.\n",
        "\n",
        "Input:\n",
        "\n",
        "\n",
        "\n",
        "```\n",
        "a = np.array([1,2,3])\n",
        "```\n",
        "\n",
        "\n",
        "Desired Output:\n",
        "\n",
        "\n",
        "\n",
        "```\n",
        "#> array([1, 1, 1, 2, 2, 2, 3, 3, 3, 1, 2, 3, 1, 2, 3, 1, 2, 3])\n",
        "```\n",
        "\n",
        "\n"
      ],
      "metadata": {
        "id": "qiU8NCeexCLB"
      }
    },
    {
      "cell_type": "code",
      "source": [
        "a = np.array([1, 2, 3])\n",
        "np.r_[np.repeat(a, 3), np.tile(a, 3)]"
      ],
      "metadata": {
        "id": "ucqs8mKuxOu_",
        "colab": {
          "base_uri": "https://localhost:8080/"
        },
        "outputId": "c235fec5-1871-45c7-99f1-e6edca6897b1"
      },
      "execution_count": 5,
      "outputs": [
        {
          "output_type": "execute_result",
          "data": {
            "text/plain": [
              "array([1, 1, 1, 2, 2, 2, 3, 3, 3, 1, 2, 3, 1, 2, 3, 1, 2, 3])"
            ]
          },
          "metadata": {},
          "execution_count": 5
        }
      ]
    },
    {
      "cell_type": "markdown",
      "source": [
        "Problem  8\n",
        "\n",
        "From array a remove all items present in array b\n",
        "\n",
        "Input:\n",
        "\n",
        "\n",
        "```\n",
        "a = np.array([1,2,3,4,5])\n",
        "b = np.array([5,6,7,8,9])\n",
        "```\n",
        "\n",
        "Desired Output:\n",
        "\n",
        "```\n",
        "array([1,2,3,4])\n",
        "```\n",
        "\n",
        "\n"
      ],
      "metadata": {
        "id": "z714O_AoyOKW"
      }
    },
    {
      "cell_type": "code",
      "source": [
        "a = np.array([1,2,3,4,5])\n",
        "b = np.array([5,6,7,8,9])\n",
        "np.setdiff1d(a, b)"
      ],
      "metadata": {
        "id": "9S49aVovyY3D",
        "colab": {
          "base_uri": "https://localhost:8080/"
        },
        "outputId": "a4a80099-ad44-44f8-8cde-a1f2a306c257"
      },
      "execution_count": 8,
      "outputs": [
        {
          "output_type": "execute_result",
          "data": {
            "text/plain": [
              "array([1, 2, 3, 4])"
            ]
          },
          "metadata": {},
          "execution_count": 8
        }
      ]
    },
    {
      "cell_type": "markdown",
      "source": [
        "Problem  9\n",
        "\n",
        "Get the positions where elements of a and b match\n",
        "\n",
        "Input:\n",
        "\n",
        "\n",
        "\n",
        "```\n",
        "a = np.array([1,2,3,2,3,4,3,4,5,6])\n",
        "b = np.array([7,2,10,2,7,4,9,4,9,8])\n",
        "```\n",
        "\n",
        "\n",
        "Desired Output:\n",
        "\n",
        "\n",
        "\n",
        "```\n",
        "(array([1, 3, 5, 7]),)\n",
        "```\n",
        "\n"
      ],
      "metadata": {
        "id": "EAfoETZyyZi2"
      }
    },
    {
      "cell_type": "code",
      "source": [
        "a = np.array([1,2,3,2,3,4,3,4,5,6])\n",
        "b = np.array([7,2,10,2,7,4,9,4,9,8])\n",
        "np.where(a == b)"
      ],
      "metadata": {
        "id": "pTW1JS-OysyM",
        "colab": {
          "base_uri": "https://localhost:8080/"
        },
        "outputId": "7cddefad-478a-4bef-feec-fef6d2598635"
      },
      "execution_count": 10,
      "outputs": [
        {
          "output_type": "execute_result",
          "data": {
            "text/plain": [
              "(array([1, 3, 5, 7]),)"
            ]
          },
          "metadata": {},
          "execution_count": 10
        }
      ]
    },
    {
      "cell_type": "markdown",
      "source": [
        "Problem  10\n",
        "\n",
        "Swap columns 1 and 2 in the array arr.\n",
        "\n",
        "```\n",
        "arr = np.arange(9).reshape(3,3)\n",
        "```\n",
        "\n",
        "Output:\n",
        "\n",
        "\n",
        "\n",
        "```\n",
        "array([[1, 0, 2],\n",
        "      [4, 3, 5],\n",
        "      [7, 6, 8]])\n",
        "```\n",
        "\n",
        "\n"
      ],
      "metadata": {
        "id": "0wj25KsAyxfv"
      }
    },
    {
      "cell_type": "code",
      "source": [
        "arr = np.arange(9).reshape(3,3)\n",
        "arr[:,[1, 0, 2]]"
      ],
      "metadata": {
        "id": "V16xM0yjzfI0",
        "colab": {
          "base_uri": "https://localhost:8080/"
        },
        "outputId": "751c9341-5672-4a8d-d3bb-088076a9e6c5"
      },
      "execution_count": 14,
      "outputs": [
        {
          "output_type": "execute_result",
          "data": {
            "text/plain": [
              "array([[1, 0, 2],\n",
              "       [4, 3, 5],\n",
              "       [7, 6, 8]])"
            ]
          },
          "metadata": {},
          "execution_count": 14
        }
      ]
    },
    {
      "cell_type": "markdown",
      "source": [
        "Problem  11\n",
        "\n",
        "From the array a, replace all values greater than 30 to 30 and less than 10 to 10.\n",
        "\n",
        "Input:\n",
        "\n",
        "\n",
        "```\n",
        "np.random.seed(100)\n",
        "a = np.random.uniform(1,50, 20)\n",
        "```\n"
      ],
      "metadata": {
        "id": "T3JTUp181MAR"
      }
    },
    {
      "cell_type": "code",
      "source": [
        "np.random.seed(100)\n",
        "a = np.random.uniform(1,50, 20)\n",
        "a[a > 30] = 30\n",
        "a[a < 10] = 10\n",
        "a"
      ],
      "metadata": {
        "id": "Ju77O_4x1TJl",
        "colab": {
          "base_uri": "https://localhost:8080/"
        },
        "outputId": "38ce41d8-1f19-4ebf-b23f-727aead7e325"
      },
      "execution_count": 28,
      "outputs": [
        {
          "output_type": "execute_result",
          "data": {
            "text/plain": [
              "array([27.62684215, 14.64009987, 21.80136195, 30.        , 10.        ,\n",
              "       10.        , 30.        , 30.        , 10.        , 29.17957314,\n",
              "       30.        , 11.25090398, 10.08108276, 10.        , 11.76517714,\n",
              "       30.        , 30.        , 10.        , 30.        , 14.42961361])"
            ]
          },
          "metadata": {},
          "execution_count": 28
        }
      ]
    },
    {
      "cell_type": "markdown",
      "source": [
        "Problem  12\n",
        "\n",
        "Compute the counts of unique values row-wise.\n",
        "\n",
        "Input:\n",
        "\n",
        "\n",
        "\n",
        "```\n",
        "np.random.seed(100)\n",
        "arr = np.random.randint(1,11,size=(6, 10))\n",
        "arr\n",
        "> array([[ 9,  9,  4,  8,  8,  1,  5,  3,  6,  3],\n",
        ">        [ 3,  3,  2,  1,  9,  5,  1, 10,  7,  3],\n",
        ">        [ 5,  2,  6,  4,  5,  5,  4,  8,  2,  2],\n",
        ">        [ 8,  8,  1,  3, 10, 10,  4,  3,  6,  9],\n",
        ">        [ 2,  1,  8,  7,  3,  1,  9,  3,  6,  2],\n",
        ">        [ 9,  2,  6,  5,  3,  9,  4,  6,  1, 10]])\n",
        "```\n",
        "\n",
        "\n",
        "\n",
        "Desired Output:\n",
        "\n",
        "\n",
        "\n",
        "```\n",
        "> [[1, 0, 2, 1, 1, 1, 0, 2, 2, 0],\n",
        ">  [2, 1, 3, 0, 1, 0, 1, 0, 1, 1],\n",
        ">  [0, 3, 0, 2, 3, 1, 0, 1, 0, 0],\n",
        ">  [1, 0, 2, 1, 0, 1, 0, 2, 1, 2],\n",
        ">  [2, 2, 2, 0, 0, 1, 1, 1, 1, 0],\n",
        ">  [1, 1, 1, 1, 1, 2, 0, 0, 2, 1]]\n",
        "```\n",
        "\n"
      ],
      "metadata": {
        "id": "LHQfYYtLrz5e"
      }
    },
    {
      "cell_type": "code",
      "source": [
        "def counts_of_all_values_rowwise(arr2d):\n",
        "    num_counts_array = [np.unique(row, return_counts=True) for row in arr2d]\n",
        "    return([[int(b[a==i]) if i in a else 0 for i in np.unique(arr2d)] for a, b in num_counts_array])\n",
        "\n",
        "np.random.seed(100)\n",
        "np.set_printoptions(threshold=10)\n",
        "arr = np.random.randint(1,11,size=(6, 10))\n",
        "counts_of_all_values_rowwise(arr)"
      ],
      "metadata": {
        "id": "MwEiQ9wssF1G",
        "colab": {
          "base_uri": "https://localhost:8080/"
        },
        "outputId": "3a7c29d1-4c18-403e-8267-625e04926e74"
      },
      "execution_count": 31,
      "outputs": [
        {
          "output_type": "execute_result",
          "data": {
            "text/plain": [
              "[[1, 0, 2, 1, 1, 1, 0, 2, 2, 0],\n",
              " [2, 1, 3, 0, 1, 0, 1, 0, 1, 1],\n",
              " [0, 3, 0, 2, 3, 1, 0, 1, 0, 0],\n",
              " [1, 0, 2, 1, 0, 1, 0, 2, 1, 2],\n",
              " [2, 2, 2, 0, 0, 1, 1, 1, 1, 0],\n",
              " [1, 1, 1, 1, 1, 2, 0, 0, 2, 1]]"
            ]
          },
          "metadata": {},
          "execution_count": 31
        }
      ]
    },
    {
      "cell_type": "markdown",
      "source": [
        "Problem  13\n",
        "\n",
        "Compute the one-hot encodings (dummy binary variables for each unique value in the array)"
      ],
      "metadata": {
        "id": "j5DBowUpsTSR"
      }
    },
    {
      "cell_type": "code",
      "source": [
        "np.random.seed(101) \n",
        "arr = np.random.randint(1,4, size=6)\n",
        "def one_hot_encodings(arr):\n",
        "    uniqs = np.unique(arr)\n",
        "    out = np.zeros((arr.shape[0], uniqs.shape[0]))\n",
        "    for i, k in enumerate(arr):\n",
        "        out[i, k-1] = 1\n",
        "    return out\n",
        "\n",
        "one_hot_encodings(arr)"
      ],
      "metadata": {
        "id": "9_W66J-VwNnJ",
        "colab": {
          "base_uri": "https://localhost:8080/"
        },
        "outputId": "c6ea3d9a-d161-4ec5-dc38-3871aa6babd9"
      },
      "execution_count": 62,
      "outputs": [
        {
          "output_type": "execute_result",
          "data": {
            "text/plain": [
              "array([[0., 1., 0.],\n",
              "       [0., 0., 1.],\n",
              "       [0., 1., 0.],\n",
              "       [0., 1., 0.],\n",
              "       [0., 1., 0.],\n",
              "       [1., 0., 0.]])"
            ]
          },
          "metadata": {},
          "execution_count": 62
        }
      ]
    },
    {
      "cell_type": "markdown",
      "source": [
        "Problem  14\n",
        "\n",
        "Create the ranks for the given numeric array a.\n",
        "\n",
        "Input:\n",
        "\n",
        "\n",
        "\n",
        "```\n",
        "np.random.seed(10)\n",
        "a = np.random.randint(20, size=10)\n",
        "print(a)\n",
        "#> [ 9  4 15  0 17 16 17  8  9  0]\n",
        "```\n",
        "\n",
        "Desired output:\n",
        "\n",
        "```\n",
        "[4 2 6 0 8 7 9 3 5 1]\n",
        "```"
      ],
      "metadata": {
        "id": "ku1ShYriwWg5"
      }
    },
    {
      "cell_type": "code",
      "source": [
        "np.random.seed(10)\n",
        "a = np.random.randint(20, size=10)\n",
        "print(a.ravel().argsort().argsort())"
      ],
      "metadata": {
        "id": "MTqYk__owkLS",
        "colab": {
          "base_uri": "https://localhost:8080/"
        },
        "outputId": "eff39c70-f19a-4e8b-9867-d25f636e90c0"
      },
      "execution_count": 39,
      "outputs": [
        {
          "output_type": "stream",
          "name": "stdout",
          "text": [
            "[4 2 6 0 8 7 9 3 5 1]\n"
          ]
        }
      ]
    },
    {
      "cell_type": "markdown",
      "source": [
        "Problem  15\n",
        "\n",
        "Create a rank array of the same shape as a given numeric array a.\n",
        "\n",
        "Input:\n",
        "\n",
        "\n",
        "\n",
        "```\n",
        "np.random.seed(10)\n",
        "a = np.random.randint(20, size=[2,5])\n",
        "print(a)\n",
        "#> [[ 9  4 15  0 17]\n",
        "#>  [16 17  8  9  0]]\n",
        "```\n",
        "\n",
        "\n",
        "Desired output:\n",
        "\n",
        "\n",
        "\n",
        "```\n",
        "#> [[4 2 6 0 8]\n",
        "#>  [7 9 3 5 1]]\n",
        "```\n",
        "\n"
      ],
      "metadata": {
        "id": "GTX22O_CwBCn"
      }
    },
    {
      "cell_type": "code",
      "source": [
        "np.random.seed(10)\n",
        "a = np.random.randint(20, size=[2,5])\n",
        "print(a.ravel().argsort().argsort().reshape(a.shape))"
      ],
      "metadata": {
        "id": "8Jrl4Xf8wL6n",
        "colab": {
          "base_uri": "https://localhost:8080/"
        },
        "outputId": "2d88758e-1447-4ccc-d932-d76d91d33a79"
      },
      "execution_count": 37,
      "outputs": [
        {
          "output_type": "stream",
          "name": "stdout",
          "text": [
            "[[4 2 6 0 8]\n",
            " [7 9 3 5 1]]\n"
          ]
        }
      ]
    },
    {
      "cell_type": "markdown",
      "source": [
        "Problem  16\n",
        "\n",
        "Compute the min-by-max for each row for given 2d numpy array\n",
        "\n",
        "Input:\n",
        "\n",
        "```\n",
        "np.random.seed(100)\n",
        "a = np.random.randint(1,10, [5,3])\n",
        "a\n",
        "#> array([[9, 9, 4],\n",
        "#>        [8, 8, 1],\n",
        "#>        [5, 3, 6],\n",
        "#>        [3, 3, 3],\n",
        "#>        [2, 1, 9]])\n",
        "```\n",
        "\n",
        "Desired Output:\n",
        "\n",
        "```\n",
        "array([ 0.44444444,  0.125     ,  0.5       ,  1.        ,  0.11111111])\n",
        "```"
      ],
      "metadata": {
        "id": "JX1wmQYXwsZP"
      }
    },
    {
      "cell_type": "code",
      "source": [
        "np.random.seed(100)\n",
        "a = np.random.randint(1,10, [5,3])\n",
        "np.apply_along_axis(lambda x: np.min(x)/np.max(x), arr=a, axis=1)"
      ],
      "metadata": {
        "id": "9u7Vg5F-wtwu",
        "colab": {
          "base_uri": "https://localhost:8080/"
        },
        "outputId": "379262cb-733c-49f0-9561-54f750fa7bc5"
      },
      "execution_count": 63,
      "outputs": [
        {
          "output_type": "execute_result",
          "data": {
            "text/plain": [
              "array([0.44444444, 0.125     , 0.5       , 1.        , 0.11111111])"
            ]
          },
          "metadata": {},
          "execution_count": 63
        }
      ]
    },
    {
      "cell_type": "markdown",
      "source": [
        "Problem  17\n",
        "\n",
        "Find the duplicate entries (2nd occurrence onwards) in the given numpy array and mark them as True. First time occurrences should be False\n",
        "\n",
        "Input\n",
        "```\n",
        "np.random.seed(100)\n",
        "a = np.random.randint(0, 5, 10)\n",
        "print('Array: ', a)\n",
        "#> Array: [0 0 3 0 2 4 2 2 2 2]\n",
        "```\n",
        "Desired Output:\n",
        "```\n",
        "#> [False  True False  True False False  True  True  True  True]\n",
        "```"
      ],
      "metadata": {
        "id": "pLwGxnDdwvNZ"
      }
    },
    {
      "cell_type": "code",
      "source": [
        "np.random.seed(100)\n",
        "a = np.random.randint(0, 5, 10)\n",
        "print('Array: ', a)\n",
        "out = np.full(a.shape[0], True)\n",
        "out[np.unique(a, return_index=True)[1]] = False\n",
        "print(out)"
      ],
      "metadata": {
        "id": "iFzMSHx-xWTX",
        "colab": {
          "base_uri": "https://localhost:8080/"
        },
        "outputId": "1d28bb0b-5072-4291-93b0-dab8806d110e"
      },
      "execution_count": 47,
      "outputs": [
        {
          "output_type": "stream",
          "name": "stdout",
          "text": [
            "Array:  [0 0 3 0 2 4 2 2 2 2]\n",
            "[False  True False  True False False  True  True  True  True]\n"
          ]
        }
      ]
    },
    {
      "cell_type": "markdown",
      "source": [
        "Problem  18\n",
        "\n",
        "Drop all nan values from a 1D numpy array\n",
        "\n",
        "Input:\n",
        "```\n",
        "np.array([1,2,3,np.nan,5,6,7,np.nan])\n",
        "```\n",
        "Desired Output:\n",
        "```\n",
        "array([ 1.,  2.,  3.,  5.,  6.,  7.])\n",
        "```"
      ],
      "metadata": {
        "id": "gE2QG7lfwvKP"
      }
    },
    {
      "cell_type": "code",
      "source": [
        "np.array([1,2,3,np.nan,5,6,7,np.nan])[~np.isnan(np.array([1,2,3,np.nan,5,6,7,np.nan]))]"
      ],
      "metadata": {
        "id": "jrEnT6SQxmuL",
        "colab": {
          "base_uri": "https://localhost:8080/"
        },
        "outputId": "b1be9370-8882-4059-da6a-751040c4d8f3"
      },
      "execution_count": 49,
      "outputs": [
        {
          "output_type": "execute_result",
          "data": {
            "text/plain": [
              "array([1., 2., 3., 5., 6., 7.])"
            ]
          },
          "metadata": {},
          "execution_count": 49
        }
      ]
    },
    {
      "cell_type": "markdown",
      "source": [
        "Problem 19\n",
        "\n",
        "Find all the peaks in a 1D numpy array a. Peaks are points surrounded by smaller values on both sides.\n",
        "\n",
        "Input:\n",
        "```\n",
        "a = np.array([1, 3, 7, 1, 2, 6, 0, 1])\n",
        "```\n",
        "Desired Output:\n",
        "```\n",
        "#> array([2, 5])\n",
        "```"
      ],
      "metadata": {
        "id": "aDvGrDytx7Jh"
      }
    },
    {
      "cell_type": "code",
      "source": [
        "a = np.array([1, 3, 7, 1, 2, 6, 0, 1])\n",
        "doublediff = np.diff(np.sign(np.diff(a)))\n",
        "peak_locations = np.where(doublediff == -2)[0] + 1\n",
        "peak_locations"
      ],
      "metadata": {
        "id": "PVAt2DVGxnUc",
        "colab": {
          "base_uri": "https://localhost:8080/"
        },
        "outputId": "8b05c7a6-dadd-4395-c6de-7a58c9a936ce"
      },
      "execution_count": 50,
      "outputs": [
        {
          "output_type": "execute_result",
          "data": {
            "text/plain": [
              "array([2, 5])"
            ]
          },
          "metadata": {},
          "execution_count": 50
        }
      ]
    },
    {
      "cell_type": "markdown",
      "source": [
        "Problem 20\n",
        "\n",
        "Subtract the 1d array b_1d from the 2d array a_2d, such that each item of b_1d subtracts from respective row of a_2d.\n",
        "\n",
        "\n",
        "Input\n",
        "```\n",
        "a_2d = np.array([[3,3,3],[4,4,4],[5,5,5]])\n",
        "b_1d = np.array([1,1,1]\n",
        "\n",
        "```\n",
        "Desired Output:\n",
        "```\n",
        "#> [[2 2 2]\n",
        "#>  [2 2 2]\n",
        "#>  [2 2 2]]\n",
        "```"
      ],
      "metadata": {
        "id": "ueqd1H7WyHT6"
      }
    },
    {
      "cell_type": "code",
      "source": [
        "a_2d = np.array([[3,3,3],[4,4,4],[5,5,5]])\n",
        "b_1d = np.array([1,2,3]\n",
        "c = a_2d - b_1d[:,None]"
      ],
      "metadata": {
        "id": "usT-gMqOySyG",
        "colab": {
          "base_uri": "https://localhost:8080/",
          "height": 130
        },
        "outputId": "cbb6c740-0c7c-4fb5-b8b6-0757655a414b"
      },
      "execution_count": 66,
      "outputs": [
        {
          "output_type": "error",
          "ename": "SyntaxError",
          "evalue": "ignored",
          "traceback": [
            "\u001b[0;36m  File \u001b[0;32m\"<ipython-input-66-9ed86e6d1ed2>\"\u001b[0;36m, line \u001b[0;32m3\u001b[0m\n\u001b[0;31m    c = a_2d - b_1d[:,None]\u001b[0m\n\u001b[0m    ^\u001b[0m\n\u001b[0;31mSyntaxError\u001b[0m\u001b[0;31m:\u001b[0m invalid syntax\n"
          ]
        }
      ]
    },
    {
      "cell_type": "markdown",
      "source": [
        "Problem 21\n",
        "\n",
        "Find the index of 5th repetition of number 1 in x.\n",
        "\n",
        "Input:\n",
        "\n",
        "```\n",
        "x = np.array([1, 2, 1, 1, 3, 4, 3, 1, 1, 2, 1, 1, 2])\n",
        "```\n",
        "\n"
      ],
      "metadata": {
        "id": "HWe3-R9C3rMi"
      }
    },
    {
      "cell_type": "code",
      "source": [
        "x = np.array([1, 2, 1, 1, 3, 4, 3, 1, 1, 2, 1, 1, 2])\n",
        "n = 5\n",
        "[i for i, v in enumerate(x) if v == 1][n-1]\n",
        "np.where(x == 1)[0][n-1]"
      ],
      "metadata": {
        "id": "EvD16zlJ3wVZ",
        "colab": {
          "base_uri": "https://localhost:8080/"
        },
        "outputId": "e83f1602-8d86-4ce1-cb83-fa2fdcdef3f6"
      },
      "execution_count": 57,
      "outputs": [
        {
          "output_type": "execute_result",
          "data": {
            "text/plain": [
              "8"
            ]
          },
          "metadata": {},
          "execution_count": 57
        }
      ]
    },
    {
      "cell_type": "markdown",
      "source": [
        "Problem 22\n",
        "\n",
        "Create a numpy array of length 10, starting from 5 and has a step of 3 between consecutive numbers"
      ],
      "metadata": {
        "id": "I791Ruie3xBD"
      }
    },
    {
      "cell_type": "code",
      "source": [
        "length = 10\n",
        "start = 5\n",
        "step = 3\n",
        "\n",
        "def seq(start, length, step):\n",
        "    end = start + (step*length)\n",
        "    return np.arange(start, end, step)\n",
        "\n",
        "seq(start, length, step)"
      ],
      "metadata": {
        "id": "kzFiZ_SC39em",
        "colab": {
          "base_uri": "https://localhost:8080/"
        },
        "outputId": "f6930f1e-0bda-495c-efdd-f8cd7ffbbc27"
      },
      "execution_count": 58,
      "outputs": [
        {
          "output_type": "execute_result",
          "data": {
            "text/plain": [
              "array([ 5,  8, 11, 14, 17, 20, 23, 26, 29, 32])"
            ]
          },
          "metadata": {},
          "execution_count": 58
        }
      ]
    },
    {
      "cell_type": "markdown",
      "source": [
        "Problem 23\n",
        "\n",
        " From the given 1d array arr, generate a 2d matrix using strides, with a window length of 4 and strides of 2, like [[0,1,2,3], [2,3,4,5], [4,5,6,7]..]\n",
        "\n",
        "Input:\n",
        "```\n",
        "arr = np.arange(15) \n",
        "arr\n",
        "#> array([ 0,  1,  2,  3,  4,  5,  6,  7,  8,  9, 10, 11, 12, 13, 14])\n",
        "```\n",
        "\n",
        "Desired Output:\n",
        "```\n",
        "#> [[ 0  1  2  3]\n",
        "#>  [ 2  3  4  5]\n",
        "#>  [ 4  5  6  7]\n",
        "#>  [ 6  7  8  9]\n",
        "#>  [ 8  9 10 11]\n",
        "#>  [10 11 12 13]]\n",
        "```"
      ],
      "metadata": {
        "id": "QyQmrqM43-SS"
      }
    },
    {
      "cell_type": "code",
      "source": [
        "arr = np.arange(15)\n",
        "print(arr)\n",
        "def gen_strides(a, stride_len=5, window_len=5):\n",
        "    n_strides = ((a.size-window_len)//stride_len) + 1\n",
        "    return np.array([a[s:(s+window_len)] for s in np.arange(0, n_strides*stride_len, stride_len)])\n",
        "\n",
        "print(gen_strides(np.arange(15), stride_len=2, window_len=4))"
      ],
      "metadata": {
        "id": "My6d6SyU4NhC",
        "colab": {
          "base_uri": "https://localhost:8080/"
        },
        "outputId": "70d4cc6e-d727-4286-dd74-a2277c505e11"
      },
      "execution_count": 59,
      "outputs": [
        {
          "output_type": "stream",
          "name": "stdout",
          "text": [
            "[ 0  1  2 ... 12 13 14]\n",
            "[[ 0  1  2  3]\n",
            " [ 2  3  4  5]\n",
            " [ 4  5  6  7]\n",
            " [ 6  7  8  9]\n",
            " [ 8  9 10 11]\n",
            " [10 11 12 13]]\n"
          ]
        }
      ]
    },
    {
      "cell_type": "markdown",
      "source": [],
      "metadata": {
        "id": "M7Vn6W854Oym"
      }
    }
  ]
}