{
 "cells": [
  {
   "cell_type": "markdown",
   "id": "3e12f1be",
   "metadata": {},
   "source": [
    "# Numpy\n",
    "# Pandas Matplot\n",
    "    - inferential Analysis\n",
    "    - Descriptive\n",
    "    - EDA (Exploratory Data Analysis)\n",
    "    - Machine Learning (SKL)\n",
    "    \n",
    "# Deep Learning"
   ]
  },
  {
   "cell_type": "markdown",
   "id": "6224624f",
   "metadata": {},
   "source": [
    "## Numpy\n",
    "    - Numerical Python\n",
    "    - Array\n",
    "    - Fastest\n",
    "    - Vectorised Operation\n",
    "    - Contingeous Memory\n",
    "    "
   ]
  },
  {
   "cell_type": "code",
   "execution_count": 2,
   "id": "774826fc",
   "metadata": {},
   "outputs": [],
   "source": [
    "import numpy as np"
   ]
  },
  {
   "cell_type": "markdown",
   "id": "ea47ddc9",
   "metadata": {},
   "source": [
    "### Creating 1D array using a Python List"
   ]
  },
  {
   "cell_type": "code",
   "execution_count": 3,
   "id": "d353c83e",
   "metadata": {},
   "outputs": [
    {
     "data": {
      "text/plain": [
       "array([22, 33, 44, 55])"
      ]
     },
     "execution_count": 3,
     "metadata": {},
     "output_type": "execute_result"
    }
   ],
   "source": [
    "x = np.array([22,33,44,55])\n",
    "x"
   ]
  },
  {
   "cell_type": "code",
   "execution_count": 4,
   "id": "1eb9d26e",
   "metadata": {},
   "outputs": [
    {
     "data": {
      "text/plain": [
       "4"
      ]
     },
     "execution_count": 4,
     "metadata": {},
     "output_type": "execute_result"
    }
   ],
   "source": [
    "x.size"
   ]
  },
  {
   "cell_type": "code",
   "execution_count": 5,
   "id": "9327dcfc",
   "metadata": {},
   "outputs": [
    {
     "data": {
      "text/plain": [
       "(4,)"
      ]
     },
     "execution_count": 5,
     "metadata": {},
     "output_type": "execute_result"
    }
   ],
   "source": [
    "# 1D Array is vector, and vector don't have the rows and columns rather it has elements\n",
    "# 2D Array is Matrix,\n",
    "# 3D Array is Cube,\n",
    "# nD Array is ............\n",
    "\n",
    "x.shape"
   ]
  },
  {
   "cell_type": "code",
   "execution_count": 6,
   "id": "f15e9829",
   "metadata": {},
   "outputs": [
    {
     "data": {
      "text/plain": [
       "1"
      ]
     },
     "execution_count": 6,
     "metadata": {},
     "output_type": "execute_result"
    }
   ],
   "source": [
    "x.ndim"
   ]
  },
  {
   "cell_type": "markdown",
   "id": "6ab6a963",
   "metadata": {},
   "source": [
    "### Creating 1D array using range() function"
   ]
  },
  {
   "cell_type": "code",
   "execution_count": 6,
   "id": "a7968de1",
   "metadata": {},
   "outputs": [
    {
     "data": {
      "text/plain": [
       "[0, 1, 2, 3, 4, 5, 6, 7, 8, 9]"
      ]
     },
     "execution_count": 6,
     "metadata": {},
     "output_type": "execute_result"
    }
   ],
   "source": [
    "list(range(10))"
   ]
  },
  {
   "cell_type": "code",
   "execution_count": 7,
   "id": "e8c94b05",
   "metadata": {},
   "outputs": [
    {
     "data": {
      "text/plain": [
       "array([0, 1, 2, 3, 4, 5, 6, 7, 8, 9])"
      ]
     },
     "execution_count": 7,
     "metadata": {},
     "output_type": "execute_result"
    }
   ],
   "source": [
    "arr1d = np.arange(10)\n",
    "arr1d"
   ]
  },
  {
   "cell_type": "code",
   "execution_count": 8,
   "id": "837c72a2",
   "metadata": {},
   "outputs": [
    {
     "name": "stdout",
     "output_type": "stream",
     "text": [
      "10\n",
      "(10,)\n",
      "1\n"
     ]
    }
   ],
   "source": [
    "print(arr1d.size)\n",
    "print(arr1d.shape)\n",
    "print(arr1d.ndim)"
   ]
  },
  {
   "cell_type": "markdown",
   "id": "8d1d360c",
   "metadata": {},
   "source": [
    "### Creating 2D array using a Python List"
   ]
  },
  {
   "cell_type": "code",
   "execution_count": 9,
   "id": "5f8952e3",
   "metadata": {},
   "outputs": [
    {
     "data": {
      "text/plain": [
       "array([[   1,    2,    3],\n",
       "       [  11,   22,   33],\n",
       "       [ 111,  222,  333],\n",
       "       [1111, 2222, 3333]])"
      ]
     },
     "execution_count": 9,
     "metadata": {},
     "output_type": "execute_result"
    }
   ],
   "source": [
    "arr2d = np.array([[1,2,3],[11,22,33],[111,222,333],[1111,2222,3333]])\n",
    "arr2d"
   ]
  },
  {
   "cell_type": "code",
   "execution_count": 10,
   "id": "700ff43b",
   "metadata": {},
   "outputs": [
    {
     "name": "stdout",
     "output_type": "stream",
     "text": [
      "12\n",
      "(4, 3)\n",
      "2\n"
     ]
    }
   ],
   "source": [
    "print(arr2d.size)\n",
    "print(arr2d.shape)\n",
    "print(arr2d.ndim)"
   ]
  },
  {
   "cell_type": "code",
   "execution_count": 11,
   "id": "4d6c3dbb",
   "metadata": {},
   "outputs": [
    {
     "data": {
      "text/plain": [
       "array([[ 0,  1,  2,  3,  4,  5,  6,  7,  8,  9, 10, 11, 12, 13, 14, 15,\n",
       "        16, 17, 18, 19]])"
      ]
     },
     "execution_count": 11,
     "metadata": {},
     "output_type": "execute_result"
    }
   ],
   "source": [
    "arr2d = np.arange(20).reshape(1,20)\n",
    "arr2d"
   ]
  },
  {
   "cell_type": "code",
   "execution_count": 12,
   "id": "25e66286",
   "metadata": {},
   "outputs": [
    {
     "name": "stdout",
     "output_type": "stream",
     "text": [
      "20\n",
      "(1, 20)\n",
      "2\n"
     ]
    }
   ],
   "source": [
    "print(arr2d.size)\n",
    "print(arr2d.shape)\n",
    "print(arr2d.ndim)"
   ]
  },
  {
   "cell_type": "code",
   "execution_count": 13,
   "id": "723f4a92",
   "metadata": {},
   "outputs": [
    {
     "data": {
      "text/plain": [
       "array([[ 0],\n",
       "       [ 1],\n",
       "       [ 2],\n",
       "       [ 3],\n",
       "       [ 4],\n",
       "       [ 5],\n",
       "       [ 6],\n",
       "       [ 7],\n",
       "       [ 8],\n",
       "       [ 9],\n",
       "       [10],\n",
       "       [11],\n",
       "       [12],\n",
       "       [13],\n",
       "       [14],\n",
       "       [15],\n",
       "       [16],\n",
       "       [17],\n",
       "       [18],\n",
       "       [19]])"
      ]
     },
     "execution_count": 13,
     "metadata": {},
     "output_type": "execute_result"
    }
   ],
   "source": [
    "arr2d = np.arange(20).reshape(20,1)\n",
    "arr2d"
   ]
  },
  {
   "cell_type": "code",
   "execution_count": 14,
   "id": "e6cd6cd5",
   "metadata": {},
   "outputs": [
    {
     "name": "stdout",
     "output_type": "stream",
     "text": [
      "20\n",
      "(20, 1)\n",
      "2\n"
     ]
    }
   ],
   "source": [
    "print(arr2d.size)\n",
    "print(arr2d.shape)\n",
    "print(arr2d.ndim)"
   ]
  },
  {
   "cell_type": "code",
   "execution_count": 15,
   "id": "de438f9d",
   "metadata": {},
   "outputs": [
    {
     "data": {
      "text/plain": [
       "array([[ 0,  1],\n",
       "       [ 2,  3],\n",
       "       [ 4,  5],\n",
       "       [ 6,  7],\n",
       "       [ 8,  9],\n",
       "       [10, 11],\n",
       "       [12, 13],\n",
       "       [14, 15],\n",
       "       [16, 17],\n",
       "       [18, 19]])"
      ]
     },
     "execution_count": 15,
     "metadata": {},
     "output_type": "execute_result"
    }
   ],
   "source": [
    "arr2d = np.arange(20).reshape(10,2)\n",
    "arr2d"
   ]
  },
  {
   "cell_type": "code",
   "execution_count": 16,
   "id": "92278821",
   "metadata": {},
   "outputs": [
    {
     "name": "stdout",
     "output_type": "stream",
     "text": [
      "20\n",
      "(10, 2)\n",
      "2\n"
     ]
    }
   ],
   "source": [
    "print(arr2d.size)\n",
    "print(arr2d.shape)\n",
    "print(arr2d.ndim)"
   ]
  },
  {
   "cell_type": "code",
   "execution_count": 17,
   "id": "2f059c0d",
   "metadata": {},
   "outputs": [
    {
     "data": {
      "text/plain": [
       "array([[ 0,  1,  2,  3],\n",
       "       [ 4,  5,  6,  7],\n",
       "       [ 8,  9, 10, 11],\n",
       "       [12, 13, 14, 15],\n",
       "       [16, 17, 18, 19]])"
      ]
     },
     "execution_count": 17,
     "metadata": {},
     "output_type": "execute_result"
    }
   ],
   "source": [
    "arr2d = np.arange(20).reshape(5,4)\n",
    "arr2d"
   ]
  },
  {
   "cell_type": "code",
   "execution_count": 18,
   "id": "def568a9",
   "metadata": {},
   "outputs": [
    {
     "name": "stdout",
     "output_type": "stream",
     "text": [
      "20\n",
      "(5, 4)\n",
      "2\n"
     ]
    }
   ],
   "source": [
    "print(arr2d.size)\n",
    "print(arr2d.shape)\n",
    "print(arr2d.ndim)"
   ]
  },
  {
   "cell_type": "code",
   "execution_count": 19,
   "id": "a9fe5184",
   "metadata": {},
   "outputs": [
    {
     "data": {
      "text/plain": [
       "array([[ 0,  1,  2,  3,  4],\n",
       "       [ 5,  6,  7,  8,  9],\n",
       "       [10, 11, 12, 13, 14],\n",
       "       [15, 16, 17, 18, 19]])"
      ]
     },
     "execution_count": 19,
     "metadata": {},
     "output_type": "execute_result"
    }
   ],
   "source": [
    "arr2d = np.arange(20).reshape(4,5)\n",
    "arr2d"
   ]
  },
  {
   "cell_type": "code",
   "execution_count": 20,
   "id": "56374361",
   "metadata": {},
   "outputs": [
    {
     "name": "stdout",
     "output_type": "stream",
     "text": [
      "20\n",
      "(4, 5)\n",
      "2\n"
     ]
    }
   ],
   "source": [
    "print(arr2d.size)\n",
    "print(arr2d.shape)\n",
    "print(arr2d.ndim)"
   ]
  },
  {
   "cell_type": "code",
   "execution_count": 21,
   "id": "52164354",
   "metadata": {},
   "outputs": [
    {
     "data": {
      "text/plain": [
       "array([[ 0,  1,  2,  3,  4,  5,  6,  7,  8,  9],\n",
       "       [10, 11, 12, 13, 14, 15, 16, 17, 18, 19]])"
      ]
     },
     "execution_count": 21,
     "metadata": {},
     "output_type": "execute_result"
    }
   ],
   "source": [
    "arr2d = np.arange(20).reshape(2,10)\n",
    "arr2d"
   ]
  },
  {
   "cell_type": "code",
   "execution_count": 22,
   "id": "ba52d815",
   "metadata": {},
   "outputs": [
    {
     "name": "stdout",
     "output_type": "stream",
     "text": [
      "20\n",
      "(2, 10)\n",
      "2\n"
     ]
    }
   ],
   "source": [
    "print(arr2d.size)\n",
    "print(arr2d.shape)\n",
    "print(arr2d.ndim)"
   ]
  },
  {
   "cell_type": "code",
   "execution_count": 23,
   "id": "5de74cf0",
   "metadata": {},
   "outputs": [
    {
     "data": {
      "text/plain": [
       "array([ 0,  1,  2,  3,  4,  5,  6,  7,  8,  9, 10, 11, 12, 13, 14, 15, 16,\n",
       "       17, 18, 19])"
      ]
     },
     "execution_count": 23,
     "metadata": {},
     "output_type": "execute_result"
    }
   ],
   "source": [
    " # create a vector of a 2D array\n",
    "arr2d.reshape(20)"
   ]
  },
  {
   "cell_type": "code",
   "execution_count": 24,
   "id": "e33bc621",
   "metadata": {},
   "outputs": [
    {
     "data": {
      "text/plain": [
       "array([ 0,  1,  2,  3,  4,  5,  6,  7,  8,  9, 10, 11, 12, 13, 14, 15, 16,\n",
       "       17, 18, 19])"
      ]
     },
     "execution_count": 24,
     "metadata": {},
     "output_type": "execute_result"
    }
   ],
   "source": [
    "# or\n",
    "arr2d.flatten()"
   ]
  },
  {
   "cell_type": "code",
   "execution_count": 26,
   "id": "7a4b8e66",
   "metadata": {},
   "outputs": [
    {
     "data": {
      "text/plain": [
       "array([ 0,  1,  2,  3,  4,  5,  6,  7,  8,  9, 10, 11, 12, 13, 14, 15, 16,\n",
       "       17, 18, 19])"
      ]
     },
     "execution_count": 26,
     "metadata": {},
     "output_type": "execute_result"
    }
   ],
   "source": [
    "# or\n",
    "arr2d.ravel()"
   ]
  },
  {
   "cell_type": "code",
   "execution_count": 27,
   "id": "b6523ae3",
   "metadata": {},
   "outputs": [
    {
     "data": {
      "text/plain": [
       "array([[ 0,  1,  2,  3,  4,  5,  6,  7,  8,  9],\n",
       "       [10, 11, 12, 13, 14, 15, 16, 17, 18, 19]])"
      ]
     },
     "execution_count": 27,
     "metadata": {},
     "output_type": "execute_result"
    }
   ],
   "source": [
    "arr2d"
   ]
  },
  {
   "cell_type": "code",
   "execution_count": 29,
   "id": "d1f67aea",
   "metadata": {},
   "outputs": [
    {
     "data": {
      "text/plain": [
       "array([[[[[[[[[[[[[[[[[[[[10]]]]]]]]]]]]]]]]]]]])"
      ]
     },
     "execution_count": 29,
     "metadata": {},
     "output_type": "execute_result"
    }
   ],
   "source": [
    "# Scaler is a quntity only without any direction\n",
    "arr = np.array([[[[[[[[[[[[[[[[[[[[10]]]]]]]]]]]]]]]]]]]])\n",
    "arr"
   ]
  },
  {
   "cell_type": "code",
   "execution_count": 31,
   "id": "d5c1a01f",
   "metadata": {},
   "outputs": [
    {
     "data": {
      "text/plain": [
       "20"
      ]
     },
     "execution_count": 31,
     "metadata": {},
     "output_type": "execute_result"
    }
   ],
   "source": [
    "arr.ndim"
   ]
  },
  {
   "cell_type": "markdown",
   "id": "a04f0ff5",
   "metadata": {},
   "source": [
    "### 3D Array"
   ]
  },
  {
   "cell_type": "code",
   "execution_count": 37,
   "id": "a44bd901",
   "metadata": {},
   "outputs": [
    {
     "data": {
      "text/plain": [
       "array([[[ 0,  1,  2,  3,  4,  5,  6,  7,  8,  9, 10, 11, 12, 13, 14, 15,\n",
       "         16, 17, 18, 19, 20, 21, 22, 23, 24, 25, 26]]])"
      ]
     },
     "execution_count": 37,
     "metadata": {},
     "output_type": "execute_result"
    }
   ],
   "source": [
    "arr3d = np.arange(27).reshape(1,1,27) # (depth, row, column)\n",
    "                                    # (num_of_matrices, row, column)\n",
    "arr3d"
   ]
  },
  {
   "cell_type": "markdown",
   "id": "9bae7082",
   "metadata": {},
   "source": [
    "## Accessing the elements inside arrays\n",
    "### 2D"
   ]
  },
  {
   "cell_type": "code",
   "execution_count": 39,
   "id": "19f2b89f",
   "metadata": {},
   "outputs": [
    {
     "data": {
      "text/plain": [
       "16"
      ]
     },
     "execution_count": 39,
     "metadata": {},
     "output_type": "execute_result"
    }
   ],
   "source": [
    "arr2d[1,6]"
   ]
  },
  {
   "cell_type": "code",
   "execution_count": 40,
   "id": "7653b96e",
   "metadata": {},
   "outputs": [
    {
     "data": {
      "text/plain": [
       "16"
      ]
     },
     "execution_count": 40,
     "metadata": {},
     "output_type": "execute_result"
    }
   ],
   "source": [
    "arr2d[1][6]"
   ]
  },
  {
   "cell_type": "code",
   "execution_count": 47,
   "id": "9d0ff42f",
   "metadata": {},
   "outputs": [
    {
     "data": {
      "text/plain": [
       "0"
      ]
     },
     "execution_count": 47,
     "metadata": {},
     "output_type": "execute_result"
    }
   ],
   "source": [
    "arr3d[0][0][0]"
   ]
  },
  {
   "cell_type": "code",
   "execution_count": 48,
   "id": "f3cc1658",
   "metadata": {},
   "outputs": [
    {
     "data": {
      "text/plain": [
       "array([[[[  0,   1,   2,   3,   4],\n",
       "         [  5,   6,   7,   8,   9],\n",
       "         [ 10,  11,  12,  13,  14],\n",
       "         [ 15,  16,  17,  18,  19],\n",
       "         [ 20,  21,  22,  23,  24]],\n",
       "\n",
       "        [[ 25,  26,  27,  28,  29],\n",
       "         [ 30,  31,  32,  33,  34],\n",
       "         [ 35,  36,  37,  38,  39],\n",
       "         [ 40,  41,  42,  43,  44],\n",
       "         [ 45,  46,  47,  48,  49]],\n",
       "\n",
       "        [[ 50,  51,  52,  53,  54],\n",
       "         [ 55,  56,  57,  58,  59],\n",
       "         [ 60,  61,  62,  63,  64],\n",
       "         [ 65,  66,  67,  68,  69],\n",
       "         [ 70,  71,  72,  73,  74]],\n",
       "\n",
       "        [[ 75,  76,  77,  78,  79],\n",
       "         [ 80,  81,  82,  83,  84],\n",
       "         [ 85,  86,  87,  88,  89],\n",
       "         [ 90,  91,  92,  93,  94],\n",
       "         [ 95,  96,  97,  98,  99]],\n",
       "\n",
       "        [[100, 101, 102, 103, 104],\n",
       "         [105, 106, 107, 108, 109],\n",
       "         [110, 111, 112, 113, 114],\n",
       "         [115, 116, 117, 118, 119],\n",
       "         [120, 121, 122, 123, 124]]],\n",
       "\n",
       "\n",
       "       [[[125, 126, 127, 128, 129],\n",
       "         [130, 131, 132, 133, 134],\n",
       "         [135, 136, 137, 138, 139],\n",
       "         [140, 141, 142, 143, 144],\n",
       "         [145, 146, 147, 148, 149]],\n",
       "\n",
       "        [[150, 151, 152, 153, 154],\n",
       "         [155, 156, 157, 158, 159],\n",
       "         [160, 161, 162, 163, 164],\n",
       "         [165, 166, 167, 168, 169],\n",
       "         [170, 171, 172, 173, 174]],\n",
       "\n",
       "        [[175, 176, 177, 178, 179],\n",
       "         [180, 181, 182, 183, 184],\n",
       "         [185, 186, 187, 188, 189],\n",
       "         [190, 191, 192, 193, 194],\n",
       "         [195, 196, 197, 198, 199]],\n",
       "\n",
       "        [[200, 201, 202, 203, 204],\n",
       "         [205, 206, 207, 208, 209],\n",
       "         [210, 211, 212, 213, 214],\n",
       "         [215, 216, 217, 218, 219],\n",
       "         [220, 221, 222, 223, 224]],\n",
       "\n",
       "        [[225, 226, 227, 228, 229],\n",
       "         [230, 231, 232, 233, 234],\n",
       "         [235, 236, 237, 238, 239],\n",
       "         [240, 241, 242, 243, 244],\n",
       "         [245, 246, 247, 248, 249]]],\n",
       "\n",
       "\n",
       "       [[[250, 251, 252, 253, 254],\n",
       "         [255, 256, 257, 258, 259],\n",
       "         [260, 261, 262, 263, 264],\n",
       "         [265, 266, 267, 268, 269],\n",
       "         [270, 271, 272, 273, 274]],\n",
       "\n",
       "        [[275, 276, 277, 278, 279],\n",
       "         [280, 281, 282, 283, 284],\n",
       "         [285, 286, 287, 288, 289],\n",
       "         [290, 291, 292, 293, 294],\n",
       "         [295, 296, 297, 298, 299]],\n",
       "\n",
       "        [[300, 301, 302, 303, 304],\n",
       "         [305, 306, 307, 308, 309],\n",
       "         [310, 311, 312, 313, 314],\n",
       "         [315, 316, 317, 318, 319],\n",
       "         [320, 321, 322, 323, 324]],\n",
       "\n",
       "        [[325, 326, 327, 328, 329],\n",
       "         [330, 331, 332, 333, 334],\n",
       "         [335, 336, 337, 338, 339],\n",
       "         [340, 341, 342, 343, 344],\n",
       "         [345, 346, 347, 348, 349]],\n",
       "\n",
       "        [[350, 351, 352, 353, 354],\n",
       "         [355, 356, 357, 358, 359],\n",
       "         [360, 361, 362, 363, 364],\n",
       "         [365, 366, 367, 368, 369],\n",
       "         [370, 371, 372, 373, 374]]],\n",
       "\n",
       "\n",
       "       [[[375, 376, 377, 378, 379],\n",
       "         [380, 381, 382, 383, 384],\n",
       "         [385, 386, 387, 388, 389],\n",
       "         [390, 391, 392, 393, 394],\n",
       "         [395, 396, 397, 398, 399]],\n",
       "\n",
       "        [[400, 401, 402, 403, 404],\n",
       "         [405, 406, 407, 408, 409],\n",
       "         [410, 411, 412, 413, 414],\n",
       "         [415, 416, 417, 418, 419],\n",
       "         [420, 421, 422, 423, 424]],\n",
       "\n",
       "        [[425, 426, 427, 428, 429],\n",
       "         [430, 431, 432, 433, 434],\n",
       "         [435, 436, 437, 438, 439],\n",
       "         [440, 441, 442, 443, 444],\n",
       "         [445, 446, 447, 448, 449]],\n",
       "\n",
       "        [[450, 451, 452, 453, 454],\n",
       "         [455, 456, 457, 458, 459],\n",
       "         [460, 461, 462, 463, 464],\n",
       "         [465, 466, 467, 468, 469],\n",
       "         [470, 471, 472, 473, 474]],\n",
       "\n",
       "        [[475, 476, 477, 478, 479],\n",
       "         [480, 481, 482, 483, 484],\n",
       "         [485, 486, 487, 488, 489],\n",
       "         [490, 491, 492, 493, 494],\n",
       "         [495, 496, 497, 498, 499]]],\n",
       "\n",
       "\n",
       "       [[[500, 501, 502, 503, 504],\n",
       "         [505, 506, 507, 508, 509],\n",
       "         [510, 511, 512, 513, 514],\n",
       "         [515, 516, 517, 518, 519],\n",
       "         [520, 521, 522, 523, 524]],\n",
       "\n",
       "        [[525, 526, 527, 528, 529],\n",
       "         [530, 531, 532, 533, 534],\n",
       "         [535, 536, 537, 538, 539],\n",
       "         [540, 541, 542, 543, 544],\n",
       "         [545, 546, 547, 548, 549]],\n",
       "\n",
       "        [[550, 551, 552, 553, 554],\n",
       "         [555, 556, 557, 558, 559],\n",
       "         [560, 561, 562, 563, 564],\n",
       "         [565, 566, 567, 568, 569],\n",
       "         [570, 571, 572, 573, 574]],\n",
       "\n",
       "        [[575, 576, 577, 578, 579],\n",
       "         [580, 581, 582, 583, 584],\n",
       "         [585, 586, 587, 588, 589],\n",
       "         [590, 591, 592, 593, 594],\n",
       "         [595, 596, 597, 598, 599]],\n",
       "\n",
       "        [[600, 601, 602, 603, 604],\n",
       "         [605, 606, 607, 608, 609],\n",
       "         [610, 611, 612, 613, 614],\n",
       "         [615, 616, 617, 618, 619],\n",
       "         [620, 621, 622, 623, 624]]]])"
      ]
     },
     "execution_count": 48,
     "metadata": {},
     "output_type": "execute_result"
    }
   ],
   "source": [
    "arr4d = np.arange(625).reshape(5,5,5,5)\n",
    "arr4d"
   ]
  },
  {
   "cell_type": "code",
   "execution_count": 65,
   "id": "1aeb6af1",
   "metadata": {},
   "outputs": [
    {
     "data": {
      "text/plain": [
       "598"
      ]
     },
     "execution_count": 65,
     "metadata": {},
     "output_type": "execute_result"
    }
   ],
   "source": [
    "arr4d[4][3][4][3]"
   ]
  },
  {
   "cell_type": "code",
   "execution_count": 50,
   "id": "8c98c544",
   "metadata": {},
   "outputs": [
    {
     "data": {
      "text/plain": [
       "array([[[[[[  0,   1,   2],\n",
       "           [  3,   4,   5],\n",
       "           [  6,   7,   8]],\n",
       "\n",
       "          [[  9,  10,  11],\n",
       "           [ 12,  13,  14],\n",
       "           [ 15,  16,  17]],\n",
       "\n",
       "          [[ 18,  19,  20],\n",
       "           [ 21,  22,  23],\n",
       "           [ 24,  25,  26]]],\n",
       "\n",
       "\n",
       "         [[[ 27,  28,  29],\n",
       "           [ 30,  31,  32],\n",
       "           [ 33,  34,  35]],\n",
       "\n",
       "          [[ 36,  37,  38],\n",
       "           [ 39,  40,  41],\n",
       "           [ 42,  43,  44]],\n",
       "\n",
       "          [[ 45,  46,  47],\n",
       "           [ 48,  49,  50],\n",
       "           [ 51,  52,  53]]],\n",
       "\n",
       "\n",
       "         [[[ 54,  55,  56],\n",
       "           [ 57,  58,  59],\n",
       "           [ 60,  61,  62]],\n",
       "\n",
       "          [[ 63,  64,  65],\n",
       "           [ 66,  67,  68],\n",
       "           [ 69,  70,  71]],\n",
       "\n",
       "          [[ 72,  73,  74],\n",
       "           [ 75,  76,  77],\n",
       "           [ 78,  79,  80]]]],\n",
       "\n",
       "\n",
       "\n",
       "        [[[[ 81,  82,  83],\n",
       "           [ 84,  85,  86],\n",
       "           [ 87,  88,  89]],\n",
       "\n",
       "          [[ 90,  91,  92],\n",
       "           [ 93,  94,  95],\n",
       "           [ 96,  97,  98]],\n",
       "\n",
       "          [[ 99, 100, 101],\n",
       "           [102, 103, 104],\n",
       "           [105, 106, 107]]],\n",
       "\n",
       "\n",
       "         [[[108, 109, 110],\n",
       "           [111, 112, 113],\n",
       "           [114, 115, 116]],\n",
       "\n",
       "          [[117, 118, 119],\n",
       "           [120, 121, 122],\n",
       "           [123, 124, 125]],\n",
       "\n",
       "          [[126, 127, 128],\n",
       "           [129, 130, 131],\n",
       "           [132, 133, 134]]],\n",
       "\n",
       "\n",
       "         [[[135, 136, 137],\n",
       "           [138, 139, 140],\n",
       "           [141, 142, 143]],\n",
       "\n",
       "          [[144, 145, 146],\n",
       "           [147, 148, 149],\n",
       "           [150, 151, 152]],\n",
       "\n",
       "          [[153, 154, 155],\n",
       "           [156, 157, 158],\n",
       "           [159, 160, 161]]]],\n",
       "\n",
       "\n",
       "\n",
       "        [[[[162, 163, 164],\n",
       "           [165, 166, 167],\n",
       "           [168, 169, 170]],\n",
       "\n",
       "          [[171, 172, 173],\n",
       "           [174, 175, 176],\n",
       "           [177, 178, 179]],\n",
       "\n",
       "          [[180, 181, 182],\n",
       "           [183, 184, 185],\n",
       "           [186, 187, 188]]],\n",
       "\n",
       "\n",
       "         [[[189, 190, 191],\n",
       "           [192, 193, 194],\n",
       "           [195, 196, 197]],\n",
       "\n",
       "          [[198, 199, 200],\n",
       "           [201, 202, 203],\n",
       "           [204, 205, 206]],\n",
       "\n",
       "          [[207, 208, 209],\n",
       "           [210, 211, 212],\n",
       "           [213, 214, 215]]],\n",
       "\n",
       "\n",
       "         [[[216, 217, 218],\n",
       "           [219, 220, 221],\n",
       "           [222, 223, 224]],\n",
       "\n",
       "          [[225, 226, 227],\n",
       "           [228, 229, 230],\n",
       "           [231, 232, 233]],\n",
       "\n",
       "          [[234, 235, 236],\n",
       "           [237, 238, 239],\n",
       "           [240, 241, 242]]]]],\n",
       "\n",
       "\n",
       "\n",
       "\n",
       "       [[[[[243, 244, 245],\n",
       "           [246, 247, 248],\n",
       "           [249, 250, 251]],\n",
       "\n",
       "          [[252, 253, 254],\n",
       "           [255, 256, 257],\n",
       "           [258, 259, 260]],\n",
       "\n",
       "          [[261, 262, 263],\n",
       "           [264, 265, 266],\n",
       "           [267, 268, 269]]],\n",
       "\n",
       "\n",
       "         [[[270, 271, 272],\n",
       "           [273, 274, 275],\n",
       "           [276, 277, 278]],\n",
       "\n",
       "          [[279, 280, 281],\n",
       "           [282, 283, 284],\n",
       "           [285, 286, 287]],\n",
       "\n",
       "          [[288, 289, 290],\n",
       "           [291, 292, 293],\n",
       "           [294, 295, 296]]],\n",
       "\n",
       "\n",
       "         [[[297, 298, 299],\n",
       "           [300, 301, 302],\n",
       "           [303, 304, 305]],\n",
       "\n",
       "          [[306, 307, 308],\n",
       "           [309, 310, 311],\n",
       "           [312, 313, 314]],\n",
       "\n",
       "          [[315, 316, 317],\n",
       "           [318, 319, 320],\n",
       "           [321, 322, 323]]]],\n",
       "\n",
       "\n",
       "\n",
       "        [[[[324, 325, 326],\n",
       "           [327, 328, 329],\n",
       "           [330, 331, 332]],\n",
       "\n",
       "          [[333, 334, 335],\n",
       "           [336, 337, 338],\n",
       "           [339, 340, 341]],\n",
       "\n",
       "          [[342, 343, 344],\n",
       "           [345, 346, 347],\n",
       "           [348, 349, 350]]],\n",
       "\n",
       "\n",
       "         [[[351, 352, 353],\n",
       "           [354, 355, 356],\n",
       "           [357, 358, 359]],\n",
       "\n",
       "          [[360, 361, 362],\n",
       "           [363, 364, 365],\n",
       "           [366, 367, 368]],\n",
       "\n",
       "          [[369, 370, 371],\n",
       "           [372, 373, 374],\n",
       "           [375, 376, 377]]],\n",
       "\n",
       "\n",
       "         [[[378, 379, 380],\n",
       "           [381, 382, 383],\n",
       "           [384, 385, 386]],\n",
       "\n",
       "          [[387, 388, 389],\n",
       "           [390, 391, 392],\n",
       "           [393, 394, 395]],\n",
       "\n",
       "          [[396, 397, 398],\n",
       "           [399, 400, 401],\n",
       "           [402, 403, 404]]]],\n",
       "\n",
       "\n",
       "\n",
       "        [[[[405, 406, 407],\n",
       "           [408, 409, 410],\n",
       "           [411, 412, 413]],\n",
       "\n",
       "          [[414, 415, 416],\n",
       "           [417, 418, 419],\n",
       "           [420, 421, 422]],\n",
       "\n",
       "          [[423, 424, 425],\n",
       "           [426, 427, 428],\n",
       "           [429, 430, 431]]],\n",
       "\n",
       "\n",
       "         [[[432, 433, 434],\n",
       "           [435, 436, 437],\n",
       "           [438, 439, 440]],\n",
       "\n",
       "          [[441, 442, 443],\n",
       "           [444, 445, 446],\n",
       "           [447, 448, 449]],\n",
       "\n",
       "          [[450, 451, 452],\n",
       "           [453, 454, 455],\n",
       "           [456, 457, 458]]],\n",
       "\n",
       "\n",
       "         [[[459, 460, 461],\n",
       "           [462, 463, 464],\n",
       "           [465, 466, 467]],\n",
       "\n",
       "          [[468, 469, 470],\n",
       "           [471, 472, 473],\n",
       "           [474, 475, 476]],\n",
       "\n",
       "          [[477, 478, 479],\n",
       "           [480, 481, 482],\n",
       "           [483, 484, 485]]]]],\n",
       "\n",
       "\n",
       "\n",
       "\n",
       "       [[[[[486, 487, 488],\n",
       "           [489, 490, 491],\n",
       "           [492, 493, 494]],\n",
       "\n",
       "          [[495, 496, 497],\n",
       "           [498, 499, 500],\n",
       "           [501, 502, 503]],\n",
       "\n",
       "          [[504, 505, 506],\n",
       "           [507, 508, 509],\n",
       "           [510, 511, 512]]],\n",
       "\n",
       "\n",
       "         [[[513, 514, 515],\n",
       "           [516, 517, 518],\n",
       "           [519, 520, 521]],\n",
       "\n",
       "          [[522, 523, 524],\n",
       "           [525, 526, 527],\n",
       "           [528, 529, 530]],\n",
       "\n",
       "          [[531, 532, 533],\n",
       "           [534, 535, 536],\n",
       "           [537, 538, 539]]],\n",
       "\n",
       "\n",
       "         [[[540, 541, 542],\n",
       "           [543, 544, 545],\n",
       "           [546, 547, 548]],\n",
       "\n",
       "          [[549, 550, 551],\n",
       "           [552, 553, 554],\n",
       "           [555, 556, 557]],\n",
       "\n",
       "          [[558, 559, 560],\n",
       "           [561, 562, 563],\n",
       "           [564, 565, 566]]]],\n",
       "\n",
       "\n",
       "\n",
       "        [[[[567, 568, 569],\n",
       "           [570, 571, 572],\n",
       "           [573, 574, 575]],\n",
       "\n",
       "          [[576, 577, 578],\n",
       "           [579, 580, 581],\n",
       "           [582, 583, 584]],\n",
       "\n",
       "          [[585, 586, 587],\n",
       "           [588, 589, 590],\n",
       "           [591, 592, 593]]],\n",
       "\n",
       "\n",
       "         [[[594, 595, 596],\n",
       "           [597, 598, 599],\n",
       "           [600, 601, 602]],\n",
       "\n",
       "          [[603, 604, 605],\n",
       "           [606, 607, 608],\n",
       "           [609, 610, 611]],\n",
       "\n",
       "          [[612, 613, 614],\n",
       "           [615, 616, 617],\n",
       "           [618, 619, 620]]],\n",
       "\n",
       "\n",
       "         [[[621, 622, 623],\n",
       "           [624, 625, 626],\n",
       "           [627, 628, 629]],\n",
       "\n",
       "          [[630, 631, 632],\n",
       "           [633, 634, 635],\n",
       "           [636, 637, 638]],\n",
       "\n",
       "          [[639, 640, 641],\n",
       "           [642, 643, 644],\n",
       "           [645, 646, 647]]]],\n",
       "\n",
       "\n",
       "\n",
       "        [[[[648, 649, 650],\n",
       "           [651, 652, 653],\n",
       "           [654, 655, 656]],\n",
       "\n",
       "          [[657, 658, 659],\n",
       "           [660, 661, 662],\n",
       "           [663, 664, 665]],\n",
       "\n",
       "          [[666, 667, 668],\n",
       "           [669, 670, 671],\n",
       "           [672, 673, 674]]],\n",
       "\n",
       "\n",
       "         [[[675, 676, 677],\n",
       "           [678, 679, 680],\n",
       "           [681, 682, 683]],\n",
       "\n",
       "          [[684, 685, 686],\n",
       "           [687, 688, 689],\n",
       "           [690, 691, 692]],\n",
       "\n",
       "          [[693, 694, 695],\n",
       "           [696, 697, 698],\n",
       "           [699, 700, 701]]],\n",
       "\n",
       "\n",
       "         [[[702, 703, 704],\n",
       "           [705, 706, 707],\n",
       "           [708, 709, 710]],\n",
       "\n",
       "          [[711, 712, 713],\n",
       "           [714, 715, 716],\n",
       "           [717, 718, 719]],\n",
       "\n",
       "          [[720, 721, 722],\n",
       "           [723, 724, 725],\n",
       "           [726, 727, 728]]]]]])"
      ]
     },
     "execution_count": 50,
     "metadata": {},
     "output_type": "execute_result"
    }
   ],
   "source": [
    "arr6d = np.arange(729).reshape(3,3,3,3,3,3)\n",
    "arr6d"
   ]
  },
  {
   "cell_type": "code",
   "execution_count": 51,
   "id": "c26d8ce1",
   "metadata": {},
   "outputs": [
    {
     "data": {
      "text/plain": [
       "8"
      ]
     },
     "execution_count": 51,
     "metadata": {},
     "output_type": "execute_result"
    }
   ],
   "source": [
    "arr6d[0][0][0][0][2][2]"
   ]
  },
  {
   "cell_type": "code",
   "execution_count": 52,
   "id": "e456bc92",
   "metadata": {},
   "outputs": [
    {
     "data": {
      "text/plain": [
       "array([22, 33, 44, 55])"
      ]
     },
     "execution_count": 52,
     "metadata": {},
     "output_type": "execute_result"
    }
   ],
   "source": [
    "x"
   ]
  },
  {
   "cell_type": "code",
   "execution_count": 53,
   "id": "9db07462",
   "metadata": {},
   "outputs": [
    {
     "data": {
      "text/plain": [
       "[44, 66, 88, 110]"
      ]
     },
     "execution_count": 53,
     "metadata": {},
     "output_type": "execute_result"
    }
   ],
   "source": [
    "z = []\n",
    "for n in x:\n",
    "    z.append(n*2)\n",
    "z"
   ]
  },
  {
   "cell_type": "code",
   "execution_count": 54,
   "id": "a500b275",
   "metadata": {},
   "outputs": [
    {
     "data": {
      "text/plain": [
       "[484, 1089, 1936, 3025]"
      ]
     },
     "execution_count": 54,
     "metadata": {},
     "output_type": "execute_result"
    }
   ],
   "source": [
    "[n**2 for n in x]"
   ]
  },
  {
   "cell_type": "code",
   "execution_count": 73,
   "id": "777b2bf1",
   "metadata": {},
   "outputs": [
    {
     "data": {
      "text/plain": [
       "array([ 44,  66,  88, 110])"
      ]
     },
     "execution_count": 73,
     "metadata": {},
     "output_type": "execute_result"
    }
   ],
   "source": [
    "x*2"
   ]
  },
  {
   "cell_type": "code",
   "execution_count": 55,
   "id": "3c155ae0",
   "metadata": {},
   "outputs": [
    {
     "data": {
      "text/plain": [
       "array([ 10648,  35937,  85184, 166375], dtype=int32)"
      ]
     },
     "execution_count": 55,
     "metadata": {},
     "output_type": "execute_result"
    }
   ],
   "source": [
    "x**3"
   ]
  },
  {
   "cell_type": "code",
   "execution_count": 56,
   "id": "bd2d1fd4",
   "metadata": {},
   "outputs": [
    {
     "data": {
      "text/plain": [
       "array([[0. , 0.1, 0.2, 0.3, 0.4, 0.5, 0.6, 0.7, 0.8, 0.9],\n",
       "       [1. , 1.1, 1.2, 1.3, 1.4, 1.5, 1.6, 1.7, 1.8, 1.9]])"
      ]
     },
     "execution_count": 56,
     "metadata": {},
     "output_type": "execute_result"
    }
   ],
   "source": [
    "arr2d/10"
   ]
  },
  {
   "cell_type": "code",
   "execution_count": 58,
   "id": "c7114352",
   "metadata": {},
   "outputs": [
    {
     "data": {
      "text/plain": [
       "array([[[  0,  10,  20,  30,  40,  50,  60,  70,  80,  90, 100, 110,\n",
       "         120, 130, 140, 150, 160, 170, 180, 190, 200, 210, 220, 230,\n",
       "         240, 250, 260]]])"
      ]
     },
     "execution_count": 58,
     "metadata": {},
     "output_type": "execute_result"
    }
   ],
   "source": [
    "arr3d*10"
   ]
  },
  {
   "cell_type": "code",
   "execution_count": 69,
   "id": "79d5d348",
   "metadata": {},
   "outputs": [],
   "source": [
    "# shape need to be same to perform above operations.\n",
    "# mirroring or elementwise operation"
   ]
  },
  {
   "cell_type": "code",
   "execution_count": 61,
   "id": "b0b3441e",
   "metadata": {},
   "outputs": [
    {
     "data": {
      "text/plain": [
       "array([0, 1, 2, 3])"
      ]
     },
     "execution_count": 61,
     "metadata": {},
     "output_type": "execute_result"
    }
   ],
   "source": [
    "y = np.arange(4)\n",
    "y"
   ]
  },
  {
   "cell_type": "code",
   "execution_count": 63,
   "id": "dd3da323",
   "metadata": {},
   "outputs": [
    {
     "name": "stdout",
     "output_type": "stream",
     "text": [
      "[22 33 44 55]\n",
      "[0 1 2 3]\n"
     ]
    }
   ],
   "source": [
    "print(x)\n",
    "print(y)"
   ]
  },
  {
   "cell_type": "code",
   "execution_count": 66,
   "id": "6ce91060",
   "metadata": {},
   "outputs": [
    {
     "data": {
      "text/plain": [
       "array([22, 34, 46, 58])"
      ]
     },
     "execution_count": 66,
     "metadata": {},
     "output_type": "execute_result"
    }
   ],
   "source": [
    "x + y"
   ]
  },
  {
   "cell_type": "code",
   "execution_count": 70,
   "id": "8bc6e4e0",
   "metadata": {},
   "outputs": [],
   "source": [
    "a = np.arange(25).reshape(5,5)\n",
    "b = np.arange(25,50).reshape(5,5)"
   ]
  },
  {
   "cell_type": "code",
   "execution_count": 71,
   "id": "164c6132",
   "metadata": {},
   "outputs": [
    {
     "data": {
      "text/plain": [
       "array([[ 0,  1,  2,  3,  4],\n",
       "       [ 5,  6,  7,  8,  9],\n",
       "       [10, 11, 12, 13, 14],\n",
       "       [15, 16, 17, 18, 19],\n",
       "       [20, 21, 22, 23, 24]])"
      ]
     },
     "execution_count": 71,
     "metadata": {},
     "output_type": "execute_result"
    }
   ],
   "source": [
    "a"
   ]
  },
  {
   "cell_type": "code",
   "execution_count": 72,
   "id": "37e7dd25",
   "metadata": {},
   "outputs": [
    {
     "data": {
      "text/plain": [
       "array([[25, 26, 27, 28, 29],\n",
       "       [30, 31, 32, 33, 34],\n",
       "       [35, 36, 37, 38, 39],\n",
       "       [40, 41, 42, 43, 44],\n",
       "       [45, 46, 47, 48, 49]])"
      ]
     },
     "execution_count": 72,
     "metadata": {},
     "output_type": "execute_result"
    }
   ],
   "source": [
    "b"
   ]
  },
  {
   "cell_type": "code",
   "execution_count": 73,
   "id": "587dbf25",
   "metadata": {},
   "outputs": [
    {
     "data": {
      "text/plain": [
       "array([[25, 27, 29, 31, 33],\n",
       "       [35, 37, 39, 41, 43],\n",
       "       [45, 47, 49, 51, 53],\n",
       "       [55, 57, 59, 61, 63],\n",
       "       [65, 67, 69, 71, 73]])"
      ]
     },
     "execution_count": 73,
     "metadata": {},
     "output_type": "execute_result"
    }
   ],
   "source": [
    "a + b"
   ]
  },
  {
   "cell_type": "code",
   "execution_count": 74,
   "id": "da797539",
   "metadata": {},
   "outputs": [
    {
     "data": {
      "text/plain": [
       "array([[   0,   26,   54,   84,  116],\n",
       "       [ 150,  186,  224,  264,  306],\n",
       "       [ 350,  396,  444,  494,  546],\n",
       "       [ 600,  656,  714,  774,  836],\n",
       "       [ 900,  966, 1034, 1104, 1176]])"
      ]
     },
     "execution_count": 74,
     "metadata": {},
     "output_type": "execute_result"
    }
   ],
   "source": [
    "a * b"
   ]
  },
  {
   "cell_type": "code",
   "execution_count": 77,
   "id": "4fd1d83b",
   "metadata": {},
   "outputs": [
    {
     "data": {
      "text/plain": [
       "array([[ 400,  410,  420,  430,  440],\n",
       "       [1275, 1310, 1345, 1380, 1415],\n",
       "       [2150, 2210, 2270, 2330, 2390],\n",
       "       [3025, 3110, 3195, 3280, 3365],\n",
       "       [3900, 4010, 4120, 4230, 4340]])"
      ]
     },
     "execution_count": 77,
     "metadata": {},
     "output_type": "execute_result"
    }
   ],
   "source": [
    "a@b\n",
    "# linear Algebra Multiplization shown as a.b"
   ]
  },
  {
   "cell_type": "code",
   "execution_count": 78,
   "id": "4c41f5a8",
   "metadata": {},
   "outputs": [],
   "source": [
    "c = np.arange(20).reshape(5,4)"
   ]
  },
  {
   "cell_type": "code",
   "execution_count": 79,
   "id": "079a2ea2",
   "metadata": {},
   "outputs": [
    {
     "data": {
      "text/plain": [
       "array([[ 0,  1,  2,  3],\n",
       "       [ 4,  5,  6,  7],\n",
       "       [ 8,  9, 10, 11],\n",
       "       [12, 13, 14, 15],\n",
       "       [16, 17, 18, 19]])"
      ]
     },
     "execution_count": 79,
     "metadata": {},
     "output_type": "execute_result"
    }
   ],
   "source": [
    "c"
   ]
  },
  {
   "cell_type": "code",
   "execution_count": 81,
   "id": "da5ba289",
   "metadata": {},
   "outputs": [
    {
     "data": {
      "text/plain": [
       "array([[1120, 1255, 1390, 1525],\n",
       "       [1320, 1480, 1640, 1800],\n",
       "       [1520, 1705, 1890, 2075],\n",
       "       [1720, 1930, 2140, 2350],\n",
       "       [1920, 2155, 2390, 2625]])"
      ]
     },
     "execution_count": 81,
     "metadata": {},
     "output_type": "execute_result"
    }
   ],
   "source": [
    "#(5,5)@(5,4)\n",
    "b@c"
   ]
  },
  {
   "cell_type": "code",
   "execution_count": 82,
   "id": "fd85c73e",
   "metadata": {},
   "outputs": [
    {
     "ename": "ValueError",
     "evalue": "matmul: Input operand 1 has a mismatch in its core dimension 0, with gufunc signature (n?,k),(k,m?)->(n?,m?) (size 5 is different from 4)",
     "output_type": "error",
     "traceback": [
      "\u001b[1;31m---------------------------------------------------------------------------\u001b[0m",
      "\u001b[1;31mValueError\u001b[0m                                Traceback (most recent call last)",
      "Input \u001b[1;32mIn [82]\u001b[0m, in \u001b[0;36m<cell line: 2>\u001b[1;34m()\u001b[0m\n\u001b[0;32m      1\u001b[0m \u001b[38;5;66;03m#(5,4)@(5,5)\u001b[39;00m\n\u001b[1;32m----> 2\u001b[0m \u001b[43mc\u001b[49m\u001b[38;5;129;43m@b\u001b[39;49m\n",
      "\u001b[1;31mValueError\u001b[0m: matmul: Input operand 1 has a mismatch in its core dimension 0, with gufunc signature (n?,k),(k,m?)->(n?,m?) (size 5 is different from 4)"
     ]
    }
   ],
   "source": [
    "#(5,4)@(5,5)\n",
    "c@b"
   ]
  },
  {
   "cell_type": "markdown",
   "id": "66bcfe5e",
   "metadata": {},
   "source": [
    "# Array Slicing"
   ]
  },
  {
   "cell_type": "code",
   "execution_count": 83,
   "id": "4a31859c",
   "metadata": {},
   "outputs": [],
   "source": [
    "# difference between slicing and indexing"
   ]
  },
  {
   "cell_type": "code",
   "execution_count": 84,
   "id": "e018db23",
   "metadata": {},
   "outputs": [
    {
     "data": {
      "text/plain": [
       "array([[ 0,  1,  2,  3,  4],\n",
       "       [ 5,  6,  7,  8,  9],\n",
       "       [10, 11, 12, 13, 14],\n",
       "       [15, 16, 17, 18, 19],\n",
       "       [20, 21, 22, 23, 24]])"
      ]
     },
     "execution_count": 84,
     "metadata": {},
     "output_type": "execute_result"
    }
   ],
   "source": [
    "a"
   ]
  },
  {
   "cell_type": "code",
   "execution_count": 92,
   "id": "deb1ed9e",
   "metadata": {},
   "outputs": [
    {
     "data": {
      "text/plain": [
       "13"
      ]
     },
     "execution_count": 92,
     "metadata": {},
     "output_type": "execute_result"
    }
   ],
   "source": [
    "a[2,3] # Simple Indexing is accessing a single element"
   ]
  },
  {
   "cell_type": "code",
   "execution_count": 93,
   "id": "970d683f",
   "metadata": {},
   "outputs": [
    {
     "data": {
      "text/plain": [
       "numpy.int32"
      ]
     },
     "execution_count": 93,
     "metadata": {},
     "output_type": "execute_result"
    }
   ],
   "source": [
    "type(a[2,3])"
   ]
  },
  {
   "cell_type": "code",
   "execution_count": 99,
   "id": "71542164",
   "metadata": {},
   "outputs": [
    {
     "name": "stdout",
     "output_type": "stream",
     "text": [
      "13\n",
      "[[13 14]\n",
      " [18 19]]\n"
     ]
    }
   ],
   "source": [
    "# However, Slicing needs to provide start and end of the rows and colums to slice out a particular data set from \n",
    "# the existing array like below\n",
    "print(a[2,3]) # Index a[row index, coulmn index]\n",
    "print(a[2:4,3:5]) # Slicing a [starting row index : ending row index, starting column index : ending coulmn index] \n",
    "                  # While last of the index is not included so take care in future."
   ]
  },
  {
   "cell_type": "code",
   "execution_count": 100,
   "id": "90c3e7ef",
   "metadata": {},
   "outputs": [
    {
     "data": {
      "text/plain": [
       "2"
      ]
     },
     "execution_count": 100,
     "metadata": {},
     "output_type": "execute_result"
    }
   ],
   "source": [
    "a.ndim"
   ]
  },
  {
   "cell_type": "code",
   "execution_count": 102,
   "id": "b8909342",
   "metadata": {},
   "outputs": [
    {
     "data": {
      "text/plain": [
       "2"
      ]
     },
     "execution_count": 102,
     "metadata": {},
     "output_type": "execute_result"
    }
   ],
   "source": [
    "a[2:4,3:5].ndim"
   ]
  },
  {
   "cell_type": "code",
   "execution_count": 103,
   "id": "33e36175",
   "metadata": {},
   "outputs": [
    {
     "data": {
      "text/plain": [
       "array([[ 8],\n",
       "       [13],\n",
       "       [18]])"
      ]
     },
     "execution_count": 103,
     "metadata": {},
     "output_type": "execute_result"
    }
   ],
   "source": [
    "a[1:4,3:4]"
   ]
  },
  {
   "cell_type": "code",
   "execution_count": 104,
   "id": "ac9b2251",
   "metadata": {},
   "outputs": [
    {
     "data": {
      "text/plain": [
       "array([[ 0,  1,  2,  3],\n",
       "       [ 5,  6,  7,  8],\n",
       "       [10, 11, 12, 13],\n",
       "       [15, 16, 17, 18]])"
      ]
     },
     "execution_count": 104,
     "metadata": {},
     "output_type": "execute_result"
    }
   ],
   "source": [
    "a[ :4, :4]"
   ]
  },
  {
   "cell_type": "code",
   "execution_count": 105,
   "id": "03a51ef5",
   "metadata": {},
   "outputs": [
    {
     "data": {
      "text/plain": [
       "array([20, 21, 22, 23])"
      ]
     },
     "execution_count": 105,
     "metadata": {},
     "output_type": "execute_result"
    }
   ],
   "source": [
    "a[4, :4]"
   ]
  },
  {
   "cell_type": "markdown",
   "id": "8c531679",
   "metadata": {},
   "source": [
    "# Querrying Array"
   ]
  },
  {
   "cell_type": "code",
   "execution_count": 106,
   "id": "f3b362df",
   "metadata": {},
   "outputs": [
    {
     "data": {
      "text/plain": [
       "array([[False, False, False, False, False],\n",
       "       [False,  True,  True,  True,  True],\n",
       "       [ True,  True,  True,  True,  True],\n",
       "       [ True,  True,  True,  True,  True],\n",
       "       [ True,  True,  True,  True,  True]])"
      ]
     },
     "execution_count": 106,
     "metadata": {},
     "output_type": "execute_result"
    }
   ],
   "source": [
    "a > 5 # Mask"
   ]
  },
  {
   "cell_type": "code",
   "execution_count": 108,
   "id": "a9b033b3",
   "metadata": {},
   "outputs": [
    {
     "data": {
      "text/plain": [
       "array([[False, False, False, False, False],\n",
       "       [False,  True,  True,  True,  True],\n",
       "       [ True,  True,  True,  True,  True],\n",
       "       [ True,  True,  True,  True,  True],\n",
       "       [ True,  True,  True,  True,  True]])"
      ]
     },
     "execution_count": 108,
     "metadata": {},
     "output_type": "execute_result"
    }
   ],
   "source": [
    "mask = a > 5\n",
    "mask"
   ]
  },
  {
   "cell_type": "code",
   "execution_count": 109,
   "id": "98c19cba",
   "metadata": {},
   "outputs": [
    {
     "data": {
      "text/plain": [
       "array([ 6,  7,  8,  9, 10, 11, 12, 13, 14, 15, 16, 17, 18, 19, 20, 21, 22,\n",
       "       23, 24])"
      ]
     },
     "execution_count": 109,
     "metadata": {},
     "output_type": "execute_result"
    }
   ],
   "source": [
    "a[mask]"
   ]
  },
  {
   "cell_type": "code",
   "execution_count": 110,
   "id": "4e131aee",
   "metadata": {},
   "outputs": [
    {
     "data": {
      "text/plain": [
       "array([11, 12, 13, 14, 15, 16, 17, 18, 19, 20, 21, 22, 23, 24])"
      ]
     },
     "execution_count": 110,
     "metadata": {},
     "output_type": "execute_result"
    }
   ],
   "source": [
    "a[a > 10]"
   ]
  },
  {
   "cell_type": "code",
   "execution_count": 111,
   "id": "ac9d5b1f",
   "metadata": {},
   "outputs": [
    {
     "data": {
      "text/plain": [
       "array([[  0,   1,   2,   3,   4],\n",
       "       [  5,   6,   7, 100, 100],\n",
       "       [100, 100, 100, 100, 100],\n",
       "       [100, 100, 100, 100, 100],\n",
       "       [100, 100, 100, 100, 100]])"
      ]
     },
     "execution_count": 111,
     "metadata": {},
     "output_type": "execute_result"
    }
   ],
   "source": [
    "# replacement\n",
    "\n",
    "a[a > 7] = 100\n",
    "a"
   ]
  },
  {
   "cell_type": "code",
   "execution_count": 112,
   "id": "9d95e91f",
   "metadata": {},
   "outputs": [
    {
     "data": {
      "text/plain": [
       "array([0])"
      ]
     },
     "execution_count": 112,
     "metadata": {},
     "output_type": "execute_result"
    }
   ],
   "source": [
    "a[(a % 2 == 0) & (a % 7 == 0)]"
   ]
  },
  {
   "cell_type": "code",
   "execution_count": 121,
   "id": "de0d407b",
   "metadata": {},
   "outputs": [
    {
     "data": {
      "text/plain": [
       "array([[ 0,  1,  2,  3,  4,  5],\n",
       "       [ 6,  7,  8,  9, 10, 11],\n",
       "       [12, 13, 14, 15, 16, 17],\n",
       "       [18, 19, 20, 21, 22, 23],\n",
       "       [24, 25, 26, 27, 28, 29],\n",
       "       [30, 31, 32, 33, 34, 35]])"
      ]
     },
     "execution_count": 121,
     "metadata": {},
     "output_type": "execute_result"
    }
   ],
   "source": [
    "a"
   ]
  },
  {
   "cell_type": "code",
   "execution_count": 122,
   "id": "dc3b86fe",
   "metadata": {},
   "outputs": [
    {
     "data": {
      "text/plain": [
       "array([[ 0,  1,  2,  3,  4],\n",
       "       [ 5,  6,  7,  8,  9],\n",
       "       [10, 11, 12, 13, 14],\n",
       "       [15, 16, 17, 18, 19],\n",
       "       [20, 21, 22, 23, 24]])"
      ]
     },
     "execution_count": 122,
     "metadata": {},
     "output_type": "execute_result"
    }
   ],
   "source": [
    "a = np.arange(25).reshape(5,5)\n",
    "a"
   ]
  },
  {
   "cell_type": "code",
   "execution_count": 118,
   "id": "70a56dff",
   "metadata": {},
   "outputs": [
    {
     "data": {
      "text/plain": [
       "array([ 0, 14])"
      ]
     },
     "execution_count": 118,
     "metadata": {},
     "output_type": "execute_result"
    }
   ],
   "source": [
    "a[(a % 2 == 0) & (a % 7 == 0)]"
   ]
  },
  {
   "cell_type": "code",
   "execution_count": 119,
   "id": "5af1d26f",
   "metadata": {},
   "outputs": [
    {
     "data": {
      "text/plain": [
       "array([[ 0,  1,  2,  3,  4,  5],\n",
       "       [ 6,  7,  8,  9, 10, 11],\n",
       "       [12, 13, 14, 15, 16, 17],\n",
       "       [18, 19, 20, 21, 22, 23],\n",
       "       [24, 25, 26, 27, 28, 29],\n",
       "       [30, 31, 32, 33, 34, 35]])"
      ]
     },
     "execution_count": 119,
     "metadata": {},
     "output_type": "execute_result"
    }
   ],
   "source": [
    "a = np.arange(36).reshape(6,6)\n",
    "a"
   ]
  },
  {
   "cell_type": "code",
   "execution_count": 120,
   "id": "09290819",
   "metadata": {},
   "outputs": [
    {
     "data": {
      "text/plain": [
       "array([ 0, 14, 28])"
      ]
     },
     "execution_count": 120,
     "metadata": {},
     "output_type": "execute_result"
    }
   ],
   "source": [
    "a[(a % 2 == 0) & (a % 7 == 0)]"
   ]
  },
  {
   "cell_type": "code",
   "execution_count": 125,
   "id": "6de36f84",
   "metadata": {},
   "outputs": [
    {
     "data": {
      "text/plain": [
       "array([[  0,   1,   2,   3,   4],\n",
       "       [  5,   6,   7, 100, 100],\n",
       "       [100, 100, 100, 100, 100],\n",
       "       [100, 100, 100, 100, 100],\n",
       "       [100, 100, 100, 100, 100]])"
      ]
     },
     "execution_count": 125,
     "metadata": {},
     "output_type": "execute_result"
    }
   ],
   "source": [
    "a[a>7] = 100\n",
    "a"
   ]
  },
  {
   "cell_type": "code",
   "execution_count": 126,
   "id": "0db213ef",
   "metadata": {},
   "outputs": [
    {
     "data": {
      "text/plain": [
       "array([0])"
      ]
     },
     "execution_count": 126,
     "metadata": {},
     "output_type": "execute_result"
    }
   ],
   "source": [
    "a[(a % 2 == 0) & (a % 7 == 0)] "
   ]
  },
  {
   "cell_type": "code",
   "execution_count": 128,
   "id": "ba8637f0",
   "metadata": {},
   "outputs": [
    {
     "data": {
      "text/plain": [
       "array([  0,   2,   4,   6,   7, 100, 100, 100, 100, 100, 100, 100, 100,\n",
       "       100, 100, 100, 100, 100, 100, 100, 100, 100])"
      ]
     },
     "execution_count": 128,
     "metadata": {},
     "output_type": "execute_result"
    }
   ],
   "source": [
    "a[(a % 2 == 0) | (a % 7 == 0)] # Boolyan Indexing"
   ]
  },
  {
   "cell_type": "code",
   "execution_count": 129,
   "id": "c090f4b3",
   "metadata": {},
   "outputs": [
    {
     "data": {
      "text/plain": [
       "array([['wow', 'ooh', 'wow', 'ooh', 'wow'],\n",
       "       ['ooh', 'wow', 'wow', 'wow', 'wow'],\n",
       "       ['wow', 'wow', 'wow', 'wow', 'wow'],\n",
       "       ['wow', 'wow', 'wow', 'wow', 'wow'],\n",
       "       ['wow', 'wow', 'wow', 'wow', 'wow']], dtype='<U3')"
      ]
     },
     "execution_count": 129,
     "metadata": {},
     "output_type": "execute_result"
    }
   ],
   "source": [
    "np.where((a % 2 == 0) | (a % 7 == 0), \"wow\", \"ooh\")"
   ]
  },
  {
   "cell_type": "code",
   "execution_count": 130,
   "id": "5f8dd786",
   "metadata": {},
   "outputs": [
    {
     "data": {
      "text/plain": [
       "array([[  0,   1,   2,   3,   4],\n",
       "       [  5,   6,   7, 100, 100],\n",
       "       [100, 100, 100, 100, 100],\n",
       "       [100, 100, 100, 100, 100],\n",
       "       [100, 100, 100, 100, 100]])"
      ]
     },
     "execution_count": 130,
     "metadata": {},
     "output_type": "execute_result"
    }
   ],
   "source": [
    "a"
   ]
  },
  {
   "cell_type": "markdown",
   "id": "b11aa95f",
   "metadata": {},
   "source": [
    "# Combining Arrays\n",
    "- Horizontal Stacking \n",
    "- Vertical Stacking"
   ]
  },
  {
   "cell_type": "code",
   "execution_count": 131,
   "id": "a4953f71",
   "metadata": {},
   "outputs": [
    {
     "data": {
      "text/plain": [
       "array([[  0,   1,   2,   3,   4],\n",
       "       [  5,   6,   7, 100, 100],\n",
       "       [100, 100, 100, 100, 100],\n",
       "       [100, 100, 100, 100, 100],\n",
       "       [100, 100, 100, 100, 100]])"
      ]
     },
     "execution_count": 131,
     "metadata": {},
     "output_type": "execute_result"
    }
   ],
   "source": [
    "a"
   ]
  },
  {
   "cell_type": "code",
   "execution_count": 132,
   "id": "62b79db3",
   "metadata": {},
   "outputs": [
    {
     "data": {
      "text/plain": [
       "array([[25, 26, 27, 28, 29],\n",
       "       [30, 31, 32, 33, 34],\n",
       "       [35, 36, 37, 38, 39],\n",
       "       [40, 41, 42, 43, 44],\n",
       "       [45, 46, 47, 48, 49]])"
      ]
     },
     "execution_count": 132,
     "metadata": {},
     "output_type": "execute_result"
    }
   ],
   "source": [
    "b"
   ]
  },
  {
   "cell_type": "code",
   "execution_count": 134,
   "id": "9a12a7a4",
   "metadata": {},
   "outputs": [
    {
     "data": {
      "text/plain": [
       "array([[  0,   1,   2,   3,   4],\n",
       "       [  5,   6,   7, 100, 100],\n",
       "       [100, 100, 100, 100, 100],\n",
       "       [100, 100, 100, 100, 100],\n",
       "       [100, 100, 100, 100, 100],\n",
       "       [ 25,  26,  27,  28,  29],\n",
       "       [ 30,  31,  32,  33,  34],\n",
       "       [ 35,  36,  37,  38,  39],\n",
       "       [ 40,  41,  42,  43,  44],\n",
       "       [ 45,  46,  47,  48,  49]])"
      ]
     },
     "execution_count": 134,
     "metadata": {},
     "output_type": "execute_result"
    }
   ],
   "source": [
    "np.concatenate((a, b))  # by default it takes axis = 0 the rows will increase"
   ]
  },
  {
   "cell_type": "code",
   "execution_count": 135,
   "id": "451fb017",
   "metadata": {},
   "outputs": [
    {
     "data": {
      "text/plain": [
       "(10, 5)"
      ]
     },
     "execution_count": 135,
     "metadata": {},
     "output_type": "execute_result"
    }
   ],
   "source": [
    "np.concatenate((a, b)).shape"
   ]
  },
  {
   "cell_type": "code",
   "execution_count": 136,
   "id": "a3bbff0c",
   "metadata": {},
   "outputs": [
    {
     "data": {
      "text/plain": [
       "2"
      ]
     },
     "execution_count": 136,
     "metadata": {},
     "output_type": "execute_result"
    }
   ],
   "source": [
    "np.concatenate((a, b)).ndim"
   ]
  },
  {
   "cell_type": "code",
   "execution_count": 137,
   "id": "06495d39",
   "metadata": {},
   "outputs": [
    {
     "data": {
      "text/plain": [
       "array([[  0,   1,   2,   3,   4,  25,  26,  27,  28,  29],\n",
       "       [  5,   6,   7, 100, 100,  30,  31,  32,  33,  34],\n",
       "       [100, 100, 100, 100, 100,  35,  36,  37,  38,  39],\n",
       "       [100, 100, 100, 100, 100,  40,  41,  42,  43,  44],\n",
       "       [100, 100, 100, 100, 100,  45,  46,  47,  48,  49]])"
      ]
     },
     "execution_count": 137,
     "metadata": {},
     "output_type": "execute_result"
    }
   ],
   "source": [
    "np.concatenate((a, b), axis = 1) # if axis = 1, the columns will increase"
   ]
  },
  {
   "cell_type": "code",
   "execution_count": 138,
   "id": "60ea1f8d",
   "metadata": {},
   "outputs": [
    {
     "data": {
      "text/plain": [
       "(5, 10)"
      ]
     },
     "execution_count": 138,
     "metadata": {},
     "output_type": "execute_result"
    }
   ],
   "source": [
    "np.concatenate((a, b), axis = 1).shape"
   ]
  },
  {
   "cell_type": "code",
   "execution_count": 140,
   "id": "2a8ba166",
   "metadata": {},
   "outputs": [
    {
     "data": {
      "text/plain": [
       "array([[[  0,   1,   2,   3,   4],\n",
       "        [  5,   6,   7, 100, 100],\n",
       "        [100, 100, 100, 100, 100],\n",
       "        [100, 100, 100, 100, 100],\n",
       "        [100, 100, 100, 100, 100]],\n",
       "\n",
       "       [[ 25,  26,  27,  28,  29],\n",
       "        [ 30,  31,  32,  33,  34],\n",
       "        [ 35,  36,  37,  38,  39],\n",
       "        [ 40,  41,  42,  43,  44],\n",
       "        [ 45,  46,  47,  48,  49]]])"
      ]
     },
     "execution_count": 140,
     "metadata": {},
     "output_type": "execute_result"
    }
   ],
   "source": [
    "np.stack((a, b)) # Stacking is different than the concatenate."
   ]
  },
  {
   "cell_type": "code",
   "execution_count": 142,
   "id": "e00e2a69",
   "metadata": {},
   "outputs": [
    {
     "data": {
      "text/plain": [
       "array([[  0,   1,   2,   3,   4],\n",
       "       [  5,   6,   7, 100, 100],\n",
       "       [100, 100, 100, 100, 100],\n",
       "       [100, 100, 100, 100, 100],\n",
       "       [100, 100, 100, 100, 100],\n",
       "       [ 25,  26,  27,  28,  29],\n",
       "       [ 30,  31,  32,  33,  34],\n",
       "       [ 35,  36,  37,  38,  39],\n",
       "       [ 40,  41,  42,  43,  44],\n",
       "       [ 45,  46,  47,  48,  49]])"
      ]
     },
     "execution_count": 142,
     "metadata": {},
     "output_type": "execute_result"
    }
   ],
   "source": [
    "np.vstack((a, b)) # vstack = concatenate with axis = 0"
   ]
  },
  {
   "cell_type": "code",
   "execution_count": 143,
   "id": "833c1240",
   "metadata": {},
   "outputs": [
    {
     "data": {
      "text/plain": [
       "array([[  0,   1,   2,   3,   4,  25,  26,  27,  28,  29],\n",
       "       [  5,   6,   7, 100, 100,  30,  31,  32,  33,  34],\n",
       "       [100, 100, 100, 100, 100,  35,  36,  37,  38,  39],\n",
       "       [100, 100, 100, 100, 100,  40,  41,  42,  43,  44],\n",
       "       [100, 100, 100, 100, 100,  45,  46,  47,  48,  49]])"
      ]
     },
     "execution_count": 143,
     "metadata": {},
     "output_type": "execute_result"
    }
   ],
   "source": [
    "np.hstack((a, b)) # hstack = concatenate with axis = 1"
   ]
  },
  {
   "cell_type": "code",
   "execution_count": 150,
   "id": "d7b4c55d",
   "metadata": {},
   "outputs": [
    {
     "data": {
      "text/plain": [
       "array([[[  0,  25],\n",
       "        [  1,  26],\n",
       "        [  2,  27],\n",
       "        [  3,  28],\n",
       "        [  4,  29]],\n",
       "\n",
       "       [[  5,  30],\n",
       "        [  6,  31],\n",
       "        [  7,  32],\n",
       "        [100,  33],\n",
       "        [100,  34]],\n",
       "\n",
       "       [[100,  35],\n",
       "        [100,  36],\n",
       "        [100,  37],\n",
       "        [100,  38],\n",
       "        [100,  39]],\n",
       "\n",
       "       [[100,  40],\n",
       "        [100,  41],\n",
       "        [100,  42],\n",
       "        [100,  43],\n",
       "        [100,  44]],\n",
       "\n",
       "       [[100,  45],\n",
       "        [100,  46],\n",
       "        [100,  47],\n",
       "        [100,  48],\n",
       "        [100,  49]]])"
      ]
     },
     "execution_count": 150,
     "metadata": {},
     "output_type": "execute_result"
    }
   ],
   "source": [
    "np.stack((a, b), axis = 2)"
   ]
  },
  {
   "cell_type": "code",
   "execution_count": 148,
   "id": "8fd04f3c",
   "metadata": {},
   "outputs": [
    {
     "data": {
      "text/plain": [
       "(5, 5, 2)"
      ]
     },
     "execution_count": 148,
     "metadata": {},
     "output_type": "execute_result"
    }
   ],
   "source": [
    "np.stack((a, b), axis = 2).shape"
   ]
  },
  {
   "cell_type": "markdown",
   "id": "9cdd99cb",
   "metadata": {},
   "source": [
    "# shorthand to repeat a sequence 10 times"
   ]
  },
  {
   "cell_type": "code",
   "execution_count": 152,
   "id": "ed796f26",
   "metadata": {},
   "outputs": [
    {
     "data": {
      "text/plain": [
       "array([1, 2, 1, 2, 1, 2, 1, 2, 1, 2, 1, 2, 1, 2, 1, 2, 1, 2, 1, 2])"
      ]
     },
     "execution_count": 152,
     "metadata": {},
     "output_type": "execute_result"
    }
   ],
   "source": [
    "a3 = np.array([1, 2] * 10)\n",
    "a3"
   ]
  },
  {
   "cell_type": "code",
   "execution_count": 171,
   "id": "0678a6fb",
   "metadata": {},
   "outputs": [
    {
     "data": {
      "text/plain": [
       "array([0, 1, 2, 3, 4])"
      ]
     },
     "execution_count": 171,
     "metadata": {},
     "output_type": "execute_result"
    }
   ],
   "source": [
    "a = np.arange(5)\n",
    "a"
   ]
  },
  {
   "cell_type": "code",
   "execution_count": 172,
   "id": "42fa0083",
   "metadata": {},
   "outputs": [
    {
     "data": {
      "text/plain": [
       "array([ True,  True,  True, False,  True])"
      ]
     },
     "execution_count": 172,
     "metadata": {},
     "output_type": "execute_result"
    }
   ],
   "source": [
    "def exp(x):\n",
    "    return x < 3 or x > 3\n",
    "\n",
    "np.vectorize(exp)(a)"
   ]
  },
  {
   "cell_type": "code",
   "execution_count": 173,
   "id": "289e6c85",
   "metadata": {},
   "outputs": [
    {
     "data": {
      "text/plain": [
       "array([ True,  True,  True,  True,  True])"
      ]
     },
     "execution_count": 173,
     "metadata": {},
     "output_type": "execute_result"
    }
   ],
   "source": [
    "def exp(x):\n",
    "    return x < 3 or x == 3 or x > 3\n",
    "\n",
    "np.vectorize(exp)(a)"
   ]
  },
  {
   "cell_type": "code",
   "execution_count": 179,
   "id": "fcc4ef99",
   "metadata": {},
   "outputs": [
    {
     "data": {
      "text/plain": [
       "array([3, 4])"
      ]
     },
     "execution_count": 179,
     "metadata": {},
     "output_type": "execute_result"
    }
   ],
   "source": [
    "cri = a >= 3\n",
    "a[cri]"
   ]
  },
  {
   "cell_type": "code",
   "execution_count": 180,
   "id": "e8044dd7",
   "metadata": {},
   "outputs": [
    {
     "data": {
      "text/plain": [
       "2"
      ]
     },
     "execution_count": 180,
     "metadata": {},
     "output_type": "execute_result"
    }
   ],
   "source": [
    "np.sum(cri)"
   ]
  },
  {
   "cell_type": "code",
   "execution_count": 181,
   "id": "c813c213",
   "metadata": {},
   "outputs": [
    {
     "data": {
      "text/plain": [
       "array([1, 2, 3, 4, 5, 6, 7, 8, 9])"
      ]
     },
     "execution_count": 181,
     "metadata": {},
     "output_type": "execute_result"
    }
   ],
   "source": [
    "a1 = np.arange(1, 10)\n",
    "a1"
   ]
  },
  {
   "cell_type": "code",
   "execution_count": 183,
   "id": "84147b01",
   "metadata": {},
   "outputs": [
    {
     "data": {
      "text/plain": [
       "array([4, 5, 6, 7, 8])"
      ]
     },
     "execution_count": 183,
     "metadata": {},
     "output_type": "execute_result"
    }
   ],
   "source": [
    "a1[3:8] # index 3 included while index 8 is not included"
   ]
  },
  {
   "cell_type": "code",
   "execution_count": 184,
   "id": "4912b150",
   "metadata": {},
   "outputs": [
    {
     "data": {
      "text/plain": [
       "array([4, 6, 8])"
      ]
     },
     "execution_count": 184,
     "metadata": {},
     "output_type": "execute_result"
    }
   ],
   "source": [
    "a1[3 : 8 : 2] # index 3 included while index 8 is not included and step of 2 is taken"
   ]
  },
  {
   "cell_type": "code",
   "execution_count": 185,
   "id": "a111fd54",
   "metadata": {},
   "outputs": [
    {
     "data": {
      "text/plain": [
       "array([1, 3, 5, 7, 9])"
      ]
     },
     "execution_count": 185,
     "metadata": {},
     "output_type": "execute_result"
    }
   ],
   "source": [
    "a1[ : : 2]"
   ]
  },
  {
   "cell_type": "code",
   "execution_count": 186,
   "id": "1e540a8e",
   "metadata": {},
   "outputs": [
    {
     "data": {
      "text/plain": [
       "array([9, 8, 7, 6, 5, 4, 3, 2, 1])"
      ]
     },
     "execution_count": 186,
     "metadata": {},
     "output_type": "execute_result"
    }
   ],
   "source": [
    "a1[ : : -1]"
   ]
  },
  {
   "cell_type": "code",
   "execution_count": 187,
   "id": "1cb867bb",
   "metadata": {},
   "outputs": [
    {
     "data": {
      "text/plain": [
       "array([9, 7, 5, 3, 1])"
      ]
     },
     "execution_count": 187,
     "metadata": {},
     "output_type": "execute_result"
    }
   ],
   "source": [
    "a1[ : : -2]"
   ]
  },
  {
   "cell_type": "code",
   "execution_count": 188,
   "id": "2d4950fc",
   "metadata": {},
   "outputs": [
    {
     "data": {
      "text/plain": [
       "array([9, 8, 7, 6, 5, 4, 3, 2])"
      ]
     },
     "execution_count": 188,
     "metadata": {},
     "output_type": "execute_result"
    }
   ],
   "source": [
    "a1[9 : 0 : -1]"
   ]
  },
  {
   "cell_type": "code",
   "execution_count": 189,
   "id": "300def9b",
   "metadata": {},
   "outputs": [
    {
     "data": {
      "text/plain": [
       "array([6, 7, 8, 9])"
      ]
     },
     "execution_count": 189,
     "metadata": {},
     "output_type": "execute_result"
    }
   ],
   "source": [
    "a1[5 : ]"
   ]
  },
  {
   "cell_type": "code",
   "execution_count": 190,
   "id": "1bc9db6d",
   "metadata": {},
   "outputs": [
    {
     "data": {
      "text/plain": [
       "array([1, 2, 3, 4, 5])"
      ]
     },
     "execution_count": 190,
     "metadata": {},
     "output_type": "execute_result"
    }
   ],
   "source": [
    "a1[ : 5]"
   ]
  },
  {
   "cell_type": "code",
   "execution_count": 192,
   "id": "ca14e8a8",
   "metadata": {},
   "outputs": [
    {
     "data": {
      "text/plain": [
       "array([[ 0,  1,  2,  3],\n",
       "       [ 4,  5,  6,  7],\n",
       "       [ 8,  9, 10, 11],\n",
       "       [12, 13, 14, 15],\n",
       "       [16, 17, 18, 19]])"
      ]
     },
     "execution_count": 192,
     "metadata": {},
     "output_type": "execute_result"
    }
   ],
   "source": [
    "m = np.arange(0, 20).reshape(5, 4)\n",
    "m"
   ]
  },
  {
   "cell_type": "code",
   "execution_count": 193,
   "id": "c238f4b3",
   "metadata": {},
   "outputs": [
    {
     "data": {
      "text/plain": [
       "array([ 1,  5,  9, 13, 17])"
      ]
     },
     "execution_count": 193,
     "metadata": {},
     "output_type": "execute_result"
    }
   ],
   "source": [
    "m[:, 1]"
   ]
  },
  {
   "cell_type": "code",
   "execution_count": 194,
   "id": "7c2a76f6",
   "metadata": {},
   "outputs": [
    {
     "data": {
      "text/plain": [
       "array([[ 1,  2],\n",
       "       [ 5,  6],\n",
       "       [ 9, 10],\n",
       "       [13, 14],\n",
       "       [17, 18]])"
      ]
     },
     "execution_count": 194,
     "metadata": {},
     "output_type": "execute_result"
    }
   ],
   "source": [
    "m[:, 1:3]"
   ]
  },
  {
   "cell_type": "code",
   "execution_count": 202,
   "id": "690244c5",
   "metadata": {},
   "outputs": [
    {
     "data": {
      "text/plain": [
       "array([[12, 13, 14, 15],\n",
       "       [16, 17, 18, 19]])"
      ]
     },
     "execution_count": 202,
     "metadata": {},
     "output_type": "execute_result"
    }
   ],
   "source": [
    "m[3 : 5, :]"
   ]
  },
  {
   "cell_type": "code",
   "execution_count": 203,
   "id": "946e9413",
   "metadata": {},
   "outputs": [
    {
     "data": {
      "text/plain": [
       "array([[13, 14],\n",
       "       [17, 18]])"
      ]
     },
     "execution_count": 203,
     "metadata": {},
     "output_type": "execute_result"
    }
   ],
   "source": [
    "m[3:5, 1:3]"
   ]
  },
  {
   "cell_type": "code",
   "execution_count": 204,
   "id": "29ebd109",
   "metadata": {},
   "outputs": [
    {
     "data": {
      "text/plain": [
       "array([[ 4,  5,  6,  7],\n",
       "       [12, 13, 14, 15],\n",
       "       [16, 17, 18, 19]])"
      ]
     },
     "execution_count": 204,
     "metadata": {},
     "output_type": "execute_result"
    }
   ],
   "source": [
    "m[[1, 3, 4], :]"
   ]
  },
  {
   "cell_type": "code",
   "execution_count": 205,
   "id": "96a5f70f",
   "metadata": {},
   "outputs": [
    {
     "data": {
      "text/plain": [
       "array([0, 1, 2, 3, 4, 5, 6, 7, 8])"
      ]
     },
     "execution_count": 205,
     "metadata": {},
     "output_type": "execute_result"
    }
   ],
   "source": [
    "a = np.arange(0, 9)\n",
    "a"
   ]
  },
  {
   "cell_type": "code",
   "execution_count": 206,
   "id": "381a88a6",
   "metadata": {},
   "outputs": [
    {
     "data": {
      "text/plain": [
       "array([[0, 1, 2],\n",
       "       [3, 4, 5],\n",
       "       [6, 7, 8]])"
      ]
     },
     "execution_count": 206,
     "metadata": {},
     "output_type": "execute_result"
    }
   ],
   "source": [
    "m = a.reshape(3, 3)\n",
    "m"
   ]
  },
  {
   "cell_type": "code",
   "execution_count": 207,
   "id": "c5ce8285",
   "metadata": {},
   "outputs": [
    {
     "data": {
      "text/plain": [
       "array([0, 1, 2, 3, 4, 5, 6, 7, 8])"
      ]
     },
     "execution_count": 207,
     "metadata": {},
     "output_type": "execute_result"
    }
   ],
   "source": [
    "reshapped = m.reshape(9)\n",
    "reshapped"
   ]
  },
  {
   "cell_type": "code",
   "execution_count": 208,
   "id": "a9cb48c4",
   "metadata": {},
   "outputs": [
    {
     "data": {
      "text/plain": [
       "array([ True,  True,  True,  True,  True,  True,  True,  True,  True])"
      ]
     },
     "execution_count": 208,
     "metadata": {},
     "output_type": "execute_result"
    }
   ],
   "source": [
    "a == reshapped"
   ]
  },
  {
   "cell_type": "code",
   "execution_count": 4,
   "id": "db74388d",
   "metadata": {},
   "outputs": [
    {
     "data": {
      "text/plain": [
       "array([[1., 1., 1., 1., 1.],\n",
       "       [1., 1., 1., 1., 1.],\n",
       "       [1., 1., 1., 1., 1.],\n",
       "       [1., 1., 1., 1., 1.],\n",
       "       [1., 1., 1., 1., 1.]])"
      ]
     },
     "execution_count": 4,
     "metadata": {},
     "output_type": "execute_result"
    }
   ],
   "source": [
    "import numpy as np\n",
    "np.ones((5,5))"
   ]
  },
  {
   "cell_type": "code",
   "execution_count": 6,
   "id": "34bc1925",
   "metadata": {},
   "outputs": [
    {
     "data": {
      "text/plain": [
       "array([[0., 0., 0., 0., 0.],\n",
       "       [0., 0., 0., 0., 0.],\n",
       "       [0., 0., 0., 0., 0.],\n",
       "       [0., 0., 0., 0., 0.],\n",
       "       [0., 0., 0., 0., 0.]])"
      ]
     },
     "execution_count": 6,
     "metadata": {},
     "output_type": "execute_result"
    }
   ],
   "source": [
    "np.zeros((5,5))"
   ]
  },
  {
   "cell_type": "code",
   "execution_count": 7,
   "id": "90e4cb96",
   "metadata": {},
   "outputs": [
    {
     "data": {
      "text/plain": [
       "array([[10., 10., 10., 10., 10.],\n",
       "       [10., 10., 10., 10., 10.],\n",
       "       [10., 10., 10., 10., 10.],\n",
       "       [10., 10., 10., 10., 10.],\n",
       "       [10., 10., 10., 10., 10.]])"
      ]
     },
     "execution_count": 7,
     "metadata": {},
     "output_type": "execute_result"
    }
   ],
   "source": [
    "np.ones((5,5))*10"
   ]
  },
  {
   "cell_type": "code",
   "execution_count": 10,
   "id": "c791ce8c",
   "metadata": {},
   "outputs": [
    {
     "data": {
      "text/plain": [
       "array([[1., 0., 0., 0., 0., 0.],\n",
       "       [0., 1., 0., 0., 0., 0.],\n",
       "       [0., 0., 1., 0., 0., 0.],\n",
       "       [0., 0., 0., 1., 0., 0.],\n",
       "       [0., 0., 0., 0., 1., 0.],\n",
       "       [0., 0., 0., 0., 0., 1.]])"
      ]
     },
     "execution_count": 10,
     "metadata": {},
     "output_type": "execute_result"
    }
   ],
   "source": [
    "np.identity(6)"
   ]
  },
  {
   "cell_type": "code",
   "execution_count": 11,
   "id": "2509e170",
   "metadata": {},
   "outputs": [
    {
     "data": {
      "text/plain": [
       "array([0., 0., 0., 0., 0., 0., 0., 0., 0., 0.])"
      ]
     },
     "execution_count": 11,
     "metadata": {},
     "output_type": "execute_result"
    }
   ],
   "source": [
    " np.zeros(10)"
   ]
  },
  {
   "cell_type": "code",
   "execution_count": 12,
   "id": "6be72433",
   "metadata": {},
   "outputs": [
    {
     "data": {
      "text/plain": [
       "array([0., 0., 0., 0., 0., 0., 0., 0., 0., 0.])"
      ]
     },
     "execution_count": 12,
     "metadata": {},
     "output_type": "execute_result"
    }
   ],
   "source": [
    " np.zeros((10))"
   ]
  },
  {
   "cell_type": "code",
   "execution_count": null,
   "id": "ee92cd7e",
   "metadata": {},
   "outputs": [],
   "source": []
  }
 ],
 "metadata": {
  "kernelspec": {
   "display_name": "Python 3 (ipykernel)",
   "language": "python",
   "name": "python3"
  },
  "language_info": {
   "codemirror_mode": {
    "name": "ipython",
    "version": 3
   },
   "file_extension": ".py",
   "mimetype": "text/x-python",
   "name": "python",
   "nbconvert_exporter": "python",
   "pygments_lexer": "ipython3",
   "version": "3.9.12"
  }
 },
 "nbformat": 4,
 "nbformat_minor": 5
}
