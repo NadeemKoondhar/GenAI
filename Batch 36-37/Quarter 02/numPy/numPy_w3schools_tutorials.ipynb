{
 "cells": [
  {
   "cell_type": "code",
   "execution_count": 5,
   "id": "79c0952f",
   "metadata": {},
   "outputs": [],
   "source": [
    "import numpy as np"
   ]
  },
  {
   "cell_type": "code",
   "execution_count": 6,
   "id": "6cc0de97",
   "metadata": {},
   "outputs": [],
   "source": [
    "array = numpy.array([1, 2, 3, 4, 5])"
   ]
  },
  {
   "cell_type": "code",
   "execution_count": 7,
   "id": "145aeb7b",
   "metadata": {},
   "outputs": [
    {
     "data": {
      "text/plain": [
       "array([1, 2, 3, 4, 5])"
      ]
     },
     "execution_count": 7,
     "metadata": {},
     "output_type": "execute_result"
    }
   ],
   "source": [
    "array"
   ]
  },
  {
   "cell_type": "code",
   "execution_count": 8,
   "id": "10fca75f",
   "metadata": {},
   "outputs": [
    {
     "name": "stdout",
     "output_type": "stream",
     "text": [
      "[1 2 3 4 5]\n"
     ]
    }
   ],
   "source": [
    "print(array)"
   ]
  },
  {
   "cell_type": "code",
   "execution_count": 9,
   "id": "b1db62a0",
   "metadata": {},
   "outputs": [],
   "source": [
    "import numpy as np"
   ]
  },
  {
   "cell_type": "code",
   "execution_count": 10,
   "id": "8ec454a9",
   "metadata": {},
   "outputs": [
    {
     "name": "stdout",
     "output_type": "stream",
     "text": [
      "[2 3 4 5 6]\n"
     ]
    }
   ],
   "source": [
    "array = np.array([2, 3, 4, 5, 6])\n",
    "print(array)"
   ]
  },
  {
   "cell_type": "code",
   "execution_count": 11,
   "id": "065dae8d",
   "metadata": {},
   "outputs": [
    {
     "name": "stdout",
     "output_type": "stream",
     "text": [
      "1.22.4\n"
     ]
    }
   ],
   "source": [
    "print(np.__version__)"
   ]
  },
  {
   "cell_type": "code",
   "execution_count": 12,
   "id": "5975af19",
   "metadata": {},
   "outputs": [
    {
     "name": "stdout",
     "output_type": "stream",
     "text": [
      "<class 'numpy.ndarray'>\n"
     ]
    }
   ],
   "source": [
    "print(type(array))"
   ]
  },
  {
   "cell_type": "code",
   "execution_count": 13,
   "id": "bfd26881",
   "metadata": {},
   "outputs": [
    {
     "name": "stdout",
     "output_type": "stream",
     "text": [
      "[ 1  3  5  7  9 11]\n",
      "<class 'numpy.ndarray'>\n"
     ]
    }
   ],
   "source": [
    "tup_array = np.array((1, 3, 5, 7, 9, 11))\n",
    "print(tup_array)\n",
    "print(type(tup_array))"
   ]
  },
  {
   "cell_type": "code",
   "execution_count": 14,
   "id": "5ca912f8",
   "metadata": {},
   "outputs": [
    {
     "name": "stdout",
     "output_type": "stream",
     "text": [
      "[[1 2 3]\n",
      " [4 5 6]]\n"
     ]
    }
   ],
   "source": [
    "arr = np.array([[1, 2, 3], [4, 5, 6]])\n",
    "\n",
    "print(arr)"
   ]
  },
  {
   "cell_type": "markdown",
   "id": "6ad27bff",
   "metadata": {},
   "source": [
    "# 04 Create a NumPy ndarray Object"
   ]
  },
  {
   "cell_type": "code",
   "execution_count": 15,
   "id": "679b06b8",
   "metadata": {},
   "outputs": [
    {
     "name": "stdout",
     "output_type": "stream",
     "text": [
      "[[1 2 3]\n",
      " [4 5 6]]\n"
     ]
    }
   ],
   "source": [
    "# 2-D Create a 2-D array containing two arrays with the values 1,2,3 and 4,5,6:\n",
    "\n",
    "import numpy as np\n",
    "\n",
    "array_2D = np.array([[1, 2, 3], [4, 5, 6]])\n",
    "\n",
    "print(array_2D)"
   ]
  },
  {
   "cell_type": "code",
   "execution_count": 16,
   "id": "1df5dd1c",
   "metadata": {},
   "outputs": [
    {
     "name": "stdout",
     "output_type": "stream",
     "text": [
      "2\n"
     ]
    }
   ],
   "source": [
    "print(array_2D.ndim)"
   ]
  },
  {
   "cell_type": "code",
   "execution_count": 20,
   "id": "4561f33d",
   "metadata": {},
   "outputs": [
    {
     "name": "stdout",
     "output_type": "stream",
     "text": [
      "[[[[1 2 3]]]\n",
      "\n",
      "\n",
      " [[[4 5 6]]]\n",
      "\n",
      "\n",
      " [[[6 2 3]]]\n",
      "\n",
      "\n",
      " [[[4 8 6]]]]\n",
      "4\n"
     ]
    }
   ],
   "source": [
    "array_4D = np.array([\n",
    "        [\n",
    "            [\n",
    "                [1, 2, 3]\n",
    "            ]\n",
    "        ],\n",
    "        [\n",
    "            [\n",
    "                [4, 5, 6]\n",
    "            ]\n",
    "        ], \n",
    "        [\n",
    "            [\n",
    "                [6, 2, 3]\n",
    "            ]\n",
    "        ], \n",
    "        [\n",
    "            [\n",
    "                [4, 8, 6]\n",
    "            ]\n",
    "        ]\n",
    "])\n",
    "\n",
    "print(array_4D)\n",
    "\n",
    "print(array_4D.ndim)"
   ]
  },
  {
   "cell_type": "code",
   "execution_count": 21,
   "id": "8d813a29",
   "metadata": {},
   "outputs": [
    {
     "name": "stdout",
     "output_type": "stream",
     "text": [
      "0\n",
      "1\n",
      "2\n",
      "3\n"
     ]
    }
   ],
   "source": [
    "a = np.array(42)\n",
    "b = np.array([1, 2, 3, 4, 5])\n",
    "c = np.array([[1, 2, 3], [4, 5, 6]])\n",
    "d = np.array([[[1, 2, 3], [4, 5, 6]], [[1, 2, 3], [4, 5, 6]]])\n",
    "\n",
    "print(a.ndim)\n",
    "print(b.ndim)\n",
    "print(c.ndim)\n",
    "print(d.ndim)"
   ]
  },
  {
   "cell_type": "code",
   "execution_count": 22,
   "id": "590b621e",
   "metadata": {},
   "outputs": [
    {
     "name": "stdout",
     "output_type": "stream",
     "text": [
      "3\n"
     ]
    }
   ],
   "source": [
    "e = np.array([\n",
    "    [\n",
    "        [1, 2, 3],\n",
    "        [4, 5, 6]\n",
    "    ],\n",
    "    [\n",
    "        [1, 2, 3],\n",
    "        [4, 5, 6]\n",
    "    ],\n",
    "    [\n",
    "        [9, 2, 3],\n",
    "        [8, 5, 6]\n",
    "    ],\n",
    "    [\n",
    "        [7, 2, 3],\n",
    "        [6, 5, 6]\n",
    "    ]\n",
    "])\n",
    "\n",
    "print(e.ndim)"
   ]
  },
  {
   "cell_type": "code",
   "execution_count": 24,
   "id": "81cc340e",
   "metadata": {},
   "outputs": [
    {
     "name": "stdout",
     "output_type": "stream",
     "text": [
      "[[[[[1 2 3 4]]]]]\n",
      "\n",
      " The dimensions of array_5D are 5\n"
     ]
    }
   ],
   "source": [
    "import numpy as np\n",
    "\n",
    "array_5D = np.array([1, 2, 3, 4], ndmin = 5)\n",
    "\n",
    "print(array_5D)\n",
    "print(\"\\n The dimensions of array_5D are \" + str(array_5D.ndim))"
   ]
  },
  {
   "cell_type": "code",
   "execution_count": 25,
   "id": "9d5e4f80",
   "metadata": {},
   "outputs": [
    {
     "name": "stdout",
     "output_type": "stream",
     "text": [
      "1\n"
     ]
    }
   ],
   "source": [
    "array_1D = np.array([1, 2, 3, 4])\n",
    "\n",
    "print(array_1D[3] - array_1D[2])"
   ]
  },
  {
   "cell_type": "code",
   "execution_count": 26,
   "id": "28f01fb7",
   "metadata": {},
   "outputs": [
    {
     "name": "stdout",
     "output_type": "stream",
     "text": [
      "[[1 2 3 4]\n",
      " [3 5 6 8]]\n",
      "\n",
      "3rd element of the 2nd row is \"6\".\n"
     ]
    }
   ],
   "source": [
    "b = np.array([\n",
    "    [1, 2, 3, 4],\n",
    "    [3, 5, 6, 8]\n",
    "])\n",
    "\n",
    "print(b)\n",
    "print(f\"\\n3rd element of the 2nd row is \\\"{b[1, 2]}\\\".\")"
   ]
  },
  {
   "cell_type": "code",
   "execution_count": 27,
   "id": "236e7862",
   "metadata": {},
   "outputs": [
    {
     "name": "stdout",
     "output_type": "stream",
     "text": [
      "[[[ 1  2  3]\n",
      "  [ 4  5  6]]\n",
      "\n",
      " [[ 7  8  9]\n",
      "  [10 11 12]]]\n",
      "\n",
      "third element of the second array of the first array is \"6\".\n"
     ]
    }
   ],
   "source": [
    "c = np.array([\n",
    "    [\n",
    "        [1, 2, 3], [4, 5, 6]\n",
    "    ], \n",
    "    [\n",
    "        [7, 8, 9], [10, 11, 12]\n",
    "    ]\n",
    "])\n",
    "\n",
    "print(c)\n",
    "print(f\"\\nthird element of the second array of the first array is \\\"{c[0, 1, 2]}\\\".\")"
   ]
  },
  {
   "cell_type": "code",
   "execution_count": 28,
   "id": "70d7fd1c",
   "metadata": {},
   "outputs": [
    {
     "name": "stdout",
     "output_type": "stream",
     "text": [
      "Last element from 2nd dim:  10\n"
     ]
    }
   ],
   "source": [
    "arr = np.array([[1,2,3,4,5], [6,7,8,9,10]])\n",
    "\n",
    "print('Last element from 2nd dim: ', arr[1, -1])"
   ]
  },
  {
   "cell_type": "code",
   "execution_count": null,
   "id": "5165afc7",
   "metadata": {},
   "outputs": [],
   "source": []
  },
  {
   "cell_type": "code",
   "execution_count": null,
   "metadata": {},
   "outputs": [],
   "source": []
  },
  {
   "cell_type": "code",
   "execution_count": null,
   "metadata": {},
   "outputs": [],
   "source": []
  }
 ],
 "metadata": {
  "kernelspec": {
   "display_name": "Python 3 (ipykernel)",
   "language": "python",
   "name": "python3"
  },
  "language_info": {
   "codemirror_mode": {
    "name": "ipython",
    "version": 3
   },
   "file_extension": ".py",
   "mimetype": "text/x-python",
   "name": "python",
   "nbconvert_exporter": "python",
   "pygments_lexer": "ipython3",
   "version": "3.9.12"
  }
 },
 "nbformat": 4,
 "nbformat_minor": 5
}
