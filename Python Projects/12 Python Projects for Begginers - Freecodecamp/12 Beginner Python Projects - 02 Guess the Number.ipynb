{
 "cells": [
  {
   "cell_type": "code",
   "execution_count": null,
   "id": "2fd1243b",
   "metadata": {
    "scrolled": true
   },
   "outputs": [],
   "source": [
    "import random\n",
    "\n",
    "def guess(x):\n",
    "    random_number = random.randint(1, x)\n",
    "    guess = 0\n",
    "    while guess != random_number:\n",
    "        guess = int(input(f\"Guess a number between 1 and {x} \"))\n",
    "        if guess < random_number:\n",
    "            print(f\"Sorry! guess again, {guess} is too low\")\n",
    "        elif guess > random_number:\n",
    "            print(f\"Sorry! guess again, {guess} is too high\")\n",
    "    \n",
    "    print(f\"Yeh! Congrats. You did it. {random_number} is the right number to be guessed\")\n",
    "            "
   ]
  },
  {
   "cell_type": "code",
   "execution_count": null,
   "id": "94256183",
   "metadata": {},
   "outputs": [],
   "source": []
  },
  {
   "cell_type": "code",
   "execution_count": 4,
   "id": "128b3817",
   "metadata": {},
   "outputs": [
    {
     "name": "stdout",
     "output_type": "stream",
     "text": [
      "Guess a number between 1 and 5 1\n",
      "1\n",
      "Guess a number between 1 and 5 2\n",
      "2\n",
      "Guess a number between 1 and 5 3\n",
      "3\n"
     ]
    }
   ],
   "source": [
    "guess(5)"
   ]
  },
  {
   "cell_type": "code",
   "execution_count": 7,
   "id": "555d4a9f",
   "metadata": {},
   "outputs": [
    {
     "name": "stdout",
     "output_type": "stream",
     "text": [
      "Guess a number between 1 and 10 1\n",
      "1\n",
      "Guess a number between 1 and 10 2\n",
      "2\n"
     ]
    }
   ],
   "source": [
    "guess(10)"
   ]
  },
  {
   "cell_type": "code",
   "execution_count": 12,
   "id": "21efaa4c",
   "metadata": {},
   "outputs": [],
   "source": [
    "def guess_num(x):\n",
    "    \n",
    "    random_number = random.randint(1, x)\n",
    "    guess = 0\n",
    "    \n",
    "    while guess != random_number:\n",
    "        guess = int(input(f\"Guess a number between 1 and {x} \"))\n",
    "    \n",
    "        if guess < random_number:\n",
    "            if guess < random_number / 2:\n",
    "                print(f\"Sorry! guess again, {guess} is too low\")\n",
    "            else:\n",
    "                print(f\"Sorry! guess again, {guess} is a little low\")\n",
    "        elif guess > random_number:\n",
    "            if guess > random_number * 2:\n",
    "                print(f\"Sorry! guess again, {guess} is too high\")\n",
    "            else:\n",
    "                print(f\"Sorry! guess again, {guess} is a little high\")\n",
    "    \n",
    "    print(f\"Yeh! Congrats. You did it. {random_number} is the right number to be guessed\")\n",
    "            "
   ]
  },
  {
   "cell_type": "code",
   "execution_count": 13,
   "id": "dd07adbb",
   "metadata": {},
   "outputs": [
    {
     "name": "stdout",
     "output_type": "stream",
     "text": [
      "Guess a number between 1 and 10 1\n",
      "Sorry! guess again, 1 is too low\n",
      "Guess a number between 1 and 10 6\n",
      "Sorry! guess again, 6 is a little low\n",
      "Guess a number between 1 and 10 7\n",
      "Sorry! guess again, 7 is a little low\n",
      "Guess a number between 1 and 10 8\n",
      "Sorry! guess again, 8 is a little low\n",
      "Guess a number between 1 and 10 9\n",
      "Sorry! guess again, 9 is a little low\n",
      "Guess a number between 1 and 10 10\n",
      "Yeh! Congrats. You did it. 10 is the right number to be guessed\n"
     ]
    }
   ],
   "source": [
    "guess_num(10)"
   ]
  }
 ],
 "metadata": {
  "kernelspec": {
   "display_name": "Python 3 (ipykernel)",
   "language": "python",
   "name": "python3"
  },
  "language_info": {
   "codemirror_mode": {
    "name": "ipython",
    "version": 3
   },
   "file_extension": ".py",
   "mimetype": "text/x-python",
   "name": "python",
   "nbconvert_exporter": "python",
   "pygments_lexer": "ipython3",
   "version": "3.9.12"
  }
 },
 "nbformat": 4,
 "nbformat_minor": 5
}
