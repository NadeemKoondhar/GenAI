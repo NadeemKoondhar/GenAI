{
 "cells": [
  {
   "cell_type": "code",
   "execution_count": 4,
   "id": "96f60021",
   "metadata": {},
   "outputs": [
    {
     "name": "stdout",
     "output_type": "stream",
     "text": [
      "Adjective: Amzaing\n",
      "Verb: Skydive\n",
      "Verb: Jump\n",
      "Famous Person: Captain America\n",
      "computer programming is so Amzaing! it makes me so excited all the time because \n",
      " I love to Skydive. Stay hydrated and Jump like you are Captain America\n"
     ]
    }
   ],
   "source": [
    "adj = input(\"Adjective: \")\n",
    "verb1 = input(\"Verb: \")\n",
    "verb2 = input(\"Verb: \")\n",
    "famous_person = input(\"Famous Person: \")\n",
    "\n",
    "madlib = f\"computer programming is so {adj}! it makes me so excited all the time because \\nI love to {verb1}. Stay hydrated and {verb2} like you are {famous_person}!\"\n",
    "\n",
    "print(madlib)"
   ]
  },
  {
   "cell_type": "code",
   "execution_count": 8,
   "id": "3baf7477",
   "metadata": {},
   "outputs": [],
   "source": [
    "def madlib():\n",
    "    adj1 = input(\"Adjective 1: \")\n",
    "    body_part = input(\"Body Part: \")\n",
    "    noun_plural_1 = input(\"Noun (plural 1): \")\n",
    "    verb = input(\"Verb: \")\n",
    "    adj2 = input(\"Adjective 2: \")\n",
    "    noun1 = input(\"Noun 1: \")\n",
    "    noun_plural_2 = input(\"Noun (plural 2): \")\n",
    "    adj3 = input(\"Adjective 3: \")\n",
    "    noun2 = input(\"Noun 2: \")\n",
    "    adj4 = input(\"Adjective 4: \")\n",
    "    adj5 = input(\"Adjective 5: \")\n",
    "\n",
    "    madlib = f\"I love computer programming because it's {adj1}! The journey to becoming a \\\n",
    "good programmer starts with hope in your mind and a dream in your {body_part}. Through blood, \\\n",
    "sweat, and {noun_plural_1}, hopefully it never ends. Yes, once you learn to {verb}, it becomes \\\n",
    "a part of your life identity and you can become a super {adj2} hacker. Knowledge of programming \\\n",
    "lets you take control of your {noun1}. You can create your own personal {noun_plural_2}, anything \\\n",
    "from developing {adj3} software to analyzing data and making predictions about the {noun2}. You can \\\n",
    "maybe even recreate Jarvis and make him extra {adj4}. I hope you'll start your {adj5} journey by \\\n",
    "coding with Nadeem:)\"\n",
    "    \n",
    "    print(madlib)"
   ]
  },
  {
   "cell_type": "code",
   "execution_count": 9,
   "id": "9d628209",
   "metadata": {},
   "outputs": [
    {
     "name": "stdout",
     "output_type": "stream",
     "text": [
      "Adjective 1: Excitting\n",
      "Body Part: Eyes\n",
      "Noun (plural 1): sleeplessness\n",
      "Verb: programming\n",
      "Adjective 2: powered\n",
      "Noun 1: wishes\n",
      "Noun (plural 2): games\n",
      "Adjective 3: long\n",
      "Noun 2: sleepy\n",
      "Adjective 4: dfdfdf\n",
      "Adjective 5: dfddf\n",
      "I love computer programming because it's Excitting! The journey to becoming a good programmer starts with hope in your mind and a dream in your Eyes. Through blood, sweat, and sleeplessness, hopefully it never ends. Yes, once you learn to programming, it becomes a part of your life identity and you can become a super powered hacker. Knowledge of programming lets you take control of your wishes. You can create your own personal games, anything from developing long software to analyzing data and making predictions about the sleepy. You can maybe even recreate Jarvis and make him extra dfdfdf. I hope you'll start your dfddf journey by coding with Nadeem:)\n"
     ]
    }
   ],
   "source": [
    "madlib()"
   ]
  },
  {
   "cell_type": "code",
   "execution_count": null,
   "id": "5b1d20dc",
   "metadata": {},
   "outputs": [],
   "source": [
    "from sample_madlibs import hp, code, zombie, hungergames\n",
    "import random\n",
    "\n",
    "if __name__ == \"__main__\":\n",
    "    m = random.choice([hp, code, zombie, hungergames])\n",
    "    m.madlib()"
   ]
  },
  {
   "cell_type": "code",
   "execution_count": null,
   "id": "99060343",
   "metadata": {},
   "outputs": [],
   "source": [
    "import random\n",
    "\n",
    "def guess(x):\n",
    "    random_number = random.randint(1, x)\n",
    "    guess = 0\n",
    "    while guess != random_number:\n",
    "        guess = int(input(f\"Guess a number between 1 and {x} \"))\n",
    "        print(guess)\n",
    "\n",
    "guess(10)"
   ]
  }
 ],
 "metadata": {
  "kernelspec": {
   "display_name": "Python 3 (ipykernel)",
   "language": "python",
   "name": "python3"
  },
  "language_info": {
   "codemirror_mode": {
    "name": "ipython",
    "version": 3
   },
   "file_extension": ".py",
   "mimetype": "text/x-python",
   "name": "python",
   "nbconvert_exporter": "python",
   "pygments_lexer": "ipython3",
   "version": "3.9.12"
  }
 },
 "nbformat": 4,
 "nbformat_minor": 5
}
