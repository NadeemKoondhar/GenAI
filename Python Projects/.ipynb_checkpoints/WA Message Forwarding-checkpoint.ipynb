{
 "cells": [
  {
   "cell_type": "code",
   "execution_count": 47,
   "id": "0e787640",
   "metadata": {},
   "outputs": [],
   "source": [
    "# Import the relevant Modules & setting up"
   ]
  },
  {
   "cell_type": "code",
   "execution_count": 1,
   "id": "e51ae21d",
   "metadata": {},
   "outputs": [],
   "source": [
    "import pyautogui as pg"
   ]
  },
  {
   "cell_type": "code",
   "execution_count": 2,
   "id": "66d54e1e",
   "metadata": {},
   "outputs": [],
   "source": [
    "import time"
   ]
  },
  {
   "cell_type": "code",
   "execution_count": 3,
   "id": "0742540e",
   "metadata": {},
   "outputs": [],
   "source": [
    "pg.FAILSAFE = True\n",
    "\n",
    "pg.moveTo()"
   ]
  },
  {
   "cell_type": "code",
   "execution_count": 34,
   "id": "b9459e9b",
   "metadata": {},
   "outputs": [],
   "source": [
    "import pandas as pd\n",
    "\n",
    "df = pd.read_csv('KGT Tanzeem Contact List.csv')\n",
    "\n",
    "list_fwd_message = [list(row) for row in df.values]"
   ]
  },
  {
   "cell_type": "code",
   "execution_count": 35,
   "id": "5f73de9b",
   "metadata": {},
   "outputs": [
    {
     "name": "stdout",
     "output_type": "stream",
     "text": [
      "KGH Sabir Mirza\n",
      "KGH Tauheed Khan\n",
      "KGH Eesaar Ahmed\n",
      "KGH Hafiz Jehanzeb Tahir\n",
      "KGH Abdul Qadeer\n",
      "----------\n",
      "KGH Ahmed Ali\n",
      "KGH Dr Syed Waqas Ali\n",
      "KGH Furqan Fareed\n",
      "KGH Ghulam Hussain\n",
      "KGH Hafiz Muaaz Tahir\n",
      "----------\n",
      "KGH Hafiz Muhammad Ahmed\n",
      "KGH Hamid Hussain\n",
      "KGH Hamza Qadeer\n",
      "KGH Hassaan ud Deen\n",
      "KGH Imran Ahmed\n",
      "----------\n",
      "KGH Imtiaz Ahmed Riaz\n",
      "KGH Kamran Shah\n",
      "KGH Kashif Ahmed\n",
      "KGH Mazhar Shahzad\n",
      "KGH M Ali ud Deen\n",
      "----------\n",
      "KGH Muhammad Arshad\n",
      "KGH M Farhan Siddiqui\n",
      "KGH M Imran Khan\n",
      "KGH M Ismail Mansoor\n",
      "KGH M Junaid Ali\n",
      "----------\n",
      "KGH Muhammad Nauman\n",
      "KGH Muhammad Usman\n",
      "KGH Muhammad Zaeem\n",
      "KGH Muhammad Zahid\n",
      "KGH Naeem Ud Deen\n",
      "----------\n",
      "KGH Nauman Naseer\n",
      "KGH Rafeeq Usman\n",
      "KGH Rameez Ahmed Khan\n",
      "KGH Saad Sabeeh ud Deen\n",
      "KGH Shabeer Ahmed\n",
      "----------\n",
      "KGH Tahir Saif ud Deen\n",
      "KGH Talha Ali\n",
      "KGH Abdul Khaliq\n",
      "KGH Altaf Hussain\n",
      "KGH Hassan Ahmed\n",
      "----------\n",
      "KGH Mazhar Ud Deen\n",
      "KGH M Abdul Raheem Saad\n",
      "KGH Muhammad Ashraf\n",
      "KGH M Farooq Yaseen\n",
      "KGH Muhammad Younus\n",
      "----------\n",
      "KGH Nauman Gul\n",
      "KGH Suhail Akram\n",
      "KGH Uzair Ahmed\n",
      "KGH Wajahat Alam\n",
      "KGH Zohaib Zafar\n",
      "----------\n"
     ]
    }
   ],
   "source": [
    "def convert_to_list_of_12_lists(list_fwd_message):\n",
    "    output_list = []\n",
    "    temp_list = []\n",
    "\n",
    "    for sublist in list_fwd_message:\n",
    "        temp_list.append(sublist[0])\n",
    "        \n",
    "        if len(temp_list) == 5:\n",
    "            output_list.append(temp_list)\n",
    "            temp_list = []\n",
    "\n",
    "    # If there are any remaining elements in temp_list, add them to output_list\n",
    "    if temp_list:\n",
    "        output_list.append(temp_list)\n",
    "\n",
    "    return output_list\n",
    "\n",
    "# Example usage:\n",
    "output_list = convert_to_list_of_12_lists(list_fwd_message)\n",
    "\n",
    "# Iterate through each list within the output_list and display all elements\n",
    "for sublist in output_list:\n",
    "    for element in sublist:\n",
    "        print(element)\n",
    "    print(\"-\" * 10)  # Separate each list with dashes for clarity\n"
   ]
  },
  {
   "cell_type": "markdown",
   "id": "828e872f",
   "metadata": {},
   "source": [
    "# Forwarding Message to 2 recipients at a time"
   ]
  },
  {
   "cell_type": "code",
   "execution_count": 25,
   "id": "80526db0",
   "metadata": {},
   "outputs": [
    {
     "name": "stdout",
     "output_type": "stream",
     "text": [
      "Point(x=1613, y=602)\n"
     ]
    }
   ],
   "source": [
    "print(pg.position())"
   ]
  },
  {
   "cell_type": "code",
   "execution_count": 38,
   "id": "735029be",
   "metadata": {},
   "outputs": [
    {
     "data": {
      "text/plain": [
       "'\\n        time.sleep(sleep_time)\\n        pg.moveTo(1673, 605)\\n        time.sleep(sleep_time)\\n        pg.click()\\n            \\n    time.sleep(sleep_time)\\n    pg.moveTo(1617, 540)\\n    time.sleep(sleep_time)\\n    pg.click()\\n    time.sleep(sleep_time)\\n    pg.moveTo(293, 389)\\n    time.sleep(sleep_time)\\n    pg.click()\\n\\n\\n\\n\\nfor name in list_fwd_message:\\n    for rafeeq in name:\\n\\n'"
      ]
     },
     "execution_count": 38,
     "metadata": {},
     "output_type": "execute_result"
    }
   ],
   "source": [
    "def convert_to_list_of_lists_5_elem(fwd_message_recipients):\n",
    "    output_list_ = []\n",
    "    temp_list_ = []\n",
    "\n",
    "    for sublist_ in fwd_message_recipients:\n",
    "        temp_list_.append(sublist_[0])\n",
    "        \n",
    "        if len(temp_list_) == 5:\n",
    "            output_list_.append(temp_list_)\n",
    "            temp_list_ = []\n",
    "\n",
    "    # If there are any remaining elements in temp_list, add them to output_list\n",
    "    if temp_list_:\n",
    "        output_list_.append(temp_list_)\n",
    "\n",
    "    return output_list_\n",
    "\n",
    "fwd_message_recipients = [\n",
    "    [\"KGH Mazhar Shahzad\"], [\"KGH M Ali ud Deen\"], [\"KGH Muhammad Arshad\"], [\"KGH M Farhan Siddiqui\"],\n",
    "    [\"KGH M Imran Khan\"], [\"KGH M Ismail Mansoor\"], [\"KGH M Junaid Ali\"], [\"KGH Muhammad Usman\"], [\"KGH Muhammad Zaeem\"],\n",
    "    [\"KGH Saad Sabeeh ud Deen\"], [\"KGH Rameez Ahmed Khan\"], [\"KGH Rafeeq Usman\"], [\"KGH Naeem Ud Deen\"], [\"KGH Muhammad Zahid\"],\n",
    "    [\"KGH M Abdul Raheem Saad\"], [\"KGH Mazhar Ud Deen\"], [\"KGH Hassan Ahmed\"], [\"KGH Altaf Hussain\"], [\"KGH Abdul Khaliq\"],\n",
    "    [\"KGH Zohaib Zafar\"], [\"KGH Wajahat Alam\"], [\"KGH Muhammad Younus\"], [\"KGH M Farooq Yaseen\"], [\"KGH Muhammad Ashraf\"]\n",
    "]\n",
    "output_list_ = convert_to_list_of_lists_5_elem(fwd_message_recipients)\n",
    "#print(output_list_)\n",
    "\n",
    "sleep_time = 1\n",
    "time.sleep(1)\n",
    "pg.hotkey('alt', 'tab')\n",
    "\n",
    "# Iterate through each list within the output_list and display all elements\n",
    "for sublist_index, sublist_ in enumerate(output_list_):\n",
    "    time.sleep(sleep_time)\n",
    "    pg.rightClick(1795, 890)\n",
    "    time.sleep(sleep_time)\n",
    "    pg.move(-60, -300)\n",
    "    time.sleep(sleep_time)\n",
    "    pg.doubleClick()\n",
    "    for recipient_index, recipient in enumerate(sublist_):\n",
    "        time.sleep(sleep_time+2)\n",
    "        pg.write(recipient, 0.1)\n",
    "        time.sleep(sleep_time)\n",
    "        \n",
    "        if recipient_index == 0:\n",
    "            time.sleep(sleep_time)\n",
    "            pg.moveTo(1673, 590)\n",
    "        elif recipient_index == 1:\n",
    "            time.sleep(sleep_time)\n",
    "            pg.moveTo(1673, 695)\n",
    "        else:\n",
    "            time.sleep(sleep_time)\n",
    "            pg.moveTo(1673, 826)\n",
    "            \n",
    "        time.sleep(sleep_time)\n",
    "        pg.click()\n",
    "    time.sleep(sleep_time)\n",
    "    pg.moveTo(1613, 602)\n",
    "    time.sleep(sleep_time)\n",
    "    pg.click()\n",
    "    "
   ]
  },
  {
   "cell_type": "code",
   "execution_count": 132,
   "id": "e0e84a21",
   "metadata": {},
   "outputs": [
    {
     "ename": "FailSafeException",
     "evalue": "PyAutoGUI fail-safe triggered from mouse moving to a corner of the screen. To disable this fail-safe, set pyautogui.FAILSAFE to False. DISABLING FAIL-SAFE IS NOT RECOMMENDED.",
     "output_type": "error",
     "traceback": [
      "\u001b[1;31m---------------------------------------------------------------------------\u001b[0m",
      "\u001b[1;31mFailSafeException\u001b[0m                         Traceback (most recent call last)",
      "Input \u001b[1;32mIn [132]\u001b[0m, in \u001b[0;36m<cell line: 4>\u001b[1;34m()\u001b[0m\n\u001b[0;32m     13\u001b[0m pg\u001b[38;5;241m.\u001b[39mwrite(rafeeq, \u001b[38;5;241m0.2\u001b[39m)\n\u001b[0;32m     14\u001b[0m time\u001b[38;5;241m.\u001b[39msleep(sleep_time)\n\u001b[1;32m---> 15\u001b[0m \u001b[43mpg\u001b[49m\u001b[38;5;241;43m.\u001b[39;49m\u001b[43mmoveTo\u001b[49m\u001b[43m(\u001b[49m\u001b[38;5;241;43m1673\u001b[39;49m\u001b[43m,\u001b[49m\u001b[43m \u001b[49m\u001b[38;5;241;43m590\u001b[39;49m\u001b[43m)\u001b[49m\n\u001b[0;32m     16\u001b[0m time\u001b[38;5;241m.\u001b[39msleep(sleep_time)\n\u001b[0;32m     17\u001b[0m pg\u001b[38;5;241m.\u001b[39mclick()\n",
      "File \u001b[1;32m~\\anaconda3\\lib\\site-packages\\pyautogui\\__init__.py:597\u001b[0m, in \u001b[0;36m_genericPyAutoGUIChecks.<locals>.wrapper\u001b[1;34m(*args, **kwargs)\u001b[0m\n\u001b[0;32m    595\u001b[0m \u001b[38;5;129m@functools\u001b[39m\u001b[38;5;241m.\u001b[39mwraps(wrappedFunction)\n\u001b[0;32m    596\u001b[0m \u001b[38;5;28;01mdef\u001b[39;00m \u001b[38;5;21mwrapper\u001b[39m(\u001b[38;5;241m*\u001b[39margs, \u001b[38;5;241m*\u001b[39m\u001b[38;5;241m*\u001b[39mkwargs):\n\u001b[1;32m--> 597\u001b[0m     \u001b[43mfailSafeCheck\u001b[49m\u001b[43m(\u001b[49m\u001b[43m)\u001b[49m\n\u001b[0;32m    598\u001b[0m     returnVal \u001b[38;5;241m=\u001b[39m wrappedFunction(\u001b[38;5;241m*\u001b[39margs, \u001b[38;5;241m*\u001b[39m\u001b[38;5;241m*\u001b[39mkwargs)\n\u001b[0;32m    599\u001b[0m     _handlePause(kwargs\u001b[38;5;241m.\u001b[39mget(\u001b[38;5;124m\"\u001b[39m\u001b[38;5;124m_pause\u001b[39m\u001b[38;5;124m\"\u001b[39m, \u001b[38;5;28;01mTrue\u001b[39;00m))\n",
      "File \u001b[1;32m~\\anaconda3\\lib\\site-packages\\pyautogui\\__init__.py:1722\u001b[0m, in \u001b[0;36mfailSafeCheck\u001b[1;34m()\u001b[0m\n\u001b[0;32m   1720\u001b[0m \u001b[38;5;28;01mdef\u001b[39;00m \u001b[38;5;21mfailSafeCheck\u001b[39m():\n\u001b[0;32m   1721\u001b[0m     \u001b[38;5;28;01mif\u001b[39;00m FAILSAFE \u001b[38;5;129;01mand\u001b[39;00m \u001b[38;5;28mtuple\u001b[39m(position()) \u001b[38;5;129;01min\u001b[39;00m FAILSAFE_POINTS:\n\u001b[1;32m-> 1722\u001b[0m         \u001b[38;5;28;01mraise\u001b[39;00m FailSafeException(\n\u001b[0;32m   1723\u001b[0m             \u001b[38;5;124m\"\u001b[39m\u001b[38;5;124mPyAutoGUI fail-safe triggered from mouse moving to a corner of the screen. To disable this fail-safe, set pyautogui.FAILSAFE to False. DISABLING FAIL-SAFE IS NOT RECOMMENDED.\u001b[39m\u001b[38;5;124m\"\u001b[39m\n\u001b[0;32m   1724\u001b[0m         )\n",
      "\u001b[1;31mFailSafeException\u001b[0m: PyAutoGUI fail-safe triggered from mouse moving to a corner of the screen. To disable this fail-safe, set pyautogui.FAILSAFE to False. DISABLING FAIL-SAFE IS NOT RECOMMENDED."
     ]
    }
   ],
   "source": [
    "sleep_time = 1\n",
    "time.sleep(1)\n",
    "pg.hotkey('alt', 'tab')\n",
    "for name in list_fwd_message:\n",
    "    for rafeeq in name:\n",
    "        time.sleep(sleep_time)\n",
    "        pg.rightClick(1795, 890)\n",
    "        time.sleep(sleep_time)\n",
    "        pg.move(-60, -300)\n",
    "        time.sleep(sleep_time)\n",
    "        pg.doubleClick()\n",
    "        time.sleep(sleep_time)\n",
    "        pg.write(rafeeq, 0.2)\n",
    "        time.sleep(sleep_time)\n",
    "        pg.moveTo(1673, 590)\n",
    "        time.sleep(sleep_time)\n",
    "        pg.click()\n",
    "        time.sleep(sleep_time)\n",
    "        pg.moveTo(1617, 540)\n",
    "        time.sleep(sleep_time)\n",
    "        pg.click()\n",
    "        time.sleep(sleep_time)\n",
    "        pg.moveTo(293, 389)\n",
    "        time.sleep(sleep_time)\n",
    "        pg.click()"
   ]
  },
  {
   "cell_type": "code",
   "execution_count": 125,
   "id": "369ce645",
   "metadata": {},
   "outputs": [
    {
     "data": {
      "text/plain": [
       "'time.sleep(sleep_time)\\npg.move(-60, -300)\\ntime.sleep(sleep_time)\\npg.doubleClick()\\nfor name in list_fwd_message:\\n    for rafeeq in name:\\n        time.sleep(sleep_time+2)\\n        pg.write(rafeeq, 1)\\n        time.sleep(sleep_time)\\n        pg.moveTo(1673, 590)\\n        time.sleep(sleep_time)\\n        pg.click()'"
      ]
     },
     "execution_count": 125,
     "metadata": {},
     "output_type": "execute_result"
    }
   ],
   "source": [
    "list_fwd_message = [[\"Dr Saima\"], [\"Nadeem Hussain\"]]\n",
    "sleep_time = 1\n",
    "time.sleep(1)\n",
    "pg.hotkey('alt', 'tab')\n",
    "time.sleep(sleep_time)\n",
    "pg.rightClick(1795, 890)\n",
    "time.sleep(sleep_time)\n",
    "pg.move(-60, -300)\n",
    "time.sleep(sleep_time)\n",
    "pg.doubleClick()\n",
    "for name in list_fwd_message:\n",
    "    for rafeeq in name:\n",
    "        time.sleep(sleep_time+2)\n",
    "        pg.write(rafeeq, 1)\n",
    "        time.sleep(sleep_time)\n",
    "        pg.moveTo(1673, 590)\n",
    "        time.sleep(sleep_time)\n",
    "        pg.click()"
   ]
  },
  {
   "cell_type": "code",
   "execution_count": 127,
   "id": "57705b85",
   "metadata": {},
   "outputs": [
    {
     "name": "stdout",
     "output_type": "stream",
     "text": [
      "Point(x=1592, y=591)\n"
     ]
    }
   ],
   "source": [
    "print(pg.position())"
   ]
  },
  {
   "cell_type": "code",
   "execution_count": null,
   "id": "e9aad398",
   "metadata": {},
   "outputs": [],
   "source": []
  }
 ],
 "metadata": {
  "kernelspec": {
   "display_name": "Python 3 (ipykernel)",
   "language": "python",
   "name": "python3"
  },
  "language_info": {
   "codemirror_mode": {
    "name": "ipython",
    "version": 3
   },
   "file_extension": ".py",
   "mimetype": "text/x-python",
   "name": "python",
   "nbconvert_exporter": "python",
   "pygments_lexer": "ipython3",
   "version": "3.9.12"
  }
 },
 "nbformat": 4,
 "nbformat_minor": 5
}
