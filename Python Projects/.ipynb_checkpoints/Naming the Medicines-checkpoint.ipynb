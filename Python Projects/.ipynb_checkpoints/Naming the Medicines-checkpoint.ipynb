{
 "cells": [
  {
   "cell_type": "code",
   "execution_count": null,
   "id": "0e787640",
   "metadata": {},
   "outputs": [],
   "source": [
    "# Import the relevant Modules & setting up"
   ]
  },
  {
   "cell_type": "code",
   "execution_count": 2,
   "id": "e51ae21d",
   "metadata": {},
   "outputs": [],
   "source": [
    "import pyautogui as pg"
   ]
  },
  {
   "cell_type": "code",
   "execution_count": 3,
   "id": "66d54e1e",
   "metadata": {},
   "outputs": [],
   "source": [
    "import time"
   ]
  },
  {
   "cell_type": "code",
   "execution_count": 4,
   "id": "0742540e",
   "metadata": {},
   "outputs": [],
   "source": [
    "pg.FAILSAFE = True\n",
    "\n",
    "pg.moveTo()"
   ]
  },
  {
   "cell_type": "code",
   "execution_count": 5,
   "id": "80526db0",
   "metadata": {},
   "outputs": [
    {
     "name": "stdout",
     "output_type": "stream",
     "text": [
      "Point(x=309, y=248)\n"
     ]
    }
   ],
   "source": [
    "print(pg.position())"
   ]
  },
  {
   "cell_type": "code",
   "execution_count": 12,
   "id": "ef8e5b82",
   "metadata": {},
   "outputs": [],
   "source": [
    "sleepTime_in_loop = 0.5\n",
    "time.sleep(0.5)\n",
    "pg.hotkey('alt', 'tab')\n",
    "for i in range(1):\n",
    "    time.sleep(sleepTime_in_loop)\n",
    "    pg.click(309, 247)\n",
    "    time.sleep(sleepTime_in_loop)\n",
    "    pg.drag(400, 0, 0.5, button='left')\n",
    "    pg.hotKey('ctrl', 'x')\n",
    "    time.sleep(sleepTime_in_loop)\n",
    "    pg.hotKey('tab')\n",
    "    time.sleep(sleepTime_in_loop)\n",
    "    pg.hotKey('ctrl', 'v')\n",
    "    time.sleep(sleepTime_in_loop)\n",
    "    pg.press('enter')"
   ]
  }
 ],
 "metadata": {
  "kernelspec": {
   "display_name": "Python 3 (ipykernel)",
   "language": "python",
   "name": "python3"
  },
  "language_info": {
   "codemirror_mode": {
    "name": "ipython",
    "version": 3
   },
   "file_extension": ".py",
   "mimetype": "text/x-python",
   "name": "python",
   "nbconvert_exporter": "python",
   "pygments_lexer": "ipython3",
   "version": "3.9.12"
  }
 },
 "nbformat": 4,
 "nbformat_minor": 5
}
