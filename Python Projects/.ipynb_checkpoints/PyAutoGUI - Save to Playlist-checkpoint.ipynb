{
 "cells": [
  {
   "cell_type": "code",
   "execution_count": null,
   "id": "0e787640",
   "metadata": {},
   "outputs": [],
   "source": [
    "# Import the relevant Modules & setting up"
   ]
  },
  {
   "cell_type": "code",
   "execution_count": 1,
   "id": "e51ae21d",
   "metadata": {},
   "outputs": [],
   "source": [
    "import pyautogui as pg"
   ]
  },
  {
   "cell_type": "code",
   "execution_count": 2,
   "id": "66d54e1e",
   "metadata": {},
   "outputs": [],
   "source": [
    "import time"
   ]
  },
  {
   "cell_type": "code",
   "execution_count": 3,
   "id": "0742540e",
   "metadata": {},
   "outputs": [],
   "source": [
    "pg.FAILSAFE = True\n",
    "\n",
    "pg.moveTo()\n"
   ]
  },
  {
   "cell_type": "code",
   "execution_count": 25,
   "id": "80526db0",
   "metadata": {},
   "outputs": [
    {
     "name": "stdout",
     "output_type": "stream",
     "text": [
      "Point(x=1219, y=306)\n"
     ]
    }
   ],
   "source": [
    "print(pg.position())"
   ]
  },
  {
   "cell_type": "code",
   "execution_count": 32,
   "id": "e0e84a21",
   "metadata": {},
   "outputs": [],
   "source": [
    "#pg.moveTo(704, 1057, 0.5)\n",
    "#pg.click(835, 949, 1)\n",
    "#time.sleep(2)\n",
    "#pg.moveTo(835, 949, 0.1)\n",
    "#pg.click(835, 949, 1)\n",
    "#pg.moveTo(437, 9, 0.1)\n",
    "#pg.click(437, 9, 1)\n",
    "time.sleep(1)\n",
    "pg.hotkey('alt', 'tab')\n",
    "#for i in range(1):\n",
    "    time.sleep(0.1)\n",
    "    pg.click()\n",
    "    time.sleep(1)\n",
    "    pg.move(0, -312)\n",
    "    pg.click()\n",
    "    time.sleep(2)\n",
    "    pg.click(705, 430)\n",
    "    time.sleep(0.1)\n",
    "    pg.click(705, 375)\n",
    "    time.sleep(0.1)\n",
    "    pg.click(1219, 306)\n",
    "    \n",
    "    \n",
    "#pg.mouseDown(button='left')\n",
    "#    pg.dragTo(356, 655, 0.5, button='left')\n",
    "#    time.sleep(1)    \n",
    "#    for j in range(11):\n",
    "#        pg.press('down')\n",
    "#time.sleep(1)\n",
    "#pg.moveTo(847, 655, 0.1)\n",
    "#pg.dragTo(356, 655, 0.5, button='left')\n",
    "#pg.mouseUp(button='left')"
   ]
  },
  {
   "cell_type": "code",
   "execution_count": null,
   "id": "51950ba1",
   "metadata": {},
   "outputs": [],
   "source": []
  },
  {
   "cell_type": "code",
   "execution_count": 45,
   "id": "205ee521",
   "metadata": {},
   "outputs": [],
   "source": [
    "time.sleep(2)\n",
    "pg.moveTo(1244, 655, 0.1)\n",
    "#pg.mouseDown(button='left')\n",
    "pg.dragTo(348, 655, 0.5, button='left')\n",
    "pg.press('left')\n",
    "for j in range(3):\n",
    "    pg.press('right')\n",
    "pg.press('left')\n",
    "pg.press('right')\n",
    "#pg.mouseUp(button='left')"
   ]
  },
  {
   "cell_type": "code",
   "execution_count": 11,
   "id": "7f3c34fb",
   "metadata": {},
   "outputs": [
    {
     "name": "stdout",
     "output_type": "stream",
     "text": [
      "Size(width=1920, height=1080)\n"
     ]
    }
   ],
   "source": []
  },
  {
   "cell_type": "code",
   "execution_count": 12,
   "id": "67e28ece",
   "metadata": {},
   "outputs": [
    {
     "name": "stdout",
     "output_type": "stream",
     "text": [
      "Point(x=729, y=638)\n"
     ]
    }
   ],
   "source": []
  },
  {
   "cell_type": "code",
   "execution_count": null,
   "id": "a3792e4d",
   "metadata": {},
   "outputs": [],
   "source": []
  }
 ],
 "metadata": {
  "kernelspec": {
   "display_name": "Python 3 (ipykernel)",
   "language": "python",
   "name": "python3"
  },
  "language_info": {
   "codemirror_mode": {
    "name": "ipython",
    "version": 3
   },
   "file_extension": ".py",
   "mimetype": "text/x-python",
   "name": "python",
   "nbconvert_exporter": "python",
   "pygments_lexer": "ipython3",
   "version": "3.9.12"
  }
 },
 "nbformat": 4,
 "nbformat_minor": 5
}
