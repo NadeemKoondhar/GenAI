{
 "cells": [
  {
   "cell_type": "code",
   "execution_count": null,
   "id": "0e787640",
   "metadata": {},
   "outputs": [],
   "source": [
    "# Import the relevant Modules & setting up"
   ]
  },
  {
   "cell_type": "code",
   "execution_count": 2,
   "id": "e51ae21d",
   "metadata": {},
   "outputs": [],
   "source": [
    "import pyautogui as pg"
   ]
  },
  {
   "cell_type": "code",
   "execution_count": 3,
   "id": "66d54e1e",
   "metadata": {},
   "outputs": [],
   "source": [
    "import time"
   ]
  },
  {
   "cell_type": "code",
   "execution_count": 4,
   "id": "0742540e",
   "metadata": {},
   "outputs": [],
   "source": [
    "pg.FAILSAFE = True\n",
    "\n",
    "pg.moveTo()"
   ]
  },
  {
   "cell_type": "code",
   "execution_count": 27,
   "id": "80526db0",
   "metadata": {},
   "outputs": [
    {
     "name": "stdout",
     "output_type": "stream",
     "text": [
      "Point(x=329, y=246)\n"
     ]
    }
   ],
   "source": [
    "print(pg.position())"
   ]
  },
  {
   "cell_type": "code",
   "execution_count": 25,
   "id": "e0e84a21",
   "metadata": {},
   "outputs": [],
   "source": [
    "#pg.moveTo(704, 1057, 0.5)\n",
    "#pg.click(835, 949, 1)\n",
    "#time.sleep(2)\n",
    "#pg.moveTo(835, 949, 0.1)\n",
    "#pg.click(835, 949, 1)\n",
    "#pg.moveTo(437, 9, 0.1)\n",
    "#pg.click(437, 9, 1)\n",
    "time.sleep(1)\n",
    "pg.hotkey('alt', 'tab')\n",
    "for i in range(5):\n",
    "    time.sleep(0.1)\n",
    "    pg.click(307, 247)\n",
    "    time.sleep(0.1)\n",
    "    pg.press('space')\n",
    "    time.sleep(0.1)\n",
    "    pg.press('enter')\n",
    "    \n",
    "#pg.mouseDown(button='left')\n",
    "#    pg.dragTo(356, 655, 0.5, button='left')\n",
    "#    time.sleep(1)    \n",
    "#    for j in range(11):\n",
    "#        pg.press('down')\n",
    "#time.sleep(1)\n",
    "#pg.moveTo(847, 655, 0.1)\n",
    "#pg.dragTo(356, 655, 0.5, button='left')\n",
    "#pg.mouseUp(button='left')"
   ]
  },
  {
   "cell_type": "code",
   "execution_count": null,
   "id": "258fed10",
   "metadata": {},
   "outputs": [],
   "source": [
    "sleepTime_in_loop = 0.1\n",
    "time.sleep(0.5)\n",
    "pg.hotkey('alt', 'tab')\n",
    "for i in range(10):\n",
    "    time.sleep(sleepTime_in_loop)\n",
    "    pg.click(280, 247)\n",
    "    pg.write(\"092 \")\n",
    "#    time.sleep(sleepTime_in_loop)\n",
    "#    pg.click(307, 247)\n",
    "#    time.sleep(sleepTime_in_loop)\n",
    "#    pg.press('space')\n",
    "#    time.sleep(sleepTime_in_loop)\n",
    "#    pg.click(338, 247)\n",
    "#    time.sleep(sleepTime_in_loop)\n",
    "#    pg.press('space')\n",
    "    time.sleep(sleepTime_in_loop)\n",
    "    pg.press('enter')\n",
    "#   pg.press('enter')\n",
    "\n",
    "\"\"\"\n",
    "   \n",
    "    \n",
    "    pg.click(329, 247)\n",
    "    time.sleep(0.1)\n",
    "    pg.press('space')\n",
    "   \n",
    "\n",
    "\"\"\"\n"
   ]
  },
  {
   "cell_type": "code",
   "execution_count": 45,
   "id": "51950ba1",
   "metadata": {},
   "outputs": [
    {
     "name": "stdout",
     "output_type": "stream",
     "text": [
      "Point(x=282, y=246)\n"
     ]
    }
   ],
   "source": [
    "print(pg.position())"
   ]
  },
  {
   "cell_type": "code",
   "execution_count": null,
   "id": "205ee521",
   "metadata": {},
   "outputs": [],
   "source": []
  },
  {
   "cell_type": "code",
   "execution_count": null,
   "id": "7f3c34fb",
   "metadata": {},
   "outputs": [],
   "source": []
  },
  {
   "cell_type": "code",
   "execution_count": null,
   "id": "67e28ece",
   "metadata": {},
   "outputs": [],
   "source": []
  },
  {
   "cell_type": "code",
   "execution_count": null,
   "id": "a3792e4d",
   "metadata": {},
   "outputs": [],
   "source": []
  },
  {
   "cell_type": "code",
   "execution_count": null,
   "id": "603443e3",
   "metadata": {},
   "outputs": [],
   "source": []
  }
 ],
 "metadata": {
  "kernelspec": {
   "display_name": "Python 3 (ipykernel)",
   "language": "python",
   "name": "python3"
  },
  "language_info": {
   "codemirror_mode": {
    "name": "ipython",
    "version": 3
   },
   "file_extension": ".py",
   "mimetype": "text/x-python",
   "name": "python",
   "nbconvert_exporter": "python",
   "pygments_lexer": "ipython3",
   "version": "3.9.12"
  }
 },
 "nbformat": 4,
 "nbformat_minor": 5
}
