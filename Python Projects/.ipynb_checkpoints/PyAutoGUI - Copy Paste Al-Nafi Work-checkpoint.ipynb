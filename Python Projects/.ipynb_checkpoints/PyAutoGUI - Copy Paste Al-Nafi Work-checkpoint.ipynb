{
 "cells": [
  {
   "cell_type": "code",
   "execution_count": 3,
   "id": "0e787640",
   "metadata": {},
   "outputs": [],
   "source": [
    "# Import the relevant Modules & setting up"
   ]
  },
  {
   "cell_type": "code",
   "execution_count": 4,
   "id": "e51ae21d",
   "metadata": {},
   "outputs": [],
   "source": [
    "import pyautogui as pg"
   ]
  },
  {
   "cell_type": "code",
   "execution_count": 5,
   "id": "66d54e1e",
   "metadata": {},
   "outputs": [],
   "source": [
    "import time"
   ]
  },
  {
   "cell_type": "code",
   "execution_count": 7,
   "id": "0742540e",
   "metadata": {},
   "outputs": [],
   "source": [
    "pg.FAILSAFE = True\n",
    "\n",
    "pg.moveTo()\n"
   ]
  },
  {
   "cell_type": "code",
   "execution_count": 38,
   "id": "80526db0",
   "metadata": {},
   "outputs": [
    {
     "name": "stdout",
     "output_type": "stream",
     "text": [
      "Point(x=474, y=267)\n"
     ]
    }
   ],
   "source": [
    "print(pg.position())"
   ]
  },
  {
   "cell_type": "code",
   "execution_count": 21,
   "id": "51950ba1",
   "metadata": {},
   "outputs": [
    {
     "name": "stdout",
     "output_type": "stream",
     "text": [
      "Point(x=1692, y=880)\n"
     ]
    }
   ],
   "source": [
    "print(pg.position())"
   ]
  },
  {
   "cell_type": "code",
   "execution_count": 37,
   "id": "205ee521",
   "metadata": {},
   "outputs": [
    {
     "ename": "FileNotFoundError",
     "evalue": "[Errno 2] No such file or directory: 'left'",
     "output_type": "error",
     "traceback": [
      "\u001b[1;31m---------------------------------------------------------------------------\u001b[0m",
      "\u001b[1;31mFileNotFoundError\u001b[0m                         Traceback (most recent call last)",
      "Input \u001b[1;32mIn [37]\u001b[0m, in \u001b[0;36m<cell line: 24>\u001b[1;34m()\u001b[0m\n\u001b[0;32m     22\u001b[0m pg\u001b[38;5;241m.\u001b[39mmoveTo(\u001b[38;5;241m476\u001b[39m, \u001b[38;5;241m269\u001b[39m, \u001b[38;5;241m0.2\u001b[39m)\n\u001b[0;32m     23\u001b[0m \u001b[38;5;66;03m# Mouse down with left click to the corner of top & left side of the screen shot to crop it\u001b[39;00m\n\u001b[1;32m---> 24\u001b[0m \u001b[43mpg\u001b[49m\u001b[38;5;241;43m.\u001b[39;49m\u001b[43mmouseDown\u001b[49m\u001b[43m(\u001b[49m\u001b[38;5;124;43m'\u001b[39;49m\u001b[38;5;124;43mleft\u001b[39;49m\u001b[38;5;124;43m'\u001b[39;49m\u001b[43m)\u001b[49m\n\u001b[0;32m     25\u001b[0m \u001b[38;5;66;03m# Drag Mouse to crop the screen shot to desired top & left side position\u001b[39;00m\n\u001b[0;32m     26\u001b[0m pg\u001b[38;5;241m.\u001b[39mdragTo(\u001b[38;5;241m836\u001b[39m, \u001b[38;5;241m399\u001b[39m, \u001b[38;5;241m0.1\u001b[39m)\n",
      "File \u001b[1;32m~\\anaconda3\\lib\\site-packages\\pyautogui\\__init__.py:598\u001b[0m, in \u001b[0;36m_genericPyAutoGUIChecks.<locals>.wrapper\u001b[1;34m(*args, **kwargs)\u001b[0m\n\u001b[0;32m    595\u001b[0m \u001b[38;5;129m@functools\u001b[39m\u001b[38;5;241m.\u001b[39mwraps(wrappedFunction)\n\u001b[0;32m    596\u001b[0m \u001b[38;5;28;01mdef\u001b[39;00m \u001b[38;5;21mwrapper\u001b[39m(\u001b[38;5;241m*\u001b[39margs, \u001b[38;5;241m*\u001b[39m\u001b[38;5;241m*\u001b[39mkwargs):\n\u001b[0;32m    597\u001b[0m     failSafeCheck()\n\u001b[1;32m--> 598\u001b[0m     returnVal \u001b[38;5;241m=\u001b[39m wrappedFunction(\u001b[38;5;241m*\u001b[39margs, \u001b[38;5;241m*\u001b[39m\u001b[38;5;241m*\u001b[39mkwargs)\n\u001b[0;32m    599\u001b[0m     _handlePause(kwargs\u001b[38;5;241m.\u001b[39mget(\u001b[38;5;124m\"\u001b[39m\u001b[38;5;124m_pause\u001b[39m\u001b[38;5;124m\"\u001b[39m, \u001b[38;5;28;01mTrue\u001b[39;00m))\n\u001b[0;32m    600\u001b[0m     \u001b[38;5;28;01mreturn\u001b[39;00m returnVal\n",
      "File \u001b[1;32m~\\anaconda3\\lib\\site-packages\\pyautogui\\__init__.py:902\u001b[0m, in \u001b[0;36mmouseDown\u001b[1;34m(x, y, button, duration, tween, logScreenshot, _pause)\u001b[0m\n\u001b[0;32m    879\u001b[0m \u001b[38;5;124;03m\"\"\"Performs pressing a mouse button down (but not up).\u001b[39;00m\n\u001b[0;32m    880\u001b[0m \n\u001b[0;32m    881\u001b[0m \u001b[38;5;124;03mThe x and y parameters detail where the mouse event happens. If None, the\u001b[39;00m\n\u001b[1;32m   (...)\u001b[0m\n\u001b[0;32m    899\u001b[0m \u001b[38;5;124;03m  PyAutoGUIException: If button is not one of 'left', 'middle', 'right', 1, 2, or 3\u001b[39;00m\n\u001b[0;32m    900\u001b[0m \u001b[38;5;124;03m\"\"\"\u001b[39;00m\n\u001b[0;32m    901\u001b[0m button \u001b[38;5;241m=\u001b[39m _normalizeButton(button)\n\u001b[1;32m--> 902\u001b[0m x, y \u001b[38;5;241m=\u001b[39m \u001b[43m_normalizeXYArgs\u001b[49m\u001b[43m(\u001b[49m\u001b[43mx\u001b[49m\u001b[43m,\u001b[49m\u001b[43m \u001b[49m\u001b[43my\u001b[49m\u001b[43m)\u001b[49m\n\u001b[0;32m    904\u001b[0m _mouseMoveDrag(\u001b[38;5;124m\"\u001b[39m\u001b[38;5;124mmove\u001b[39m\u001b[38;5;124m\"\u001b[39m, x, y, \u001b[38;5;241m0\u001b[39m, \u001b[38;5;241m0\u001b[39m, duration\u001b[38;5;241m=\u001b[39m\u001b[38;5;241m0\u001b[39m, tween\u001b[38;5;241m=\u001b[39m\u001b[38;5;28;01mNone\u001b[39;00m)\n\u001b[0;32m    906\u001b[0m _logScreenshot(logScreenshot, \u001b[38;5;124m\"\u001b[39m\u001b[38;5;124mmouseDown\u001b[39m\u001b[38;5;124m\"\u001b[39m, \u001b[38;5;124m\"\u001b[39m\u001b[38;5;132;01m%s\u001b[39;00m\u001b[38;5;124m,\u001b[39m\u001b[38;5;132;01m%s\u001b[39;00m\u001b[38;5;124m\"\u001b[39m \u001b[38;5;241m%\u001b[39m (x, y), folder\u001b[38;5;241m=\u001b[39m\u001b[38;5;124m\"\u001b[39m\u001b[38;5;124m.\u001b[39m\u001b[38;5;124m\"\u001b[39m)\n",
      "File \u001b[1;32m~\\anaconda3\\lib\\site-packages\\pyautogui\\__init__.py:661\u001b[0m, in \u001b[0;36m_normalizeXYArgs\u001b[1;34m(firstArg, secondArg)\u001b[0m\n\u001b[0;32m    658\u001b[0m \u001b[38;5;28;01melif\u001b[39;00m \u001b[38;5;28misinstance\u001b[39m(firstArg, \u001b[38;5;28mstr\u001b[39m):\n\u001b[0;32m    659\u001b[0m     \u001b[38;5;66;03m# If x is a string, we assume it's an image filename to locate on the screen:\u001b[39;00m\n\u001b[0;32m    660\u001b[0m     \u001b[38;5;28;01mtry\u001b[39;00m:\n\u001b[1;32m--> 661\u001b[0m         location \u001b[38;5;241m=\u001b[39m \u001b[43mlocateOnScreen\u001b[49m\u001b[43m(\u001b[49m\u001b[43mfirstArg\u001b[49m\u001b[43m)\u001b[49m\n\u001b[0;32m    662\u001b[0m         \u001b[38;5;66;03m# The following code only runs if pyscreeze.USE_IMAGE_NOT_FOUND_EXCEPTION is not set to True, meaning that\u001b[39;00m\n\u001b[0;32m    663\u001b[0m         \u001b[38;5;66;03m# locateOnScreen() returns None if the image can't be found.\u001b[39;00m\n\u001b[0;32m    664\u001b[0m         \u001b[38;5;28;01mif\u001b[39;00m location \u001b[38;5;129;01mis\u001b[39;00m \u001b[38;5;129;01mnot\u001b[39;00m \u001b[38;5;28;01mNone\u001b[39;00m:\n",
      "File \u001b[1;32m~\\anaconda3\\lib\\site-packages\\pyautogui\\__init__.py:175\u001b[0m, in \u001b[0;36mraisePyAutoGUIImageNotFoundException.<locals>.wrapper\u001b[1;34m(*args, **kwargs)\u001b[0m\n\u001b[0;32m    172\u001b[0m \u001b[38;5;129m@functools\u001b[39m\u001b[38;5;241m.\u001b[39mwraps(wrappedFunction)\n\u001b[0;32m    173\u001b[0m \u001b[38;5;28;01mdef\u001b[39;00m \u001b[38;5;21mwrapper\u001b[39m(\u001b[38;5;241m*\u001b[39margs, \u001b[38;5;241m*\u001b[39m\u001b[38;5;241m*\u001b[39mkwargs):\n\u001b[0;32m    174\u001b[0m     \u001b[38;5;28;01mtry\u001b[39;00m:\n\u001b[1;32m--> 175\u001b[0m         \u001b[38;5;28;01mreturn\u001b[39;00m wrappedFunction(\u001b[38;5;241m*\u001b[39margs, \u001b[38;5;241m*\u001b[39m\u001b[38;5;241m*\u001b[39mkwargs)\n\u001b[0;32m    176\u001b[0m     \u001b[38;5;28;01mexcept\u001b[39;00m pyscreeze\u001b[38;5;241m.\u001b[39mImageNotFoundException:\n\u001b[0;32m    177\u001b[0m         \u001b[38;5;28;01mraise\u001b[39;00m ImageNotFoundException\n",
      "File \u001b[1;32m~\\anaconda3\\lib\\site-packages\\pyautogui\\__init__.py:213\u001b[0m, in \u001b[0;36mlocateOnScreen\u001b[1;34m(*args, **kwargs)\u001b[0m\n\u001b[0;32m    211\u001b[0m \u001b[38;5;129m@raisePyAutoGUIImageNotFoundException\u001b[39m\n\u001b[0;32m    212\u001b[0m \u001b[38;5;28;01mdef\u001b[39;00m \u001b[38;5;21mlocateOnScreen\u001b[39m(\u001b[38;5;241m*\u001b[39margs, \u001b[38;5;241m*\u001b[39m\u001b[38;5;241m*\u001b[39mkwargs):\n\u001b[1;32m--> 213\u001b[0m     \u001b[38;5;28;01mreturn\u001b[39;00m pyscreeze\u001b[38;5;241m.\u001b[39mlocateOnScreen(\u001b[38;5;241m*\u001b[39margs, \u001b[38;5;241m*\u001b[39m\u001b[38;5;241m*\u001b[39mkwargs)\n",
      "File \u001b[1;32m~\\anaconda3\\lib\\site-packages\\pyscreeze\\__init__.py:373\u001b[0m, in \u001b[0;36mlocateOnScreen\u001b[1;34m(image, minSearchTime, **kwargs)\u001b[0m\n\u001b[0;32m    371\u001b[0m \u001b[38;5;28;01mtry\u001b[39;00m:\n\u001b[0;32m    372\u001b[0m     screenshotIm \u001b[38;5;241m=\u001b[39m screenshot(region\u001b[38;5;241m=\u001b[39m\u001b[38;5;28;01mNone\u001b[39;00m) \u001b[38;5;66;03m# the locateAll() function must handle cropping to return accurate coordinates, so don't pass a region here.\u001b[39;00m\n\u001b[1;32m--> 373\u001b[0m     retVal \u001b[38;5;241m=\u001b[39m locate(image, screenshotIm, \u001b[38;5;241m*\u001b[39m\u001b[38;5;241m*\u001b[39mkwargs)\n\u001b[0;32m    374\u001b[0m     \u001b[38;5;28;01mtry\u001b[39;00m:\n\u001b[0;32m    375\u001b[0m         screenshotIm\u001b[38;5;241m.\u001b[39mfp\u001b[38;5;241m.\u001b[39mclose()\n",
      "File \u001b[1;32m~\\anaconda3\\lib\\site-packages\\pyscreeze\\__init__.py:353\u001b[0m, in \u001b[0;36mlocate\u001b[1;34m(needleImage, haystackImage, **kwargs)\u001b[0m\n\u001b[0;32m    351\u001b[0m \u001b[38;5;66;03m# Note: The gymnastics in this function is because we want to make sure to exhaust the iterator so that the needle and haystack files are closed in locateAll.\u001b[39;00m\n\u001b[0;32m    352\u001b[0m kwargs[\u001b[38;5;124m'\u001b[39m\u001b[38;5;124mlimit\u001b[39m\u001b[38;5;124m'\u001b[39m] \u001b[38;5;241m=\u001b[39m \u001b[38;5;241m1\u001b[39m\n\u001b[1;32m--> 353\u001b[0m points \u001b[38;5;241m=\u001b[39m \u001b[38;5;28;43mtuple\u001b[39;49m\u001b[43m(\u001b[49m\u001b[43mlocateAll\u001b[49m\u001b[43m(\u001b[49m\u001b[43mneedleImage\u001b[49m\u001b[43m,\u001b[49m\u001b[43m \u001b[49m\u001b[43mhaystackImage\u001b[49m\u001b[43m,\u001b[49m\u001b[43m \u001b[49m\u001b[38;5;241;43m*\u001b[39;49m\u001b[38;5;241;43m*\u001b[39;49m\u001b[43mkwargs\u001b[49m\u001b[43m)\u001b[49m\u001b[43m)\u001b[49m\n\u001b[0;32m    354\u001b[0m \u001b[38;5;28;01mif\u001b[39;00m \u001b[38;5;28mlen\u001b[39m(points) \u001b[38;5;241m>\u001b[39m \u001b[38;5;241m0\u001b[39m:\n\u001b[0;32m    355\u001b[0m     \u001b[38;5;28;01mreturn\u001b[39;00m points[\u001b[38;5;241m0\u001b[39m]\n",
      "File \u001b[1;32m~\\anaconda3\\lib\\site-packages\\pyscreeze\\__init__.py:262\u001b[0m, in \u001b[0;36m_locateAll_python\u001b[1;34m(needleImage, haystackImage, grayscale, limit, region, step, confidence)\u001b[0m\n\u001b[0;32m    259\u001b[0m needleFileObj \u001b[38;5;241m=\u001b[39m \u001b[38;5;28;01mNone\u001b[39;00m\n\u001b[0;32m    260\u001b[0m \u001b[38;5;28;01mif\u001b[39;00m \u001b[38;5;28misinstance\u001b[39m(needleImage, (\u001b[38;5;28mstr\u001b[39m, unicode)):\n\u001b[0;32m    261\u001b[0m     \u001b[38;5;66;03m# 'image' is a filename, load the Image object\u001b[39;00m\n\u001b[1;32m--> 262\u001b[0m     needleFileObj \u001b[38;5;241m=\u001b[39m \u001b[38;5;28;43mopen\u001b[39;49m\u001b[43m(\u001b[49m\u001b[43mneedleImage\u001b[49m\u001b[43m,\u001b[49m\u001b[43m \u001b[49m\u001b[38;5;124;43m'\u001b[39;49m\u001b[38;5;124;43mrb\u001b[39;49m\u001b[38;5;124;43m'\u001b[39;49m\u001b[43m)\u001b[49m\n\u001b[0;32m    263\u001b[0m     needleImage \u001b[38;5;241m=\u001b[39m Image\u001b[38;5;241m.\u001b[39mopen(needleFileObj)\n\u001b[0;32m    265\u001b[0m haystackFileObj \u001b[38;5;241m=\u001b[39m \u001b[38;5;28;01mNone\u001b[39;00m\n",
      "\u001b[1;31mFileNotFoundError\u001b[0m: [Errno 2] No such file or directory: 'left'"
     ]
    }
   ],
   "source": [
    "# Sleep Time of 2 secs\n",
    "# Mouse Click pyautogui.click(x=moveToX, y=moveToY, clicks=num_of_clicks, interval=secs_between_clicks, button='left')\n",
    "# Paste (ctrl-V) pyautogui.hotkey('ctrl','v')\n",
    "# Move to pyautogui.moveTo(x, y, duration=num_seconds)  # move mouse to XY coordinates over num_second seconds\n",
    "# Drag to pyautogui.dragTo(x, y, duration=num_seconds)  # drag mouse to XY\n",
    "# Mouse Down pyautogui.mouseDown(x=moveToX, y=moveToY, button='left')\n",
    "# Mouse Up pyautogui.mouseUp(x=moveToX, y=moveToY, button='left')\n",
    "# \n",
    "#\n",
    "#\n",
    "\n",
    "time.sleep(2)\n",
    "# Left Mouse Click to open the power point application\n",
    "pg.click(826, 1060, 1, 0, 'left')\n",
    "# Paste (ctrl-V) to paste the screen shot\n",
    "pg.hotkey('ctrl','v')\n",
    "# Move to the crop button\n",
    "pg.moveTo(1611, 121, 0.2)\n",
    "# Left Mouse Click to activate crop\n",
    "pg.click(1611, 121, 1, 0, 'left')\n",
    "# Move to the crop position\n",
    "pg.moveTo(476, 269, 0.2)\n",
    "# Mouse down with left click to the corner of top & left side of the screen shot to crop it\n",
    "pg.mouseDown(476, 269, 'left')\n",
    "# Drag Mouse to crop the screen shot to desired top & left side position\n",
    "pg.dragTo(836, 399, 0.1)\n",
    "# Mouse up the left click after cropping\n",
    "pg.mouseUp(836, 399, 'left')\n",
    "# Move to the corner of bottom & right side of the screen shot to crop it\n",
    "#pg.moveTo(1748, 981, 0.1)\n",
    "# Drag Mouse to crop the screen shot to desired bottom & right side position\n",
    "#pg.dragTo(1692, 880, 0.1)\n",
    "# Cut (ctrl-X) to Cut the cropped screen shot\n",
    "#pg.hotkey('ctrl','x')\n",
    "\n",
    "\n",
    "\n"
   ]
  },
  {
   "cell_type": "code",
   "execution_count": null,
   "id": "affe2009",
   "metadata": {},
   "outputs": [],
   "source": [
    "pg.moveTo(890, 1060, 0.1)\n",
    "pg.press('left')\n",
    "for j in range(3):\n",
    "    pg.press('right')\n",
    "pg.press('left')\n",
    "pg.press('right')\n",
    "#pg.mouseUp(button='left')"
   ]
  }
 ],
 "metadata": {
  "kernelspec": {
   "display_name": "Python 3 (ipykernel)",
   "language": "python",
   "name": "python3"
  },
  "language_info": {
   "codemirror_mode": {
    "name": "ipython",
    "version": 3
   },
   "file_extension": ".py",
   "mimetype": "text/x-python",
   "name": "python",
   "nbconvert_exporter": "python",
   "pygments_lexer": "ipython3",
   "version": "3.9.12"
  }
 },
 "nbformat": 4,
 "nbformat_minor": 5
}
