{
 "cells": [
  {
   "cell_type": "code",
   "execution_count": 1,
   "id": "95a68b6a",
   "metadata": {},
   "outputs": [
    {
     "name": "stdout",
     "output_type": "stream",
     "text": [
      "Collecting pywinauto\n",
      "  Downloading pywinauto-0.6.8-py2.py3-none-any.whl (362 kB)\n",
      "Requirement already satisfied: six in c:\\users\\nadeem\\anaconda3\\lib\\site-packages (from pywinauto) (1.16.0)\n",
      "Requirement already satisfied: pywin32 in c:\\users\\nadeem\\anaconda3\\lib\\site-packages (from pywinauto) (302)\n",
      "Requirement already satisfied: comtypes in c:\\users\\nadeem\\anaconda3\\lib\\site-packages (from pywinauto) (1.1.10)\n",
      "Installing collected packages: pywinauto\n",
      "Successfully installed pywinauto-0.6.8\n"
     ]
    }
   ],
   "source": []
  }
 ],
 "metadata": {
  "kernelspec": {
   "display_name": "Python 3 (ipykernel)",
   "language": "python",
   "name": "python3"
  },
  "language_info": {
   "codemirror_mode": {
    "name": "ipython",
    "version": 3
   },
   "file_extension": ".py",
   "mimetype": "text/x-python",
   "name": "python",
   "nbconvert_exporter": "python",
   "pygments_lexer": "ipython3",
   "version": "3.9.12"
  }
 },
 "nbformat": 4,
 "nbformat_minor": 5
}
