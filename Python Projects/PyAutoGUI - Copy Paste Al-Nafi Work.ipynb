{
 "cells": [
  {
   "cell_type": "code",
   "execution_count": 3,
   "id": "0e787640",
   "metadata": {},
   "outputs": [],
   "source": [
    "# Import the relevant Modules & setting up"
   ]
  },
  {
   "cell_type": "code",
   "execution_count": 4,
   "id": "e51ae21d",
   "metadata": {},
   "outputs": [],
   "source": [
    "import pyautogui as pg"
   ]
  },
  {
   "cell_type": "code",
   "execution_count": 5,
   "id": "66d54e1e",
   "metadata": {},
   "outputs": [],
   "source": [
    "import time"
   ]
  },
  {
   "cell_type": "code",
   "execution_count": 7,
   "id": "0742540e",
   "metadata": {},
   "outputs": [],
   "source": [
    "pg.FAILSAFE = True\n",
    "\n",
    "pg.moveTo()\n"
   ]
  },
  {
   "cell_type": "code",
   "execution_count": 21,
   "id": "51950ba1",
   "metadata": {},
   "outputs": [
    {
     "name": "stdout",
     "output_type": "stream",
     "text": [
      "Point(x=1692, y=880)\n"
     ]
    }
   ],
   "source": [
    "print(pg.position())"
   ]
  },
  {
   "cell_type": "code",
   "execution_count": 48,
   "id": "205ee521",
   "metadata": {},
   "outputs": [],
   "source": [
    "# Sleep Time of 2 secs\n",
    "# Mouse Click pyautogui.click(x=moveToX, y=moveToY, clicks=num_of_clicks, interval=secs_between_clicks, button='left')\n",
    "# Paste (ctrl-V) pyautogui.hotkey('ctrl','v')\n",
    "# Move to pyautogui.moveTo(x, y, duration=num_seconds)  # move mouse to XY coordinates over num_second seconds\n",
    "# Drag to pyautogui.dragTo(x, y, duration=num_seconds)  # drag mouse to XY\n",
    "# Mouse Down pyautogui.mouseDown(x=moveToX, y=moveToY, button='left')\n",
    "# Mouse Up pyautogui.mouseUp(x=moveToX, y=moveToY, button='left')\n",
    "# \n",
    "#\n",
    "#\n",
    "\n",
    "time.sleep(2)\n",
    "# Left Mouse Click to open the power point application\n",
    "pg.click(826, 1060, 1, 0, 'left')\n",
    "# Paste (ctrl-V) to paste the screen shot\n",
    "pg.hotkey('ctrl','v')\n",
    "# Move to the crop button\n",
    "pg.moveTo(1611, 121, 0.2)\n",
    "# Left Mouse Click to pop crop window at right side\n",
    "pg.click(1813, 209, 1, 0, 'left')\n",
    "# Left Mouse Click on picture tab in crop window\n",
    "pg.click(1752, 296, 1, 0, 'left')\n",
    "# Left Mouse Click on width of the crop position\n",
    "pg.click(1824, 670, 1, 0, 'left')\n",
    "# Select all (ctrl-a)\n",
    "pg.hotkey('ctrl','a')\n",
    "# Left Mouse Click on width of the crop position\n",
    "pg.click(1824, 670, 1, 0, 'left')\n",
    "# Move to the crop position\n",
    "# pg.moveTo(476, 269, 0.2)\n",
    "# Mouse down with left click to the corner of top & left side of the screen shot to crop it\n",
    "# pg.click(476, 269, 1, 0, 'left')\n",
    "#pg.mouseDown(476, 269, 'left')\n",
    "# Drag Mouse to crop the screen shot to desired top & left side position\n",
    "#pg.dragTo(836, 399, 0.1)\n",
    "# Mouse up the left click after cropping\n",
    "#pg.mouseUp(836, 399, 'left')\n",
    "# Move to the corner of bottom & right side of the screen shot to crop it\n",
    "#pg.moveTo(1748, 981, 0.1)\n",
    "# Drag Mouse to crop the screen shot to desired bottom & right side position\n",
    "#pg.dragTo(1692, 880, 0.1)\n",
    "# Cut (ctrl-X) to Cut the cropped screen shot\n",
    "#pg.hotkey('ctrl','x')\n"
   ]
  },
  {
   "cell_type": "code",
   "execution_count": null,
   "id": "affe2009",
   "metadata": {},
   "outputs": [],
   "source": [
    "pg.moveTo(890, 1060, 0.1)\n",
    "pg.press('left')\n",
    "for j in range(3):\n",
    "    pg.press('right')\n",
    "pg.press('left')\n",
    "pg.press('right')\n",
    "#pg.mouseUp(button='left')"
   ]
  },
  {
   "cell_type": "code",
   "execution_count": 50,
   "id": "5a450dc5",
   "metadata": {},
   "outputs": [],
   "source": [
    "time.sleep(1)\n",
    "pg.hotkey('ctrl','c', '22.6 cm')\n",
    "pg.click(826, 1060, 1, 0, 'left')\n",
    "pg.hotkey('ctrl','v')"
   ]
  },
  {
   "cell_type": "code",
   "execution_count": 52,
   "id": "80526db0",
   "metadata": {},
   "outputs": [
    {
     "name": "stdout",
     "output_type": "stream",
     "text": [
      "Point(x=1259, y=1050)\n"
     ]
    }
   ],
   "source": [
    "print(pg.position())"
   ]
  },
  {
   "cell_type": "code",
   "execution_count": 56,
   "id": "bbdce6ea",
   "metadata": {},
   "outputs": [],
   "source": [
    "time.sleep(1)\n",
    "pg.click(1259, 1050, 1, 0, 'left')\n",
    "pg.click(3, 61, 1, 0, 'left')\n",
    "pg.keyDown~"
   ]
  }
 ],
 "metadata": {
  "kernelspec": {
   "display_name": "Python 3 (ipykernel)",
   "language": "python",
   "name": "python3"
  },
  "language_info": {
   "codemirror_mode": {
    "name": "ipython",
    "version": 3
   },
   "file_extension": ".py",
   "mimetype": "text/x-python",
   "name": "python",
   "nbconvert_exporter": "python",
   "pygments_lexer": "ipython3",
   "version": "3.9.12"
  }
 },
 "nbformat": 4,
 "nbformat_minor": 5
}
