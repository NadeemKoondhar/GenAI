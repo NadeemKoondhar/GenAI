{
 "cells": [
  {
   "cell_type": "code",
   "execution_count": null,
   "id": "0e787640",
   "metadata": {},
   "outputs": [],
   "source": [
    "# Import the relevant Modules & setting up"
   ]
  },
  {
   "cell_type": "code",
   "execution_count": 4,
   "id": "e51ae21d",
   "metadata": {},
   "outputs": [],
   "source": [
    "import pyautogui as pg"
   ]
  },
  {
   "cell_type": "code",
   "execution_count": 5,
   "id": "66d54e1e",
   "metadata": {},
   "outputs": [],
   "source": [
    "import time"
   ]
  },
  {
   "cell_type": "code",
   "execution_count": 6,
   "id": "0742540e",
   "metadata": {},
   "outputs": [],
   "source": [
    "pg.FAILSAFE = True\n",
    "\n",
    "pg.moveTo()"
   ]
  },
  {
   "cell_type": "code",
   "execution_count": 27,
   "id": "80526db0",
   "metadata": {},
   "outputs": [
    {
     "name": "stdout",
     "output_type": "stream",
     "text": [
      "Point(x=329, y=246)\n"
     ]
    }
   ],
   "source": [
    "print(pg.position())"
   ]
  },
  {
   "cell_type": "code",
   "execution_count": 1,
   "id": "e0e84a21",
   "metadata": {},
   "outputs": [
    {
     "ename": "NameError",
     "evalue": "name 'time' is not defined",
     "output_type": "error",
     "traceback": [
      "\u001b[1;31m---------------------------------------------------------------------------\u001b[0m",
      "\u001b[1;31mNameError\u001b[0m                                 Traceback (most recent call last)",
      "Input \u001b[1;32mIn [1]\u001b[0m, in \u001b[0;36m<cell line: 8>\u001b[1;34m()\u001b[0m\n\u001b[0;32m      1\u001b[0m \u001b[38;5;66;03m#pg.moveTo(704, 1057, 0.5)\u001b[39;00m\n\u001b[0;32m      2\u001b[0m \u001b[38;5;66;03m#pg.click(835, 949, 1)\u001b[39;00m\n\u001b[0;32m      3\u001b[0m \u001b[38;5;66;03m#time.sleep(2)\u001b[39;00m\n\u001b[1;32m   (...)\u001b[0m\n\u001b[0;32m      6\u001b[0m \u001b[38;5;66;03m#pg.moveTo(437, 9, 0.1)\u001b[39;00m\n\u001b[0;32m      7\u001b[0m \u001b[38;5;66;03m#pg.click(437, 9, 1)\u001b[39;00m\n\u001b[1;32m----> 8\u001b[0m \u001b[43mtime\u001b[49m\u001b[38;5;241m.\u001b[39msleep(\u001b[38;5;241m1\u001b[39m)\n\u001b[0;32m      9\u001b[0m pg\u001b[38;5;241m.\u001b[39mhotkey(\u001b[38;5;124m'\u001b[39m\u001b[38;5;124malt\u001b[39m\u001b[38;5;124m'\u001b[39m, \u001b[38;5;124m'\u001b[39m\u001b[38;5;124mtab\u001b[39m\u001b[38;5;124m'\u001b[39m)\n\u001b[0;32m     10\u001b[0m \u001b[38;5;28;01mfor\u001b[39;00m i \u001b[38;5;129;01min\u001b[39;00m \u001b[38;5;28mrange\u001b[39m(\u001b[38;5;241m11\u001b[39m):\n",
      "\u001b[1;31mNameError\u001b[0m: name 'time' is not defined"
     ]
    }
   ],
   "source": [
    "#pg.moveTo(704, 1057, 0.5)\n",
    "#pg.click(835, 949, 1)\n",
    "#time.sleep(2)\n",
    "#pg.moveTo(835, 949, 0.1)\n",
    "#pg.click(835, 949, 1)\n",
    "#pg.moveTo(437, 9, 0.1)\n",
    "#pg.click(437, 9, 1)\n",
    "time.sleep(1)\n",
    "pg.hotkey('alt', 'tab')\n",
    "for i in range(11):\n",
    "    time.sleep(0.1)\n",
    "    pg.click(307, 247)\n",
    "    time.sleep(0.1)\n",
    "    pg.press('space')\n",
    "    time.sleep(0.1)\n",
    "    pg.press('enter')\n",
    "    \n",
    "#pg.mouseDown(button='left')\n",
    "#    pg.dragTo(356, 655, 0.5, button='left')\n",
    "#    time.sleep(1)    \n",
    "#    for j in range(11):\n",
    "#        pg.press('down')\n",
    "#time.sleep(1)\n",
    "#pg.moveTo(847, 655, 0.1)\n",
    "#pg.dragTo(356, 655, 0.5, button='left')\n",
    "#pg.mouseUp(button='left')"
   ]
  },
  {
   "cell_type": "code",
   "execution_count": 224,
   "id": "51950ba1",
   "metadata": {},
   "outputs": [
    {
     "name": "stdout",
     "output_type": "stream",
     "text": [
      "Point(x=308, y=245)\n"
     ]
    }
   ],
   "source": [
    "print(pg.position())"
   ]
  },
  {
   "cell_type": "code",
   "execution_count": 12,
   "id": "ef8e5b82",
   "metadata": {},
   "outputs": [],
   "source": [
    "sleepTime_in_loop = 0.15\n",
    "time.sleep(0.5)\n",
    "pg.hotkey('alt', 'tab')\n",
    "for i in range(27):\n",
    "    time.sleep(sleepTime_in_loop)\n",
    "    pg.click(280, 247)\n",
    "    time.sleep(sleepTime_in_loop)\n",
    "#    pg.press('backspace')\n",
    "#    time.sleep(sleepTime_in_loop)\n",
    "    pg.write(\"092 \")\n",
    "#    time.sleep(sleepTime_in_loop)\n",
    "#    pg.press('delete')\n",
    "#    pg.press('delete')\n",
    "    time.sleep(sleepTime_in_loop)\n",
    "    pg.click(328, 247)\n",
    "    time.sleep(sleepTime_in_loop)\n",
    "    pg.press('space')\n",
    "#    time.sleep(sleepTime_in_loop)\n",
    "#    pg.click(338, 247)\n",
    "#    time.sleep(sleepTime_in_loop)\n",
    "#    pg.press('space')\n",
    "    time.sleep(sleepTime_in_loop)\n",
    "    pg.press('enter')"
   ]
  }
 ],
 "metadata": {
  "kernelspec": {
   "display_name": "Python 3 (ipykernel)",
   "language": "python",
   "name": "python3"
  },
  "language_info": {
   "codemirror_mode": {
    "name": "ipython",
    "version": 3
   },
   "file_extension": ".py",
   "mimetype": "text/x-python",
   "name": "python",
   "nbconvert_exporter": "python",
   "pygments_lexer": "ipython3",
   "version": "3.9.12"
  }
 },
 "nbformat": 4,
 "nbformat_minor": 5
}
