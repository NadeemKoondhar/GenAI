{
 "cells": [
  {
   "cell_type": "markdown",
   "id": "8878d641",
   "metadata": {},
   "source": [
    "# Prompt Patterns"
   ]
  },
  {
   "cell_type": "markdown",
   "id": "a6a9387e",
   "metadata": {},
   "source": [
    "Task 1:"
   ]
  },
  {
   "cell_type": "code",
   "execution_count": 8,
   "id": "c23325da",
   "metadata": {},
   "outputs": [
    {
     "name": "stdout",
     "output_type": "stream",
     "text": [
      "0\n",
      "0\n",
      "2\n",
      "2\n",
      "4\n",
      "6\n",
      "6\n",
      "12\n",
      "8\n",
      "20\n",
      "20\n"
     ]
    }
   ],
   "source": [
    "even_sum = 0\n",
    "for i in range(10):\n",
    "    if i%2 == 0:\n",
    "        print(i)\n",
    "        even_sum = even_sum + i\n",
    "        print(even_sum)\n",
    "print(even_sum)"
   ]
  },
  {
   "cell_type": "code",
   "execution_count": 7,
   "id": "52176df1",
   "metadata": {},
   "outputs": [
    {
     "name": "stdout",
     "output_type": "stream",
     "text": [
      "30\n"
     ]
    }
   ],
   "source": [
    "even_sum = 0\n",
    "for i in range(1, 11):  # Use a colon \":\" instead of a comma in the range function\n",
    "    if i % 2 == 0:  # Use \"==\" for equality comparison, not \"=\"\n",
    "        even_sum = even_sum + i\n",
    "print(even_sum)\n"
   ]
  },
  {
   "cell_type": "markdown",
   "id": "88be1f64",
   "metadata": {},
   "source": [
    "Revised Task 2: Write a Python function that takes a list of numbers as input and returns the sum of all the numbers in the list. If the list is empty, the function should return 0. Please provide both the function code and an example of how you would use it with a list of numbers."
   ]
  },
  {
   "cell_type": "code",
   "execution_count": 16,
   "id": "d53a6500",
   "metadata": {},
   "outputs": [
    {
     "name": "stdout",
     "output_type": "stream",
     "text": [
      "10\n"
     ]
    }
   ],
   "source": [
    "# my response\n",
    "\n",
    "def sum_list():\n",
    "    list = [0, 1, 2, 3, 4]\n",
    "    sum = 0\n",
    "    for i in list:\n",
    "        sum = sum + i\n",
    "    print(sum)\n",
    "\n",
    "sum_list()"
   ]
  },
  {
   "cell_type": "code",
   "execution_count": 17,
   "id": "2e514504",
   "metadata": {},
   "outputs": [
    {
     "name": "stdout",
     "output_type": "stream",
     "text": [
      "10\n"
     ]
    }
   ],
   "source": [
    "# corrected\n",
    "\n",
    "def sum_list(list):\n",
    "    sum = 0\n",
    "    for numbers in list:\n",
    "        sum += numbers\n",
    "    return sum\n",
    "\n",
    "list = [0, 1, 2, 3, 4]\n",
    "sum_result = sum_list(list)\n",
    "print(sum_result)"
   ]
  },
  {
   "cell_type": "markdown",
   "id": "f2d3c975",
   "metadata": {},
   "source": [
    "Task 3:\n",
    "Write a Python function that takes a list of numbers as input and returns the product of all the numbers in the list. If the list is empty, the function should return 1. Please provide both the function code and an example of how you would use it with a list of numbers."
   ]
  },
  {
   "cell_type": "code",
   "execution_count": 19,
   "id": "5dd759eb",
   "metadata": {},
   "outputs": [
    {
     "name": "stdout",
     "output_type": "stream",
     "text": [
      "1\n"
     ]
    }
   ],
   "source": [
    "# Proposed\n",
    "\n",
    "def list_product(list):\n",
    "    product = 1\n",
    "    for num in list:\n",
    "        product *= num\n",
    "    return product\n",
    "\n",
    "list = []\n",
    "prod_result = list_product(list)\n",
    "print(prod_result)"
   ]
  },
  {
   "cell_type": "markdown",
   "id": "ea0fcf3c",
   "metadata": {},
   "source": [
    "Task 4:\n",
    "Write a Python function that takes a list of words as input and returns the number of words that have a length of 5 or more characters. If the list is empty or contains no words of length 5 or more, the function should return 0. Please provide both the function code and an example of how you would use it with a list of words."
   ]
  },
  {
   "cell_type": "code",
   "execution_count": 34,
   "id": "3039e164",
   "metadata": {},
   "outputs": [
    {
     "name": "stdout",
     "output_type": "stream",
     "text": [
      "1\n"
     ]
    }
   ],
   "source": [
    "# Proposed\n",
    "\n",
    "def selected_words(words):\n",
    "    _5letter_words = 0\n",
    "    for word in words:\n",
    "        if len(word) >= 5:\n",
    "            _5letter_words += 1\n",
    "            return _5letter_words\n",
    "\n",
    "words = [\"Nadeem\", \"Ahmed\", \"Ali\", \"Usman\", \"Muhammad\", \"Abu\", \"Bakr\", \"Umar\"]\n",
    "result = selected_words(words)\n",
    "print(result)"
   ]
  },
  {
   "cell_type": "code",
   "execution_count": 35,
   "id": "6c5e58de",
   "metadata": {},
   "outputs": [
    {
     "name": "stdout",
     "output_type": "stream",
     "text": [
      "4\n"
     ]
    }
   ],
   "source": [
    "# Corrected\n",
    "\n",
    "def selected_words(words):\n",
    "    _5letter_words = 0\n",
    "    for word in words:\n",
    "        if len(word) >= 5:\n",
    "            _5letter_words += 1\n",
    "    return _5letter_words\n",
    "\n",
    "words = [\"Nadeem\", \"Ahmed\", \"Ali\", \"Usman\", \"Muhammad\", \"Abu\", \"Bakr\", \"Umar\"]\n",
    "result = selected_words(words)\n",
    "print(result)\n"
   ]
  },
  {
   "cell_type": "code",
   "execution_count": 37,
   "id": "1b95a8f4",
   "metadata": {},
   "outputs": [
    {
     "name": "stdout",
     "output_type": "stream",
     "text": [
      "0\n"
     ]
    }
   ],
   "source": [
    "# Modified\n",
    "\n",
    "def selected_words(words):\n",
    "    _5letter_words = 0\n",
    "    for word in words:\n",
    "        if len(word) >= 5:\n",
    "            _5letter_words += 1\n",
    "    return _5letter_words\n",
    "\n",
    "words = [\"Ali\", \"Abu\", \"Bakr\", \"Umar\"]\n",
    "result = selected_words(words)\n",
    "print(result)"
   ]
  },
  {
   "cell_type": "code",
   "execution_count": 39,
   "id": "a38ff288",
   "metadata": {},
   "outputs": [
    {
     "name": "stdout",
     "output_type": "stream",
     "text": [
      "0\n"
     ]
    }
   ],
   "source": [
    "# Modified\n",
    "\n",
    "def selected_words(words):\n",
    "    _5letter_words = 0\n",
    "    for word in words:\n",
    "        if len(word) >= 5:\n",
    "            _5letter_words += 1\n",
    "    return _5letter_words\n",
    "\n",
    "words = []\n",
    "result = selected_words(words)\n",
    "print(result)"
   ]
  },
  {
   "cell_type": "markdown",
   "id": "2a9cbfae",
   "metadata": {},
   "source": [
    "Task 5:\n",
    "Write a Python function that takes a list of words as input and returns the number of words that start with a vowel (i.e., 'a', 'e', 'i', 'o', or 'u'). If the list is empty or contains no words starting with a vowel, the function should return 0. Please provide both the function code and an example of how you would use it with a list of words."
   ]
  },
  {
   "cell_type": "code",
   "execution_count": 53,
   "id": "d8680ae1",
   "metadata": {},
   "outputs": [
    {
     "name": "stdout",
     "output_type": "stream",
     "text": [
      "4\n"
     ]
    }
   ],
   "source": [
    "# Proposed Program\n",
    "\n",
    "def pick_vowel_words(words_list):\n",
    "    vowels = \"aeiou\"\n",
    "    vowel_words = []\n",
    "    for word in words_list:\n",
    "        if word[0] in vowels:\n",
    "            vowel_words.append(word)\n",
    "    return len(vowel_words)\n",
    "\n",
    "words_list = [\"above\", \"and\", \"or\", \"uneducated\", \"below\", \"love\", \"hate\", \"by\", \"gfg\"]\n",
    "print(pick_vowel_words(words_list))"
   ]
  },
  {
   "cell_type": "markdown",
   "id": "823eab0a",
   "metadata": {},
   "source": [
    "Task 6:\n",
    "Write a Python function that takes a list of numbers as input and returns the largest number in the list. If the list is empty, the function should return None. Please provide both the function code and an example of how you would use it with a list of numbers."
   ]
  },
  {
   "cell_type": "code",
   "execution_count": 65,
   "id": "97606472",
   "metadata": {},
   "outputs": [
    {
     "ename": "NameError",
     "evalue": "name 'larget_number' is not defined",
     "output_type": "error",
     "traceback": [
      "\u001b[1;31m---------------------------------------------------------------------------\u001b[0m",
      "\u001b[1;31mNameError\u001b[0m                                 Traceback (most recent call last)",
      "Input \u001b[1;32mIn [65]\u001b[0m, in \u001b[0;36m<cell line: 14>\u001b[1;34m()\u001b[0m\n\u001b[0;32m     11\u001b[0m         \u001b[38;5;28;01mreturn\u001b[39;00m largest_number\n\u001b[0;32m     13\u001b[0m num_list \u001b[38;5;241m=\u001b[39m [\u001b[38;5;241m560\u001b[39m, \u001b[38;5;241m1524\u001b[39m, \u001b[38;5;241m1236\u001b[39m, \u001b[38;5;241m5236\u001b[39m, \u001b[38;5;241m9571\u001b[39m, \u001b[38;5;241m1111\u001b[39m]\n\u001b[1;32m---> 14\u001b[0m result \u001b[38;5;241m=\u001b[39m \u001b[43mlargest_num\u001b[49m\u001b[43m(\u001b[49m\u001b[43mnum_list\u001b[49m\u001b[43m)\u001b[49m\n\u001b[0;32m     15\u001b[0m \u001b[38;5;28mprint\u001b[39m(result)\n",
      "Input \u001b[1;32mIn [65]\u001b[0m, in \u001b[0;36mlargest_num\u001b[1;34m(num_list)\u001b[0m\n\u001b[0;32m      7\u001b[0m largest_number \u001b[38;5;241m=\u001b[39m num_list[\u001b[38;5;241m0\u001b[39m]\n\u001b[0;32m      8\u001b[0m \u001b[38;5;28;01mfor\u001b[39;00m num \u001b[38;5;129;01min\u001b[39;00m num_list:\n\u001b[1;32m----> 9\u001b[0m     \u001b[38;5;28;01mif\u001b[39;00m num \u001b[38;5;241m>\u001b[39m\u001b[38;5;241m=\u001b[39m \u001b[43mlarget_number\u001b[49m:\n\u001b[0;32m     10\u001b[0m         largest_number \u001b[38;5;241m=\u001b[39m num\n\u001b[0;32m     11\u001b[0m \u001b[38;5;28;01mreturn\u001b[39;00m largest_number\n",
      "\u001b[1;31mNameError\u001b[0m: name 'larget_number' is not defined"
     ]
    }
   ],
   "source": [
    "# Proposed Program\n",
    "\n",
    "def largest_num(num_list):\n",
    "    if len(num_list) == 0:\n",
    "        return None\n",
    "    else:\n",
    "        largest_number = num_list[0]\n",
    "        for num in num_list:\n",
    "            if num >= larget_number:\n",
    "                largest_number = num\n",
    "        return largest_number\n",
    "        \n",
    "num_list = [560, 1524, 1236, 5236, 9571, 1111]\n",
    "result = largest_num(num_list)\n",
    "print(result)"
   ]
  },
  {
   "cell_type": "code",
   "execution_count": 66,
   "id": "543ffc3c",
   "metadata": {},
   "outputs": [
    {
     "name": "stdout",
     "output_type": "stream",
     "text": [
      "9571\n"
     ]
    }
   ],
   "source": [
    "# Corrected Program\n",
    "\n",
    "def largest_num(num_list):\n",
    "    if len(num_list) == 0:\n",
    "        return None\n",
    "    else:\n",
    "        largest_number = num_list[0]\n",
    "        for num in num_list:\n",
    "            if num >= largest_number:\n",
    "                largest_number = num\n",
    "        return largest_number\n",
    "        \n",
    "num_list = [560, 1524, 1236, 5236, 9571, 1111]\n",
    "result = largest_num(num_list)\n",
    "print(result)"
   ]
  },
  {
   "cell_type": "markdown",
   "id": "9c4622fc",
   "metadata": {},
   "source": [
    "Task 7:\n",
    "Write a Python function that takes a string as input and returns a new string that is the reverse of the input string. Please provide both the function code and an example of how you would use it."
   ]
  },
  {
   "cell_type": "code",
   "execution_count": 67,
   "id": "08c54107",
   "metadata": {},
   "outputs": [
    {
     "name": "stdout",
     "output_type": "stream",
     "text": [
      "gnirts siht esrever ot gnikrow ma I\n"
     ]
    }
   ],
   "source": [
    "# Proposed Program\n",
    "\n",
    "def backward_stepping_slice(string): \n",
    "    return string[::-1]\n",
    "\n",
    "string = \"I am working to reverse this string\"\n",
    "result = backward_stepping_slice(string)\n",
    "print(result)"
   ]
  },
  {
   "cell_type": "code",
   "execution_count": 79,
   "id": "160e1ef9",
   "metadata": {},
   "outputs": [
    {
     "name": "stdout",
     "output_type": "stream",
     "text": [
      "gnirts siht esrever ot gnikrow ma I\n"
     ]
    }
   ],
   "source": [
    "# Alternate Program\n",
    "\n",
    "def reverse_string(string):\n",
    "    reversed_str = \"\"\n",
    "    for char in string:\n",
    "        reversed_str = char + reversed_str\n",
    "    return reversed_str\n",
    "\n",
    "string = \"I am working to reverse this string\"\n",
    "result = reverse_string(string)\n",
    "print(result)"
   ]
  },
  {
   "cell_type": "code",
   "execution_count": 80,
   "id": "40b67fbe",
   "metadata": {},
   "outputs": [
    {
     "name": "stdout",
     "output_type": "stream",
     "text": [
      "gnirts siht esrever ot gnikrow ma I\n"
     ]
    }
   ],
   "source": [
    "# Alternate Program\n",
    "\n",
    "def reverse_string(string):\n",
    "    return ''.join(reversed(string))\n",
    "\n",
    "string = \"I am working to reverse this string\"\n",
    "result = reverse_string(string)\n",
    "print(result)"
   ]
  },
  {
   "cell_type": "code",
   "execution_count": 81,
   "id": "19e636a4",
   "metadata": {},
   "outputs": [
    {
     "name": "stdout",
     "output_type": "stream",
     "text": [
      "gnirts siht esrever ot gnikrow ma I\n"
     ]
    }
   ],
   "source": [
    "# Alternate Program\n",
    "\n",
    "def reverse_string(string):\n",
    "    if len(string) == 0:\n",
    "        return string\n",
    "    else:\n",
    "        return reverse_string(string[1:]) + string[0]\n",
    "\n",
    "string = \"I am working to reverse this string\"\n",
    "result = reverse_string(string)\n",
    "print(result)"
   ]
  },
  {
   "cell_type": "markdown",
   "id": "f1e02782",
   "metadata": {},
   "source": [
    "Task 8: Write a Python function that takes a list of strings as input and returns a new list with the same strings, but with all vowels removed from each string. Please provide both the function code and an example of how you would use it with a list of strings."
   ]
  },
  {
   "cell_type": "code",
   "execution_count": null,
   "id": "856b5f8c",
   "metadata": {},
   "outputs": [],
   "source": []
  }
 ],
 "metadata": {
  "kernelspec": {
   "display_name": "Python 3 (ipykernel)",
   "language": "python",
   "name": "python3"
  },
  "language_info": {
   "codemirror_mode": {
    "name": "ipython",
    "version": 3
   },
   "file_extension": ".py",
   "mimetype": "text/x-python",
   "name": "python",
   "nbconvert_exporter": "python",
   "pygments_lexer": "ipython3",
   "version": "3.9.12"
  }
 },
 "nbformat": 4,
 "nbformat_minor": 5
}
