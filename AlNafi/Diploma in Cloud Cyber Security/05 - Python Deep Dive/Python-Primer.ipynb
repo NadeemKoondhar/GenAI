{
 "cells": [
  {
   "cell_type": "markdown",
   "id": "f6f91d52",
   "metadata": {},
   "source": [
    "# Simple Operations"
   ]
  },
  {
   "cell_type": "markdown",
   "id": "c30cc436",
   "metadata": {},
   "source": [
    "# Variables"
   ]
  },
  {
   "cell_type": "code",
   "execution_count": 4,
   "id": "9bbefd9c",
   "metadata": {},
   "outputs": [],
   "source": [
    "ali_marbles = 20\n",
    "omer_marbles = 10\n",
    "usman_marbles = 10"
   ]
  },
  {
   "cell_type": "code",
   "execution_count": 5,
   "id": "4579dc26",
   "metadata": {},
   "outputs": [
    {
     "data": {
      "text/plain": [
       "40"
      ]
     },
     "execution_count": 5,
     "metadata": {},
     "output_type": "execute_result"
    }
   ],
   "source": [
    "ali_marbles + omer_marbles + usman_marbles"
   ]
  },
  {
   "cell_type": "code",
   "execution_count": 6,
   "id": "58ec4c53",
   "metadata": {},
   "outputs": [
    {
     "data": {
      "text/plain": [
       "0"
      ]
     },
     "execution_count": 6,
     "metadata": {},
     "output_type": "execute_result"
    }
   ],
   "source": [
    "ali_marbles - omer_marbles - usman_marbles"
   ]
  },
  {
   "cell_type": "markdown",
   "id": "2aeebc2a",
   "metadata": {},
   "source": [
    "# Strings"
   ]
  },
  {
   "cell_type": "code",
   "execution_count": null,
   "id": "120dabeb",
   "metadata": {},
   "outputs": [],
   "source": []
  },
  {
   "cell_type": "code",
   "execution_count": null,
   "id": "b636eb29",
   "metadata": {},
   "outputs": [],
   "source": []
  },
  {
   "cell_type": "code",
   "execution_count": null,
   "id": "1df99f64",
   "metadata": {},
   "outputs": [],
   "source": []
  },
  {
   "cell_type": "code",
   "execution_count": 7,
   "id": "05ea51c0",
   "metadata": {},
   "outputs": [
    {
     "name": "stdout",
     "output_type": "stream",
     "text": [
      "I scored 1000 points\n"
     ]
    }
   ],
   "source": [
    "myscore = 1000\n",
    "message = 'I scored %s points'\n",
    "print(message % myscore)"
   ]
  },
  {
   "cell_type": "code",
   "execution_count": 8,
   "id": "87a07770",
   "metadata": {},
   "outputs": [
    {
     "name": "stdout",
     "output_type": "stream",
     "text": [
      "                          12 DHA Phase 5\n",
      "                          Clifton\n",
      "                          West Snoring\n",
      "\n",
      "\n",
      "Dear Sir\n",
      "\n",
      "I wish to report that tiles are missing from the\n",
      "outside toilet roof.\n",
      "I think it was bad wind the other night that blew them away.\n",
      "\n",
      "Regards\n",
      "Sharfoo\n"
     ]
    }
   ],
   "source": [
    "spaces = ' ' * 25\n",
    "print('%s 12 DHA Phase 5' % spaces)\n",
    "print('%s Clifton' % spaces)\n",
    "print('%s West Snoring' % spaces)\n",
    "print()\n",
    "print()\n",
    "print('Dear Sir')\n",
    "print()\n",
    "print('I wish to report that tiles are missing from the')\n",
    "print('outside toilet roof.')\n",
    "print('I think it was bad wind the other night that blew them away.')\n",
    "print()\n",
    "print('Regards')\n",
    "print('Sharfoo')"
   ]
  },
  {
   "cell_type": "code",
   "execution_count": 9,
   "id": "71fb8dd9",
   "metadata": {},
   "outputs": [
    {
     "name": "stdout",
     "output_type": "stream",
     "text": [
      "KarachiKarachiKarachiKarachiKarachiKarachiKarachiKarachiKarachiKarachiKarachiKarachiKarachiKarachiKarachiKarachiKarachiKarachiKarachiKarachiKarachiKarachiKarachiKarachiKarachiKarachiKarachiKarachiKarachiKarachiKarachiKarachiKarachiKarachiKarachiKarachiKarachiKarachiKarachiKarachiKarachiKarachiKarachiKarachiKarachiKarachiKarachiKarachiKarachiKarachiKarachiKarachiKarachiKarachiKarachiKarachiKarachiKarachiKarachiKarachiKarachiKarachiKarachiKarachiKarachiKarachiKarachiKarachiKarachiKarachiKarachiKarachiKarachiKarachiKarachiKarachiKarachiKarachiKarachiKarachiKarachiKarachiKarachiKarachiKarachiKarachiKarachiKarachiKarachiKarachiKarachiKarachiKarachiKarachiKarachiKarachiKarachiKarachiKarachiKarachiKarachiKarachiKarachiKarachiKarachiKarachiKarachiKarachiKarachiKarachiKarachiKarachiKarachiKarachiKarachiKarachiKarachiKarachiKarachiKarachiKarachiKarachiKarachiKarachiKarachiKarachiKarachiKarachiKarachiKarachiKarachiKarachiKarachiKarachiKarachiKarachiKarachiKarachiKarachiKarachiKarachiKarachiKarachiKarachiKarachiKarachiKarachiKarachiKarachiKarachiKarachiKarachiKarachiKarachiKarachiKarachiKarachiKarachiKarachiKarachiKarachiKarachiKarachiKarachiKarachiKarachiKarachiKarachiKarachiKarachiKarachiKarachiKarachiKarachiKarachiKarachiKarachiKarachiKarachiKarachiKarachiKarachiKarachiKarachiKarachiKarachiKarachiKarachiKarachiKarachiKarachiKarachiKarachiKarachiKarachiKarachiKarachiKarachiKarachiKarachiKarachiKarachiKarachiKarachiKarachiKarachiKarachiKarachiKarachiKarachiKarachiKarachiKarachiKarachiKarachiKarachiKarachiKarachiKarachiKarachiKarachiKarachiKarachiKarachiKarachiKarachiKarachiKarachiKarachiKarachiKarachiKarachiKarachiKarachiKarachiKarachiKarachiKarachiKarachiKarachiKarachiKarachiKarachiKarachiKarachiKarachiKarachiKarachiKarachiKarachiKarachiKarachiKarachiKarachiKarachiKarachiKarachiKarachiKarachiKarachiKarachiKarachiKarachiKarachiKarachiKarachiKarachiKarachiKarachiKarachiKarachiKarachiKarachiKarachiKarachiKarachiKarachiKarachiKarachiKarachiKarachiKarachiKarachiKarachiKarachiKarachiKarachiKarachiKarachiKarachiKarachiKarachiKarachiKarachiKarachiKarachiKarachiKarachiKarachiKarachiKarachiKarachiKarachiKarachiKarachiKarachiKarachiKarachiKarachiKarachiKarachiKarachiKarachiKarachiKarachiKarachiKarachiKarachiKarachiKarachiKarachiKarachiKarachiKarachiKarachiKarachiKarachiKarachiKarachiKarachiKarachiKarachiKarachiKarachiKarachiKarachiKarachiKarachiKarachiKarachiKarachiKarachiKarachiKarachiKarachiKarachiKarachiKarachiKarachiKarachiKarachiKarachiKarachiKarachiKarachiKarachiKarachiKarachiKarachiKarachiKarachiKarachiKarachiKarachiKarachiKarachiKarachiKarachiKarachiKarachiKarachiKarachiKarachiKarachiKarachiKarachiKarachiKarachiKarachiKarachiKarachiKarachiKarachiKarachiKarachiKarachiKarachiKarachiKarachiKarachiKarachiKarachiKarachiKarachiKarachiKarachiKarachiKarachiKarachiKarachiKarachiKarachiKarachiKarachiKarachiKarachiKarachiKarachiKarachiKarachiKarachiKarachiKarachiKarachiKarachiKarachiKarachiKarachiKarachiKarachiKarachiKarachiKarachiKarachiKarachiKarachiKarachiKarachiKarachiKarachiKarachiKarachiKarachiKarachiKarachiKarachiKarachiKarachiKarachiKarachiKarachiKarachiKarachiKarachiKarachiKarachiKarachiKarachiKarachiKarachiKarachiKarachiKarachiKarachiKarachiKarachiKarachiKarachiKarachiKarachiKarachiKarachiKarachiKarachiKarachiKarachiKarachiKarachiKarachiKarachiKarachiKarachiKarachiKarachiKarachiKarachiKarachiKarachiKarachiKarachiKarachiKarachiKarachiKarachiKarachiKarachiKarachiKarachiKarachiKarachiKarachiKarachiKarachiKarachiKarachiKarachiKarachiKarachiKarachiKarachiKarachiKarachiKarachiKarachiKarachiKarachiKarachiKarachiKarachiKarachiKarachiKarachiKarachiKarachiKarachiKarachiKarachiKarachiKarachiKarachiKarachiKarachiKarachiKarachiKarachiKarachiKarachiKarachiKarachiKarachiKarachiKarachiKarachiKarachiKarachiKarachiKarachiKarachiKarachiKarachiKarachiKarachiKarachiKarachiKarachiKarachiKarachiKarachiKarachiKarachiKarachiKarachiKarachiKarachiKarachiKarachiKarachiKarachiKarachiKarachiKarachiKarachiKarachiKarachiKarachiKarachiKarachiKarachiKarachiKarachiKarachiKarachiKarachiKarachiKarachiKarachiKarachiKarachiKarachiKarachiKarachiKarachiKarachiKarachiKarachiKarachiKarachiKarachiKarachiKarachiKarachiKarachiKarachiKarachiKarachiKarachiKarachiKarachiKarachiKarachiKarachiKarachiKarachiKarachiKarachiKarachiKarachiKarachiKarachiKarachiKarachiKarachiKarachiKarachiKarachiKarachiKarachiKarachiKarachiKarachiKarachiKarachiKarachiKarachiKarachiKarachiKarachiKarachiKarachiKarachiKarachiKarachiKarachiKarachiKarachiKarachiKarachiKarachiKarachiKarachiKarachiKarachiKarachiKarachiKarachiKarachiKarachiKarachiKarachiKarachiKarachiKarachiKarachiKarachiKarachiKarachiKarachiKarachiKarachiKarachiKarachiKarachiKarachiKarachiKarachiKarachiKarachiKarachiKarachiKarachiKarachiKarachiKarachiKarachiKarachiKarachiKarachiKarachiKarachiKarachiKarachiKarachiKarachiKarachiKarachiKarachiKarachiKarachiKarachiKarachiKarachiKarachiKarachiKarachiKarachiKarachiKarachiKarachiKarachiKarachiKarachiKarachiKarachiKarachiKarachiKarachiKarachiKarachiKarachiKarachiKarachiKarachiKarachiKarachiKarachiKarachiKarachiKarachiKarachiKarachiKarachiKarachiKarachiKarachiKarachiKarachiKarachiKarachiKarachiKarachiKarachiKarachiKarachiKarachiKarachiKarachiKarachiKarachiKarachiKarachiKarachiKarachiKarachiKarachiKarachiKarachiKarachiKarachiKarachiKarachiKarachiKarachiKarachiKarachiKarachiKarachiKarachiKarachiKarachiKarachiKarachiKarachiKarachiKarachiKarachiKarachiKarachiKarachiKarachiKarachiKarachiKarachiKarachiKarachiKarachiKarachiKarachiKarachiKarachiKarachiKarachiKarachiKarachiKarachiKarachiKarachiKarachiKarachiKarachiKarachiKarachiKarachiKarachiKarachiKarachiKarachiKarachiKarachiKarachiKarachiKarachiKarachiKarachiKarachiKarachiKarachiKarachiKarachiKarachiKarachiKarachiKarachiKarachiKarachiKarachiKarachiKarachiKarachiKarachiKarachiKarachiKarachiKarachiKarachiKarachiKarachiKarachiKarachiKarachiKarachiKarachiKarachiKarachiKarachiKarachiKarachiKarachiKarachiKarachiKarachiKarachiKarachiKarachiKarachiKarachiKarachiKarachiKarachiKarachiKarachiKarachiKarachiKarachiKarachiKarachiKarachiKarachiKarachiKarachiKarachiKarachiKarachiKarachiKarachiKarachiKarachiKarachiKarachiKarachiKarachiKarachiKarachiKarachiKarachiKarachiKarachiKarachiKarachiKarachiKarachiKarachiKarachiKarachiKarachiKarachiKarachiKarachiKarachiKarachiKarachiKarachiKarachiKarachiKarachiKarachiKarachiKarachiKarachiKarachiKarachiKarachiKarachiKarachiKarachiKarachiKarachiKarachiKarachiKarachiKarachiKarachiKarachiKarachiKarachiKarachiKarachiKarachiKarachiKarachiKarachiKarachiKarachiKarachiKarachiKarachiKarachiKarachiKarachiKarachiKarachiKarachiKarachiKarachiKarachiKarachiKarachiKarachiKarachiKarachiKarachiKarachiKarachiKarachiKarachiKarachiKarachiKarachiKarachiKarachiKarachiKarachiKarachiKarachiKarachiKarachiKarachiKarachiKarachiKarachiKarachiKarachiKarachiKarachiKarachiKarachiKarachiKarachiKarachiKarachiKarachiKarachiKarachiKarachiKarachiKarachiKarachiKarachiKarachiKarachiKarachiKarachiKarachiKarachiKarachiKarachiKarachiKarachiKarachiKarachiKarachiKarachiKarachiKarachiKarachiKarachiKarachiKarachiKarachiKarachiKarachi\n"
     ]
    }
   ],
   "source": [
    "print(1000 * 'Karachi')"
   ]
  },
  {
   "cell_type": "code",
   "execution_count": 12,
   "id": "b5ad9e6c",
   "metadata": {},
   "outputs": [
    {
     "name": "stdout",
     "output_type": "stream",
     "text": [
      "you are too old\n"
     ]
    }
   ],
   "source": [
    "age = 30\n",
    "if age > 20:\n",
    "    print ('you are too old')\n",
    "else:\n",
    "    print ('welcome young man')"
   ]
  },
  {
   "cell_type": "code",
   "execution_count": 13,
   "id": "6b8a1516",
   "metadata": {},
   "outputs": [
    {
     "name": "stdout",
     "output_type": "stream",
     "text": [
      "You are too old!\n",
      "Why are you here?\n",
      "Why aren't you mowing a lawn or sorting papers?\n"
     ]
    }
   ],
   "source": [
    "age = 25\n",
    "if age > 20:\n",
    "    print('You are too old!')\n",
    "    print('Why are you here?')\n",
    "    print('Why aren\\'t you mowing a lawn or sorting papers?')"
   ]
  },
  {
   "cell_type": "code",
   "execution_count": 15,
   "id": "f16f2dd4",
   "metadata": {},
   "outputs": [],
   "source": [
    "age = 15\n",
    "if age > 20:\n",
    "    print('You are too old!')\n",
    "    print('Why are you here?')\n",
    "    print('Why aren\\'t you mowing a lawn or sorting papers?')"
   ]
  },
  {
   "cell_type": "code",
   "execution_count": 19,
   "id": "a67e02f9",
   "metadata": {},
   "outputs": [
    {
     "name": "stdout",
     "output_type": "stream",
     "text": [
      "salam 0\n",
      "salam 1\n",
      "salam 2\n",
      "salam 3\n",
      "salam 4\n"
     ]
    }
   ],
   "source": [
    "for x in range(0, 5):\n",
    "    print('salam %s' %x)"
   ]
  },
  {
   "cell_type": "code",
   "execution_count": 21,
   "id": "94a8f132",
   "metadata": {},
   "outputs": [
    {
     "name": "stdout",
     "output_type": "stream",
     "text": [
      "spider legs\n",
      "toeof frog\n",
      "snail tongue\n",
      "bat wing\n",
      "slug butter\n",
      "bear burp\n"
     ]
    }
   ],
   "source": [
    "wizard_list= ['spider legs','toeof frog', 'snail tongue',\n",
    "'bat wing', 'slug butter', 'bear burp']\n",
    "for i in wizard_list:\n",
    "    print(i)"
   ]
  },
  {
   "cell_type": "code",
   "execution_count": 23,
   "id": "0ec57df4",
   "metadata": {},
   "outputs": [
    {
     "name": "stdout",
     "output_type": "stream",
     "text": [
      "huge\n",
      "huge\n",
      "hairy\n",
      "hairy\n",
      "pants\n",
      "pants\n"
     ]
    }
   ],
   "source": [
    "hugehairypants= ['huge', 'hairy', 'pants']\n",
    "for i in hugehairypants:\n",
    "    print(i)\n",
    "    print(i)"
   ]
  },
  {
   "cell_type": "code",
   "execution_count": 26,
   "id": "fa2c0ad9",
   "metadata": {},
   "outputs": [
    {
     "name": "stdout",
     "output_type": "stream",
     "text": [
      "huge\n",
      "huge\n",
      "hairy\n",
      "pants\n",
      "hairy\n",
      "huge\n",
      "hairy\n",
      "pants\n",
      "pants\n",
      "huge\n",
      "hairy\n",
      "pants\n"
     ]
    }
   ],
   "source": [
    "hugehairypants= ['huge', 'hairy', 'pants']\n",
    "for i in hugehairypants:\n",
    "    print(i)\n",
    "    for j in hugehairypants:\n",
    "        print(j)"
   ]
  },
  {
   "cell_type": "code",
   "execution_count": 27,
   "id": "d54c4cfd",
   "metadata": {},
   "outputs": [
    {
     "name": "stdout",
     "output_type": "stream",
     "text": [
      "46 81\n",
      "47 82\n",
      "48 83\n",
      "49 84\n",
      "50 85\n"
     ]
    }
   ],
   "source": [
    "x = 45\n",
    "y = 80\n",
    "\n",
    "while x < 50 and y < 100:\n",
    "    x = x + 1\n",
    "    y = y + 1\n",
    "    print(x, y)"
   ]
  },
  {
   "cell_type": "code",
   "execution_count": 33,
   "id": "87d8b131",
   "metadata": {},
   "outputs": [
    {
     "data": {
      "text/plain": [
       "[0, 1, 2, 3, 4, 5, 6, 7, 8, 9]"
      ]
     },
     "execution_count": 33,
     "metadata": {},
     "output_type": "execute_result"
    }
   ],
   "source": [
    "list(range(0, 10))"
   ]
  },
  {
   "cell_type": "code",
   "execution_count": 39,
   "id": "1bfd1785",
   "metadata": {},
   "outputs": [
    {
     "name": "stdout",
     "output_type": "stream",
     "text": [
      "hello Muhammad\n"
     ]
    }
   ],
   "source": [
    "def testfunc(myname):\n",
    "    print(\"hello %s\" %myname)\n",
    "\n",
    "testfunc(\"Muhammad\")"
   ]
  },
  {
   "cell_type": "code",
   "execution_count": 42,
   "id": "bd967fbf",
   "metadata": {},
   "outputs": [
    {
     "name": "stdout",
     "output_type": "stream",
     "text": [
      "hello Muhammad Abbas\n"
     ]
    }
   ],
   "source": [
    "def test_func(fname, lname):\n",
    "    print(\"hello %s %s\" %(fname, lname))\n",
    "\n",
    "test_func(\"Muhammad\", \"Abbas\")"
   ]
  },
  {
   "cell_type": "code",
   "execution_count": 45,
   "id": "602e23b1",
   "metadata": {},
   "outputs": [
    {
     "name": "stdout",
     "output_type": "stream",
     "text": [
      "200\n"
     ]
    }
   ],
   "source": [
    "def variable_test():\n",
    "    first_variable = 10\n",
    "    second_variable = 20\n",
    "    return first_variable * second_variable\n",
    "\n",
    "print(variable_test())"
   ]
  },
  {
   "cell_type": "code",
   "execution_count": 46,
   "id": "6898308b",
   "metadata": {},
   "outputs": [
    {
     "name": "stdout",
     "output_type": "stream",
     "text": [
      "20000\n"
     ]
    }
   ],
   "source": [
    "another_variable = 100\n",
    "def variable_test2():\n",
    "    first_variable = 10\n",
    "    second_variable = 20\n",
    "    return first_variable * second_variable * another_variable\n",
    "\n",
    "print(variable_test2())"
   ]
  },
  {
   "cell_type": "code",
   "execution_count": 47,
   "id": "ae0762da",
   "metadata": {},
   "outputs": [
    {
     "name": "stdout",
     "output_type": "stream",
     "text": [
      "Wed Sep 20 20:13:03 2023\n"
     ]
    }
   ],
   "source": [
    "import time\n",
    "print(time.asctime())"
   ]
  },
  {
   "cell_type": "markdown",
   "id": "e98e7cd9",
   "metadata": {},
   "source": [
    "# Random Integer"
   ]
  },
  {
   "cell_type": "code",
   "execution_count": 49,
   "id": "127505a8",
   "metadata": {},
   "outputs": [
    {
     "name": "stdout",
     "output_type": "stream",
     "text": [
      "The Absolute Value of -20  is  20\n"
     ]
    }
   ],
   "source": [
    "int = -20\n",
    "print(\"The Absolute Value of\", int, \" is \", abs(int))"
   ]
  },
  {
   "cell_type": "code",
   "execution_count": 50,
   "id": "482c8b45",
   "metadata": {},
   "outputs": [
    {
     "name": "stdout",
     "output_type": "stream",
     "text": [
      "The Absolute Value of -30.33  is  30.33\n"
     ]
    }
   ],
   "source": [
    "flt = -30.33\n",
    "print(\"The Absolute Value of\", flt, \" is \", abs(flt))"
   ]
  },
  {
   "cell_type": "markdown",
   "id": "83dcfaa0",
   "metadata": {},
   "source": [
    "# bool() Examples"
   ]
  },
  {
   "cell_type": "code",
   "execution_count": 63,
   "id": "1de6c5cd",
   "metadata": {},
   "outputs": [
    {
     "name": "stdout",
     "output_type": "stream",
     "text": [
      "{}  is  False\n"
     ]
    }
   ],
   "source": [
    "test = {}\n",
    "\n",
    "print(test,\" is \", bool(test))"
   ]
  },
  {
   "cell_type": "code",
   "execution_count": null,
   "id": "34c46045",
   "metadata": {},
   "outputs": [],
   "source": []
  }
 ],
 "metadata": {
  "kernelspec": {
   "display_name": "Python 3 (ipykernel)",
   "language": "python",
   "name": "python3"
  },
  "language_info": {
   "codemirror_mode": {
    "name": "ipython",
    "version": 3
   },
   "file_extension": ".py",
   "mimetype": "text/x-python",
   "name": "python",
   "nbconvert_exporter": "python",
   "pygments_lexer": "ipython3",
   "version": "3.9.12"
  }
 },
 "nbformat": 4,
 "nbformat_minor": 5
}
