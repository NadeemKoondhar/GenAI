{
 "cells": [
  {
   "cell_type": "markdown",
   "id": "f6f91d52",
   "metadata": {},
   "source": [
    "# Lists, Tupples & Dictionaries"
   ]
  },
  {
   "cell_type": "code",
   "execution_count": 3,
   "id": "a9264796",
   "metadata": {},
   "outputs": [
    {
     "data": {
      "text/plain": [
       "[[1, 2, 3], ['a', 'b', 'c'], ['a', 1, 'Python', 5]]"
      ]
     },
     "execution_count": 3,
     "metadata": {},
     "output_type": "execute_result"
    }
   ],
   "source": [
    "my_list1 = [1, 2, 3]\n",
    "my_list2 = [\"a\", \"b\", \"c\"]\n",
    "my_list3 = [\"a\", 1, \"Python\", 5]\n",
    "\n",
    "My_nested_list = [my_list1, my_list2, my_list3]\n",
    "\n",
    "My_nested_list"
   ]
  },
  {
   "cell_type": "code",
   "execution_count": 5,
   "id": "19c8202b",
   "metadata": {},
   "outputs": [
    {
     "data": {
      "text/plain": [
       "[1, 2, 3]"
      ]
     },
     "execution_count": 5,
     "metadata": {},
     "output_type": "execute_result"
    }
   ],
   "source": [
    "combo_list = []\n",
    "\n",
    "one_list = [1, 2, 3]\n",
    "\n",
    "combo_list.extend(one_list)\n",
    "\n",
    "combo_list"
   ]
  },
  {
   "cell_type": "code",
   "execution_count": 6,
   "id": "e3a64943",
   "metadata": {},
   "outputs": [
    {
     "data": {
      "text/plain": [
       "[1, 2, 3, 4, 5, 6]"
      ]
     },
     "execution_count": 6,
     "metadata": {},
     "output_type": "execute_result"
    }
   ],
   "source": [
    "second_list = [4, 5, 6]\n",
    "\n",
    "combo_list.extend(second_list)\n",
    "\n",
    "combo_list"
   ]
  },
  {
   "cell_type": "code",
   "execution_count": 7,
   "id": "9d409fbb",
   "metadata": {},
   "outputs": [
    {
     "data": {
      "text/plain": [
       "[7, 8, 9, 10, 11, 12]"
      ]
     },
     "execution_count": 7,
     "metadata": {},
     "output_type": "execute_result"
    }
   ],
   "source": [
    "one_list = [7, 8, 9]\n",
    "second_list = [10, 11, 12]\n",
    "\n",
    "combo_list = one_list + second_list\n",
    "\n",
    "combo_list"
   ]
  },
  {
   "cell_type": "markdown",
   "id": "d94cb19d",
   "metadata": {},
   "source": [
    "# Slicing"
   ]
  },
  {
   "cell_type": "code",
   "execution_count": 13,
   "id": "5d14574a",
   "metadata": {},
   "outputs": [
    {
     "data": {
      "text/plain": [
       "[7, 8, 9, 10, 11, 12]"
      ]
     },
     "execution_count": 13,
     "metadata": {},
     "output_type": "execute_result"
    }
   ],
   "source": [
    "combo_list"
   ]
  },
  {
   "cell_type": "code",
   "execution_count": 14,
   "id": "a98c5f04",
   "metadata": {},
   "outputs": [
    {
     "data": {
      "text/plain": [
       "[7, 8, 9, 10, 11]"
      ]
     },
     "execution_count": 14,
     "metadata": {},
     "output_type": "execute_result"
    }
   ],
   "source": [
    "combo_list[0:-1]"
   ]
  },
  {
   "cell_type": "code",
   "execution_count": 15,
   "id": "1ea97cdd",
   "metadata": {},
   "outputs": [
    {
     "data": {
      "text/plain": [
       "[]"
      ]
     },
     "execution_count": 15,
     "metadata": {},
     "output_type": "execute_result"
    }
   ],
   "source": [
    "combo_list[-1:-3]"
   ]
  },
  {
   "cell_type": "code",
   "execution_count": 16,
   "id": "ae77778d",
   "metadata": {},
   "outputs": [
    {
     "data": {
      "text/plain": [
       "[8, 9, 10, 11]"
      ]
     },
     "execution_count": 16,
     "metadata": {},
     "output_type": "execute_result"
    }
   ],
   "source": [
    "combo_list[-5:-1]"
   ]
  },
  {
   "cell_type": "markdown",
   "id": "847c85fa",
   "metadata": {},
   "source": [
    "# Tupple"
   ]
  },
  {
   "cell_type": "code",
   "execution_count": 20,
   "id": "5ed799a1",
   "metadata": {},
   "outputs": [
    {
     "data": {
      "text/plain": [
       "[(1, 2, 3), ('a', 'b', 'c'), ('a', 1, 'Python', 5)]"
      ]
     },
     "execution_count": 20,
     "metadata": {},
     "output_type": "execute_result"
    }
   ],
   "source": [
    "my_tupple1 = (1, 2, 3)\n",
    "my_tupple2 = (\"a\", \"b\", \"c\")\n",
    "my_tupple3 = (\"a\", 1, \"Python\", 5)\n",
    "\n",
    "My_nested_tupple = [my_tupple1, my_tupple2, my_tupple3]\n",
    "\n",
    "My_nested_tupple"
   ]
  },
  {
   "cell_type": "code",
   "execution_count": null,
   "id": "0aab0010",
   "metadata": {},
   "outputs": [],
   "source": []
  }
 ],
 "metadata": {
  "kernelspec": {
   "display_name": "Python 3 (ipykernel)",
   "language": "python",
   "name": "python3"
  },
  "language_info": {
   "codemirror_mode": {
    "name": "ipython",
    "version": 3
   },
   "file_extension": ".py",
   "mimetype": "text/x-python",
   "name": "python",
   "nbconvert_exporter": "python",
   "pygments_lexer": "ipython3",
   "version": "3.9.12"
  }
 },
 "nbformat": 4,
 "nbformat_minor": 5
}
