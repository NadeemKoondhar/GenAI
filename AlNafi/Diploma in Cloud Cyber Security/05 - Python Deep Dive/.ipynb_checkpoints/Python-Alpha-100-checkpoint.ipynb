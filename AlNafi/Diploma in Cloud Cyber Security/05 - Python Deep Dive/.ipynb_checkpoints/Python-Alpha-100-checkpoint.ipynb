{
 "cells": [
  {
   "cell_type": "markdown",
   "id": "f6f91d52",
   "metadata": {},
   "source": [
    "# Simple Operations"
   ]
  },
  {
   "cell_type": "code",
   "execution_count": 5,
   "id": "a9264796",
   "metadata": {},
   "outputs": [],
   "source": [
    "my_string = \"My country pakistan\""
   ]
  },
  {
   "cell_type": "code",
   "execution_count": 6,
   "id": "19c8202b",
   "metadata": {},
   "outputs": [
    {
     "name": "stdout",
     "output_type": "stream",
     "text": [
      "Help on built-in function lower:\n",
      "\n",
      "lower() method of builtins.str instance\n",
      "    Return a copy of the string converted to lowercase.\n",
      "\n"
     ]
    }
   ],
   "source": [
    "help(my_string.lower)"
   ]
  },
  {
   "cell_type": "markdown",
   "id": "59e23fe4",
   "metadata": {},
   "source": [
    "# Slicing"
   ]
  },
  {
   "cell_type": "code",
   "execution_count": 12,
   "id": "3c505b95",
   "metadata": {},
   "outputs": [
    {
     "data": {
      "text/plain": [
       "'My country pak'"
      ]
     },
     "execution_count": 12,
     "metadata": {},
     "output_type": "execute_result"
    }
   ],
   "source": [
    "my_string[:-5]"
   ]
  },
  {
   "cell_type": "markdown",
   "id": "ccb05ad1",
   "metadata": {},
   "source": [
    "# String Formatting"
   ]
  },
  {
   "cell_type": "code",
   "execution_count": 16,
   "id": "f87bd342",
   "metadata": {},
   "outputs": [
    {
     "data": {
      "text/plain": [
       "'I like cookies'"
      ]
     },
     "execution_count": 16,
     "metadata": {},
     "output_type": "execute_result"
    }
   ],
   "source": [
    "my_var = \"cookies\"\n",
    "new_string = \"I like %s\" %my_var\n",
    "new_string"
   ]
  },
  {
   "cell_type": "code",
   "execution_count": 18,
   "id": "dfa3e169",
   "metadata": {},
   "outputs": [
    {
     "data": {
      "text/plain": [
       "'I like Python and cookies'"
      ]
     },
     "execution_count": 18,
     "metadata": {},
     "output_type": "execute_result"
    }
   ],
   "source": [
    "another_string = \"I like %s and %s\" %(\"Python\", my_var)\n",
    "another_string"
   ]
  },
  {
   "cell_type": "code",
   "execution_count": 19,
   "id": "50a029ba",
   "metadata": {},
   "outputs": [
    {
     "data": {
      "text/plain": [
       "'1 + 2 = 3'"
      ]
     },
     "execution_count": 19,
     "metadata": {},
     "output_type": "execute_result"
    }
   ],
   "source": [
    "my_string = \"%i + %i = %i\" %(1, 2, 3)\n",
    "my_string"
   ]
  },
  {
   "cell_type": "code",
   "execution_count": 22,
   "id": "6eb26316",
   "metadata": {},
   "outputs": [
    {
     "data": {
      "text/plain": [
       "'3.000000 + 2.000000 - 4.000000 = 1.000000'"
      ]
     },
     "execution_count": 22,
     "metadata": {},
     "output_type": "execute_result"
    }
   ],
   "source": [
    "my_string = \"%f + %f - %f = %f\" %(3.0, 2.0, 4.0, 1.0)\n",
    "my_string"
   ]
  },
  {
   "cell_type": "code",
   "execution_count": 29,
   "id": "e3bf309f",
   "metadata": {},
   "outputs": [
    {
     "data": {
      "text/plain": [
       "'3.00000'"
      ]
     },
     "execution_count": 29,
     "metadata": {},
     "output_type": "execute_result"
    }
   ],
   "source": [
    "my_string = \"%0.5f\" %(3.0)\n",
    "my_string"
   ]
  },
  {
   "cell_type": "code",
   "execution_count": null,
   "id": "09b61245",
   "metadata": {},
   "outputs": [],
   "source": []
  }
 ],
 "metadata": {
  "kernelspec": {
   "display_name": "Python 3 (ipykernel)",
   "language": "python",
   "name": "python3"
  },
  "language_info": {
   "codemirror_mode": {
    "name": "ipython",
    "version": 3
   },
   "file_extension": ".py",
   "mimetype": "text/x-python",
   "name": "python",
   "nbconvert_exporter": "python",
   "pygments_lexer": "ipython3",
   "version": "3.9.12"
  }
 },
 "nbformat": 4,
 "nbformat_minor": 5
}
