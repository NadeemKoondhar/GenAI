{
 "cells": [
  {
   "cell_type": "markdown",
   "id": "f6f91d52",
   "metadata": {},
   "source": [
    "# Simple Operations"
   ]
  },
  {
   "cell_type": "code",
   "execution_count": 5,
   "id": "a9264796",
   "metadata": {},
   "outputs": [],
   "source": [
    "my_string = \"My country pakistan\""
   ]
  },
  {
   "cell_type": "code",
   "execution_count": 6,
   "id": "19c8202b",
   "metadata": {},
   "outputs": [
    {
     "name": "stdout",
     "output_type": "stream",
     "text": [
      "Help on built-in function lower:\n",
      "\n",
      "lower() method of builtins.str instance\n",
      "    Return a copy of the string converted to lowercase.\n",
      "\n"
     ]
    }
   ],
   "source": [
    "help(my_string.lower)"
   ]
  },
  {
   "cell_type": "markdown",
   "id": "11a9ec1e",
   "metadata": {},
   "source": [
    "# Slicing"
   ]
  },
  {
   "cell_type": "code",
   "execution_count": 12,
   "id": "1c279013",
   "metadata": {},
   "outputs": [
    {
     "data": {
      "text/plain": [
       "'My country pak'"
      ]
     },
     "execution_count": 12,
     "metadata": {},
     "output_type": "execute_result"
    }
   ],
   "source": [
    "my_string[:-5]"
   ]
  },
  {
   "cell_type": "markdown",
   "id": "3899f340",
   "metadata": {},
   "source": [
    "# String Formatting"
   ]
  },
  {
   "cell_type": "code",
   "execution_count": 16,
   "id": "d3b03125",
   "metadata": {},
   "outputs": [
    {
     "data": {
      "text/plain": [
       "'I like cookies'"
      ]
     },
     "execution_count": 16,
     "metadata": {},
     "output_type": "execute_result"
    }
   ],
   "source": [
    "my_var = \"cookies\"\n",
    "new_string = \"I like %s\" %my_var\n",
    "new_string"
   ]
  },
  {
   "cell_type": "code",
   "execution_count": 18,
   "id": "24b9ea27",
   "metadata": {},
   "outputs": [
    {
     "data": {
      "text/plain": [
       "'I like Python and cookies'"
      ]
     },
     "execution_count": 18,
     "metadata": {},
     "output_type": "execute_result"
    }
   ],
   "source": [
    "another_string = \"I like %s and %s\" %(\"Python\", my_var)\n",
    "another_string"
   ]
  },
  {
   "cell_type": "code",
   "execution_count": 19,
   "id": "0be4e901",
   "metadata": {},
   "outputs": [
    {
     "data": {
      "text/plain": [
       "'1 + 2 = 3'"
      ]
     },
     "execution_count": 19,
     "metadata": {},
     "output_type": "execute_result"
    }
   ],
   "source": [
    "my_string = \"%i + %i = %i\" %(1, 2, 3)\n",
    "my_string"
   ]
  },
  {
   "cell_type": "code",
   "execution_count": 22,
   "id": "40b8ed26",
   "metadata": {},
   "outputs": [
    {
     "data": {
      "text/plain": [
       "'3.000000 + 2.000000 - 4.000000 = 1.000000'"
      ]
     },
     "execution_count": 22,
     "metadata": {},
     "output_type": "execute_result"
    }
   ],
   "source": [
    "my_string = \"%f + %f - %f = %f\" %(3.0, 2.0, 4.0, 1.0)\n",
    "my_string"
   ]
  },
  {
   "cell_type": "code",
   "execution_count": 29,
   "id": "7dc498f9",
   "metadata": {},
   "outputs": [
    {
     "data": {
      "text/plain": [
       "'3.00000'"
      ]
     },
     "execution_count": 29,
     "metadata": {},
     "output_type": "execute_result"
    }
   ],
   "source": [
    "my_string = \"%0.5f\" %(3.0)\n",
    "my_string"
   ]
  },
  {
   "cell_type": "code",
   "execution_count": 30,
   "id": "e08ce1ee",
   "metadata": {},
   "outputs": [
    {
     "name": "stdout",
     "output_type": "stream",
     "text": [
      "Graph a point at a position where x = 0 and y = 10\n"
     ]
    }
   ],
   "source": [
    "xy = {\"x\":0, \"y\":10}\n",
    "print(\"Graph a point at a position where x = {x} and y = {y}\".format(**xy))"
   ]
  },
  {
   "cell_type": "code",
   "execution_count": 31,
   "id": "ca56ffcc",
   "metadata": {},
   "outputs": [
    {
     "data": {
      "text/plain": [
       "'Python is as simple as a, b, c'"
      ]
     },
     "execution_count": 31,
     "metadata": {},
     "output_type": "execute_result"
    }
   ],
   "source": [
    "\"Python is as simple as {0}, {1}, {2}\".format(\"a\", \"b\", \"c\")"
   ]
  },
  {
   "cell_type": "code",
   "execution_count": null,
   "id": "b1638655",
   "metadata": {},
   "outputs": [],
   "source": []
  },
  {
   "cell_type": "code",
   "execution_count": null,
   "id": "c8fe72e1",
   "metadata": {},
   "outputs": [],
   "source": []
  }
 ],
 "metadata": {
  "kernelspec": {
   "display_name": "Python 3 (ipykernel)",
   "language": "python",
   "name": "python3"
  },
  "language_info": {
   "codemirror_mode": {
    "name": "ipython",
    "version": 3
   },
   "file_extension": ".py",
   "mimetype": "text/x-python",
   "name": "python",
   "nbconvert_exporter": "python",
   "pygments_lexer": "ipython3",
   "version": "3.9.12"
  }
 },
 "nbformat": 4,
 "nbformat_minor": 5
}
